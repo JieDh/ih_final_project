{
 "cells": [
  {
   "cell_type": "code",
   "execution_count": null,
   "metadata": {},
   "outputs": [],
   "source": []
  },
  {
   "cell_type": "code",
   "execution_count": 31,
   "metadata": {},
   "outputs": [],
   "source": [
    "import time\n",
    "from time import sleep\n",
    "from selenium import webdriver #qué navegador vamos a usar\n",
    "from selenium.webdriver.common.keys import Keys\n",
    "from selenium.webdriver.common.by import By\n",
    "from selenium.common.exceptions import NoSuchElementException"
   ]
  },
  {
   "cell_type": "code",
   "execution_count": 32,
   "metadata": {},
   "outputs": [],
   "source": [
    "#como el navegador a usar es chrome, hemos descargado ya el driver de la página, guardamos la ruta en una variable\n",
    "chrome_path = 'chromedriver_linux64/chromedriver'\n",
    "driver = webdriver.Chrome(executable_path = chrome_path)"
   ]
  },
  {
   "cell_type": "code",
   "execution_count": 33,
   "metadata": {},
   "outputs": [],
   "source": [
    "url = 'https://www.stylevana.com/en_EU/skincare/facial-cleanser/face-wash-cleansers.html' #página a scrappear. En Jolse no están listados los ingredientes\n",
    "driver.get(url)"
   ]
  },
  {
   "cell_type": "markdown",
   "metadata": {},
   "source": [
    "¿Qué queremos obtener de la página?\n",
    "1. Nombre del producto\n",
    "2. Precio (?)\n",
    "3. Detalles\n",
    "4. Ingredientes"
   ]
  },
  {
   "cell_type": "markdown",
   "metadata": {},
   "source": [
    "En Stylevana, los productos están en contenedores <li class=item product-item>"
   ]
  },
  {
   "cell_type": "code",
   "execution_count": 34,
   "metadata": {},
   "outputs": [],
   "source": [
    "#cleansers = driver.find_elements_by_xpath('//li[@class=\"item product-item\"]') #extrae una lista de todos los elementos cuyo atributo sea el especificado tras @"
   ]
  },
  {
   "cell_type": "code",
   "execution_count": 35,
   "metadata": {},
   "outputs": [],
   "source": [
    "load_more = driver.find_element_by_xpath('//a[@class=\"next i-next\"]')"
   ]
  },
  {
   "cell_type": "code",
   "execution_count": 36,
   "metadata": {},
   "outputs": [],
   "source": [
    "for i in range(2):\n",
    "    try:\n",
    "        cleansers = driver.find_elements_by_xpath('//li[@class=\"item product-item\"]')\n",
    "        load_more.click()\n",
    "        load_more = driver.find_element_by_xpath('//a[@class=\"next i-next\"]')\n",
    "    except:\n",
    "        break"
   ]
  },
  {
   "cell_type": "markdown",
   "metadata": {},
   "source": [
    "no se, no funciona\n",
    "while True:\n",
    "    #extrae una lista de todos los elementos cuyo atributo sea el especificado tras @\n",
    "    cleansers = driver.find_elements_by_xpath('//li[@class=\"item product-item\"]')\n",
    "    name = []\n",
    "    for cleanser in cleansers:\n",
    "        name.append(cleanser.text)\n",
    "        for i in range(3):\n",
    "            try:\n",
    "                load_more.click()\n",
    "            #sleep(random.uniform(7.0, 10.0))\n",
    "                load_more = driver.find_element_by_xpath('//a[@class=\"next i-next\"]')\n",
    "            except:\n",
    "                break"
   ]
  },
  {
   "cell_type": "code",
   "execution_count": null,
   "metadata": {},
   "outputs": [],
   "source": [
    "#for i in range(3):\n",
    "    #try:\n",
    "        \n",
    "      #  load_more.click()\n",
    "        #sleep(random.uniform(7.0, 10.0))\n",
    "    #    load_more = driver.find_element_by_xpath('//a[@class=\"next i-next\"]')\n",
    "    #except:\n",
    "     #   break"
   ]
  },
  {
   "cell_type": "markdown",
   "metadata": {},
   "source": [
    "la info de los productos (el nombre es lo que nos interesa), se encuentra dentro de un <div class=\"product-item-details\""
   ]
  },
  {
   "cell_type": "code",
   "execution_count": 37,
   "metadata": {},
   "outputs": [
    {
     "name": "stdout",
     "output_type": "stream",
     "text": [
      "iUNIK - Calendula Complete Cleansing Oil - 200ml\n",
      "Krave - Matcha Hemp Hydrating Cleanser 120ml\n",
      "COSRX - Low pH Good Morning Gel Cleanser - 150ml\n",
      "SOME BY MI - AHA-BHA-PHA 30days Miracle Acne Clear Body Cleanser - 400g\n",
      "heimish - All Clean Balm\n",
      "Isntree - Micellar Washing Cleansing Water - 300ml\n",
      "BEAUTY OF JOSEON - Cleansing Balm - 80g\n",
      "iUNIK - Centella Bubble Cleansing Foam - 150ml\n",
      "Haruharu WONDER - Black Rice Moisture Deep Cleansing Oil - 150ml\n",
      "Haruharu WONDER - Black Rice Moisture 5.5 Soft Cleansing Gel - 100ml\n",
      "heimish - All Clean Green Foam - 150ml\n",
      "SOME BY MI - Bye Bye Blackhead 30days Miracle Green Tea Tox Bubble Cleanser - 120g\n"
     ]
    }
   ],
   "source": [
    "for cleanser in cleansers:\n",
    "    # . para que busque dentro del elemento (en este caso cleansers, // todos los elementos)\n",
    "    name = cleanser.find_element_by_xpath('.//h2[@class=\"product-name\"]').text\n",
    "    print(name)"
   ]
  },
  {
   "cell_type": "code",
   "execution_count": null,
   "metadata": {},
   "outputs": [],
   "source": []
  },
  {
   "cell_type": "code",
   "execution_count": null,
   "metadata": {},
   "outputs": [],
   "source": []
  },
  {
   "cell_type": "code",
   "execution_count": 10,
   "metadata": {},
   "outputs": [
    {
     "ename": "NoSuchElementException",
     "evalue": "Message: no such element: Unable to locate element: {\"method\":\"xpath\",\"selector\":\"/html/body/div[5]/div/div/div[1]/div/div/button\"}\n  (Session info: chrome=87.0.4280.66)\n",
     "output_type": "error",
     "traceback": [
      "\u001b[0;31m---------------------------------------------------------------------------\u001b[0m",
      "\u001b[0;31mNoSuchElementException\u001b[0m                    Traceback (most recent call last)",
      "\u001b[0;32m<ipython-input-10-1f34fff9ee9c>\u001b[0m in \u001b[0;36m<module>\u001b[0;34m\u001b[0m\n\u001b[1;32m      1\u001b[0m \u001b[0mxpath\u001b[0m \u001b[0;34m=\u001b[0m \u001b[0;34m'/html/body/div[5]/div/div/div[1]/div/div/button'\u001b[0m\u001b[0;34m\u001b[0m\u001b[0;34m\u001b[0m\u001b[0m\n\u001b[0;32m----> 2\u001b[0;31m \u001b[0mbtn\u001b[0m \u001b[0;34m=\u001b[0m \u001b[0mdriver\u001b[0m\u001b[0;34m.\u001b[0m\u001b[0mfind_element_by_xpath\u001b[0m\u001b[0;34m(\u001b[0m\u001b[0mxpath\u001b[0m\u001b[0;34m)\u001b[0m\u001b[0;34m\u001b[0m\u001b[0;34m\u001b[0m\u001b[0m\n\u001b[0m\u001b[1;32m      3\u001b[0m \u001b[0mbtn\u001b[0m\u001b[0;34m.\u001b[0m\u001b[0mclick\u001b[0m\u001b[0;34m(\u001b[0m\u001b[0;34m)\u001b[0m\u001b[0;34m\u001b[0m\u001b[0;34m\u001b[0m\u001b[0m\n\u001b[1;32m      4\u001b[0m \u001b[0mxpath2\u001b[0m \u001b[0;34m=\u001b[0m \u001b[0;34m'/html/body/div[3]/div/div/div[1]/div/div/div[2]/form/div[3]/div/div[1]/button'\u001b[0m\u001b[0;34m\u001b[0m\u001b[0;34m\u001b[0m\u001b[0m\n\u001b[1;32m      5\u001b[0m \u001b[0mbtn\u001b[0m \u001b[0;34m=\u001b[0m \u001b[0mdriver\u001b[0m\u001b[0;34m.\u001b[0m\u001b[0mfind_element_by_xpath\u001b[0m\u001b[0;34m(\u001b[0m\u001b[0mxpath2\u001b[0m\u001b[0;34m)\u001b[0m\u001b[0;34m\u001b[0m\u001b[0;34m\u001b[0m\u001b[0m\n",
      "\u001b[0;32m~/miniconda3/envs/ironhack_env/lib/python3.8/site-packages/selenium/webdriver/remote/webdriver.py\u001b[0m in \u001b[0;36mfind_element_by_xpath\u001b[0;34m(self, xpath)\u001b[0m\n\u001b[1;32m    392\u001b[0m             \u001b[0melement\u001b[0m \u001b[0;34m=\u001b[0m \u001b[0mdriver\u001b[0m\u001b[0;34m.\u001b[0m\u001b[0mfind_element_by_xpath\u001b[0m\u001b[0;34m(\u001b[0m\u001b[0;34m'//div/td[1]'\u001b[0m\u001b[0;34m)\u001b[0m\u001b[0;34m\u001b[0m\u001b[0;34m\u001b[0m\u001b[0m\n\u001b[1;32m    393\u001b[0m         \"\"\"\n\u001b[0;32m--> 394\u001b[0;31m         \u001b[0;32mreturn\u001b[0m \u001b[0mself\u001b[0m\u001b[0;34m.\u001b[0m\u001b[0mfind_element\u001b[0m\u001b[0;34m(\u001b[0m\u001b[0mby\u001b[0m\u001b[0;34m=\u001b[0m\u001b[0mBy\u001b[0m\u001b[0;34m.\u001b[0m\u001b[0mXPATH\u001b[0m\u001b[0;34m,\u001b[0m \u001b[0mvalue\u001b[0m\u001b[0;34m=\u001b[0m\u001b[0mxpath\u001b[0m\u001b[0;34m)\u001b[0m\u001b[0;34m\u001b[0m\u001b[0;34m\u001b[0m\u001b[0m\n\u001b[0m\u001b[1;32m    395\u001b[0m \u001b[0;34m\u001b[0m\u001b[0m\n\u001b[1;32m    396\u001b[0m     \u001b[0;32mdef\u001b[0m \u001b[0mfind_elements_by_xpath\u001b[0m\u001b[0;34m(\u001b[0m\u001b[0mself\u001b[0m\u001b[0;34m,\u001b[0m \u001b[0mxpath\u001b[0m\u001b[0;34m)\u001b[0m\u001b[0;34m:\u001b[0m\u001b[0;34m\u001b[0m\u001b[0;34m\u001b[0m\u001b[0m\n",
      "\u001b[0;32m~/miniconda3/envs/ironhack_env/lib/python3.8/site-packages/selenium/webdriver/remote/webdriver.py\u001b[0m in \u001b[0;36mfind_element\u001b[0;34m(self, by, value)\u001b[0m\n\u001b[1;32m    974\u001b[0m                 \u001b[0mby\u001b[0m \u001b[0;34m=\u001b[0m \u001b[0mBy\u001b[0m\u001b[0;34m.\u001b[0m\u001b[0mCSS_SELECTOR\u001b[0m\u001b[0;34m\u001b[0m\u001b[0;34m\u001b[0m\u001b[0m\n\u001b[1;32m    975\u001b[0m                 \u001b[0mvalue\u001b[0m \u001b[0;34m=\u001b[0m \u001b[0;34m'[name=\"%s\"]'\u001b[0m \u001b[0;34m%\u001b[0m \u001b[0mvalue\u001b[0m\u001b[0;34m\u001b[0m\u001b[0;34m\u001b[0m\u001b[0m\n\u001b[0;32m--> 976\u001b[0;31m         return self.execute(Command.FIND_ELEMENT, {\n\u001b[0m\u001b[1;32m    977\u001b[0m             \u001b[0;34m'using'\u001b[0m\u001b[0;34m:\u001b[0m \u001b[0mby\u001b[0m\u001b[0;34m,\u001b[0m\u001b[0;34m\u001b[0m\u001b[0;34m\u001b[0m\u001b[0m\n\u001b[1;32m    978\u001b[0m             'value': value})['value']\n",
      "\u001b[0;32m~/miniconda3/envs/ironhack_env/lib/python3.8/site-packages/selenium/webdriver/remote/webdriver.py\u001b[0m in \u001b[0;36mexecute\u001b[0;34m(self, driver_command, params)\u001b[0m\n\u001b[1;32m    319\u001b[0m         \u001b[0mresponse\u001b[0m \u001b[0;34m=\u001b[0m \u001b[0mself\u001b[0m\u001b[0;34m.\u001b[0m\u001b[0mcommand_executor\u001b[0m\u001b[0;34m.\u001b[0m\u001b[0mexecute\u001b[0m\u001b[0;34m(\u001b[0m\u001b[0mdriver_command\u001b[0m\u001b[0;34m,\u001b[0m \u001b[0mparams\u001b[0m\u001b[0;34m)\u001b[0m\u001b[0;34m\u001b[0m\u001b[0;34m\u001b[0m\u001b[0m\n\u001b[1;32m    320\u001b[0m         \u001b[0;32mif\u001b[0m \u001b[0mresponse\u001b[0m\u001b[0;34m:\u001b[0m\u001b[0;34m\u001b[0m\u001b[0;34m\u001b[0m\u001b[0m\n\u001b[0;32m--> 321\u001b[0;31m             \u001b[0mself\u001b[0m\u001b[0;34m.\u001b[0m\u001b[0merror_handler\u001b[0m\u001b[0;34m.\u001b[0m\u001b[0mcheck_response\u001b[0m\u001b[0;34m(\u001b[0m\u001b[0mresponse\u001b[0m\u001b[0;34m)\u001b[0m\u001b[0;34m\u001b[0m\u001b[0;34m\u001b[0m\u001b[0m\n\u001b[0m\u001b[1;32m    322\u001b[0m             response['value'] = self._unwrap_value(\n\u001b[1;32m    323\u001b[0m                 response.get('value', None))\n",
      "\u001b[0;32m~/miniconda3/envs/ironhack_env/lib/python3.8/site-packages/selenium/webdriver/remote/errorhandler.py\u001b[0m in \u001b[0;36mcheck_response\u001b[0;34m(self, response)\u001b[0m\n\u001b[1;32m    240\u001b[0m                 \u001b[0malert_text\u001b[0m \u001b[0;34m=\u001b[0m \u001b[0mvalue\u001b[0m\u001b[0;34m[\u001b[0m\u001b[0;34m'alert'\u001b[0m\u001b[0;34m]\u001b[0m\u001b[0;34m.\u001b[0m\u001b[0mget\u001b[0m\u001b[0;34m(\u001b[0m\u001b[0;34m'text'\u001b[0m\u001b[0;34m)\u001b[0m\u001b[0;34m\u001b[0m\u001b[0;34m\u001b[0m\u001b[0m\n\u001b[1;32m    241\u001b[0m             \u001b[0;32mraise\u001b[0m \u001b[0mexception_class\u001b[0m\u001b[0;34m(\u001b[0m\u001b[0mmessage\u001b[0m\u001b[0;34m,\u001b[0m \u001b[0mscreen\u001b[0m\u001b[0;34m,\u001b[0m \u001b[0mstacktrace\u001b[0m\u001b[0;34m,\u001b[0m \u001b[0malert_text\u001b[0m\u001b[0;34m)\u001b[0m\u001b[0;34m\u001b[0m\u001b[0;34m\u001b[0m\u001b[0m\n\u001b[0;32m--> 242\u001b[0;31m         \u001b[0;32mraise\u001b[0m \u001b[0mexception_class\u001b[0m\u001b[0;34m(\u001b[0m\u001b[0mmessage\u001b[0m\u001b[0;34m,\u001b[0m \u001b[0mscreen\u001b[0m\u001b[0;34m,\u001b[0m \u001b[0mstacktrace\u001b[0m\u001b[0;34m)\u001b[0m\u001b[0;34m\u001b[0m\u001b[0;34m\u001b[0m\u001b[0m\n\u001b[0m\u001b[1;32m    243\u001b[0m \u001b[0;34m\u001b[0m\u001b[0m\n\u001b[1;32m    244\u001b[0m     \u001b[0;32mdef\u001b[0m \u001b[0m_value_or_default\u001b[0m\u001b[0;34m(\u001b[0m\u001b[0mself\u001b[0m\u001b[0;34m,\u001b[0m \u001b[0mobj\u001b[0m\u001b[0;34m,\u001b[0m \u001b[0mkey\u001b[0m\u001b[0;34m,\u001b[0m \u001b[0mdefault\u001b[0m\u001b[0;34m)\u001b[0m\u001b[0;34m:\u001b[0m\u001b[0;34m\u001b[0m\u001b[0;34m\u001b[0m\u001b[0m\n",
      "\u001b[0;31mNoSuchElementException\u001b[0m: Message: no such element: Unable to locate element: {\"method\":\"xpath\",\"selector\":\"/html/body/div[5]/div/div/div[1]/div/div/button\"}\n  (Session info: chrome=87.0.4280.66)\n"
     ]
    }
   ],
   "source": []
  },
  {
   "cell_type": "code",
   "execution_count": null,
   "metadata": {},
   "outputs": [],
   "source": [
    "\n",
    "\n",
    "# initiate empty dataframe\n",
    "df = pd.DataFrame(columns=['Label', 'URL'])\n",
    "print(df)\n",
    "\n",
    "# step 1\n",
    "tickers = ['moisturizing-cream-oils-mists', 'cleanser', 'facial-treatments', 'face-mask',\n",
    "           'eye-treatment-dark-circle-treatment', 'sunscreen-sun-protection']\n",
    "\n",
    "for ticker in tickers:\n",
    "    url = 'https://www.sephora.com/shop/' + ticker + '?pageSize=300'\n",
    "    driver.get(url)\n",
    "\n",
    "    xpath = '/html/body/div[5]/div/div/div[1]/div/div/button'\n",
    "    btn = driver.find_element_by_xpath(xpath)\n",
    "    btn.click()\n",
    "    time.sleep(20)\n",
    "\n",
    "    browser = scrollDown(driver, 10)\n",
    "    time.sleep(10)\n",
    "\n",
    "    browser = scrollDown(driver, 10)\n",
    "    time.sleep(10)\n",
    "\n",
    "    browser = scrollDown(driver, 10)\n",
    "    time.sleep(10)\n",
    "\n",
    "    browser = scrollDown(driver, 10)\n",
    "\n",
    "    element = driver.find_elements_by_class_name('css-ix8km1')\n",
    "\n",
    "    subpageURL = []\n",
    "    for a in element:\n",
    "        subURL = a.get_attribute('href')\n",
    "        subpageURL.append(subURL)\n",
    "\n",
    "    # transform into a data frame\n",
    "    dic = {'Label': ticker, 'URL': subpageURL}\n",
    "    df = df.append(pd.DataFrame(dic), ignore_index = True)\n",
    "\n",
    "# add columns\n",
    "df2 = pd.DataFrame(columns=['brand', 'name', 'price', 'rank', 'skin_type', 'ingredients'])\n",
    "df = pd.concat([df, df2], axis = 1)\n",
    "\n",
    "# step 2\n",
    "for i in range(len(df)+1):\n",
    "    url = df.URL[i]\n",
    "    driver.get(url)\n",
    "    time.sleep(5)\n",
    "\n",
    "    xpath = '/html/body/div[5]/div/div/div[1]/div/div/button'\n",
    "    btn = driver.find_element_by_xpath(xpath)\n",
    "    btn.click()\n",
    "\n",
    "    # brand, name, price\n",
    "    df.brand[i] = driver.find_element_by_class_name('css-avdj50').text\n",
    "    df.name[i] = driver.find_element_by_class_name('css-r4ddnb ').text\n",
    "    df.price[i] = driver.find_element_by_class_name('css-n8yjg7 ').text\n",
    "\n",
    "    browser = scrollDown(driver, 1)\n",
    "    time.sleep(5)\n",
    "    browser = scrollDown(driver, 1)\n",
    "    time.sleep(5)\n",
    "\n",
    "    # skin_type\n",
    "    detail = driver.find_element_by_class_name('css-192qj50').text\n",
    "    pattern = r\"✔ \\w+\\n\"\n",
    "    df.skin_type[i] = re.findall(pattern, detail)\n",
    "\n",
    "    # ingredients\n",
    "    xpath = '//*[@id=\"tab2\"]'\n",
    "    btn = driver.find_element_by_xpath(xpath)\n",
    "    btn.click()\n",
    "\n",
    "    try:\n",
    "        df.ingredients[i] = driver.find_element_by_xpath('//*[@id=\"tabpanel2\"]/div').text\n",
    "    except NoSuchElementException:\n",
    "        df.ingredients[i] = 'No Info'\n",
    "\n",
    "    # rank\n",
    "    try:\n",
    "        rank = driver.find_element_by_class_name('css-ffj77u').text\n",
    "        rank = re.match('\\d.\\d', rank).group()\n",
    "        df['rank'][i] = str(rank)\n",
    "\n",
    "    except NoSuchElementException:\n",
    "        df['rank'][i] = 0\n",
    "\n",
    "    print(i)    # just for verbose\n",
    "\n",
    "\n",
    "df.to_csv('data/cosmetic.csv', encoding = 'utf-8-sig', index = False)"
   ]
  },
  {
   "cell_type": "code",
   "execution_count": null,
   "metadata": {},
   "outputs": [],
   "source": []
  },
  {
   "cell_type": "code",
   "execution_count": null,
   "metadata": {},
   "outputs": [],
   "source": []
  },
  {
   "cell_type": "code",
   "execution_count": null,
   "metadata": {},
   "outputs": [],
   "source": []
  },
  {
   "cell_type": "code",
   "execution_count": null,
   "metadata": {},
   "outputs": [],
   "source": []
  },
  {
   "cell_type": "code",
   "execution_count": null,
   "metadata": {},
   "outputs": [],
   "source": []
  },
  {
   "cell_type": "code",
   "execution_count": null,
   "metadata": {},
   "outputs": [],
   "source": []
  },
  {
   "cell_type": "code",
   "execution_count": null,
   "metadata": {},
   "outputs": [],
   "source": []
  }
 ],
 "metadata": {
  "kernelspec": {
   "display_name": "Python [conda env:ironhack_env]",
   "language": "python",
   "name": "conda-env-ironhack_env-py"
  },
  "language_info": {
   "codemirror_mode": {
    "name": "ipython",
    "version": 3
   },
   "file_extension": ".py",
   "mimetype": "text/x-python",
   "name": "python",
   "nbconvert_exporter": "python",
   "pygments_lexer": "ipython3",
   "version": "3.8.5"
  }
 },
 "nbformat": 4,
 "nbformat_minor": 4
}
