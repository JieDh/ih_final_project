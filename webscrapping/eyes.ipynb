{
 "cells": [
  {
   "cell_type": "code",
   "execution_count": null,
   "metadata": {},
   "outputs": [],
   "source": []
  },
  {
   "cell_type": "code",
   "execution_count": 1,
   "metadata": {},
   "outputs": [],
   "source": [
    "import requests\n",
    "from bs4 import BeautifulSoup\n",
    "import pandas as pd"
   ]
  },
  {
   "cell_type": "code",
   "execution_count": null,
   "metadata": {},
   "outputs": [],
   "source": [
    "#como el navegador a usar es chrome, hemos descargado ya el driver de la página, guardamos la ruta en una variable\n",
    "#chrome_path = 'chromedriver_linux64/chromedriver'\n",
    "#driver = webdriver.Chrome(executable_path = chrome_path)"
   ]
  },
  {
   "cell_type": "code",
   "execution_count": 2,
   "metadata": {},
   "outputs": [],
   "source": [
    "headers = {'User-Agent': 'Mozilla/5.0 (Windows NT 10.0; Win64; x64) AppleWebKit/537.36 (KHTML, like Gecko) Chrome/78.0.3904.108 Safari/537.36'}"
   ]
  },
  {
   "cell_type": "markdown",
   "metadata": {},
   "source": [
    "¿Qué queremos obtener de la página?\n",
    "1. Nombre del producto\n",
    "2. Precio (?)\n",
    "3. Detalles\n",
    "4. Ingredientes"
   ]
  },
  {
   "cell_type": "markdown",
   "metadata": {},
   "source": [
    "## 1 OBTENER TODAS LAS URLS DE LOS PRODUCTOS"
   ]
  },
  {
   "cell_type": "markdown",
   "metadata": {},
   "source": [
    "Para ello, utilizaremos bucles que iteren sobre los elementos de la página.\n",
    "* Variable global cleansers_url, es el contenedor de todas las urls.\n",
    "* Los links están dentro de un tag 'a', como sólo nos interesan aquellas que tengan href, pues href=True. \n",
    "* Se ha agregado class='product-image\" porque si no, el bucle cogía todas las urls (wishlist, url de la imagen etc), y solo nos interesan los productos.\n",
    "* Append cada uno de los links al contenedor."
   ]
  },
  {
   "cell_type": "code",
   "execution_count": 16,
   "metadata": {},
   "outputs": [],
   "source": [
    "eyecream_url = []"
   ]
  },
  {
   "cell_type": "code",
   "execution_count": 17,
   "metadata": {},
   "outputs": [
    {
     "name": "stdout",
     "output_type": "stream",
     "text": [
      "382\n"
     ]
    }
   ],
   "source": [
    "for i in range (1,33):\n",
    "    url = f'https://www.stylevana.com/en_US/skincare/eye-lip-care.html?p={i}' \n",
    "    r = requests.get(url)\n",
    "    soup = BeautifulSoup(r.content, 'lxml')\n",
    "    eyecream_list = soup.find_all('div', class_='product-item-info')\n",
    "    for item in eyecream_list:\n",
    "        for link in item.find_all('a', class_='product-image', href=True): \n",
    "            eyecream_url.append(link['href'])\n",
    "print(len(eyecream_url))"
   ]
  },
  {
   "cell_type": "markdown",
   "metadata": {},
   "source": [
    "with open(\"cleansers_url.txt\", \"w\") as output:\n",
    "    output.write(str(cleansers_url))"
   ]
  },
  {
   "cell_type": "code",
   "execution_count": 18,
   "metadata": {},
   "outputs": [
    {
     "data": {
      "text/plain": [
       "382"
      ]
     },
     "execution_count": 18,
     "metadata": {},
     "output_type": "execute_result"
    }
   ],
   "source": [
    "len(eyecream_url)"
   ]
  },
  {
   "cell_type": "markdown",
   "metadata": {},
   "source": [
    "## 2 OBTENER LA INFO DE LA PÁGINA PROPIA DEL PRODUCTO\n",
    "Info que necesitamos:\n",
    "* Nombre del producto\n",
    "* Details\n",
    "* Ingredients"
   ]
  },
  {
   "cell_type": "markdown",
   "metadata": {},
   "source": [
    "* Details e Ingredients se encuentran dentro de un grupo <div class='panel-group'"
   ]
  },
  {
   "cell_type": "code",
   "execution_count": 21,
   "metadata": {},
   "outputs": [
    {
     "ename": "IndexError",
     "evalue": "list index out of range",
     "output_type": "error",
     "traceback": [
      "\u001b[0;31m---------------------------------------------------------------------------\u001b[0m",
      "\u001b[0;31mIndexError\u001b[0m                                Traceback (most recent call last)",
      "\u001b[0;32m<ipython-input-21-51bff553e9d5>\u001b[0m in \u001b[0;36m<module>\u001b[0;34m\u001b[0m\n\u001b[0;32m----> 1\u001b[0;31m \u001b[0meyecream_url\u001b[0m\u001b[0;34m[\u001b[0m\u001b[0;36m382\u001b[0m\u001b[0;34m]\u001b[0m\u001b[0;34m\u001b[0m\u001b[0;34m\u001b[0m\u001b[0m\n\u001b[0m",
      "\u001b[0;31mIndexError\u001b[0m: list index out of range"
     ]
    }
   ],
   "source": [
    "eyecream_url[382]"
   ]
  },
  {
   "cell_type": "code",
   "execution_count": 22,
   "metadata": {},
   "outputs": [],
   "source": [
    "eye_creams = []"
   ]
  },
  {
   "cell_type": "code",
   "execution_count": 25,
   "metadata": {},
   "outputs": [],
   "source": [
    "for link in eyecream_url[345:382]:\n",
    "    r = requests.get(link, headers=headers) #para cada link en el listado, hacemos una requests\n",
    "    soup = BeautifulSoup(r.content, 'lxml')\n",
    "    #usamos try, except porque hay ocasiones en las que no hay info sobre los ingredientes\n",
    "    try:\n",
    "        name = soup.find('h1', class_='product-name-h1').text\n",
    "        details = (soup.find('div', id='product-view-details').text.strip()) # details\n",
    "        ingredients = soup.find_all('div', id=\"product-view-ingredients\") #ingredients\n",
    "        for item in ingredients:\n",
    "            ingredients = item.find('div', class_='panel-body').text.strip()\n",
    "    except:\n",
    "        name = 'no info'\n",
    "        details = 'no info'\n",
    "        ingredients = 'no info'\n",
    "        \n",
    "    eyecream_info = {\n",
    "    'name': name,\n",
    "    'details': details,\n",
    "    'ingredients': ingredients}\n",
    "    \n",
    "    eye_creams.append(eyecream_info)"
   ]
  },
  {
   "cell_type": "code",
   "execution_count": 26,
   "metadata": {},
   "outputs": [
    {
     "name": "stdout",
     "output_type": "stream",
     "text": [
      "382\n"
     ]
    }
   ],
   "source": [
    "print(len(eye_creams))"
   ]
  },
  {
   "cell_type": "code",
   "execution_count": null,
   "metadata": {},
   "outputs": [],
   "source": []
  },
  {
   "cell_type": "markdown",
   "metadata": {},
   "source": [
    "## 3. PASARLO A DATAFRAME"
   ]
  },
  {
   "cell_type": "code",
   "execution_count": 28,
   "metadata": {},
   "outputs": [
    {
     "data": {
      "text/html": [
       "<div>\n",
       "<style scoped>\n",
       "    .dataframe tbody tr th:only-of-type {\n",
       "        vertical-align: middle;\n",
       "    }\n",
       "\n",
       "    .dataframe tbody tr th {\n",
       "        vertical-align: top;\n",
       "    }\n",
       "\n",
       "    .dataframe thead th {\n",
       "        text-align: right;\n",
       "    }\n",
       "</style>\n",
       "<table border=\"1\" class=\"dataframe\">\n",
       "  <thead>\n",
       "    <tr style=\"text-align: right;\">\n",
       "      <th></th>\n",
       "      <th>name</th>\n",
       "      <th>details</th>\n",
       "      <th>ingredients</th>\n",
       "    </tr>\n",
       "  </thead>\n",
       "  <tbody>\n",
       "    <tr>\n",
       "      <th>0</th>\n",
       "      <td>LANEIGE - Lip Sleeping Mask</td>\n",
       "      <td>Product Type: Lip Mask\\n\\n\\nProduct Unit: 20g\\...</td>\n",
       "      <td>Diisostearyl Malate, Hydrogenated Polyisobuten...</td>\n",
       "    </tr>\n",
       "    <tr>\n",
       "      <th>1</th>\n",
       "      <td>PURITO - Centella Green Level Eye Cream - 30ml</td>\n",
       "      <td>Cruelty Free: Yes\\n\\n\\nProduct Type: Eye Cream...</td>\n",
       "      <td>Centella Asiatica Extract, Water, Hydrogenated...</td>\n",
       "    </tr>\n",
       "    <tr>\n",
       "      <th>2</th>\n",
       "      <td>iUNIK - Propolis Vitamin Eye Cream - 30ml</td>\n",
       "      <td>Skin Concern: Anti-aging/ Wrinkles, Dark Circl...</td>\n",
       "      <td>[]</td>\n",
       "    </tr>\n",
       "    <tr>\n",
       "      <th>3</th>\n",
       "      <td>Benton - Fermentation Eye Cream</td>\n",
       "      <td>Cruelty Free: Yes\\n\\n\\nProduct Type: Eye Cream...</td>\n",
       "      <td>Galactomyces Ferment Filtrate, Aqua (Water), B...</td>\n",
       "    </tr>\n",
       "    <tr>\n",
       "      <th>4</th>\n",
       "      <td>Etude House - My Lash Serum</td>\n",
       "      <td>Product Type: Eyelash Essence\\n\\n\\nSkin Type: ...</td>\n",
       "      <td>Water, Butylene Glycol, Alcohol, Glycerin, Alo...</td>\n",
       "    </tr>\n",
       "    <tr>\n",
       "      <th>...</th>\n",
       "      <td>...</td>\n",
       "      <td>...</td>\n",
       "      <td>...</td>\n",
       "    </tr>\n",
       "    <tr>\n",
       "      <th>377</th>\n",
       "      <td>Mongdies - Lip Treatment - 15g</td>\n",
       "      <td>Product Type: Lip Mask\\n\\n\\nSkin Concern: Irri...</td>\n",
       "      <td>Caprylic/Capric Triglyceride, Polybutene, Bis-...</td>\n",
       "    </tr>\n",
       "    <tr>\n",
       "      <th>378</th>\n",
       "      <td>IOPE - Lip Nutri-Volume Serum Pure - 15g</td>\n",
       "      <td>Skin Concern: Anti-aging/ Wrinkles, Dryness/ H...</td>\n",
       "      <td>[]</td>\n",
       "    </tr>\n",
       "    <tr>\n",
       "      <th>379</th>\n",
       "      <td>LITS - LITS Revival - Line Zero - 12g</td>\n",
       "      <td>Product Type: Eye Cream\\n\\n\\nSkin Concern: Ant...</td>\n",
       "      <td>Water, Dimethicone, Cyclopentasiloxane, Silica...</td>\n",
       "    </tr>\n",
       "    <tr>\n",
       "      <th>380</th>\n",
       "      <td>ISOI - Bulgarian Intensive Age-Control Eye Cre...</td>\n",
       "      <td>Product Type: Eye Cream\\n\\n\\nSkin Concern: Ant...</td>\n",
       "      <td>Water, Glycerin, Octyldodecyl Myristate, Cetyl...</td>\n",
       "    </tr>\n",
       "    <tr>\n",
       "      <th>381</th>\n",
       "      <td>OGI - Water Bomb Moisture Eye Cream - 20ml</td>\n",
       "      <td>Product Type: Eye Cream\\n\\n\\nSkin Concern: Ant...</td>\n",
       "      <td>Water, Glycerin, Dipropylene Glycol, Caprylic/...</td>\n",
       "    </tr>\n",
       "  </tbody>\n",
       "</table>\n",
       "<p>382 rows × 3 columns</p>\n",
       "</div>"
      ],
      "text/plain": [
       "                                                  name  \\\n",
       "0                          LANEIGE - Lip Sleeping Mask   \n",
       "1       PURITO - Centella Green Level Eye Cream - 30ml   \n",
       "2            iUNIK - Propolis Vitamin Eye Cream - 30ml   \n",
       "3                      Benton - Fermentation Eye Cream   \n",
       "4                          Etude House - My Lash Serum   \n",
       "..                                                 ...   \n",
       "377                     Mongdies - Lip Treatment - 15g   \n",
       "378           IOPE - Lip Nutri-Volume Serum Pure - 15g   \n",
       "379              LITS - LITS Revival - Line Zero - 12g   \n",
       "380  ISOI - Bulgarian Intensive Age-Control Eye Cre...   \n",
       "381         OGI - Water Bomb Moisture Eye Cream - 20ml   \n",
       "\n",
       "                                               details  \\\n",
       "0    Product Type: Lip Mask\\n\\n\\nProduct Unit: 20g\\...   \n",
       "1    Cruelty Free: Yes\\n\\n\\nProduct Type: Eye Cream...   \n",
       "2    Skin Concern: Anti-aging/ Wrinkles, Dark Circl...   \n",
       "3    Cruelty Free: Yes\\n\\n\\nProduct Type: Eye Cream...   \n",
       "4    Product Type: Eyelash Essence\\n\\n\\nSkin Type: ...   \n",
       "..                                                 ...   \n",
       "377  Product Type: Lip Mask\\n\\n\\nSkin Concern: Irri...   \n",
       "378  Skin Concern: Anti-aging/ Wrinkles, Dryness/ H...   \n",
       "379  Product Type: Eye Cream\\n\\n\\nSkin Concern: Ant...   \n",
       "380  Product Type: Eye Cream\\n\\n\\nSkin Concern: Ant...   \n",
       "381  Product Type: Eye Cream\\n\\n\\nSkin Concern: Ant...   \n",
       "\n",
       "                                           ingredients  \n",
       "0    Diisostearyl Malate, Hydrogenated Polyisobuten...  \n",
       "1    Centella Asiatica Extract, Water, Hydrogenated...  \n",
       "2                                                   []  \n",
       "3    Galactomyces Ferment Filtrate, Aqua (Water), B...  \n",
       "4    Water, Butylene Glycol, Alcohol, Glycerin, Alo...  \n",
       "..                                                 ...  \n",
       "377  Caprylic/Capric Triglyceride, Polybutene, Bis-...  \n",
       "378                                                 []  \n",
       "379  Water, Dimethicone, Cyclopentasiloxane, Silica...  \n",
       "380  Water, Glycerin, Octyldodecyl Myristate, Cetyl...  \n",
       "381  Water, Glycerin, Dipropylene Glycol, Caprylic/...  \n",
       "\n",
       "[382 rows x 3 columns]"
      ]
     },
     "execution_count": 28,
     "metadata": {},
     "output_type": "execute_result"
    }
   ],
   "source": [
    "eyecreams_df = pd.DataFrame(eye_creams)\n",
    "eyecreams_df"
   ]
  },
  {
   "cell_type": "code",
   "execution_count": 29,
   "metadata": {},
   "outputs": [],
   "source": [
    "eyecreams = eyecreams_df.to_csv('data/eyecreams.csv')"
   ]
  },
  {
   "cell_type": "code",
   "execution_count": null,
   "metadata": {},
   "outputs": [],
   "source": []
  },
  {
   "cell_type": "code",
   "execution_count": null,
   "metadata": {},
   "outputs": [],
   "source": []
  }
 ],
 "metadata": {
  "kernelspec": {
   "display_name": "Python [conda env:ironhack_env]",
   "language": "python",
   "name": "conda-env-ironhack_env-py"
  },
  "language_info": {
   "codemirror_mode": {
    "name": "ipython",
    "version": 3
   },
   "file_extension": ".py",
   "mimetype": "text/x-python",
   "name": "python",
   "nbconvert_exporter": "python",
   "pygments_lexer": "ipython3",
   "version": "3.8.5"
  }
 },
 "nbformat": 4,
 "nbformat_minor": 4
}
