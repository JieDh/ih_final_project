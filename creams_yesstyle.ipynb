{
 "cells": [
  {
   "cell_type": "code",
   "execution_count": null,
   "metadata": {},
   "outputs": [],
   "source": []
  },
  {
   "cell_type": "code",
   "execution_count": 1,
   "metadata": {},
   "outputs": [],
   "source": [
    "import requests\n",
    "from bs4 import BeautifulSoup\n",
    "import pandas as pd\n",
    "import re"
   ]
  },
  {
   "cell_type": "code",
   "execution_count": 2,
   "metadata": {},
   "outputs": [],
   "source": [
    "headers = {'User-Agent': 'Mozilla/5.0 (Windows NT 10.0; Win64; x64) AppleWebKit/537.36 (KHTML, like Gecko) Chrome/78.0.3904.108 Safari/537.36'}"
   ]
  },
  {
   "cell_type": "code",
   "execution_count": 3,
   "metadata": {},
   "outputs": [],
   "source": [
    "# soup = BeautifulSoup(r.content, 'lxml') #usamos lxml como parser"
   ]
  },
  {
   "cell_type": "markdown",
   "metadata": {},
   "source": [
    "¿Qué queremos obtener de la página?\n",
    "1. Nombre del producto\n",
    "2. Precio (?)\n",
    "3. Detalles\n",
    "4. Ingredientes"
   ]
  },
  {
   "cell_type": "markdown",
   "metadata": {},
   "source": [
    "## 1 OBTENER TODAS LAS URLS DE LOS PRODUCTOS"
   ]
  },
  {
   "cell_type": "markdown",
   "metadata": {},
   "source": [
    "Para ello, utilizaremos bucles que iteren sobre los elementos de la página.\n",
    "* Variable global cleansers_url, es el contenedor de todas las urls.\n",
    "* Los links están dentro de un tag 'a', como sólo nos interesan aquellas que tengan href, pues href=True. \n",
    "* Se ha agregado class='product-image\" porque si no, el bucle cogía todas las urls (wishlist, url de la imagen etc), y solo nos interesan los productos.\n",
    "* Append cada uno de los links al contenedor."
   ]
  },
  {
   "cell_type": "markdown",
   "metadata": {},
   "source": [
    "cream_list = soup.find_all('div', class_='itemContainer')"
   ]
  },
  {
   "cell_type": "markdown",
   "metadata": {},
   "source": [
    "url = []\n",
    "for item in cream_list:\n",
    "        for link in item.find_all('a', href=True): \n",
    "            url.append(link['href'])"
   ]
  },
  {
   "cell_type": "code",
   "execution_count": 4,
   "metadata": {},
   "outputs": [],
   "source": [
    "creams_url = []\n",
    "for i in range (1, 84):\n",
    "    url = f'https://www.yesstyle.com/en/women-face-creams-moisturizers/list.html/bcc.14338_bpt.46#/bt=37&sb=136&bpt=46&pn={i}&s=10&bcc=14338&l=1' \n",
    "    r = requests.get(url)\n",
    "    soup = BeautifulSoup(r.content, 'lxml')\n",
    "    creams_list = soup.find_all('div', class_='itemContainer')\n",
    "    for item in creams_list:\n",
    "        for link in item.find_all('a', href=True): \n",
    "            creams_url.append(link['href'])\n"
   ]
  },
  {
   "cell_type": "code",
   "execution_count": 5,
   "metadata": {},
   "outputs": [
    {
     "name": "stdout",
     "output_type": "stream",
     "text": [
      "2988\n"
     ]
    }
   ],
   "source": [
    "print(len(creams_url))"
   ]
  },
  {
   "cell_type": "markdown",
   "metadata": {},
   "source": [
    "with open(\"cleansers_url.txt\", \"w\") as output:\n",
    "    output.write(str(cleansers_url))"
   ]
  },
  {
   "cell_type": "markdown",
   "metadata": {},
   "source": [
    "## 2 OBTENER LA INFO DE LA PÁGINA PROPIA DEL PRODUCTO\n",
    "Info que necesitamos:\n",
    "* Nombre del producto\n",
    "* Details\n",
    "* Ingredients"
   ]
  },
  {
   "cell_type": "markdown",
   "metadata": {},
   "source": [
    "* Details e Ingredients se encuentran dentro de un grupo <div class='panel-group'"
   ]
  },
  {
   "cell_type": "code",
   "execution_count": 51,
   "metadata": {},
   "outputs": [],
   "source": [
    "\"\"\"\n",
    "test_url = 'https://www.yesstyle.com/es/cosrx-gel-limpiador-con-ph-bajo-good-morning-150ml/info.html/pid.1052684732'\n",
    "r = requests.get(test_url) #para cada link en el listado, hacemos una requests\n",
    "soup = BeautifulSoup(r.content, 'lxml')\n",
    "name = soup.find_all('div', class_='headingContent flex-gt-sm-66 flex-100')\n",
    "for x in name:\n",
    "    title = soup.find('h1').text\n",
    "ingred = soup.find('div', class_=\"cropWrapper\").text #ingredients\n",
    "rating = soup.find('div', class_='satisfied').text\n",
    "\"\"\""
   ]
  },
  {
   "cell_type": "code",
   "execution_count": null,
   "metadata": {},
   "outputs": [],
   "source": []
  },
  {
   "cell_type": "code",
   "execution_count": null,
   "metadata": {},
   "outputs": [],
   "source": []
  },
  {
   "cell_type": "code",
   "execution_count": 6,
   "metadata": {},
   "outputs": [
    {
     "data": {
      "text/plain": [
       "'https://www.yesstyle.com/en/the-face-shop-real-nature-face-mask-1pc-20-types-20g-calendula/info.html/pid.1061020764'"
      ]
     },
     "execution_count": 6,
     "metadata": {},
     "output_type": "execute_result"
    }
   ],
   "source": [
    "creams_url[0]"
   ]
  },
  {
   "cell_type": "code",
   "execution_count": 6,
   "metadata": {},
   "outputs": [],
   "source": [
    "creams = []"
   ]
  },
  {
   "cell_type": "code",
   "execution_count": 9,
   "metadata": {},
   "outputs": [],
   "source": [
    "for link in creams_url[2269:2988]:\n",
    "    r = requests.get(link, headers=headers) #para cada link en el listado, hacemos una requests\n",
    "    soup = BeautifulSoup(r.content, 'lxml')\n",
    "    #usamos try, except porque hay ocasiones en las que no hay info sobre los ingredientes\n",
    "    try:\n",
    "        name_box = soup.find_all('div', class_='headingContent flex-gt-sm-66 flex-100')\n",
    "        for x in name_box:\n",
    "            name = soup.find('h1').text\n",
    "        ingredients = soup.find('div', class_=\"cropWrapper\").text.strip() #ingredients\n",
    "        rating = soup.find('div', class_='satisfied').text.strip()\n",
    "    except:\n",
    "        name= 'no info'\n",
    "        ingredients = 'no info'\n",
    "        rating = 'no info'\n",
    "        \n",
    "    creams_info = {\n",
    "    'name': name,\n",
    "    'rating': rating,\n",
    "    'ingredients': ingredients}\n",
    "    \n",
    "    creams.append(creams_info)"
   ]
  },
  {
   "cell_type": "code",
   "execution_count": 10,
   "metadata": {},
   "outputs": [
    {
     "name": "stdout",
     "output_type": "stream",
     "text": [
      "2988\n"
     ]
    }
   ],
   "source": [
    "print(len(creams))"
   ]
  },
  {
   "cell_type": "code",
   "execution_count": 12,
   "metadata": {},
   "outputs": [
    {
     "ename": "IndexError",
     "evalue": "list index out of range",
     "output_type": "error",
     "traceback": [
      "\u001b[0;31m---------------------------------------------------------------------------\u001b[0m",
      "\u001b[0;31mIndexError\u001b[0m                                Traceback (most recent call last)",
      "\u001b[0;32m<ipython-input-12-f20bd3beb773>\u001b[0m in \u001b[0;36m<module>\u001b[0;34m\u001b[0m\n\u001b[0;32m----> 1\u001b[0;31m \u001b[0mmasks\u001b[0m\u001b[0;34m[\u001b[0m\u001b[0;36m496\u001b[0m\u001b[0;34m]\u001b[0m\u001b[0;34m\u001b[0m\u001b[0;34m\u001b[0m\u001b[0m\n\u001b[0m",
      "\u001b[0;31mIndexError\u001b[0m: list index out of range"
     ]
    }
   ],
   "source": [
    "creams[496]"
   ]
  },
  {
   "cell_type": "markdown",
   "metadata": {},
   "source": [
    "## 3. PASARLO A DATAFRAME"
   ]
  },
  {
   "cell_type": "code",
   "execution_count": 11,
   "metadata": {},
   "outputs": [
    {
     "data": {
      "text/html": [
       "<div>\n",
       "<style scoped>\n",
       "    .dataframe tbody tr th:only-of-type {\n",
       "        vertical-align: middle;\n",
       "    }\n",
       "\n",
       "    .dataframe tbody tr th {\n",
       "        vertical-align: top;\n",
       "    }\n",
       "\n",
       "    .dataframe thead th {\n",
       "        text-align: right;\n",
       "    }\n",
       "</style>\n",
       "<table border=\"1\" class=\"dataframe\">\n",
       "  <thead>\n",
       "    <tr style=\"text-align: right;\">\n",
       "      <th></th>\n",
       "      <th>name</th>\n",
       "      <th>rating</th>\n",
       "      <th>ingredients</th>\n",
       "    </tr>\n",
       "  </thead>\n",
       "  <tbody>\n",
       "    <tr>\n",
       "      <th>0</th>\n",
       "      <td>\\niUNIK - Centella Calming Gel Cream 60ml\\n</td>\n",
       "      <td>96.7% customers satisfied|3,291 reviews</td>\n",
       "      <td>Centella Asiatica Leaf Water, Melaleuca Altern...</td>\n",
       "    </tr>\n",
       "    <tr>\n",
       "      <th>1</th>\n",
       "      <td>\\nSOME BY MI - AHA, BHA, PHA 30 Days Miracle C...</td>\n",
       "      <td>95.4% customers satisfied|1,490 reviews</td>\n",
       "      <td>Centella Asiatica (Gotu Kola) Extract (70.78%)...</td>\n",
       "    </tr>\n",
       "    <tr>\n",
       "      <th>2</th>\n",
       "      <td>\\nMIZON - Snail Repair Eye Cream 25ml\\n</td>\n",
       "      <td>95.9% customers satisfied|3,109 reviews</td>\n",
       "      <td>Snail Secretion Filtrate, Glycerin, Butylene G...</td>\n",
       "    </tr>\n",
       "    <tr>\n",
       "      <th>3</th>\n",
       "      <td>\\nRohto Mentholatum - Melano CC Vitamin C Esse...</td>\n",
       "      <td>96.1% customers satisfied|1,842 reviews</td>\n",
       "      <td>Active ingredient : Ascorbic acid (Active vita...</td>\n",
       "    </tr>\n",
       "    <tr>\n",
       "      <th>4</th>\n",
       "      <td>\\nMILKYDRESS - Wrinkle &amp; Whitening Eye Cream 1...</td>\n",
       "      <td>87.8% customers satisfied|2,737 reviews</td>\n",
       "      <td>Water, Butylene Glycol, Glycereth-26, Glycerin...</td>\n",
       "    </tr>\n",
       "    <tr>\n",
       "      <th>...</th>\n",
       "      <td>...</td>\n",
       "      <td>...</td>\n",
       "      <td>...</td>\n",
       "    </tr>\n",
       "    <tr>\n",
       "      <th>2983</th>\n",
       "      <td>\\nBenton - Aloe Propolis Soothing Gel 100ml\\n</td>\n",
       "      <td>96.6% customers satisfied|1,293 reviews</td>\n",
       "      <td>Aloe Barbadensis Leaf Water, Butylene Glycol, ...</td>\n",
       "    </tr>\n",
       "    <tr>\n",
       "      <th>2984</th>\n",
       "      <td>\\nNATURE REPUBLIC - Soothing &amp; Moisture Aloe V...</td>\n",
       "      <td>97.5% customers satisfied|3,557 reviews</td>\n",
       "      <td>Aloe Barbadensis Leaf Extract (92%), Alcohol, ...</td>\n",
       "    </tr>\n",
       "    <tr>\n",
       "      <th>2985</th>\n",
       "      <td>\\nROVECTIN - Skin Essentials Activating Treatm...</td>\n",
       "      <td>97% customers satisfied|278 reviews</td>\n",
       "      <td>Water, Glycerin, Methyl Gluceth-20, Pentylene ...</td>\n",
       "    </tr>\n",
       "    <tr>\n",
       "      <th>2986</th>\n",
       "      <td>\\nCOSRX - Moisture Power Enriched Cream\\n</td>\n",
       "      <td>97.7% customers satisfied|93 reviews</td>\n",
       "      <td>Water, Glycerin, Ethylhexyl Stearate, Vinyl Di...</td>\n",
       "    </tr>\n",
       "    <tr>\n",
       "      <th>2987</th>\n",
       "      <td>\\nDr. Jart+ - Ceramidin Cream 50ml\\n</td>\n",
       "      <td>97.5% customers satisfied|390 reviews</td>\n",
       "      <td>Water, Glycerin, Dipropylene Glycol, Cetearyl ...</td>\n",
       "    </tr>\n",
       "  </tbody>\n",
       "</table>\n",
       "<p>2988 rows × 3 columns</p>\n",
       "</div>"
      ],
      "text/plain": [
       "                                                   name  \\\n",
       "0           \\niUNIK - Centella Calming Gel Cream 60ml\\n   \n",
       "1     \\nSOME BY MI - AHA, BHA, PHA 30 Days Miracle C...   \n",
       "2               \\nMIZON - Snail Repair Eye Cream 25ml\\n   \n",
       "3     \\nRohto Mentholatum - Melano CC Vitamin C Esse...   \n",
       "4     \\nMILKYDRESS - Wrinkle & Whitening Eye Cream 1...   \n",
       "...                                                 ...   \n",
       "2983      \\nBenton - Aloe Propolis Soothing Gel 100ml\\n   \n",
       "2984  \\nNATURE REPUBLIC - Soothing & Moisture Aloe V...   \n",
       "2985  \\nROVECTIN - Skin Essentials Activating Treatm...   \n",
       "2986          \\nCOSRX - Moisture Power Enriched Cream\\n   \n",
       "2987               \\nDr. Jart+ - Ceramidin Cream 50ml\\n   \n",
       "\n",
       "                                       rating  \\\n",
       "0     96.7% customers satisfied|3,291 reviews   \n",
       "1     95.4% customers satisfied|1,490 reviews   \n",
       "2     95.9% customers satisfied|3,109 reviews   \n",
       "3     96.1% customers satisfied|1,842 reviews   \n",
       "4     87.8% customers satisfied|2,737 reviews   \n",
       "...                                       ...   \n",
       "2983  96.6% customers satisfied|1,293 reviews   \n",
       "2984  97.5% customers satisfied|3,557 reviews   \n",
       "2985      97% customers satisfied|278 reviews   \n",
       "2986     97.7% customers satisfied|93 reviews   \n",
       "2987    97.5% customers satisfied|390 reviews   \n",
       "\n",
       "                                            ingredients  \n",
       "0     Centella Asiatica Leaf Water, Melaleuca Altern...  \n",
       "1     Centella Asiatica (Gotu Kola) Extract (70.78%)...  \n",
       "2     Snail Secretion Filtrate, Glycerin, Butylene G...  \n",
       "3     Active ingredient : Ascorbic acid (Active vita...  \n",
       "4     Water, Butylene Glycol, Glycereth-26, Glycerin...  \n",
       "...                                                 ...  \n",
       "2983  Aloe Barbadensis Leaf Water, Butylene Glycol, ...  \n",
       "2984  Aloe Barbadensis Leaf Extract (92%), Alcohol, ...  \n",
       "2985  Water, Glycerin, Methyl Gluceth-20, Pentylene ...  \n",
       "2986  Water, Glycerin, Ethylhexyl Stearate, Vinyl Di...  \n",
       "2987  Water, Glycerin, Dipropylene Glycol, Cetearyl ...  \n",
       "\n",
       "[2988 rows x 3 columns]"
      ]
     },
     "execution_count": 11,
     "metadata": {},
     "output_type": "execute_result"
    }
   ],
   "source": [
    "creams_df = pd.DataFrame(creams)\n",
    "creams_df"
   ]
  },
  {
   "cell_type": "code",
   "execution_count": 12,
   "metadata": {},
   "outputs": [],
   "source": [
    "creams = creams_df.to_csv('yesstyle_data/creams.csv')"
   ]
  },
  {
   "cell_type": "code",
   "execution_count": null,
   "metadata": {},
   "outputs": [],
   "source": []
  }
 ],
 "metadata": {
  "kernelspec": {
   "display_name": "Python [conda env:ironhack_env]",
   "language": "python",
   "name": "conda-env-ironhack_env-py"
  },
  "language_info": {
   "codemirror_mode": {
    "name": "ipython",
    "version": 3
   },
   "file_extension": ".py",
   "mimetype": "text/x-python",
   "name": "python",
   "nbconvert_exporter": "python",
   "pygments_lexer": "ipython3",
   "version": "3.8.5"
  }
 },
 "nbformat": 4,
 "nbformat_minor": 4
}
