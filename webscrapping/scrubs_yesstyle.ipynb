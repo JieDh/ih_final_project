{
 "cells": [
  {
   "cell_type": "code",
   "execution_count": null,
   "metadata": {},
   "outputs": [],
   "source": []
  },
  {
   "cell_type": "code",
   "execution_count": 1,
   "metadata": {},
   "outputs": [],
   "source": [
    "import requests\n",
    "from bs4 import BeautifulSoup\n",
    "import pandas as pd\n",
    "import re"
   ]
  },
  {
   "cell_type": "code",
   "execution_count": 2,
   "metadata": {},
   "outputs": [],
   "source": [
    "headers = {'User-Agent': 'Mozilla/5.0 (Windows NT 10.0; Win64; x64) AppleWebKit/537.36 (KHTML, like Gecko) Chrome/78.0.3904.108 Safari/537.36'}"
   ]
  },
  {
   "cell_type": "code",
   "execution_count": 3,
   "metadata": {},
   "outputs": [],
   "source": [
    "# soup = BeautifulSoup(r.content, 'lxml') #usamos lxml como parser"
   ]
  },
  {
   "cell_type": "markdown",
   "metadata": {},
   "source": [
    "¿Qué queremos obtener de la página?\n",
    "1. Nombre del producto\n",
    "2. Precio (?)\n",
    "3. Detalles\n",
    "4. Ingredientes"
   ]
  },
  {
   "cell_type": "markdown",
   "metadata": {},
   "source": [
    "## 1 OBTENER TODAS LAS URLS DE LOS PRODUCTOS"
   ]
  },
  {
   "cell_type": "markdown",
   "metadata": {},
   "source": [
    "Para ello, utilizaremos bucles que iteren sobre los elementos de la página.\n",
    "* Variable global cleansers_url, es el contenedor de todas las urls.\n",
    "* Los links están dentro de un tag 'a', como sólo nos interesan aquellas que tengan href, pues href=True. \n",
    "* Se ha agregado class='product-image\" porque si no, el bucle cogía todas las urls (wishlist, url de la imagen etc), y solo nos interesan los productos.\n",
    "* Append cada uno de los links al contenedor."
   ]
  },
  {
   "cell_type": "markdown",
   "metadata": {},
   "source": [
    "cream_list = soup.find_all('div', class_='itemContainer')"
   ]
  },
  {
   "cell_type": "markdown",
   "metadata": {},
   "source": [
    "url = []\n",
    "for item in cream_list:\n",
    "        for link in item.find_all('a', href=True): \n",
    "            url.append(link['href'])"
   ]
  },
  {
   "cell_type": "code",
   "execution_count": 6,
   "metadata": {},
   "outputs": [],
   "source": [
    "scrubs_url = []\n",
    "for i in range (1, 13):\n",
    "    url = f'https://www.yesstyle.com/en/women-facial-scrubs/list.html/bcc.14336_bpt.46#/bt=37&sb=136&bpt=46&pn={i}&s=10&bcc=14336&l=1' \n",
    "    r = requests.get(url)\n",
    "    soup = BeautifulSoup(r.content, 'lxml')\n",
    "    scrubs_list = soup.find_all('div', class_='itemContainer')\n",
    "    for item in scrubs_list:\n",
    "        for link in item.find_all('a', href=True): \n",
    "            scrubs_url.append(link['href'])\n"
   ]
  },
  {
   "cell_type": "code",
   "execution_count": 7,
   "metadata": {},
   "outputs": [
    {
     "name": "stdout",
     "output_type": "stream",
     "text": [
      "432\n"
     ]
    }
   ],
   "source": [
    "print(len(scrubs_url))"
   ]
  },
  {
   "cell_type": "markdown",
   "metadata": {},
   "source": [
    "with open(\"cleansers_url.txt\", \"w\") as output:\n",
    "    output.write(str(cleansers_url))"
   ]
  },
  {
   "cell_type": "markdown",
   "metadata": {},
   "source": [
    "## 2 OBTENER LA INFO DE LA PÁGINA PROPIA DEL PRODUCTO\n",
    "Info que necesitamos:\n",
    "* Nombre del producto\n",
    "* Details\n",
    "* Ingredients"
   ]
  },
  {
   "cell_type": "markdown",
   "metadata": {},
   "source": [
    "* Details e Ingredients se encuentran dentro de un grupo <div class='panel-group'"
   ]
  },
  {
   "cell_type": "code",
   "execution_count": 51,
   "metadata": {},
   "outputs": [],
   "source": [
    "\"\"\"\n",
    "test_url = 'https://www.yesstyle.com/es/cosrx-gel-limpiador-con-ph-bajo-good-morning-150ml/info.html/pid.1052684732'\n",
    "r = requests.get(test_url) #para cada link en el listado, hacemos una requests\n",
    "soup = BeautifulSoup(r.content, 'lxml')\n",
    "name = soup.find_all('div', class_='headingContent flex-gt-sm-66 flex-100')\n",
    "for x in name:\n",
    "    title = soup.find('h1').text\n",
    "ingred = soup.find('div', class_=\"cropWrapper\").text #ingredients\n",
    "rating = soup.find('div', class_='satisfied').text\n",
    "\"\"\""
   ]
  },
  {
   "cell_type": "code",
   "execution_count": null,
   "metadata": {},
   "outputs": [],
   "source": []
  },
  {
   "cell_type": "code",
   "execution_count": null,
   "metadata": {},
   "outputs": [],
   "source": []
  },
  {
   "cell_type": "code",
   "execution_count": 6,
   "metadata": {},
   "outputs": [
    {
     "data": {
      "text/plain": [
       "'https://www.yesstyle.com/en/the-face-shop-real-nature-face-mask-1pc-20-types-20g-calendula/info.html/pid.1061020764'"
      ]
     },
     "execution_count": 6,
     "metadata": {},
     "output_type": "execute_result"
    }
   ],
   "source": [
    "scrubs_url[0]"
   ]
  },
  {
   "cell_type": "code",
   "execution_count": 8,
   "metadata": {},
   "outputs": [],
   "source": [
    "scrubs = []"
   ]
  },
  {
   "cell_type": "code",
   "execution_count": 9,
   "metadata": {},
   "outputs": [],
   "source": [
    "for link in scrubs_url[0:432]:\n",
    "    r = requests.get(link, headers=headers) #para cada link en el listado, hacemos una requests\n",
    "    soup = BeautifulSoup(r.content, 'lxml')\n",
    "    #usamos try, except porque hay ocasiones en las que no hay info sobre los ingredientes\n",
    "    try:\n",
    "        name_box = soup.find_all('div', class_='headingContent flex-gt-sm-66 flex-100')\n",
    "        for x in name_box:\n",
    "            name = soup.find('h1').text\n",
    "        ingredients = soup.find('div', class_=\"cropWrapper\").text.strip() #ingredients\n",
    "        rating = soup.find('div', class_='satisfied').text.strip()\n",
    "    except:\n",
    "        name= 'no info'\n",
    "        ingredients = 'no info'\n",
    "        rating = 'no info'\n",
    "        \n",
    "    scrubs_info = {\n",
    "    'name': name,\n",
    "    'rating': rating,\n",
    "    'ingredients': ingredients}\n",
    "    \n",
    "    scrubs.append(scrubs_info)"
   ]
  },
  {
   "cell_type": "code",
   "execution_count": 10,
   "metadata": {},
   "outputs": [
    {
     "name": "stdout",
     "output_type": "stream",
     "text": [
      "432\n"
     ]
    }
   ],
   "source": [
    "print(len(scrubs))"
   ]
  },
  {
   "cell_type": "code",
   "execution_count": 12,
   "metadata": {},
   "outputs": [
    {
     "ename": "IndexError",
     "evalue": "list index out of range",
     "output_type": "error",
     "traceback": [
      "\u001b[0;31m---------------------------------------------------------------------------\u001b[0m",
      "\u001b[0;31mIndexError\u001b[0m                                Traceback (most recent call last)",
      "\u001b[0;32m<ipython-input-12-f20bd3beb773>\u001b[0m in \u001b[0;36m<module>\u001b[0;34m\u001b[0m\n\u001b[0;32m----> 1\u001b[0;31m \u001b[0mmasks\u001b[0m\u001b[0;34m[\u001b[0m\u001b[0;36m496\u001b[0m\u001b[0;34m]\u001b[0m\u001b[0;34m\u001b[0m\u001b[0;34m\u001b[0m\u001b[0m\n\u001b[0m",
      "\u001b[0;31mIndexError\u001b[0m: list index out of range"
     ]
    }
   ],
   "source": [
    "scrubs[496]"
   ]
  },
  {
   "cell_type": "markdown",
   "metadata": {},
   "source": [
    "## 3. PASARLO A DATAFRAME"
   ]
  },
  {
   "cell_type": "code",
   "execution_count": 11,
   "metadata": {},
   "outputs": [
    {
     "data": {
      "text/html": [
       "<div>\n",
       "<style scoped>\n",
       "    .dataframe tbody tr th:only-of-type {\n",
       "        vertical-align: middle;\n",
       "    }\n",
       "\n",
       "    .dataframe tbody tr th {\n",
       "        vertical-align: top;\n",
       "    }\n",
       "\n",
       "    .dataframe thead th {\n",
       "        text-align: right;\n",
       "    }\n",
       "</style>\n",
       "<table border=\"1\" class=\"dataframe\">\n",
       "  <thead>\n",
       "    <tr style=\"text-align: right;\">\n",
       "      <th></th>\n",
       "      <th>name</th>\n",
       "      <th>rating</th>\n",
       "      <th>ingredients</th>\n",
       "    </tr>\n",
       "  </thead>\n",
       "  <tbody>\n",
       "    <tr>\n",
       "      <th>0</th>\n",
       "      <td>\\nSecret Key - Lemon Sparkling Peeling Gel 120...</td>\n",
       "      <td>97.9% customers satisfied|3,356 reviews</td>\n",
       "      <td>Purified Water, Cetrimonium Chloride, Cellulos...</td>\n",
       "    </tr>\n",
       "    <tr>\n",
       "      <th>1</th>\n",
       "      <td>\\nHOLIKA HOLIKA - Pig Clear Black Head 3-Step ...</td>\n",
       "      <td>90.3% customers satisfied|1,163 reviews</td>\n",
       "      <td>Hamamelis Virginiana (Witch Hazel) Water, Buty...</td>\n",
       "    </tr>\n",
       "    <tr>\n",
       "      <th>2</th>\n",
       "      <td>\\nPyunkang Yul - Low pH Pore Deep Cleansing Fo...</td>\n",
       "      <td>97.8% customers satisfied|248 reviews</td>\n",
       "      <td>Water, Sodium Cocoyl Isethionate, Glycerin, Co...</td>\n",
       "    </tr>\n",
       "    <tr>\n",
       "      <th>3</th>\n",
       "      <td>\\nRiRe - Style Black Head Brush Cleanser 20ml\\n</td>\n",
       "      <td>90.5% customers satisfied|2,491 reviews</td>\n",
       "      <td>Water, Myristic Acid, Butylene Glycol, Stearic...</td>\n",
       "    </tr>\n",
       "    <tr>\n",
       "      <th>4</th>\n",
       "      <td>\\nElizavecca - Witch Piggy Hell Pore Control H...</td>\n",
       "      <td>95.5% customers satisfied|1,030 reviews</td>\n",
       "      <td>Sodium Hyaluronate, Niacinamide, 1,2-Hexanedio...</td>\n",
       "    </tr>\n",
       "    <tr>\n",
       "      <th>...</th>\n",
       "      <td>...</td>\n",
       "      <td>...</td>\n",
       "      <td>...</td>\n",
       "    </tr>\n",
       "    <tr>\n",
       "      <th>427</th>\n",
       "      <td>no info</td>\n",
       "      <td>no info</td>\n",
       "      <td>no info</td>\n",
       "    </tr>\n",
       "    <tr>\n",
       "      <th>428</th>\n",
       "      <td>\\nSKINFOOD - Egg White Perfect Pore Cleansing ...</td>\n",
       "      <td>97.2% customers satisfied|117 reviews</td>\n",
       "      <td>Water, Myristic Acid, Glycerin, Potassium Hydr...</td>\n",
       "    </tr>\n",
       "    <tr>\n",
       "      <th>429</th>\n",
       "      <td>\\nCOSRX - One Step Green Hero Calming Pad\\n</td>\n",
       "      <td>96.8% customers satisfied|169 reviews</td>\n",
       "      <td>Butylene Glycol, Taraxacum Officinale (Dandeli...</td>\n",
       "    </tr>\n",
       "    <tr>\n",
       "      <th>430</th>\n",
       "      <td>\\nTHE FACE SHOP - fmgt Lip Scrub\\n</td>\n",
       "      <td>88.6% customers satisfied|51 reviews</td>\n",
       "      <td>Water, Glycerin, Cetearyl Alcohol, Macadamia T...</td>\n",
       "    </tr>\n",
       "    <tr>\n",
       "      <th>431</th>\n",
       "      <td>\\nKao - Biore Pore Pack - 3 Types\\n</td>\n",
       "      <td>90.2% customers satisfied|95 reviews</td>\n",
       "      <td>Polyquaternium-37, silica, water, glycerin, (P...</td>\n",
       "    </tr>\n",
       "  </tbody>\n",
       "</table>\n",
       "<p>432 rows × 3 columns</p>\n",
       "</div>"
      ],
      "text/plain": [
       "                                                  name  \\\n",
       "0    \\nSecret Key - Lemon Sparkling Peeling Gel 120...   \n",
       "1    \\nHOLIKA HOLIKA - Pig Clear Black Head 3-Step ...   \n",
       "2    \\nPyunkang Yul - Low pH Pore Deep Cleansing Fo...   \n",
       "3      \\nRiRe - Style Black Head Brush Cleanser 20ml\\n   \n",
       "4    \\nElizavecca - Witch Piggy Hell Pore Control H...   \n",
       "..                                                 ...   \n",
       "427                                            no info   \n",
       "428  \\nSKINFOOD - Egg White Perfect Pore Cleansing ...   \n",
       "429        \\nCOSRX - One Step Green Hero Calming Pad\\n   \n",
       "430                 \\nTHE FACE SHOP - fmgt Lip Scrub\\n   \n",
       "431                \\nKao - Biore Pore Pack - 3 Types\\n   \n",
       "\n",
       "                                      rating  \\\n",
       "0    97.9% customers satisfied|3,356 reviews   \n",
       "1    90.3% customers satisfied|1,163 reviews   \n",
       "2      97.8% customers satisfied|248 reviews   \n",
       "3    90.5% customers satisfied|2,491 reviews   \n",
       "4    95.5% customers satisfied|1,030 reviews   \n",
       "..                                       ...   \n",
       "427                                  no info   \n",
       "428    97.2% customers satisfied|117 reviews   \n",
       "429    96.8% customers satisfied|169 reviews   \n",
       "430     88.6% customers satisfied|51 reviews   \n",
       "431     90.2% customers satisfied|95 reviews   \n",
       "\n",
       "                                           ingredients  \n",
       "0    Purified Water, Cetrimonium Chloride, Cellulos...  \n",
       "1    Hamamelis Virginiana (Witch Hazel) Water, Buty...  \n",
       "2    Water, Sodium Cocoyl Isethionate, Glycerin, Co...  \n",
       "3    Water, Myristic Acid, Butylene Glycol, Stearic...  \n",
       "4    Sodium Hyaluronate, Niacinamide, 1,2-Hexanedio...  \n",
       "..                                                 ...  \n",
       "427                                            no info  \n",
       "428  Water, Myristic Acid, Glycerin, Potassium Hydr...  \n",
       "429  Butylene Glycol, Taraxacum Officinale (Dandeli...  \n",
       "430  Water, Glycerin, Cetearyl Alcohol, Macadamia T...  \n",
       "431  Polyquaternium-37, silica, water, glycerin, (P...  \n",
       "\n",
       "[432 rows x 3 columns]"
      ]
     },
     "execution_count": 11,
     "metadata": {},
     "output_type": "execute_result"
    }
   ],
   "source": [
    "scrubs_df = pd.DataFrame(scrubs)\n",
    "scrubs_df"
   ]
  },
  {
   "cell_type": "code",
   "execution_count": 12,
   "metadata": {},
   "outputs": [],
   "source": [
    "scrubs = scrubs_df.to_csv('yesstyle_data/scrubs.csv')"
   ]
  },
  {
   "cell_type": "code",
   "execution_count": null,
   "metadata": {},
   "outputs": [],
   "source": []
  }
 ],
 "metadata": {
  "kernelspec": {
   "display_name": "Python [conda env:ironhack_env]",
   "language": "python",
   "name": "conda-env-ironhack_env-py"
  },
  "language_info": {
   "codemirror_mode": {
    "name": "ipython",
    "version": 3
   },
   "file_extension": ".py",
   "mimetype": "text/x-python",
   "name": "python",
   "nbconvert_exporter": "python",
   "pygments_lexer": "ipython3",
   "version": "3.8.5"
  }
 },
 "nbformat": 4,
 "nbformat_minor": 4
}
