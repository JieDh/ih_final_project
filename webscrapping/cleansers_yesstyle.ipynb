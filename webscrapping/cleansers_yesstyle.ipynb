{
 "cells": [
  {
   "cell_type": "code",
   "execution_count": null,
   "metadata": {},
   "outputs": [],
   "source": []
  },
  {
   "cell_type": "code",
   "execution_count": 98,
   "metadata": {},
   "outputs": [],
   "source": [
    "import requests\n",
    "from bs4 import BeautifulSoup\n",
    "import pandas as pd\n",
    "import re"
   ]
  },
  {
   "cell_type": "code",
   "execution_count": 95,
   "metadata": {},
   "outputs": [],
   "source": [
    "headers = {'User-Agent': 'Mozilla/5.0 (Windows NT 10.0; Win64; x64) AppleWebKit/537.36 (KHTML, like Gecko) Chrome/78.0.3904.108 Safari/537.36'}"
   ]
  },
  {
   "cell_type": "code",
   "execution_count": 3,
   "metadata": {},
   "outputs": [],
   "source": [
    "# soup = BeautifulSoup(r.content, 'lxml') #usamos lxml como parser"
   ]
  },
  {
   "cell_type": "markdown",
   "metadata": {},
   "source": [
    "¿Qué queremos obtener de la página?\n",
    "1. Nombre del producto\n",
    "2. Precio (?)\n",
    "3. Detalles\n",
    "4. Ingredientes"
   ]
  },
  {
   "cell_type": "markdown",
   "metadata": {},
   "source": [
    "## 1 OBTENER TODAS LAS URLS DE LOS PRODUCTOS"
   ]
  },
  {
   "cell_type": "markdown",
   "metadata": {},
   "source": [
    "Para ello, utilizaremos bucles que iteren sobre los elementos de la página.\n",
    "* Variable global cleansers_url, es el contenedor de todas las urls.\n",
    "* Los links están dentro de un tag 'a', como sólo nos interesan aquellas que tengan href, pues href=True. \n",
    "* Se ha agregado class='product-image\" porque si no, el bucle cogía todas las urls (wishlist, url de la imagen etc), y solo nos interesan los productos.\n",
    "* Append cada uno de los links al contenedor."
   ]
  },
  {
   "cell_type": "markdown",
   "metadata": {},
   "source": [
    "url = f'https://www.yesstyle.com/es/mujer-limpiadores-faciales/list.html/bcc.14335_bpt.46#/bpt=46&sb=136&pn=1&l=17&s=10&bcc=14335&bt=37' \n",
    "r = requests.get(url)\n",
    "soup = BeautifulSoup(r.content, 'lxml')\n"
   ]
  },
  {
   "cell_type": "markdown",
   "metadata": {},
   "source": [
    "cream_list = soup.find_all('div', class_='itemContainer')"
   ]
  },
  {
   "cell_type": "markdown",
   "metadata": {},
   "source": [
    "url = []\n",
    "for item in cream_list:\n",
    "        for link in item.find_all('a', href=True): \n",
    "            url.append(link['href'])"
   ]
  },
  {
   "cell_type": "code",
   "execution_count": 96,
   "metadata": {},
   "outputs": [],
   "source": [
    "cleansers_url = []\n",
    "for i in range (1, 49):\n",
    "    url = f'https://www.yesstyle.com/en/women-facial-cleansers/list.html/bcc.14335_bpt.46#/bpt=46&sb=136&bt=37&bcc=14335&s=10&pn={i}&l=1' \n",
    "    r = requests.get(url)\n",
    "    soup = BeautifulSoup(r.content, 'lxml')\n",
    "    cleansers_list = soup.find_all('div', class_='itemContainer')\n",
    "    for item in cleansers_list:\n",
    "        for link in item.find_all('a', href=True): \n",
    "            cleansers_url.append(link['href'])\n"
   ]
  },
  {
   "cell_type": "code",
   "execution_count": 97,
   "metadata": {},
   "outputs": [
    {
     "name": "stdout",
     "output_type": "stream",
     "text": [
      "1728\n"
     ]
    }
   ],
   "source": [
    "print(len(cleansers_url))"
   ]
  },
  {
   "cell_type": "markdown",
   "metadata": {},
   "source": [
    "with open(\"cleansers_url.txt\", \"w\") as output:\n",
    "    output.write(str(cleansers_url))"
   ]
  },
  {
   "cell_type": "markdown",
   "metadata": {},
   "source": [
    "## 2 OBTENER LA INFO DE LA PÁGINA PROPIA DEL PRODUCTO\n",
    "Info que necesitamos:\n",
    "* Nombre del producto\n",
    "* Details\n",
    "* Ingredients"
   ]
  },
  {
   "cell_type": "markdown",
   "metadata": {},
   "source": [
    "* Details e Ingredients se encuentran dentro de un grupo <div class='panel-group'"
   ]
  },
  {
   "cell_type": "markdown",
   "metadata": {},
   "source": [
    "test_url = 'https://www.yesstyle.com/es/cosrx-gel-limpiador-con-ph-bajo-good-morning-150ml/info.html/pid.1052684732'\n",
    "r = requests.get(test_url) #para cada link en el listado, hacemos una requests\n",
    "soup = BeautifulSoup(r.content, 'lxml')\n",
    "name = soup.find_all('div', class_='headingContent flex-gt-sm-66 flex-100')\n",
    "for x in name:\n",
    "    title = soup.find('h1').text\n",
    "ingred = soup.find('div', class_=\"cropWrapper\").text #ingredients\n",
    "rating = soup.find('div', class_='satisfied').text"
   ]
  },
  {
   "cell_type": "code",
   "execution_count": 87,
   "metadata": {},
   "outputs": [
    {
     "ename": "IndexError",
     "evalue": "list index out of range",
     "output_type": "error",
     "traceback": [
      "\u001b[0;31m---------------------------------------------------------------------------\u001b[0m",
      "\u001b[0;31mIndexError\u001b[0m                                Traceback (most recent call last)",
      "\u001b[0;32m<ipython-input-87-f36dbbba125e>\u001b[0m in \u001b[0;36m<module>\u001b[0;34m\u001b[0m\n\u001b[0;32m----> 1\u001b[0;31m \u001b[0mcleansers_url\u001b[0m\u001b[0;34m[\u001b[0m\u001b[0;36m1728\u001b[0m\u001b[0;34m]\u001b[0m\u001b[0;34m\u001b[0m\u001b[0;34m\u001b[0m\u001b[0m\n\u001b[0m",
      "\u001b[0;31mIndexError\u001b[0m: list index out of range"
     ]
    }
   ],
   "source": [
    "cleansers_url[1728]"
   ]
  },
  {
   "cell_type": "code",
   "execution_count": 62,
   "metadata": {},
   "outputs": [],
   "source": []
  },
  {
   "cell_type": "code",
   "execution_count": 63,
   "metadata": {},
   "outputs": [
    {
     "data": {
      "text/plain": [
       "'\\nCOSRX - Gel limpiador con pH bajo Good Morning\\n'"
      ]
     },
     "execution_count": 63,
     "metadata": {},
     "output_type": "execute_result"
    }
   ],
   "source": [
    "title"
   ]
  },
  {
   "cell_type": "code",
   "execution_count": 72,
   "metadata": {},
   "outputs": [
    {
     "data": {
      "text/plain": [
       "'\\nWater, Cocamidopropyl Betaine, Sodium Lauroyl Methyl Isethionate, Polysorbate 20, Styrax Japonicus Branch/Fruit/Leaf Extract, Butylene Glycol, Saccharomyces Ferment, Cryptomeria Japonica Leaf Extract, Nelumbo Nucifera Leaf Extract, Pinus Palustris Leaf Extract, Ulmus Davidiana Root Extract, Oenothera Biennis (Evening Primrose) Flower Extract, Pueraria Lobata Root Extract, Melaleuca Alternifolia (Tea Tree) Leaf Oil, Allantoin, Caprylyl Glycol, Ethylhexylglycerin, Betaine Salicylate, Citric Acid, Ethyl Hexanediol, 1,2-Hexanediol, Trisodium Ethylenediamine Disuccinate, Sodium Benzoate, Disodium EDTA\\n\\nMás\\n\\n'"
      ]
     },
     "execution_count": 72,
     "metadata": {},
     "output_type": "execute_result"
    }
   ],
   "source": []
  },
  {
   "cell_type": "code",
   "execution_count": 75,
   "metadata": {},
   "outputs": [],
   "source": []
  },
  {
   "cell_type": "code",
   "execution_count": 76,
   "metadata": {},
   "outputs": [
    {
     "data": {
      "text/plain": [
       "'97% Clientes satisfechos|10,635 reseñas'"
      ]
     },
     "execution_count": 76,
     "metadata": {},
     "output_type": "execute_result"
    }
   ],
   "source": []
  },
  {
   "cell_type": "code",
   "execution_count": null,
   "metadata": {},
   "outputs": [],
   "source": []
  },
  {
   "cell_type": "code",
   "execution_count": null,
   "metadata": {},
   "outputs": [],
   "source": []
  },
  {
   "cell_type": "code",
   "execution_count": 99,
   "metadata": {},
   "outputs": [
    {
     "data": {
      "text/plain": [
       "'https://www.yesstyle.com/en/cosrx-low-ph-good-morning-gel-cleanser-150ml/info.html/pid.1052684732'"
      ]
     },
     "execution_count": 99,
     "metadata": {},
     "output_type": "execute_result"
    }
   ],
   "source": [
    "cleansers_url[0]"
   ]
  },
  {
   "cell_type": "code",
   "execution_count": 100,
   "metadata": {},
   "outputs": [],
   "source": [
    "cleansers = []"
   ]
  },
  {
   "cell_type": "code",
   "execution_count": null,
   "metadata": {},
   "outputs": [],
   "source": []
  },
  {
   "cell_type": "code",
   "execution_count": null,
   "metadata": {},
   "outputs": [],
   "source": []
  },
  {
   "cell_type": "code",
   "execution_count": 105,
   "metadata": {},
   "outputs": [],
   "source": [
    "for link in cleansers_url[1383:1728]:\n",
    "    r = requests.get(link, headers=headers) #para cada link en el listado, hacemos una requests\n",
    "    soup = BeautifulSoup(r.content, 'lxml')\n",
    "    #usamos try, except porque hay ocasiones en las que no hay info sobre los ingredientes\n",
    "    try:\n",
    "        name_box = soup.find_all('div', class_='headingContent flex-gt-sm-66 flex-100')\n",
    "        for x in name_box:\n",
    "            name = soup.find('h1').text\n",
    "        ingredients = soup.find('div', class_=\"cropWrapper\").text #ingredients\n",
    "        rating = soup.find('div', class_='satisfied').text\n",
    "    except:\n",
    "        name= 'no info'\n",
    "        ingredients = 'no info'\n",
    "        rating = 'no info'\n",
    "        \n",
    "    cleansers_info = {\n",
    "    'name': name,\n",
    "    'rating': rating,\n",
    "    'ingredients': ingredients}\n",
    "    \n",
    "    cleansers.append(cleansers_info)"
   ]
  },
  {
   "cell_type": "code",
   "execution_count": 106,
   "metadata": {},
   "outputs": [
    {
     "name": "stdout",
     "output_type": "stream",
     "text": [
      "1728\n"
     ]
    }
   ],
   "source": [
    "print(len(cleansers))"
   ]
  },
  {
   "cell_type": "code",
   "execution_count": 81,
   "metadata": {},
   "outputs": [
    {
     "data": {
      "text/plain": [
       "{'name': '\\nKUMANO COSME - Pharmaact Deep Cleansing Oil\\n',\n",
       " 'rating': '97.3% Clientes satisfechos|317 reseñas',\n",
       " 'ingredients': '\\nMineral oil, PEG-8 glyceryl isostearate, water, glycerin, dimethicone, citric acid, jojoba oil, squalane, ethyl paraben, perfume\\n\\nMás\\n\\n'}"
      ]
     },
     "execution_count": 81,
     "metadata": {},
     "output_type": "execute_result"
    }
   ],
   "source": [
    "cleansers[100]"
   ]
  },
  {
   "cell_type": "markdown",
   "metadata": {},
   "source": [
    "## 3. PASARLO A DATAFRAME"
   ]
  },
  {
   "cell_type": "code",
   "execution_count": 107,
   "metadata": {},
   "outputs": [
    {
     "data": {
      "text/html": [
       "<div>\n",
       "<style scoped>\n",
       "    .dataframe tbody tr th:only-of-type {\n",
       "        vertical-align: middle;\n",
       "    }\n",
       "\n",
       "    .dataframe tbody tr th {\n",
       "        vertical-align: top;\n",
       "    }\n",
       "\n",
       "    .dataframe thead th {\n",
       "        text-align: right;\n",
       "    }\n",
       "</style>\n",
       "<table border=\"1\" class=\"dataframe\">\n",
       "  <thead>\n",
       "    <tr style=\"text-align: right;\">\n",
       "      <th></th>\n",
       "      <th>name</th>\n",
       "      <th>rating</th>\n",
       "      <th>ingredients</th>\n",
       "    </tr>\n",
       "  </thead>\n",
       "  <tbody>\n",
       "    <tr>\n",
       "      <th>0</th>\n",
       "      <td>\\nCOSRX - Low pH Good Morning Gel Cleanser\\n</td>\n",
       "      <td>97% customers satisfied|10,636 reviews</td>\n",
       "      <td>\\nWater, Cocamidopropyl Betaine, Sodium Lauroy...</td>\n",
       "    </tr>\n",
       "    <tr>\n",
       "      <th>1</th>\n",
       "      <td>\\nBANILA CO - Clean It Zero Cleansing Balm Ori...</td>\n",
       "      <td>99.1% customers satisfied|3,464 reviews</td>\n",
       "      <td>\\nCetyl Ethylhexanoate, PEG-20 Glyceryl Triiso...</td>\n",
       "    </tr>\n",
       "    <tr>\n",
       "      <th>2</th>\n",
       "      <td>\\nSOME BY MI - Bye Bye Blackhead 30 Days Mirac...</td>\n",
       "      <td>94.8% customers satisfied|795 reviews</td>\n",
       "      <td>\\nWater, Camellia Sinensis (Green Tea) Leaf Wa...</td>\n",
       "    </tr>\n",
       "    <tr>\n",
       "      <th>3</th>\n",
       "      <td>\\niUNIK - Calendula Complete Cleansing Oil 200...</td>\n",
       "      <td>98.1% customers satisfied|936 reviews</td>\n",
       "      <td>\\nHelianthus Annuus (Sunflower) Seed Oil, Cano...</td>\n",
       "    </tr>\n",
       "    <tr>\n",
       "      <th>4</th>\n",
       "      <td>\\nheimish - All Clean Balm 120ml\\n</td>\n",
       "      <td>98.4% customers satisfied|4,113 reviews</td>\n",
       "      <td>\\nEthylhexyl Palmitate, Cetyl Ethylhexanoate, ...</td>\n",
       "    </tr>\n",
       "    <tr>\n",
       "      <th>...</th>\n",
       "      <td>...</td>\n",
       "      <td>...</td>\n",
       "      <td>...</td>\n",
       "    </tr>\n",
       "    <tr>\n",
       "      <th>1723</th>\n",
       "      <td>\\nheimish - All Clean Green Foam 150ml\\n</td>\n",
       "      <td>95.6% customers satisfied|269 reviews</td>\n",
       "      <td>\\nWater, Potassium Laureth Phosphate, Glycerin...</td>\n",
       "    </tr>\n",
       "    <tr>\n",
       "      <th>1724</th>\n",
       "      <td>\\nBenton - Honest Cleansing Foam 150g\\n</td>\n",
       "      <td>92.9% customers satisfied|333 reviews</td>\n",
       "      <td>\\nAqua (Water), Myristic Acid, Glycerin, Lauri...</td>\n",
       "    </tr>\n",
       "    <tr>\n",
       "      <th>1725</th>\n",
       "      <td>\\nEtude House - AC Clean Up Pink Powder Spot 1...</td>\n",
       "      <td>93% customers satisfied|534 reviews</td>\n",
       "      <td>\\nEthanol, Chamaecyparis Obtusa Water, CI 7794...</td>\n",
       "    </tr>\n",
       "    <tr>\n",
       "      <th>1726</th>\n",
       "      <td>\\nBANILA CO - Clean It Zero Special Trial Kit\\n</td>\n",
       "      <td>100% customers satisfied|153 reviews</td>\n",
       "      <td>\\n[Clean It Zero Cleansing Balm Original]: Eth...</td>\n",
       "    </tr>\n",
       "    <tr>\n",
       "      <th>1727</th>\n",
       "      <td>\\nEtude House - Soon Jung pH 6.5 Whip Cleanser\\n</td>\n",
       "      <td>95.8% customers satisfied|334 reviews</td>\n",
       "      <td>\\nWater, Glycerin, Sorbitol, Propanediol, Laur...</td>\n",
       "    </tr>\n",
       "  </tbody>\n",
       "</table>\n",
       "<p>1728 rows × 3 columns</p>\n",
       "</div>"
      ],
      "text/plain": [
       "                                                   name  \\\n",
       "0          \\nCOSRX - Low pH Good Morning Gel Cleanser\\n   \n",
       "1     \\nBANILA CO - Clean It Zero Cleansing Balm Ori...   \n",
       "2     \\nSOME BY MI - Bye Bye Blackhead 30 Days Mirac...   \n",
       "3     \\niUNIK - Calendula Complete Cleansing Oil 200...   \n",
       "4                    \\nheimish - All Clean Balm 120ml\\n   \n",
       "...                                                 ...   \n",
       "1723           \\nheimish - All Clean Green Foam 150ml\\n   \n",
       "1724            \\nBenton - Honest Cleansing Foam 150g\\n   \n",
       "1725  \\nEtude House - AC Clean Up Pink Powder Spot 1...   \n",
       "1726    \\nBANILA CO - Clean It Zero Special Trial Kit\\n   \n",
       "1727   \\nEtude House - Soon Jung pH 6.5 Whip Cleanser\\n   \n",
       "\n",
       "                                       rating  \\\n",
       "0      97% customers satisfied|10,636 reviews   \n",
       "1     99.1% customers satisfied|3,464 reviews   \n",
       "2       94.8% customers satisfied|795 reviews   \n",
       "3       98.1% customers satisfied|936 reviews   \n",
       "4     98.4% customers satisfied|4,113 reviews   \n",
       "...                                       ...   \n",
       "1723    95.6% customers satisfied|269 reviews   \n",
       "1724    92.9% customers satisfied|333 reviews   \n",
       "1725      93% customers satisfied|534 reviews   \n",
       "1726     100% customers satisfied|153 reviews   \n",
       "1727    95.8% customers satisfied|334 reviews   \n",
       "\n",
       "                                            ingredients  \n",
       "0     \\nWater, Cocamidopropyl Betaine, Sodium Lauroy...  \n",
       "1     \\nCetyl Ethylhexanoate, PEG-20 Glyceryl Triiso...  \n",
       "2     \\nWater, Camellia Sinensis (Green Tea) Leaf Wa...  \n",
       "3     \\nHelianthus Annuus (Sunflower) Seed Oil, Cano...  \n",
       "4     \\nEthylhexyl Palmitate, Cetyl Ethylhexanoate, ...  \n",
       "...                                                 ...  \n",
       "1723  \\nWater, Potassium Laureth Phosphate, Glycerin...  \n",
       "1724  \\nAqua (Water), Myristic Acid, Glycerin, Lauri...  \n",
       "1725  \\nEthanol, Chamaecyparis Obtusa Water, CI 7794...  \n",
       "1726  \\n[Clean It Zero Cleansing Balm Original]: Eth...  \n",
       "1727  \\nWater, Glycerin, Sorbitol, Propanediol, Laur...  \n",
       "\n",
       "[1728 rows x 3 columns]"
      ]
     },
     "execution_count": 107,
     "metadata": {},
     "output_type": "execute_result"
    }
   ],
   "source": [
    "cleansers_df = pd.DataFrame(cleansers)\n",
    "cleansers_df"
   ]
  },
  {
   "cell_type": "code",
   "execution_count": 108,
   "metadata": {},
   "outputs": [],
   "source": [
    "cleansers = cleansers_df.to_csv('yesstyle_data/cleansers.csv')"
   ]
  },
  {
   "cell_type": "code",
   "execution_count": null,
   "metadata": {},
   "outputs": [],
   "source": []
  }
 ],
 "metadata": {
  "kernelspec": {
   "display_name": "Python [conda env:ironhack_env]",
   "language": "python",
   "name": "conda-env-ironhack_env-py"
  },
  "language_info": {
   "codemirror_mode": {
    "name": "ipython",
    "version": 3
   },
   "file_extension": ".py",
   "mimetype": "text/x-python",
   "name": "python",
   "nbconvert_exporter": "python",
   "pygments_lexer": "ipython3",
   "version": "3.8.5"
  }
 },
 "nbformat": 4,
 "nbformat_minor": 4
}
