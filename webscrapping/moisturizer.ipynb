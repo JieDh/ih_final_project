{
 "cells": [
  {
   "cell_type": "code",
   "execution_count": null,
   "metadata": {},
   "outputs": [],
   "source": []
  },
  {
   "cell_type": "code",
   "execution_count": 1,
   "metadata": {},
   "outputs": [],
   "source": [
    "import requests\n",
    "from bs4 import BeautifulSoup\n",
    "import pandas as pd"
   ]
  },
  {
   "cell_type": "code",
   "execution_count": 2,
   "metadata": {},
   "outputs": [],
   "source": [
    "#como el navegador a usar es chrome, hemos descargado ya el driver de la página, guardamos la ruta en una variable\n",
    "#chrome_path = 'chromedriver_linux64/chromedriver'\n",
    "#driver = webdriver.Chrome(executable_path = chrome_path)"
   ]
  },
  {
   "cell_type": "code",
   "execution_count": 2,
   "metadata": {},
   "outputs": [],
   "source": [
    "headers = {'User-Agent': 'Mozilla/5.0 (Windows NT 10.0; Win64; x64) AppleWebKit/537.36 (KHTML, like Gecko) Chrome/78.0.3904.108 Safari/537.36'}"
   ]
  },
  {
   "cell_type": "markdown",
   "metadata": {},
   "source": [
    "¿Qué queremos obtener de la página?\n",
    "1. Nombre del producto\n",
    "2. Precio (?)\n",
    "3. Detalles\n",
    "4. Ingredientes"
   ]
  },
  {
   "cell_type": "markdown",
   "metadata": {},
   "source": [
    "## 1 OBTENER TODAS LAS URLS DE LOS PRODUCTOS"
   ]
  },
  {
   "cell_type": "markdown",
   "metadata": {},
   "source": [
    "Para ello, utilizaremos bucles que iteren sobre los elementos de la página.\n",
    "* Variable global cleansers_url, es el contenedor de todas las urls.\n",
    "* Los links están dentro de un tag 'a', como sólo nos interesan aquellas que tengan href, pues href=True. \n",
    "* Se ha agregado class='product-image\" porque si no, el bucle cogía todas las urls (wishlist, url de la imagen etc), y solo nos interesan los productos.\n",
    "* Append cada uno de los links al contenedor."
   ]
  },
  {
   "cell_type": "code",
   "execution_count": 3,
   "metadata": {},
   "outputs": [],
   "source": [
    "moisturizer_url = []"
   ]
  },
  {
   "cell_type": "code",
   "execution_count": 4,
   "metadata": {},
   "outputs": [
    {
     "name": "stdout",
     "output_type": "stream",
     "text": [
      "1026\n"
     ]
    }
   ],
   "source": [
    "for i in range (1,87):\n",
    "    url = f'https://www.stylevana.com/en_EU/skincare/face-care/moisturizer-cream.html?p={i}' \n",
    "    r = requests.get(url)\n",
    "    soup = BeautifulSoup(r.content, 'lxml')\n",
    "    moisturizer_list = soup.find_all('div', class_='product-item-info')\n",
    "    for item in moisturizer_list:\n",
    "        for link in item.find_all('a', class_='product-image', href=True): \n",
    "            moisturizer_url.append(link['href'])\n",
    "print(len(moisturizer_url))"
   ]
  },
  {
   "cell_type": "markdown",
   "metadata": {},
   "source": [
    "with open(\"cleansers_url.txt\", \"w\") as output:\n",
    "    output.write(str(cleansers_url))"
   ]
  },
  {
   "cell_type": "code",
   "execution_count": 5,
   "metadata": {},
   "outputs": [
    {
     "data": {
      "text/plain": [
       "1026"
      ]
     },
     "execution_count": 5,
     "metadata": {},
     "output_type": "execute_result"
    }
   ],
   "source": [
    "len(moisturizer_url)"
   ]
  },
  {
   "cell_type": "markdown",
   "metadata": {},
   "source": [
    "## 2 OBTENER LA INFO DE LA PÁGINA PROPIA DEL PRODUCTO\n",
    "Info que necesitamos:\n",
    "* Nombre del producto\n",
    "* Details\n",
    "* Ingredients"
   ]
  },
  {
   "cell_type": "markdown",
   "metadata": {},
   "source": [
    "* Details e Ingredients se encuentran dentro de un grupo <div class='panel-group'"
   ]
  },
  {
   "cell_type": "code",
   "execution_count": 9,
   "metadata": {},
   "outputs": [
    {
     "data": {
      "text/plain": [
       "'https://www.stylevana.com/en_EU/caolion-blackhead-steam-pore-pack-50g.html'"
      ]
     },
     "execution_count": 9,
     "metadata": {},
     "output_type": "execute_result"
    }
   ],
   "source": [
    "moisturizer_url[206]"
   ]
  },
  {
   "cell_type": "code",
   "execution_count": 6,
   "metadata": {},
   "outputs": [],
   "source": [
    "moisturizers = []"
   ]
  },
  {
   "cell_type": "code",
   "execution_count": 7,
   "metadata": {},
   "outputs": [],
   "source": [
    "for link in moisturizer_url[0:1027]:\n",
    "    r = requests.get(link, headers=headers) #para cada link en el listado, hacemos una requests\n",
    "    soup = BeautifulSoup(r.content, 'lxml')\n",
    "    #usamos try, except porque hay ocasiones en las que no hay info sobre los ingredientes\n",
    "    try:\n",
    "        name = soup.find('h1', class_='product-name-h1').text\n",
    "        details = (soup.find('div', id='product-view-details').text.strip()) # details\n",
    "        ingredients = soup.find_all('div', id=\"product-view-ingredients\") #ingredients\n",
    "        for item in ingredients:\n",
    "            ingredients = item.find('div', class_='panel-body').text.strip()\n",
    "    except:\n",
    "        name = 'no info'\n",
    "        details = 'no info'\n",
    "        ingredients = 'no info'\n",
    "        \n",
    "    moisturizer_info = {\n",
    "    'name': name,\n",
    "    'details': details,\n",
    "    'ingredients': ingredients}\n",
    "    \n",
    "    moisturizers.append(moisturizer_info)"
   ]
  },
  {
   "cell_type": "code",
   "execution_count": 8,
   "metadata": {},
   "outputs": [
    {
     "name": "stdout",
     "output_type": "stream",
     "text": [
      "1026\n"
     ]
    }
   ],
   "source": [
    "print(len(moisturizers))"
   ]
  },
  {
   "cell_type": "code",
   "execution_count": null,
   "metadata": {},
   "outputs": [],
   "source": []
  },
  {
   "cell_type": "markdown",
   "metadata": {},
   "source": [
    "## 3. PASARLO A DATAFRAME"
   ]
  },
  {
   "cell_type": "code",
   "execution_count": 9,
   "metadata": {},
   "outputs": [
    {
     "data": {
      "text/html": [
       "<div>\n",
       "<style scoped>\n",
       "    .dataframe tbody tr th:only-of-type {\n",
       "        vertical-align: middle;\n",
       "    }\n",
       "\n",
       "    .dataframe tbody tr th {\n",
       "        vertical-align: top;\n",
       "    }\n",
       "\n",
       "    .dataframe thead th {\n",
       "        text-align: right;\n",
       "    }\n",
       "</style>\n",
       "<table border=\"1\" class=\"dataframe\">\n",
       "  <thead>\n",
       "    <tr style=\"text-align: right;\">\n",
       "      <th></th>\n",
       "      <th>name</th>\n",
       "      <th>details</th>\n",
       "      <th>ingredients</th>\n",
       "    </tr>\n",
       "  </thead>\n",
       "  <tbody>\n",
       "    <tr>\n",
       "      <th>0</th>\n",
       "      <td>iUNIK - Centella Calming Gel Cream - 60ml</td>\n",
       "      <td>Usage: Day, Night\\n\\n\\nProduct Type: Moisturiz...</td>\n",
       "      <td>[]</td>\n",
       "    </tr>\n",
       "    <tr>\n",
       "      <th>1</th>\n",
       "      <td>ROVECTIN - Clean Lotus Water Cream - 60ml</td>\n",
       "      <td>Usage: Day, Night\\n\\n\\nProduct Type: Moisturiz...</td>\n",
       "      <td>nelumbo nucifera flower extract, glycerin, pen...</td>\n",
       "    </tr>\n",
       "    <tr>\n",
       "      <th>2</th>\n",
       "      <td>SOME BY MI - AHA-BHA-PHA 30 Days Miracle Cream</td>\n",
       "      <td>Usage: Day, Night\\n\\n\\nProduct Type: Moisturiz...</td>\n",
       "      <td>Centella Asiatica (Gotu Kola) Extract (70.78%)...</td>\n",
       "    </tr>\n",
       "    <tr>\n",
       "      <th>3</th>\n",
       "      <td>innisfree - Jeju Cherry Blossom Jelly Cream</td>\n",
       "      <td>Usage: Day, Night\\n\\n\\nProduct Type: Moisturiz...</td>\n",
       "      <td>WATER / AQUA / EAU, DIPROPYLENE GLYCOL, NIACIN...</td>\n",
       "    </tr>\n",
       "    <tr>\n",
       "      <th>4</th>\n",
       "      <td>Etude House - Soon Jung 2x Barrier Intensive C...</td>\n",
       "      <td>Product Type: Moisturizer &amp; Cream\\n\\n\\nProduct...</td>\n",
       "      <td>Water, Propanediol, Pentaerythrityl Tetraethyl...</td>\n",
       "    </tr>\n",
       "    <tr>\n",
       "      <th>...</th>\n",
       "      <td>...</td>\n",
       "      <td>...</td>\n",
       "      <td>...</td>\n",
       "    </tr>\n",
       "    <tr>\n",
       "      <th>1021</th>\n",
       "      <td>CNP LABORATORY - Dual Balance Waterlock Moist ...</td>\n",
       "      <td>Usage: Day, Night\\n\\n\\nProduct Type: Moisturiz...</td>\n",
       "      <td>Water, Butylene Glycol, Betaine, Cyclopentasil...</td>\n",
       "    </tr>\n",
       "    <tr>\n",
       "      <th>1022</th>\n",
       "      <td>innisfree - Cauliflower Mushroom Vital Cream -...</td>\n",
       "      <td>Usage: Day, Night\\n\\n\\nProduct Type: Moisturiz...</td>\n",
       "      <td>[]</td>\n",
       "    </tr>\n",
       "    <tr>\n",
       "      <th>1023</th>\n",
       "      <td>Dr.G - Gowoonsesang Actifirm Recovery Cream - ...</td>\n",
       "      <td>Usage: Day, Night\\n\\n\\nProduct Type: Moisturiz...</td>\n",
       "      <td>[]</td>\n",
       "    </tr>\n",
       "    <tr>\n",
       "      <th>1024</th>\n",
       "      <td>O HUI - Age Recovery Cream - 50ml</td>\n",
       "      <td>Usage: Day, Night\\n\\n\\nProduct Type: Moisturiz...</td>\n",
       "      <td>[]</td>\n",
       "    </tr>\n",
       "    <tr>\n",
       "      <th>1025</th>\n",
       "      <td>HERA - Rosy Satin Cream - 50ml</td>\n",
       "      <td>Usage: Day, Night\\n\\n\\nProduct Type: Moisturiz...</td>\n",
       "      <td>[]</td>\n",
       "    </tr>\n",
       "  </tbody>\n",
       "</table>\n",
       "<p>1026 rows × 3 columns</p>\n",
       "</div>"
      ],
      "text/plain": [
       "                                                   name  \\\n",
       "0             iUNIK - Centella Calming Gel Cream - 60ml   \n",
       "1             ROVECTIN - Clean Lotus Water Cream - 60ml   \n",
       "2        SOME BY MI - AHA-BHA-PHA 30 Days Miracle Cream   \n",
       "3           innisfree - Jeju Cherry Blossom Jelly Cream   \n",
       "4     Etude House - Soon Jung 2x Barrier Intensive C...   \n",
       "...                                                 ...   \n",
       "1021  CNP LABORATORY - Dual Balance Waterlock Moist ...   \n",
       "1022  innisfree - Cauliflower Mushroom Vital Cream -...   \n",
       "1023  Dr.G - Gowoonsesang Actifirm Recovery Cream - ...   \n",
       "1024                  O HUI - Age Recovery Cream - 50ml   \n",
       "1025                     HERA - Rosy Satin Cream - 50ml   \n",
       "\n",
       "                                                details  \\\n",
       "0     Usage: Day, Night\\n\\n\\nProduct Type: Moisturiz...   \n",
       "1     Usage: Day, Night\\n\\n\\nProduct Type: Moisturiz...   \n",
       "2     Usage: Day, Night\\n\\n\\nProduct Type: Moisturiz...   \n",
       "3     Usage: Day, Night\\n\\n\\nProduct Type: Moisturiz...   \n",
       "4     Product Type: Moisturizer & Cream\\n\\n\\nProduct...   \n",
       "...                                                 ...   \n",
       "1021  Usage: Day, Night\\n\\n\\nProduct Type: Moisturiz...   \n",
       "1022  Usage: Day, Night\\n\\n\\nProduct Type: Moisturiz...   \n",
       "1023  Usage: Day, Night\\n\\n\\nProduct Type: Moisturiz...   \n",
       "1024  Usage: Day, Night\\n\\n\\nProduct Type: Moisturiz...   \n",
       "1025  Usage: Day, Night\\n\\n\\nProduct Type: Moisturiz...   \n",
       "\n",
       "                                            ingredients  \n",
       "0                                                    []  \n",
       "1     nelumbo nucifera flower extract, glycerin, pen...  \n",
       "2     Centella Asiatica (Gotu Kola) Extract (70.78%)...  \n",
       "3     WATER / AQUA / EAU, DIPROPYLENE GLYCOL, NIACIN...  \n",
       "4     Water, Propanediol, Pentaerythrityl Tetraethyl...  \n",
       "...                                                 ...  \n",
       "1021  Water, Butylene Glycol, Betaine, Cyclopentasil...  \n",
       "1022                                                 []  \n",
       "1023                                                 []  \n",
       "1024                                                 []  \n",
       "1025                                                 []  \n",
       "\n",
       "[1026 rows x 3 columns]"
      ]
     },
     "execution_count": 9,
     "metadata": {},
     "output_type": "execute_result"
    }
   ],
   "source": [
    "moisturizer_df = pd.DataFrame(moisturizers)\n",
    "moisturizer_df"
   ]
  },
  {
   "cell_type": "code",
   "execution_count": 11,
   "metadata": {},
   "outputs": [],
   "source": [
    "moisturizer = moisturizer_df.to_csv('data/moisturizer.csv')"
   ]
  },
  {
   "cell_type": "code",
   "execution_count": null,
   "metadata": {},
   "outputs": [],
   "source": []
  },
  {
   "cell_type": "code",
   "execution_count": null,
   "metadata": {},
   "outputs": [],
   "source": []
  }
 ],
 "metadata": {
  "kernelspec": {
   "display_name": "Python [conda env:ironhack_env]",
   "language": "python",
   "name": "conda-env-ironhack_env-py"
  },
  "language_info": {
   "codemirror_mode": {
    "name": "ipython",
    "version": 3
   },
   "file_extension": ".py",
   "mimetype": "text/x-python",
   "name": "python",
   "nbconvert_exporter": "python",
   "pygments_lexer": "ipython3",
   "version": "3.8.5"
  }
 },
 "nbformat": 4,
 "nbformat_minor": 4
}
