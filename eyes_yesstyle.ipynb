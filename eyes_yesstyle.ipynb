{
 "cells": [
  {
   "cell_type": "code",
   "execution_count": null,
   "metadata": {},
   "outputs": [],
   "source": []
  },
  {
   "cell_type": "code",
   "execution_count": 2,
   "metadata": {},
   "outputs": [],
   "source": [
    "import requests\n",
    "from bs4 import BeautifulSoup\n",
    "import pandas as pd\n",
    "import re"
   ]
  },
  {
   "cell_type": "code",
   "execution_count": 9,
   "metadata": {},
   "outputs": [],
   "source": [
    "headers = {'User-Agent': 'Mozilla/5.0 (Windows NT 10.0; Win64; x64) AppleWebKit/537.36 (KHTML, like Gecko) Chrome/78.0.3904.108 Safari/537.36'}"
   ]
  },
  {
   "cell_type": "code",
   "execution_count": 3,
   "metadata": {},
   "outputs": [],
   "source": [
    "# soup = BeautifulSoup(r.content, 'lxml') #usamos lxml como parser"
   ]
  },
  {
   "cell_type": "markdown",
   "metadata": {},
   "source": [
    "¿Qué queremos obtener de la página?\n",
    "1. Nombre del producto\n",
    "2. Precio (?)\n",
    "3. Detalles\n",
    "4. Ingredientes"
   ]
  },
  {
   "cell_type": "markdown",
   "metadata": {},
   "source": [
    "## 1 OBTENER TODAS LAS URLS DE LOS PRODUCTOS"
   ]
  },
  {
   "cell_type": "markdown",
   "metadata": {},
   "source": [
    "Para ello, utilizaremos bucles que iteren sobre los elementos de la página.\n",
    "* Variable global cleansers_url, es el contenedor de todas las urls.\n",
    "* Los links están dentro de un tag 'a', como sólo nos interesan aquellas que tengan href, pues href=True. \n",
    "* Se ha agregado class='product-image\" porque si no, el bucle cogía todas las urls (wishlist, url de la imagen etc), y solo nos interesan los productos.\n",
    "* Append cada uno de los links al contenedor."
   ]
  },
  {
   "cell_type": "code",
   "execution_count": 3,
   "metadata": {},
   "outputs": [],
   "source": [
    "\"\"\"\n",
    "url = f'https://www.yesstyle.com/es/mujer-limpiadores-faciales/list.html/bcc.14335_bpt.46#/bpt=46&sb=136&pn=1&l=17&s=10&bcc=14335&bt=37' \n",
    "r = requests.get(url)\n",
    "soup = BeautifulSoup(r.content, 'lxml')\n",
    "\"\"\""
   ]
  },
  {
   "cell_type": "markdown",
   "metadata": {},
   "source": [
    "cream_list = soup.find_all('div', class_='itemContainer')"
   ]
  },
  {
   "cell_type": "markdown",
   "metadata": {},
   "source": [
    "url = []\n",
    "for item in cream_list:\n",
    "        for link in item.find_all('a', href=True): \n",
    "            url.append(link['href'])"
   ]
  },
  {
   "cell_type": "code",
   "execution_count": 3,
   "metadata": {},
   "outputs": [],
   "source": [
    "eyecreams_url = []\n",
    "for i in range (1, 14):\n",
    "    url = f'https://www.yesstyle.com/en/women-eye-skin-care/list.html/bcc.14340_bpt.46#/bpt=46&sb=136&bt=37&bcc=14340&s=10&pn={i}&l=1' \n",
    "    r = requests.get(url)\n",
    "    soup = BeautifulSoup(r.content, 'lxml')\n",
    "    eyecreams_list = soup.find_all('div', class_='itemContainer')\n",
    "    for item in eyecreams_list:\n",
    "        for link in item.find_all('a', href=True): \n",
    "            eyecreams_url.append(link['href'])\n"
   ]
  },
  {
   "cell_type": "code",
   "execution_count": 4,
   "metadata": {},
   "outputs": [
    {
     "name": "stdout",
     "output_type": "stream",
     "text": [
      "468\n"
     ]
    }
   ],
   "source": [
    "print(len(eyecreams_url))"
   ]
  },
  {
   "cell_type": "markdown",
   "metadata": {},
   "source": [
    "with open(\"cleansers_url.txt\", \"w\") as output:\n",
    "    output.write(str(cleansers_url))"
   ]
  },
  {
   "cell_type": "markdown",
   "metadata": {},
   "source": [
    "## 2 OBTENER LA INFO DE LA PÁGINA PROPIA DEL PRODUCTO\n",
    "Info que necesitamos:\n",
    "* Nombre del producto\n",
    "* Details\n",
    "* Ingredients"
   ]
  },
  {
   "cell_type": "markdown",
   "metadata": {},
   "source": [
    "* Details e Ingredients se encuentran dentro de un grupo <div class='panel-group'"
   ]
  },
  {
   "cell_type": "code",
   "execution_count": 51,
   "metadata": {},
   "outputs": [],
   "source": [
    "\"\"\"\n",
    "test_url = 'https://www.yesstyle.com/es/cosrx-gel-limpiador-con-ph-bajo-good-morning-150ml/info.html/pid.1052684732'\n",
    "r = requests.get(test_url) #para cada link en el listado, hacemos una requests\n",
    "soup = BeautifulSoup(r.content, 'lxml')\n",
    "name = soup.find_all('div', class_='headingContent flex-gt-sm-66 flex-100')\n",
    "for x in name:\n",
    "    title = soup.find('h1').text\n",
    "ingred = soup.find('div', class_=\"cropWrapper\").text #ingredients\n",
    "rating = soup.find('div', class_='satisfied').text\n",
    "\"\"\""
   ]
  },
  {
   "cell_type": "code",
   "execution_count": null,
   "metadata": {},
   "outputs": [],
   "source": []
  },
  {
   "cell_type": "code",
   "execution_count": null,
   "metadata": {},
   "outputs": [],
   "source": []
  },
  {
   "cell_type": "code",
   "execution_count": 6,
   "metadata": {},
   "outputs": [
    {
     "data": {
      "text/plain": [
       "'https://www.yesstyle.com/en/pyunkang-yul-eye-cream-50ml-1ml-x-50pcs/info.html/pid.1067160762'"
      ]
     },
     "execution_count": 6,
     "metadata": {},
     "output_type": "execute_result"
    }
   ],
   "source": [
    "eyecreams_url[467]"
   ]
  },
  {
   "cell_type": "code",
   "execution_count": 7,
   "metadata": {},
   "outputs": [],
   "source": [
    "eyecreams = []"
   ]
  },
  {
   "cell_type": "code",
   "execution_count": 12,
   "metadata": {},
   "outputs": [],
   "source": [
    "for link in eyecreams_url[0:468]:\n",
    "    r = requests.get(link, headers=headers) #para cada link en el listado, hacemos una requests\n",
    "    soup = BeautifulSoup(r.content, 'lxml')\n",
    "    #usamos try, except porque hay ocasiones en las que no hay info sobre los ingredientes\n",
    "    try:\n",
    "        name_box = soup.find_all('div', class_='headingContent flex-gt-sm-66 flex-100')\n",
    "        for x in name_box:\n",
    "            name = soup.find('h1').text\n",
    "        ingredients = soup.find('div', class_=\"cropWrapper\").text #ingredients\n",
    "        rating = soup.find('div', class_='satisfied').text\n",
    "    except:\n",
    "        name= 'no info'\n",
    "        ingredients = 'no info'\n",
    "        rating = 'no info'\n",
    "        \n",
    "    eyecreams_info = {\n",
    "    'name': name,\n",
    "    'rating': rating,\n",
    "    'ingredients': ingredients}\n",
    "    \n",
    "    eyecreams.append(eyecreams_info)"
   ]
  },
  {
   "cell_type": "code",
   "execution_count": 13,
   "metadata": {},
   "outputs": [
    {
     "name": "stdout",
     "output_type": "stream",
     "text": [
      "468\n"
     ]
    }
   ],
   "source": [
    "print(len(eyecreams))"
   ]
  },
  {
   "cell_type": "code",
   "execution_count": 81,
   "metadata": {},
   "outputs": [
    {
     "data": {
      "text/plain": [
       "{'name': '\\nKUMANO COSME - Pharmaact Deep Cleansing Oil\\n',\n",
       " 'rating': '97.3% Clientes satisfechos|317 reseñas',\n",
       " 'ingredients': '\\nMineral oil, PEG-8 glyceryl isostearate, water, glycerin, dimethicone, citric acid, jojoba oil, squalane, ethyl paraben, perfume\\n\\nMás\\n\\n'}"
      ]
     },
     "execution_count": 81,
     "metadata": {},
     "output_type": "execute_result"
    }
   ],
   "source": [
    "eyecreams[100]"
   ]
  },
  {
   "cell_type": "markdown",
   "metadata": {},
   "source": [
    "## 3. PASARLO A DATAFRAME"
   ]
  },
  {
   "cell_type": "code",
   "execution_count": 14,
   "metadata": {},
   "outputs": [
    {
     "data": {
      "text/html": [
       "<div>\n",
       "<style scoped>\n",
       "    .dataframe tbody tr th:only-of-type {\n",
       "        vertical-align: middle;\n",
       "    }\n",
       "\n",
       "    .dataframe tbody tr th {\n",
       "        vertical-align: top;\n",
       "    }\n",
       "\n",
       "    .dataframe thead th {\n",
       "        text-align: right;\n",
       "    }\n",
       "</style>\n",
       "<table border=\"1\" class=\"dataframe\">\n",
       "  <thead>\n",
       "    <tr style=\"text-align: right;\">\n",
       "      <th></th>\n",
       "      <th>name</th>\n",
       "      <th>rating</th>\n",
       "      <th>ingredients</th>\n",
       "    </tr>\n",
       "  </thead>\n",
       "  <tbody>\n",
       "    <tr>\n",
       "      <th>0</th>\n",
       "      <td>\\nMIZON - Snail Repair Eye Cream 25ml\\n</td>\n",
       "      <td>95.9% customers satisfied|3,108 reviews</td>\n",
       "      <td>\\nSnail Secretion Filtrate, Glycerin, Butylene...</td>\n",
       "    </tr>\n",
       "    <tr>\n",
       "      <th>1</th>\n",
       "      <td>\\nMILKYDRESS - Wrinkle &amp; Whitening Eye Cream 1...</td>\n",
       "      <td>87.8% customers satisfied|2,730 reviews</td>\n",
       "      <td>\\nWater, Butylene Glycol, Glycereth-26, Glycer...</td>\n",
       "    </tr>\n",
       "    <tr>\n",
       "      <th>2</th>\n",
       "      <td>\\nPURITO - Centella Green Level Eye Cream 30ml\\n</td>\n",
       "      <td>95.6% customers satisfied|857 reviews</td>\n",
       "      <td>\\nCentella Asiatica Extract (skin-conditioning...</td>\n",
       "    </tr>\n",
       "    <tr>\n",
       "      <th>3</th>\n",
       "      <td>\\nBenton - Fermentation Eye Cream\\n</td>\n",
       "      <td>94.2% customers satisfied|1,803 reviews</td>\n",
       "      <td>\\nGalactomyces Ferment Filtrate, Aqua (Water),...</td>\n",
       "    </tr>\n",
       "    <tr>\n",
       "      <th>4</th>\n",
       "      <td>\\nMIZON - Snail Repair Intensive Gold Eye Gel ...</td>\n",
       "      <td>94.6% customers satisfied|352 reviews</td>\n",
       "      <td>\\nWater, Glycerin, Calcium Chloride, Ceratonia...</td>\n",
       "    </tr>\n",
       "    <tr>\n",
       "      <th>...</th>\n",
       "      <td>...</td>\n",
       "      <td>...</td>\n",
       "      <td>...</td>\n",
       "    </tr>\n",
       "    <tr>\n",
       "      <th>463</th>\n",
       "      <td>\\nPETITFEE - Collagen &amp; CoQ10 Hydrogel Eye Pat...</td>\n",
       "      <td>88.6% customers satisfied|106 reviews</td>\n",
       "      <td>\\nWater, glycerin, calcium chloride, butylene ...</td>\n",
       "    </tr>\n",
       "    <tr>\n",
       "      <th>464</th>\n",
       "      <td>\\niUNIK - Propolis Vitamin Eye Cream Set\\n</td>\n",
       "      <td>94.4% customers satisfied|36 reviews</td>\n",
       "      <td>\\n[Propolis Vitamin Eye Cream]:\\nPropolis Extr...</td>\n",
       "    </tr>\n",
       "    <tr>\n",
       "      <th>465</th>\n",
       "      <td>\\nSecret Key - Gold Premium First Eye Patch 60...</td>\n",
       "      <td>89.9% customers satisfied|694 reviews</td>\n",
       "      <td>\\nWater, Dipropylene Glycol, Butylene Glycol, ...</td>\n",
       "    </tr>\n",
       "    <tr>\n",
       "      <th>466</th>\n",
       "      <td>\\nMEDI-PEEL - Hyaluron Cica Peptide 9 Ampoule ...</td>\n",
       "      <td>100% customers satisfied|15 reviews</td>\n",
       "      <td>\\nWater, Glycerin, Carrageenan, Butylene Glyco...</td>\n",
       "    </tr>\n",
       "    <tr>\n",
       "      <th>467</th>\n",
       "      <td>\\nPyunkang Yul - Eye Cream 50ml\\n</td>\n",
       "      <td>94.5% customers satisfied|171 reviews</td>\n",
       "      <td>\\nAstragalus Membranaceus (Huang Qi) Root Extr...</td>\n",
       "    </tr>\n",
       "  </tbody>\n",
       "</table>\n",
       "<p>468 rows × 3 columns</p>\n",
       "</div>"
      ],
      "text/plain": [
       "                                                  name  \\\n",
       "0              \\nMIZON - Snail Repair Eye Cream 25ml\\n   \n",
       "1    \\nMILKYDRESS - Wrinkle & Whitening Eye Cream 1...   \n",
       "2     \\nPURITO - Centella Green Level Eye Cream 30ml\\n   \n",
       "3                  \\nBenton - Fermentation Eye Cream\\n   \n",
       "4    \\nMIZON - Snail Repair Intensive Gold Eye Gel ...   \n",
       "..                                                 ...   \n",
       "463  \\nPETITFEE - Collagen & CoQ10 Hydrogel Eye Pat...   \n",
       "464         \\niUNIK - Propolis Vitamin Eye Cream Set\\n   \n",
       "465  \\nSecret Key - Gold Premium First Eye Patch 60...   \n",
       "466  \\nMEDI-PEEL - Hyaluron Cica Peptide 9 Ampoule ...   \n",
       "467                  \\nPyunkang Yul - Eye Cream 50ml\\n   \n",
       "\n",
       "                                      rating  \\\n",
       "0    95.9% customers satisfied|3,108 reviews   \n",
       "1    87.8% customers satisfied|2,730 reviews   \n",
       "2      95.6% customers satisfied|857 reviews   \n",
       "3    94.2% customers satisfied|1,803 reviews   \n",
       "4      94.6% customers satisfied|352 reviews   \n",
       "..                                       ...   \n",
       "463    88.6% customers satisfied|106 reviews   \n",
       "464     94.4% customers satisfied|36 reviews   \n",
       "465    89.9% customers satisfied|694 reviews   \n",
       "466      100% customers satisfied|15 reviews   \n",
       "467    94.5% customers satisfied|171 reviews   \n",
       "\n",
       "                                           ingredients  \n",
       "0    \\nSnail Secretion Filtrate, Glycerin, Butylene...  \n",
       "1    \\nWater, Butylene Glycol, Glycereth-26, Glycer...  \n",
       "2    \\nCentella Asiatica Extract (skin-conditioning...  \n",
       "3    \\nGalactomyces Ferment Filtrate, Aqua (Water),...  \n",
       "4    \\nWater, Glycerin, Calcium Chloride, Ceratonia...  \n",
       "..                                                 ...  \n",
       "463  \\nWater, glycerin, calcium chloride, butylene ...  \n",
       "464  \\n[Propolis Vitamin Eye Cream]:\\nPropolis Extr...  \n",
       "465  \\nWater, Dipropylene Glycol, Butylene Glycol, ...  \n",
       "466  \\nWater, Glycerin, Carrageenan, Butylene Glyco...  \n",
       "467  \\nAstragalus Membranaceus (Huang Qi) Root Extr...  \n",
       "\n",
       "[468 rows x 3 columns]"
      ]
     },
     "execution_count": 14,
     "metadata": {},
     "output_type": "execute_result"
    }
   ],
   "source": [
    "eyecreams_df = pd.DataFrame(eyecreams)\n",
    "eyecreams_df"
   ]
  },
  {
   "cell_type": "code",
   "execution_count": 15,
   "metadata": {},
   "outputs": [],
   "source": [
    "eyecreams = eyecreams_df.to_csv('yesstyle_data/eyecreams.csv')"
   ]
  },
  {
   "cell_type": "code",
   "execution_count": null,
   "metadata": {},
   "outputs": [],
   "source": []
  }
 ],
 "metadata": {
  "kernelspec": {
   "display_name": "Python [conda env:ironhack_env]",
   "language": "python",
   "name": "conda-env-ironhack_env-py"
  },
  "language_info": {
   "codemirror_mode": {
    "name": "ipython",
    "version": 3
   },
   "file_extension": ".py",
   "mimetype": "text/x-python",
   "name": "python",
   "nbconvert_exporter": "python",
   "pygments_lexer": "ipython3",
   "version": "3.8.5"
  }
 },
 "nbformat": 4,
 "nbformat_minor": 4
}
