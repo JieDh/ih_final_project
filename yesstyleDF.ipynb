{
 "cells": [
  {
   "cell_type": "code",
   "execution_count": 8,
   "metadata": {},
   "outputs": [],
   "source": [
    "import pandas as pd"
   ]
  },
  {
   "cell_type": "code",
   "execution_count": 9,
   "metadata": {},
   "outputs": [],
   "source": [
    "df = pd.read_csv('yesstyle_data/eyecreams.csv')"
   ]
  },
  {
   "cell_type": "code",
   "execution_count": 10,
   "metadata": {},
   "outputs": [
    {
     "name": "stdout",
     "output_type": "stream",
     "text": [
      "<class 'pandas.core.frame.DataFrame'>\n",
      "RangeIndex: 468 entries, 0 to 467\n",
      "Data columns (total 4 columns):\n",
      " #   Column       Non-Null Count  Dtype \n",
      "---  ------       --------------  ----- \n",
      " 0   Unnamed: 0   468 non-null    int64 \n",
      " 1   name         468 non-null    object\n",
      " 2   rating       468 non-null    object\n",
      " 3   ingredients  468 non-null    object\n",
      "dtypes: int64(1), object(3)\n",
      "memory usage: 14.8+ KB\n"
     ]
    }
   ],
   "source": [
    "df.info()"
   ]
  },
  {
   "cell_type": "code",
   "execution_count": 28,
   "metadata": {},
   "outputs": [
    {
     "data": {
      "text/html": [
       "<div>\n",
       "<style scoped>\n",
       "    .dataframe tbody tr th:only-of-type {\n",
       "        vertical-align: middle;\n",
       "    }\n",
       "\n",
       "    .dataframe tbody tr th {\n",
       "        vertical-align: top;\n",
       "    }\n",
       "\n",
       "    .dataframe thead th {\n",
       "        text-align: right;\n",
       "    }\n",
       "</style>\n",
       "<table border=\"1\" class=\"dataframe\">\n",
       "  <thead>\n",
       "    <tr style=\"text-align: right;\">\n",
       "      <th></th>\n",
       "      <th>Unnamed: 0</th>\n",
       "      <th>name</th>\n",
       "      <th>rating</th>\n",
       "      <th>ingredients</th>\n",
       "      <th>reviews</th>\n",
       "      <th>brand</th>\n",
       "      <th>product name</th>\n",
       "    </tr>\n",
       "  </thead>\n",
       "  <tbody>\n",
       "    <tr>\n",
       "      <th>0</th>\n",
       "      <td>0</td>\n",
       "      <td>[MIZON, Snail Repair Eye Cream 25ml]</td>\n",
       "      <td>95.9% customers satisfied</td>\n",
       "      <td>Snail Secretion Filtrate, Glycerin, Butylene G...</td>\n",
       "      <td>3,108 reviews</td>\n",
       "      <td>MIZON</td>\n",
       "      <td>Snail Repair Eye Cream 25ml</td>\n",
       "    </tr>\n",
       "    <tr>\n",
       "      <th>1</th>\n",
       "      <td>1</td>\n",
       "      <td>[MILKYDRESS, Wrinkle &amp; Whitening Eye Cream 15ml]</td>\n",
       "      <td>87.8% customers satisfied</td>\n",
       "      <td>Water, Butylene Glycol, Glycereth-26, Glycerin...</td>\n",
       "      <td>2,730 reviews</td>\n",
       "      <td>MILKYDRESS</td>\n",
       "      <td>Wrinkle &amp; Whitening Eye Cream 15ml</td>\n",
       "    </tr>\n",
       "    <tr>\n",
       "      <th>2</th>\n",
       "      <td>2</td>\n",
       "      <td>[PURITO, Centella Green Level Eye Cream 30ml]</td>\n",
       "      <td>95.6% customers satisfied</td>\n",
       "      <td>Centella Asiatica Extract (skin-conditioning a...</td>\n",
       "      <td>857 reviews</td>\n",
       "      <td>PURITO</td>\n",
       "      <td>Centella Green Level Eye Cream 30ml</td>\n",
       "    </tr>\n",
       "    <tr>\n",
       "      <th>3</th>\n",
       "      <td>3</td>\n",
       "      <td>[Benton, Fermentation Eye Cream]</td>\n",
       "      <td>94.2% customers satisfied</td>\n",
       "      <td>Galactomyces Ferment Filtrate, Aqua (Water), B...</td>\n",
       "      <td>1,803 reviews</td>\n",
       "      <td>Benton</td>\n",
       "      <td>Fermentation Eye Cream</td>\n",
       "    </tr>\n",
       "    <tr>\n",
       "      <th>4</th>\n",
       "      <td>4</td>\n",
       "      <td>[MIZON, Snail Repair Intensive Gold Eye Gel Pa...</td>\n",
       "      <td>94.6% customers satisfied</td>\n",
       "      <td>Water, Glycerin, Calcium Chloride, Ceratonia S...</td>\n",
       "      <td>352 reviews</td>\n",
       "      <td>MIZON</td>\n",
       "      <td>Snail Repair Intensive Gold Eye Gel Patch</td>\n",
       "    </tr>\n",
       "    <tr>\n",
       "      <th>...</th>\n",
       "      <td>...</td>\n",
       "      <td>...</td>\n",
       "      <td>...</td>\n",
       "      <td>...</td>\n",
       "      <td>...</td>\n",
       "      <td>...</td>\n",
       "      <td>...</td>\n",
       "    </tr>\n",
       "    <tr>\n",
       "      <th>463</th>\n",
       "      <td>463</td>\n",
       "      <td>[PETITFEE, Collagen &amp; CoQ10 Hydrogel Eye Patch]</td>\n",
       "      <td>88.6% customers satisfied</td>\n",
       "      <td>Water, glycerin, calcium chloride, butylene gl...</td>\n",
       "      <td>106 reviews</td>\n",
       "      <td>PETITFEE</td>\n",
       "      <td>Collagen &amp; CoQ10 Hydrogel Eye Patch</td>\n",
       "    </tr>\n",
       "    <tr>\n",
       "      <th>464</th>\n",
       "      <td>464</td>\n",
       "      <td>[iUNIK, Propolis Vitamin Eye Cream Set]</td>\n",
       "      <td>94.4% customers satisfied</td>\n",
       "      <td>[Propolis Vitamin Eye Cream]:\\nPropolis Extrac...</td>\n",
       "      <td>36 reviews</td>\n",
       "      <td>iUNIK</td>\n",
       "      <td>Propolis Vitamin Eye Cream Set</td>\n",
       "    </tr>\n",
       "    <tr>\n",
       "      <th>465</th>\n",
       "      <td>465</td>\n",
       "      <td>[Secret Key, Gold Premium First Eye Patch 60pcs]</td>\n",
       "      <td>89.9% customers satisfied</td>\n",
       "      <td>Water, Dipropylene Glycol, Butylene Glycol, Ci...</td>\n",
       "      <td>694 reviews</td>\n",
       "      <td>Secret Key</td>\n",
       "      <td>Gold Premium First Eye Patch 60pcs</td>\n",
       "    </tr>\n",
       "    <tr>\n",
       "      <th>466</th>\n",
       "      <td>466</td>\n",
       "      <td>[MEDI-PEEL, Hyaluron Cica Peptide 9 Ampoule Ey...</td>\n",
       "      <td>100% customers satisfied</td>\n",
       "      <td>Water, Glycerin, Carrageenan, Butylene Glycol,...</td>\n",
       "      <td>15 reviews</td>\n",
       "      <td>MEDI-PEEL</td>\n",
       "      <td>Hyaluron Cica Peptide 9 Ampoule Eye Patch 60pcs</td>\n",
       "    </tr>\n",
       "    <tr>\n",
       "      <th>467</th>\n",
       "      <td>467</td>\n",
       "      <td>[Pyunkang Yul, Eye Cream 50ml]</td>\n",
       "      <td>94.5% customers satisfied</td>\n",
       "      <td>Astragalus Membranaceus (Huang Qi) Root Extrac...</td>\n",
       "      <td>171 reviews</td>\n",
       "      <td>Pyunkang Yul</td>\n",
       "      <td>Eye Cream 50ml</td>\n",
       "    </tr>\n",
       "  </tbody>\n",
       "</table>\n",
       "<p>468 rows × 7 columns</p>\n",
       "</div>"
      ],
      "text/plain": [
       "     Unnamed: 0                                               name  \\\n",
       "0             0               [MIZON, Snail Repair Eye Cream 25ml]   \n",
       "1             1   [MILKYDRESS, Wrinkle & Whitening Eye Cream 15ml]   \n",
       "2             2      [PURITO, Centella Green Level Eye Cream 30ml]   \n",
       "3             3                   [Benton, Fermentation Eye Cream]   \n",
       "4             4  [MIZON, Snail Repair Intensive Gold Eye Gel Pa...   \n",
       "..          ...                                                ...   \n",
       "463         463    [PETITFEE, Collagen & CoQ10 Hydrogel Eye Patch]   \n",
       "464         464            [iUNIK, Propolis Vitamin Eye Cream Set]   \n",
       "465         465   [Secret Key, Gold Premium First Eye Patch 60pcs]   \n",
       "466         466  [MEDI-PEEL, Hyaluron Cica Peptide 9 Ampoule Ey...   \n",
       "467         467                     [Pyunkang Yul, Eye Cream 50ml]   \n",
       "\n",
       "                        rating  \\\n",
       "0    95.9% customers satisfied   \n",
       "1    87.8% customers satisfied   \n",
       "2    95.6% customers satisfied   \n",
       "3    94.2% customers satisfied   \n",
       "4    94.6% customers satisfied   \n",
       "..                         ...   \n",
       "463  88.6% customers satisfied   \n",
       "464  94.4% customers satisfied   \n",
       "465  89.9% customers satisfied   \n",
       "466   100% customers satisfied   \n",
       "467  94.5% customers satisfied   \n",
       "\n",
       "                                           ingredients        reviews  \\\n",
       "0    Snail Secretion Filtrate, Glycerin, Butylene G...  3,108 reviews   \n",
       "1    Water, Butylene Glycol, Glycereth-26, Glycerin...  2,730 reviews   \n",
       "2    Centella Asiatica Extract (skin-conditioning a...    857 reviews   \n",
       "3    Galactomyces Ferment Filtrate, Aqua (Water), B...  1,803 reviews   \n",
       "4    Water, Glycerin, Calcium Chloride, Ceratonia S...    352 reviews   \n",
       "..                                                 ...            ...   \n",
       "463  Water, glycerin, calcium chloride, butylene gl...    106 reviews   \n",
       "464  [Propolis Vitamin Eye Cream]:\\nPropolis Extrac...     36 reviews   \n",
       "465  Water, Dipropylene Glycol, Butylene Glycol, Ci...    694 reviews   \n",
       "466  Water, Glycerin, Carrageenan, Butylene Glycol,...     15 reviews   \n",
       "467  Astragalus Membranaceus (Huang Qi) Root Extrac...    171 reviews   \n",
       "\n",
       "            brand                                     product name  \n",
       "0           MIZON                      Snail Repair Eye Cream 25ml  \n",
       "1      MILKYDRESS               Wrinkle & Whitening Eye Cream 15ml  \n",
       "2          PURITO              Centella Green Level Eye Cream 30ml  \n",
       "3          Benton                           Fermentation Eye Cream  \n",
       "4           MIZON        Snail Repair Intensive Gold Eye Gel Patch  \n",
       "..            ...                                              ...  \n",
       "463      PETITFEE              Collagen & CoQ10 Hydrogel Eye Patch  \n",
       "464         iUNIK                   Propolis Vitamin Eye Cream Set  \n",
       "465    Secret Key               Gold Premium First Eye Patch 60pcs  \n",
       "466     MEDI-PEEL  Hyaluron Cica Peptide 9 Ampoule Eye Patch 60pcs  \n",
       "467  Pyunkang Yul                                   Eye Cream 50ml  \n",
       "\n",
       "[468 rows x 7 columns]"
      ]
     },
     "execution_count": 28,
     "metadata": {},
     "output_type": "execute_result"
    }
   ],
   "source": [
    "df"
   ]
  },
  {
   "cell_type": "code",
   "execution_count": null,
   "metadata": {},
   "outputs": [],
   "source": []
  },
  {
   "cell_type": "markdown",
   "metadata": {},
   "source": [
    "# 1 Hacer .strip a las columnas que inician con \\n"
   ]
  },
  {
   "cell_type": "code",
   "execution_count": 12,
   "metadata": {},
   "outputs": [],
   "source": [
    "df['name'] = df['name'].apply(lambda x: x.strip())"
   ]
  },
  {
   "cell_type": "code",
   "execution_count": 14,
   "metadata": {},
   "outputs": [],
   "source": [
    "df['ingredients'] = df['ingredients'].apply(lambda x: x.strip())"
   ]
  },
  {
   "cell_type": "code",
   "execution_count": null,
   "metadata": {},
   "outputs": [],
   "source": []
  },
  {
   "cell_type": "markdown",
   "metadata": {},
   "source": [
    "# 2. Separar Ratings y dividirlo en dos columnas"
   ]
  },
  {
   "cell_type": "code",
   "execution_count": 18,
   "metadata": {},
   "outputs": [],
   "source": [
    "df['rating'] = df['rating'].apply(lambda x: x.split('|'))"
   ]
  },
  {
   "cell_type": "code",
   "execution_count": 20,
   "metadata": {},
   "outputs": [],
   "source": [
    "df['reviews'] = df['rating'].apply(lambda x: x[1])"
   ]
  },
  {
   "cell_type": "code",
   "execution_count": 22,
   "metadata": {},
   "outputs": [],
   "source": [
    "df['rating'] = df['rating'].apply(lambda x: x[0])"
   ]
  },
  {
   "cell_type": "code",
   "execution_count": null,
   "metadata": {},
   "outputs": [],
   "source": []
  },
  {
   "cell_type": "markdown",
   "metadata": {},
   "source": [
    "# 3. Separar marca y nombre producto"
   ]
  },
  {
   "cell_type": "code",
   "execution_count": 24,
   "metadata": {},
   "outputs": [],
   "source": [
    "df['name'] = df['name'].apply(lambda x: x.split(' - '))"
   ]
  },
  {
   "cell_type": "code",
   "execution_count": 26,
   "metadata": {},
   "outputs": [],
   "source": [
    "df['brand'] = df['name'].apply(lambda x: x[0])"
   ]
  },
  {
   "cell_type": "code",
   "execution_count": 27,
   "metadata": {},
   "outputs": [],
   "source": [
    "df['product name'] = df['name'].apply(lambda x: x[1])"
   ]
  },
  {
   "cell_type": "code",
   "execution_count": 33,
   "metadata": {},
   "outputs": [
    {
     "data": {
      "text/plain": [
       "array(['MIZON', 'MILKYDRESS', 'PURITO', 'Benton', 'JAYJUN', 'Etude House',\n",
       "       'Pyunkang Yul', 'Dear, Klairs', 'PETITFEE', 'Kao', 'MediFlower',\n",
       "       'COSRX', 'PUREDERM', 'heimish', 'RiRe', \"I'm from\", 'Isntree',\n",
       "       'iUNIK', 'Secret Key', 'MISSHA', 'MEDI-PEEL'], dtype=object)"
      ]
     },
     "execution_count": 33,
     "metadata": {},
     "output_type": "execute_result"
    }
   ],
   "source": [
    "df['brand'].unique()"
   ]
  },
  {
   "cell_type": "code",
   "execution_count": null,
   "metadata": {},
   "outputs": [],
   "source": []
  },
  {
   "cell_type": "markdown",
   "metadata": {},
   "source": [
    "# 4. Dropear columnas"
   ]
  },
  {
   "cell_type": "code",
   "execution_count": 37,
   "metadata": {},
   "outputs": [],
   "source": [
    "df.drop(columns=['Unnamed: 0', 'name'], inplace=True)"
   ]
  },
  {
   "cell_type": "markdown",
   "metadata": {},
   "source": [
    "# 5. Ordenar columnas "
   ]
  },
  {
   "cell_type": "code",
   "execution_count": 43,
   "metadata": {},
   "outputs": [],
   "source": [
    "df = df[['brand', 'product name', 'ingredients', 'rating', 'reviews']]"
   ]
  },
  {
   "cell_type": "code",
   "execution_count": 44,
   "metadata": {},
   "outputs": [
    {
     "data": {
      "text/html": [
       "<div>\n",
       "<style scoped>\n",
       "    .dataframe tbody tr th:only-of-type {\n",
       "        vertical-align: middle;\n",
       "    }\n",
       "\n",
       "    .dataframe tbody tr th {\n",
       "        vertical-align: top;\n",
       "    }\n",
       "\n",
       "    .dataframe thead th {\n",
       "        text-align: right;\n",
       "    }\n",
       "</style>\n",
       "<table border=\"1\" class=\"dataframe\">\n",
       "  <thead>\n",
       "    <tr style=\"text-align: right;\">\n",
       "      <th></th>\n",
       "      <th>brand</th>\n",
       "      <th>product name</th>\n",
       "      <th>ingredients</th>\n",
       "      <th>rating</th>\n",
       "      <th>reviews</th>\n",
       "    </tr>\n",
       "  </thead>\n",
       "  <tbody>\n",
       "    <tr>\n",
       "      <th>0</th>\n",
       "      <td>MIZON</td>\n",
       "      <td>Snail Repair Eye Cream 25ml</td>\n",
       "      <td>Snail Secretion Filtrate, Glycerin, Butylene G...</td>\n",
       "      <td>95.9% customers satisfied</td>\n",
       "      <td>3,108 reviews</td>\n",
       "    </tr>\n",
       "    <tr>\n",
       "      <th>1</th>\n",
       "      <td>MILKYDRESS</td>\n",
       "      <td>Wrinkle &amp; Whitening Eye Cream 15ml</td>\n",
       "      <td>Water, Butylene Glycol, Glycereth-26, Glycerin...</td>\n",
       "      <td>87.8% customers satisfied</td>\n",
       "      <td>2,730 reviews</td>\n",
       "    </tr>\n",
       "    <tr>\n",
       "      <th>2</th>\n",
       "      <td>PURITO</td>\n",
       "      <td>Centella Green Level Eye Cream 30ml</td>\n",
       "      <td>Centella Asiatica Extract (skin-conditioning a...</td>\n",
       "      <td>95.6% customers satisfied</td>\n",
       "      <td>857 reviews</td>\n",
       "    </tr>\n",
       "    <tr>\n",
       "      <th>3</th>\n",
       "      <td>Benton</td>\n",
       "      <td>Fermentation Eye Cream</td>\n",
       "      <td>Galactomyces Ferment Filtrate, Aqua (Water), B...</td>\n",
       "      <td>94.2% customers satisfied</td>\n",
       "      <td>1,803 reviews</td>\n",
       "    </tr>\n",
       "    <tr>\n",
       "      <th>4</th>\n",
       "      <td>MIZON</td>\n",
       "      <td>Snail Repair Intensive Gold Eye Gel Patch</td>\n",
       "      <td>Water, Glycerin, Calcium Chloride, Ceratonia S...</td>\n",
       "      <td>94.6% customers satisfied</td>\n",
       "      <td>352 reviews</td>\n",
       "    </tr>\n",
       "    <tr>\n",
       "      <th>...</th>\n",
       "      <td>...</td>\n",
       "      <td>...</td>\n",
       "      <td>...</td>\n",
       "      <td>...</td>\n",
       "      <td>...</td>\n",
       "    </tr>\n",
       "    <tr>\n",
       "      <th>463</th>\n",
       "      <td>PETITFEE</td>\n",
       "      <td>Collagen &amp; CoQ10 Hydrogel Eye Patch</td>\n",
       "      <td>Water, glycerin, calcium chloride, butylene gl...</td>\n",
       "      <td>88.6% customers satisfied</td>\n",
       "      <td>106 reviews</td>\n",
       "    </tr>\n",
       "    <tr>\n",
       "      <th>464</th>\n",
       "      <td>iUNIK</td>\n",
       "      <td>Propolis Vitamin Eye Cream Set</td>\n",
       "      <td>[Propolis Vitamin Eye Cream]:\\nPropolis Extrac...</td>\n",
       "      <td>94.4% customers satisfied</td>\n",
       "      <td>36 reviews</td>\n",
       "    </tr>\n",
       "    <tr>\n",
       "      <th>465</th>\n",
       "      <td>Secret Key</td>\n",
       "      <td>Gold Premium First Eye Patch 60pcs</td>\n",
       "      <td>Water, Dipropylene Glycol, Butylene Glycol, Ci...</td>\n",
       "      <td>89.9% customers satisfied</td>\n",
       "      <td>694 reviews</td>\n",
       "    </tr>\n",
       "    <tr>\n",
       "      <th>466</th>\n",
       "      <td>MEDI-PEEL</td>\n",
       "      <td>Hyaluron Cica Peptide 9 Ampoule Eye Patch 60pcs</td>\n",
       "      <td>Water, Glycerin, Carrageenan, Butylene Glycol,...</td>\n",
       "      <td>100% customers satisfied</td>\n",
       "      <td>15 reviews</td>\n",
       "    </tr>\n",
       "    <tr>\n",
       "      <th>467</th>\n",
       "      <td>Pyunkang Yul</td>\n",
       "      <td>Eye Cream 50ml</td>\n",
       "      <td>Astragalus Membranaceus (Huang Qi) Root Extrac...</td>\n",
       "      <td>94.5% customers satisfied</td>\n",
       "      <td>171 reviews</td>\n",
       "    </tr>\n",
       "  </tbody>\n",
       "</table>\n",
       "<p>468 rows × 5 columns</p>\n",
       "</div>"
      ],
      "text/plain": [
       "            brand                                     product name  \\\n",
       "0           MIZON                      Snail Repair Eye Cream 25ml   \n",
       "1      MILKYDRESS               Wrinkle & Whitening Eye Cream 15ml   \n",
       "2          PURITO              Centella Green Level Eye Cream 30ml   \n",
       "3          Benton                           Fermentation Eye Cream   \n",
       "4           MIZON        Snail Repair Intensive Gold Eye Gel Patch   \n",
       "..            ...                                              ...   \n",
       "463      PETITFEE              Collagen & CoQ10 Hydrogel Eye Patch   \n",
       "464         iUNIK                   Propolis Vitamin Eye Cream Set   \n",
       "465    Secret Key               Gold Premium First Eye Patch 60pcs   \n",
       "466     MEDI-PEEL  Hyaluron Cica Peptide 9 Ampoule Eye Patch 60pcs   \n",
       "467  Pyunkang Yul                                   Eye Cream 50ml   \n",
       "\n",
       "                                           ingredients  \\\n",
       "0    Snail Secretion Filtrate, Glycerin, Butylene G...   \n",
       "1    Water, Butylene Glycol, Glycereth-26, Glycerin...   \n",
       "2    Centella Asiatica Extract (skin-conditioning a...   \n",
       "3    Galactomyces Ferment Filtrate, Aqua (Water), B...   \n",
       "4    Water, Glycerin, Calcium Chloride, Ceratonia S...   \n",
       "..                                                 ...   \n",
       "463  Water, glycerin, calcium chloride, butylene gl...   \n",
       "464  [Propolis Vitamin Eye Cream]:\\nPropolis Extrac...   \n",
       "465  Water, Dipropylene Glycol, Butylene Glycol, Ci...   \n",
       "466  Water, Glycerin, Carrageenan, Butylene Glycol,...   \n",
       "467  Astragalus Membranaceus (Huang Qi) Root Extrac...   \n",
       "\n",
       "                        rating        reviews  \n",
       "0    95.9% customers satisfied  3,108 reviews  \n",
       "1    87.8% customers satisfied  2,730 reviews  \n",
       "2    95.6% customers satisfied    857 reviews  \n",
       "3    94.2% customers satisfied  1,803 reviews  \n",
       "4    94.6% customers satisfied    352 reviews  \n",
       "..                         ...            ...  \n",
       "463  88.6% customers satisfied    106 reviews  \n",
       "464  94.4% customers satisfied     36 reviews  \n",
       "465  89.9% customers satisfied    694 reviews  \n",
       "466   100% customers satisfied     15 reviews  \n",
       "467  94.5% customers satisfied    171 reviews  \n",
       "\n",
       "[468 rows x 5 columns]"
      ]
     },
     "execution_count": 44,
     "metadata": {},
     "output_type": "execute_result"
    }
   ],
   "source": [
    "df"
   ]
  },
  {
   "cell_type": "code",
   "execution_count": 45,
   "metadata": {},
   "outputs": [],
   "source": [
    "df.to_csv('clean_data/eyecreams.csv')"
   ]
  }
 ],
 "metadata": {
  "kernelspec": {
   "display_name": "Python [conda env:ironhack_env]",
   "language": "python",
   "name": "conda-env-ironhack_env-py"
  },
  "language_info": {
   "codemirror_mode": {
    "name": "ipython",
    "version": 3
   },
   "file_extension": ".py",
   "mimetype": "text/x-python",
   "name": "python",
   "nbconvert_exporter": "python",
   "pygments_lexer": "ipython3",
   "version": "3.8.5"
  }
 },
 "nbformat": 4,
 "nbformat_minor": 4
}
