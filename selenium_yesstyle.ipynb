{
 "cells": [
  {
   "cell_type": "code",
   "execution_count": null,
   "metadata": {},
   "outputs": [],
   "source": []
  },
  {
   "cell_type": "code",
   "execution_count": 1,
   "metadata": {},
   "outputs": [],
   "source": [
    "import time\n",
    "from time import sleep\n",
    "from selenium import webdriver #qué navegador vamos a usar\n",
    "from selenium.webdriver.common.keys import Keys\n",
    "from selenium.webdriver.common.by import By\n",
    "from selenium.common.exceptions import NoSuchElementException"
   ]
  },
  {
   "cell_type": "code",
   "execution_count": 85,
   "metadata": {},
   "outputs": [],
   "source": [
    "#como el navegador a usar es chrome, hemos descargado ya el driver de la página, guardamos la ruta en una variable\n",
    "chrome_path = 'chromedriver_linux64/chromedriver'\n",
    "driver = webdriver.Chrome(executable_path = chrome_path)"
   ]
  },
  {
   "cell_type": "code",
   "execution_count": 86,
   "metadata": {},
   "outputs": [],
   "source": [
    "url = 'https://www.yesstyle.com/en/women-sun-care/list.html/bcc.15396_bpt.46#/bt=37&sb=136&l=1&bpt=46&bcc=15396&s=10&pn=1' #página a scrappear\n",
    "driver.get(url)"
   ]
  },
  {
   "cell_type": "code",
   "execution_count": 96,
   "metadata": {},
   "outputs": [],
   "source": [
    "cleansers = driver.find_elements_by_xpath('//div[@class=\"itemTitle ng-binding\"]')"
   ]
  },
  {
   "cell_type": "code",
   "execution_count": 97,
   "metadata": {},
   "outputs": [
    {
     "name": "stdout",
     "output_type": "stream",
     "text": [
      "36\n"
     ]
    }
   ],
   "source": [
    "print(len(cleansers))"
   ]
  },
  {
   "cell_type": "code",
   "execution_count": 91,
   "metadata": {},
   "outputs": [
    {
     "data": {
      "text/plain": [
       "[<selenium.webdriver.remote.webelement.WebElement (session=\"66276963d5cf14d8fca46ec7bdb64b84\", element=\"5df82c53-0781-4bd4-a655-d214cddef24b\")>,\n",
       " <selenium.webdriver.remote.webelement.WebElement (session=\"66276963d5cf14d8fca46ec7bdb64b84\", element=\"28965fef-f492-49b6-9c12-ee4e92250c43\")>,\n",
       " <selenium.webdriver.remote.webelement.WebElement (session=\"66276963d5cf14d8fca46ec7bdb64b84\", element=\"4c3941bb-e200-4cb3-802c-14290c09ff51\")>,\n",
       " <selenium.webdriver.remote.webelement.WebElement (session=\"66276963d5cf14d8fca46ec7bdb64b84\", element=\"3067a452-1e41-4826-ab75-e59dee140b89\")>,\n",
       " <selenium.webdriver.remote.webelement.WebElement (session=\"66276963d5cf14d8fca46ec7bdb64b84\", element=\"0c99479c-07a6-4483-a820-ca97addef909\")>,\n",
       " <selenium.webdriver.remote.webelement.WebElement (session=\"66276963d5cf14d8fca46ec7bdb64b84\", element=\"2a59d1c6-a084-4b5a-9052-a35c0789545e\")>,\n",
       " <selenium.webdriver.remote.webelement.WebElement (session=\"66276963d5cf14d8fca46ec7bdb64b84\", element=\"1eb21730-409d-46be-8807-336f36889c73\")>,\n",
       " <selenium.webdriver.remote.webelement.WebElement (session=\"66276963d5cf14d8fca46ec7bdb64b84\", element=\"55732b90-004c-4404-8ff0-a940f1369482\")>,\n",
       " <selenium.webdriver.remote.webelement.WebElement (session=\"66276963d5cf14d8fca46ec7bdb64b84\", element=\"36434ac8-8665-4d15-8d5c-085dce8eeac4\")>,\n",
       " <selenium.webdriver.remote.webelement.WebElement (session=\"66276963d5cf14d8fca46ec7bdb64b84\", element=\"e096fdda-ff7e-430e-a5f2-f294fa7e71df\")>,\n",
       " <selenium.webdriver.remote.webelement.WebElement (session=\"66276963d5cf14d8fca46ec7bdb64b84\", element=\"51cfcf50-2e5d-4d7e-8c39-96f68cab0114\")>,\n",
       " <selenium.webdriver.remote.webelement.WebElement (session=\"66276963d5cf14d8fca46ec7bdb64b84\", element=\"2a15c563-070d-4bcc-ae66-897b8deb584e\")>,\n",
       " <selenium.webdriver.remote.webelement.WebElement (session=\"66276963d5cf14d8fca46ec7bdb64b84\", element=\"3ddbb605-a3bb-4488-a304-366e24120b99\")>,\n",
       " <selenium.webdriver.remote.webelement.WebElement (session=\"66276963d5cf14d8fca46ec7bdb64b84\", element=\"061d720a-7e37-486b-b6ec-f94cb2443da2\")>,\n",
       " <selenium.webdriver.remote.webelement.WebElement (session=\"66276963d5cf14d8fca46ec7bdb64b84\", element=\"f8fef818-fbb9-4f7a-961b-8451eb621286\")>,\n",
       " <selenium.webdriver.remote.webelement.WebElement (session=\"66276963d5cf14d8fca46ec7bdb64b84\", element=\"b2f92469-985a-4ebd-8610-b1a7c8723425\")>,\n",
       " <selenium.webdriver.remote.webelement.WebElement (session=\"66276963d5cf14d8fca46ec7bdb64b84\", element=\"27e470c0-5ade-4914-bb61-73d31f6ea277\")>,\n",
       " <selenium.webdriver.remote.webelement.WebElement (session=\"66276963d5cf14d8fca46ec7bdb64b84\", element=\"ae567bbc-28f2-46bb-b788-555eabe3e859\")>,\n",
       " <selenium.webdriver.remote.webelement.WebElement (session=\"66276963d5cf14d8fca46ec7bdb64b84\", element=\"a7b71499-5532-4502-9f0e-921757e5f6e1\")>,\n",
       " <selenium.webdriver.remote.webelement.WebElement (session=\"66276963d5cf14d8fca46ec7bdb64b84\", element=\"d660b957-2145-4570-9d70-d0154ef5f361\")>,\n",
       " <selenium.webdriver.remote.webelement.WebElement (session=\"66276963d5cf14d8fca46ec7bdb64b84\", element=\"ebae09eb-1ddf-4de1-85b5-ec4164db8168\")>,\n",
       " <selenium.webdriver.remote.webelement.WebElement (session=\"66276963d5cf14d8fca46ec7bdb64b84\", element=\"f3a2933f-f8df-4097-afcd-d8b33036a253\")>,\n",
       " <selenium.webdriver.remote.webelement.WebElement (session=\"66276963d5cf14d8fca46ec7bdb64b84\", element=\"f76e52bf-ddb7-45a0-9b48-bd43d7e56b61\")>,\n",
       " <selenium.webdriver.remote.webelement.WebElement (session=\"66276963d5cf14d8fca46ec7bdb64b84\", element=\"7330441d-6657-446e-b74c-1cdd14b3d0be\")>,\n",
       " <selenium.webdriver.remote.webelement.WebElement (session=\"66276963d5cf14d8fca46ec7bdb64b84\", element=\"6773c0d6-50d0-43d2-b545-96d15b65365d\")>,\n",
       " <selenium.webdriver.remote.webelement.WebElement (session=\"66276963d5cf14d8fca46ec7bdb64b84\", element=\"47693be7-2330-4775-b8eb-ed89560d3945\")>,\n",
       " <selenium.webdriver.remote.webelement.WebElement (session=\"66276963d5cf14d8fca46ec7bdb64b84\", element=\"cace4971-f029-4753-9e96-debdeeb5a7b8\")>,\n",
       " <selenium.webdriver.remote.webelement.WebElement (session=\"66276963d5cf14d8fca46ec7bdb64b84\", element=\"3b5bfa38-2b7c-4e65-a275-688e84b7bfec\")>,\n",
       " <selenium.webdriver.remote.webelement.WebElement (session=\"66276963d5cf14d8fca46ec7bdb64b84\", element=\"750ff22c-34cc-4f65-aa35-4526c6a97e54\")>,\n",
       " <selenium.webdriver.remote.webelement.WebElement (session=\"66276963d5cf14d8fca46ec7bdb64b84\", element=\"cfce75b9-05eb-4981-834a-d5f32151f1f6\")>,\n",
       " <selenium.webdriver.remote.webelement.WebElement (session=\"66276963d5cf14d8fca46ec7bdb64b84\", element=\"dbb766b5-d5ab-4a97-b88d-7cd35346c1b5\")>,\n",
       " <selenium.webdriver.remote.webelement.WebElement (session=\"66276963d5cf14d8fca46ec7bdb64b84\", element=\"c556d7c9-f656-4e63-89a0-fc15b39bee6e\")>,\n",
       " <selenium.webdriver.remote.webelement.WebElement (session=\"66276963d5cf14d8fca46ec7bdb64b84\", element=\"1d83973a-92d1-47a8-b232-7d6ebeb25860\")>,\n",
       " <selenium.webdriver.remote.webelement.WebElement (session=\"66276963d5cf14d8fca46ec7bdb64b84\", element=\"b25c0325-9d1d-497e-8bed-8d009696e628\")>,\n",
       " <selenium.webdriver.remote.webelement.WebElement (session=\"66276963d5cf14d8fca46ec7bdb64b84\", element=\"67fd98ae-cdf7-44b5-9f6f-3d6442f128d8\")>,\n",
       " <selenium.webdriver.remote.webelement.WebElement (session=\"66276963d5cf14d8fca46ec7bdb64b84\", element=\"e6c07079-d890-4e53-9390-6be8a14a1568\")>]"
      ]
     },
     "execution_count": 91,
     "metadata": {},
     "output_type": "execute_result"
    }
   ],
   "source": [
    "cleansers"
   ]
  },
  {
   "cell_type": "code",
   "execution_count": 41,
   "metadata": {},
   "outputs": [],
   "source": [
    "for cleanser in cleansers:\n",
    "    # . para que busque dentro del elemento (en este caso cleansers, // todos los elementos)\n",
    "    name = cleanser.find_element_by_xpath('.//div[@class=\"itemTitle ng-binding').text"
   ]
  },
  {
   "cell_type": "code",
   "execution_count": 42,
   "metadata": {},
   "outputs": [
    {
     "data": {
      "text/plain": [
       "[<selenium.webdriver.remote.webelement.WebElement (session=\"fa5599a5772e136b6481a48803d62d67\", element=\"411bfccd-bc71-46ec-9b7e-3d35d3a16881\")>]"
      ]
     },
     "execution_count": 42,
     "metadata": {},
     "output_type": "execute_result"
    }
   ],
   "source": [
    "name"
   ]
  },
  {
   "cell_type": "markdown",
   "metadata": {},
   "source": [
    "¿Qué queremos obtener de la página?\n",
    "1. Nombre del producto\n",
    "2. Precio (?)\n",
    "3. Detalles\n",
    "4. Ingredientes"
   ]
  },
  {
   "cell_type": "markdown",
   "metadata": {},
   "source": [
    "En Stylevana, los productos están en contenedores <li class=item product-item>"
   ]
  },
  {
   "cell_type": "code",
   "execution_count": 34,
   "metadata": {},
   "outputs": [],
   "source": [
    "#cleansers = driver.find_elements_by_xpath('//li[@class=\"item product-item\"]') #extrae una lista de todos los elementos cuyo atributo sea el especificado tras @"
   ]
  },
  {
   "cell_type": "code",
   "execution_count": 10,
   "metadata": {},
   "outputs": [],
   "source": [
    "load_more = driver.find_element_by_xpath('//a[@class=\"round-btn icon icon-angle-right md-button ng-scope md-ink-ripple\"]')\n",
    "load_more.click()"
   ]
  },
  {
   "cell_type": "code",
   "execution_count": 6,
   "metadata": {},
   "outputs": [
    {
     "data": {
      "text/plain": [
       "<selenium.webdriver.remote.webelement.WebElement (session=\"22eb04c319867d75a0a4c7a969d46137\", element=\"f5c5642b-04d0-4c68-8227-d68ee9940d95\")>"
      ]
     },
     "execution_count": 6,
     "metadata": {},
     "output_type": "execute_result"
    }
   ],
   "source": []
  },
  {
   "cell_type": "code",
   "execution_count": 7,
   "metadata": {},
   "outputs": [],
   "source": [
    "for i in range(2):\n",
    "    try:\n",
    "        cleansers = driver.find_elements_by_xpath('//div[@class=\"itemContainer\"]')\n",
    "        load_more = driver.find_element_by_xpath('//a[@class=\"round-btn icon icon-angle-right md-button ng-scope md-ink-ripple\"]')\n",
    "        load_more.click()\n",
    "        \n",
    "    except:\n",
    "        break"
   ]
  },
  {
   "cell_type": "markdown",
   "metadata": {},
   "source": [
    "no se, no funciona\n",
    "while True:\n",
    "    #extrae una lista de todos los elementos cuyo atributo sea el especificado tras @\n",
    "    cleansers = driver.find_elements_by_xpath('//li[@class=\"item product-item\"]')\n",
    "    name = []\n",
    "    for cleanser in cleansers:\n",
    "        name.append(cleanser.text)\n",
    "        for i in range(3):\n",
    "            try:\n",
    "                load_more.click()\n",
    "            #sleep(random.uniform(7.0, 10.0))\n",
    "                load_more = driver.find_element_by_xpath('//a[@class=\"next i-next\"]')\n",
    "            except:\n",
    "                break"
   ]
  },
  {
   "cell_type": "code",
   "execution_count": 6,
   "metadata": {},
   "outputs": [
    {
     "data": {
      "text/plain": [
       "[]"
      ]
     },
     "execution_count": 6,
     "metadata": {},
     "output_type": "execute_result"
    }
   ],
   "source": [
    "cleansers"
   ]
  },
  {
   "cell_type": "code",
   "execution_count": null,
   "metadata": {},
   "outputs": [],
   "source": [
    "#for i in range(3):\n",
    "    #try:\n",
    "        \n",
    "      #  load_more.click()\n",
    "        #sleep(random.uniform(7.0, 10.0))\n",
    "    #    load_more = driver.find_element_by_xpath('//a[@class=\"next i-next\"]')\n",
    "    #except:\n",
    "     #   break"
   ]
  },
  {
   "cell_type": "markdown",
   "metadata": {},
   "source": [
    "la info de los productos (el nombre es lo que nos interesa), se encuentra dentro de un <div class=\"product-item-details\""
   ]
  },
  {
   "cell_type": "code",
   "execution_count": 37,
   "metadata": {},
   "outputs": [
    {
     "name": "stdout",
     "output_type": "stream",
     "text": [
      "iUNIK - Calendula Complete Cleansing Oil - 200ml\n",
      "Krave - Matcha Hemp Hydrating Cleanser 120ml\n",
      "COSRX - Low pH Good Morning Gel Cleanser - 150ml\n",
      "SOME BY MI - AHA-BHA-PHA 30days Miracle Acne Clear Body Cleanser - 400g\n",
      "heimish - All Clean Balm\n",
      "Isntree - Micellar Washing Cleansing Water - 300ml\n",
      "BEAUTY OF JOSEON - Cleansing Balm - 80g\n",
      "iUNIK - Centella Bubble Cleansing Foam - 150ml\n",
      "Haruharu WONDER - Black Rice Moisture Deep Cleansing Oil - 150ml\n",
      "Haruharu WONDER - Black Rice Moisture 5.5 Soft Cleansing Gel - 100ml\n",
      "heimish - All Clean Green Foam - 150ml\n",
      "SOME BY MI - Bye Bye Blackhead 30days Miracle Green Tea Tox Bubble Cleanser - 120g\n"
     ]
    }
   ],
   "source": [
    "for cleanser in cleansers:\n",
    "    # . para que busque dentro del elemento (en este caso cleansers, // todos los elementos)\n",
    "    name = cleanser.find_element_by_xpath('.//a[@class=\"ng-isolate-scope').text\n",
    "    print(name)"
   ]
  },
  {
   "cell_type": "code",
   "execution_count": null,
   "metadata": {},
   "outputs": [],
   "source": []
  },
  {
   "cell_type": "code",
   "execution_count": null,
   "metadata": {},
   "outputs": [],
   "source": []
  },
  {
   "cell_type": "code",
   "execution_count": null,
   "metadata": {},
   "outputs": [],
   "source": []
  },
  {
   "cell_type": "code",
   "execution_count": null,
   "metadata": {},
   "outputs": [],
   "source": []
  },
  {
   "cell_type": "code",
   "execution_count": null,
   "metadata": {},
   "outputs": [],
   "source": []
  },
  {
   "cell_type": "code",
   "execution_count": null,
   "metadata": {},
   "outputs": [],
   "source": []
  },
  {
   "cell_type": "code",
   "execution_count": null,
   "metadata": {},
   "outputs": [],
   "source": []
  },
  {
   "cell_type": "code",
   "execution_count": null,
   "metadata": {},
   "outputs": [],
   "source": []
  }
 ],
 "metadata": {
  "kernelspec": {
   "display_name": "Python [conda env:ironhack_env]",
   "language": "python",
   "name": "conda-env-ironhack_env-py"
  },
  "language_info": {
   "codemirror_mode": {
    "name": "ipython",
    "version": 3
   },
   "file_extension": ".py",
   "mimetype": "text/x-python",
   "name": "python",
   "nbconvert_exporter": "python",
   "pygments_lexer": "ipython3",
   "version": "3.8.5"
  }
 },
 "nbformat": 4,
 "nbformat_minor": 4
}
