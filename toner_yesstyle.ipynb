{
 "cells": [
  {
   "cell_type": "code",
   "execution_count": null,
   "metadata": {},
   "outputs": [],
   "source": []
  },
  {
   "cell_type": "code",
   "execution_count": 1,
   "metadata": {},
   "outputs": [],
   "source": [
    "import requests\n",
    "from bs4 import BeautifulSoup\n",
    "import pandas as pd\n",
    "import re"
   ]
  },
  {
   "cell_type": "code",
   "execution_count": 2,
   "metadata": {},
   "outputs": [],
   "source": [
    "headers = {'User-Agent': 'Mozilla/5.0 (Windows NT 10.0; Win64; x64) AppleWebKit/537.36 (KHTML, like Gecko) Chrome/78.0.3904.108 Safari/537.36'}"
   ]
  },
  {
   "cell_type": "code",
   "execution_count": 3,
   "metadata": {},
   "outputs": [],
   "source": [
    "# soup = BeautifulSoup(r.content, 'lxml') #usamos lxml como parser"
   ]
  },
  {
   "cell_type": "markdown",
   "metadata": {},
   "source": [
    "¿Qué queremos obtener de la página?\n",
    "1. Nombre del producto\n",
    "2. Precio (?)\n",
    "3. Detalles\n",
    "4. Ingredientes"
   ]
  },
  {
   "cell_type": "markdown",
   "metadata": {},
   "source": [
    "## 1 OBTENER TODAS LAS URLS DE LOS PRODUCTOS"
   ]
  },
  {
   "cell_type": "markdown",
   "metadata": {},
   "source": [
    "Para ello, utilizaremos bucles que iteren sobre los elementos de la página.\n",
    "* Variable global cleansers_url, es el contenedor de todas las urls.\n",
    "* Los links están dentro de un tag 'a', como sólo nos interesan aquellas que tengan href, pues href=True. \n",
    "* Se ha agregado class='product-image\" porque si no, el bucle cogía todas las urls (wishlist, url de la imagen etc), y solo nos interesan los productos.\n",
    "* Append cada uno de los links al contenedor."
   ]
  },
  {
   "cell_type": "markdown",
   "metadata": {},
   "source": [
    "cream_list = soup.find_all('div', class_='itemContainer')"
   ]
  },
  {
   "cell_type": "markdown",
   "metadata": {},
   "source": [
    "url = []\n",
    "for item in cream_list:\n",
    "        for link in item.find_all('a', href=True): \n",
    "            url.append(link['href'])"
   ]
  },
  {
   "cell_type": "code",
   "execution_count": 3,
   "metadata": {},
   "outputs": [],
   "source": [
    "toner_url = []\n",
    "for i in range (1, 29):\n",
    "    url = f'https://www.yesstyle.com/en/women-facial-toners/list.html/bcc.14337_bpt.46#/bt=37&sb=136&bpt=46&pn={i}&s=10&bcc=14337&l=1' \n",
    "    r = requests.get(url)\n",
    "    soup = BeautifulSoup(r.content, 'lxml')\n",
    "    toner_list = soup.find_all('div', class_='itemContainer')\n",
    "    for item in toner_list:\n",
    "        for link in item.find_all('a', href=True): \n",
    "            toner_url.append(link['href'])\n"
   ]
  },
  {
   "cell_type": "code",
   "execution_count": 4,
   "metadata": {},
   "outputs": [
    {
     "name": "stdout",
     "output_type": "stream",
     "text": [
      "1008\n"
     ]
    }
   ],
   "source": [
    "print(len(toner_url))"
   ]
  },
  {
   "cell_type": "markdown",
   "metadata": {},
   "source": [
    "with open(\"cleansers_url.txt\", \"w\") as output:\n",
    "    output.write(str(cleansers_url))"
   ]
  },
  {
   "cell_type": "markdown",
   "metadata": {},
   "source": [
    "## 2 OBTENER LA INFO DE LA PÁGINA PROPIA DEL PRODUCTO\n",
    "Info que necesitamos:\n",
    "* Nombre del producto\n",
    "* Details\n",
    "* Ingredients"
   ]
  },
  {
   "cell_type": "markdown",
   "metadata": {},
   "source": [
    "* Details e Ingredients se encuentran dentro de un grupo <div class='panel-group'"
   ]
  },
  {
   "cell_type": "code",
   "execution_count": 51,
   "metadata": {},
   "outputs": [],
   "source": [
    "\"\"\"\n",
    "test_url = 'https://www.yesstyle.com/es/cosrx-gel-limpiador-con-ph-bajo-good-morning-150ml/info.html/pid.1052684732'\n",
    "r = requests.get(test_url) #para cada link en el listado, hacemos una requests\n",
    "soup = BeautifulSoup(r.content, 'lxml')\n",
    "name = soup.find_all('div', class_='headingContent flex-gt-sm-66 flex-100')\n",
    "for x in name:\n",
    "    title = soup.find('h1').text\n",
    "ingred = soup.find('div', class_=\"cropWrapper\").text #ingredients\n",
    "rating = soup.find('div', class_='satisfied').text\n",
    "\"\"\""
   ]
  },
  {
   "cell_type": "code",
   "execution_count": null,
   "metadata": {},
   "outputs": [],
   "source": []
  },
  {
   "cell_type": "code",
   "execution_count": null,
   "metadata": {},
   "outputs": [],
   "source": []
  },
  {
   "cell_type": "code",
   "execution_count": 6,
   "metadata": {},
   "outputs": [
    {
     "data": {
      "text/plain": [
       "'https://www.yesstyle.com/en/the-face-shop-real-nature-face-mask-1pc-20-types-20g-calendula/info.html/pid.1061020764'"
      ]
     },
     "execution_count": 6,
     "metadata": {},
     "output_type": "execute_result"
    }
   ],
   "source": [
    "scrubs_url[0]"
   ]
  },
  {
   "cell_type": "code",
   "execution_count": 5,
   "metadata": {},
   "outputs": [],
   "source": [
    "toners = []"
   ]
  },
  {
   "cell_type": "code",
   "execution_count": 12,
   "metadata": {},
   "outputs": [],
   "source": [
    "for link in toner_url[860:1008]:\n",
    "    r = requests.get(link, headers=headers) #para cada link en el listado, hacemos una requests\n",
    "    soup = BeautifulSoup(r.content, 'lxml')\n",
    "    #usamos try, except porque hay ocasiones en las que no hay info sobre los ingredientes\n",
    "    try:\n",
    "        name_box = soup.find_all('div', class_='headingContent flex-gt-sm-66 flex-100')\n",
    "        for x in name_box:\n",
    "            name = soup.find('h1').text\n",
    "        ingredients = soup.find('div', class_=\"cropWrapper\").text.strip() #ingredients\n",
    "        rating = soup.find('div', class_='satisfied').text.strip()\n",
    "    except:\n",
    "        name= 'no info'\n",
    "        ingredients = 'no info'\n",
    "        rating = 'no info'\n",
    "        \n",
    "    toner_info = {\n",
    "    'name': name,\n",
    "    'rating': rating,\n",
    "    'ingredients': ingredients}\n",
    "    \n",
    "    toners.append(toner_info)"
   ]
  },
  {
   "cell_type": "code",
   "execution_count": 13,
   "metadata": {},
   "outputs": [
    {
     "name": "stdout",
     "output_type": "stream",
     "text": [
      "1008\n"
     ]
    }
   ],
   "source": [
    "print(len(toners))"
   ]
  },
  {
   "cell_type": "code",
   "execution_count": 12,
   "metadata": {},
   "outputs": [
    {
     "ename": "IndexError",
     "evalue": "list index out of range",
     "output_type": "error",
     "traceback": [
      "\u001b[0;31m---------------------------------------------------------------------------\u001b[0m",
      "\u001b[0;31mIndexError\u001b[0m                                Traceback (most recent call last)",
      "\u001b[0;32m<ipython-input-12-f20bd3beb773>\u001b[0m in \u001b[0;36m<module>\u001b[0;34m\u001b[0m\n\u001b[0;32m----> 1\u001b[0;31m \u001b[0mmasks\u001b[0m\u001b[0;34m[\u001b[0m\u001b[0;36m496\u001b[0m\u001b[0;34m]\u001b[0m\u001b[0;34m\u001b[0m\u001b[0;34m\u001b[0m\u001b[0m\n\u001b[0m",
      "\u001b[0;31mIndexError\u001b[0m: list index out of range"
     ]
    }
   ],
   "source": [
    "toners[496]"
   ]
  },
  {
   "cell_type": "markdown",
   "metadata": {},
   "source": [
    "## 3. PASARLO A DATAFRAME"
   ]
  },
  {
   "cell_type": "code",
   "execution_count": 14,
   "metadata": {},
   "outputs": [
    {
     "data": {
      "text/html": [
       "<div>\n",
       "<style scoped>\n",
       "    .dataframe tbody tr th:only-of-type {\n",
       "        vertical-align: middle;\n",
       "    }\n",
       "\n",
       "    .dataframe tbody tr th {\n",
       "        vertical-align: top;\n",
       "    }\n",
       "\n",
       "    .dataframe thead th {\n",
       "        text-align: right;\n",
       "    }\n",
       "</style>\n",
       "<table border=\"1\" class=\"dataframe\">\n",
       "  <thead>\n",
       "    <tr style=\"text-align: right;\">\n",
       "      <th></th>\n",
       "      <th>name</th>\n",
       "      <th>rating</th>\n",
       "      <th>ingredients</th>\n",
       "    </tr>\n",
       "  </thead>\n",
       "  <tbody>\n",
       "    <tr>\n",
       "      <th>0</th>\n",
       "      <td>\\nSOME BY MI - AHA, BHA, PHA 30 Days Miracle T...</td>\n",
       "      <td>95.5% customers satisfied|4,200 reviews</td>\n",
       "      <td>Water, Butylene Glycol, Dipropylene Glycol, Gl...</td>\n",
       "    </tr>\n",
       "    <tr>\n",
       "      <th>1</th>\n",
       "      <td>\\nI'm from - Rice Toner\\n</td>\n",
       "      <td>97.3% customers satisfied|2,151 reviews</td>\n",
       "      <td>Oryza Sativa (Rice) Extract (77.78%), Methylpr...</td>\n",
       "    </tr>\n",
       "    <tr>\n",
       "      <th>2</th>\n",
       "      <td>\\nPyunkang Yul - Essence Toner 200ml\\n</td>\n",
       "      <td>97.2% customers satisfied|3,135 reviews</td>\n",
       "      <td>Astragalus Membranaceus Root Extract, 1,2-Hexa...</td>\n",
       "    </tr>\n",
       "    <tr>\n",
       "      <th>3</th>\n",
       "      <td>\\nCOSRX - AHA/BHA Clarifying Treatment Toner\\n</td>\n",
       "      <td>95.6% customers satisfied|5,259 reviews</td>\n",
       "      <td>Water, Salix Alba (Willow) Bark Water, Pyrus M...</td>\n",
       "    </tr>\n",
       "    <tr>\n",
       "      <th>4</th>\n",
       "      <td>\\nDear, Klairs - Supple Preparation Facial Ton...</td>\n",
       "      <td>97.9% customers satisfied|3,709 reviews</td>\n",
       "      <td>Aqua (Water), Butylene Glycol, Dimethyl Sulfon...</td>\n",
       "    </tr>\n",
       "    <tr>\n",
       "      <th>...</th>\n",
       "      <td>...</td>\n",
       "      <td>...</td>\n",
       "      <td>...</td>\n",
       "    </tr>\n",
       "    <tr>\n",
       "      <th>1003</th>\n",
       "      <td>\\nManyo - Bifida Ampoule Mist\\n</td>\n",
       "      <td>100% customers satisfied|6 reviews</td>\n",
       "      <td>Paeonia Lactiflora Bark/Sap Extract, Bifida Fe...</td>\n",
       "    </tr>\n",
       "    <tr>\n",
       "      <th>1004</th>\n",
       "      <td>\\nMISSHA - Time Revolution Artemisia Treatment...</td>\n",
       "      <td>96.1% customers satisfied|137 reviews</td>\n",
       "      <td>Artemisia Annua Extract\\n\\nMore</td>\n",
       "    </tr>\n",
       "    <tr>\n",
       "      <th>1005</th>\n",
       "      <td>\\nBenton - Snail Bee High Content Lotion 120ml\\n</td>\n",
       "      <td>96.4% customers satisfied|241 reviews</td>\n",
       "      <td>Aqua (Water), Butylene Glycol, Snail Secretion...</td>\n",
       "    </tr>\n",
       "    <tr>\n",
       "      <th>1006</th>\n",
       "      <td>\\nSK-II - Facial Treatment Clear Lotion 30ml\\n</td>\n",
       "      <td>87.3% customers satisfied|120 reviews</td>\n",
       "      <td>Water, galactomyces culture solution (Gyunyu),...</td>\n",
       "    </tr>\n",
       "    <tr>\n",
       "      <th>1007</th>\n",
       "      <td>\\nSON &amp; PARK - Beauty Water 340ml\\n</td>\n",
       "      <td>97.7% customers satisfied|1,237 reviews</td>\n",
       "      <td>Water, Rosa Damascena (Rose) Flower Water, Ham...</td>\n",
       "    </tr>\n",
       "  </tbody>\n",
       "</table>\n",
       "<p>1008 rows × 3 columns</p>\n",
       "</div>"
      ],
      "text/plain": [
       "                                                   name  \\\n",
       "0     \\nSOME BY MI - AHA, BHA, PHA 30 Days Miracle T...   \n",
       "1                             \\nI'm from - Rice Toner\\n   \n",
       "2                \\nPyunkang Yul - Essence Toner 200ml\\n   \n",
       "3        \\nCOSRX - AHA/BHA Clarifying Treatment Toner\\n   \n",
       "4     \\nDear, Klairs - Supple Preparation Facial Ton...   \n",
       "...                                                 ...   \n",
       "1003                    \\nManyo - Bifida Ampoule Mist\\n   \n",
       "1004  \\nMISSHA - Time Revolution Artemisia Treatment...   \n",
       "1005   \\nBenton - Snail Bee High Content Lotion 120ml\\n   \n",
       "1006     \\nSK-II - Facial Treatment Clear Lotion 30ml\\n   \n",
       "1007                \\nSON & PARK - Beauty Water 340ml\\n   \n",
       "\n",
       "                                       rating  \\\n",
       "0     95.5% customers satisfied|4,200 reviews   \n",
       "1     97.3% customers satisfied|2,151 reviews   \n",
       "2     97.2% customers satisfied|3,135 reviews   \n",
       "3     95.6% customers satisfied|5,259 reviews   \n",
       "4     97.9% customers satisfied|3,709 reviews   \n",
       "...                                       ...   \n",
       "1003       100% customers satisfied|6 reviews   \n",
       "1004    96.1% customers satisfied|137 reviews   \n",
       "1005    96.4% customers satisfied|241 reviews   \n",
       "1006    87.3% customers satisfied|120 reviews   \n",
       "1007  97.7% customers satisfied|1,237 reviews   \n",
       "\n",
       "                                            ingredients  \n",
       "0     Water, Butylene Glycol, Dipropylene Glycol, Gl...  \n",
       "1     Oryza Sativa (Rice) Extract (77.78%), Methylpr...  \n",
       "2     Astragalus Membranaceus Root Extract, 1,2-Hexa...  \n",
       "3     Water, Salix Alba (Willow) Bark Water, Pyrus M...  \n",
       "4     Aqua (Water), Butylene Glycol, Dimethyl Sulfon...  \n",
       "...                                                 ...  \n",
       "1003  Paeonia Lactiflora Bark/Sap Extract, Bifida Fe...  \n",
       "1004                    Artemisia Annua Extract\\n\\nMore  \n",
       "1005  Aqua (Water), Butylene Glycol, Snail Secretion...  \n",
       "1006  Water, galactomyces culture solution (Gyunyu),...  \n",
       "1007  Water, Rosa Damascena (Rose) Flower Water, Ham...  \n",
       "\n",
       "[1008 rows x 3 columns]"
      ]
     },
     "execution_count": 14,
     "metadata": {},
     "output_type": "execute_result"
    }
   ],
   "source": [
    "toners_df = pd.DataFrame(toners)\n",
    "toners_df"
   ]
  },
  {
   "cell_type": "code",
   "execution_count": 15,
   "metadata": {},
   "outputs": [],
   "source": [
    "toner = toners_df.to_csv('yesstyle_data/toners.csv')"
   ]
  },
  {
   "cell_type": "code",
   "execution_count": null,
   "metadata": {},
   "outputs": [],
   "source": []
  }
 ],
 "metadata": {
  "kernelspec": {
   "display_name": "Python [conda env:ironhack_env]",
   "language": "python",
   "name": "conda-env-ironhack_env-py"
  },
  "language_info": {
   "codemirror_mode": {
    "name": "ipython",
    "version": 3
   },
   "file_extension": ".py",
   "mimetype": "text/x-python",
   "name": "python",
   "nbconvert_exporter": "python",
   "pygments_lexer": "ipython3",
   "version": "3.8.5"
  }
 },
 "nbformat": 4,
 "nbformat_minor": 4
}
