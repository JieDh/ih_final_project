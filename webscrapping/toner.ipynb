{
 "cells": [
  {
   "cell_type": "code",
   "execution_count": null,
   "metadata": {},
   "outputs": [],
   "source": []
  },
  {
   "cell_type": "code",
   "execution_count": 1,
   "metadata": {},
   "outputs": [],
   "source": [
    "import requests\n",
    "from bs4 import BeautifulSoup\n",
    "import pandas as pd"
   ]
  },
  {
   "cell_type": "code",
   "execution_count": null,
   "metadata": {},
   "outputs": [],
   "source": [
    "#como el navegador a usar es chrome, hemos descargado ya el driver de la página, guardamos la ruta en una variable\n",
    "#chrome_path = 'chromedriver_linux64/chromedriver'\n",
    "#driver = webdriver.Chrome(executable_path = chrome_path)"
   ]
  },
  {
   "cell_type": "code",
   "execution_count": 2,
   "metadata": {},
   "outputs": [],
   "source": [
    "headers = {'User-Agent': 'Mozilla/5.0 (Windows NT 10.0; Win64; x64) AppleWebKit/537.36 (KHTML, like Gecko) Chrome/78.0.3904.108 Safari/537.36'}"
   ]
  },
  {
   "cell_type": "markdown",
   "metadata": {},
   "source": [
    "¿Qué queremos obtener de la página?\n",
    "1. Nombre del producto\n",
    "2. Precio (?)\n",
    "3. Detalles\n",
    "4. Ingredientes"
   ]
  },
  {
   "cell_type": "markdown",
   "metadata": {},
   "source": [
    "## 1 OBTENER TODAS LAS URLS DE LOS PRODUCTOS"
   ]
  },
  {
   "cell_type": "markdown",
   "metadata": {},
   "source": [
    "Para ello, utilizaremos bucles que iteren sobre los elementos de la página.\n",
    "* Variable global cleansers_url, es el contenedor de todas las urls.\n",
    "* Los links están dentro de un tag 'a', como sólo nos interesan aquellas que tengan href, pues href=True. \n",
    "* Se ha agregado class='product-image\" porque si no, el bucle cogía todas las urls (wishlist, url de la imagen etc), y solo nos interesan los productos.\n",
    "* Append cada uno de los links al contenedor."
   ]
  },
  {
   "cell_type": "code",
   "execution_count": 3,
   "metadata": {},
   "outputs": [],
   "source": [
    "toner_url = []"
   ]
  },
  {
   "cell_type": "code",
   "execution_count": 4,
   "metadata": {},
   "outputs": [
    {
     "name": "stdout",
     "output_type": "stream",
     "text": [
      "790\n"
     ]
    }
   ],
   "source": [
    "for i in range (1,68):\n",
    "    url = f'https://www.stylevana.com/en_EU/skincare/face-care/toner-mist.html?p={i}' \n",
    "    r = requests.get(url)\n",
    "    soup = BeautifulSoup(r.content, 'lxml')\n",
    "    toner_list = soup.find_all('div', class_='product-item-info')\n",
    "    for item in toner_list:\n",
    "        for link in item.find_all('a', class_='product-image', href=True): \n",
    "            toner_url.append(link['href'])\n",
    "print(len(toner_url))"
   ]
  },
  {
   "cell_type": "markdown",
   "metadata": {},
   "source": [
    "with open(\"cleansers_url.txt\", \"w\") as output:\n",
    "    output.write(str(cleansers_url))"
   ]
  },
  {
   "cell_type": "code",
   "execution_count": null,
   "metadata": {},
   "outputs": [],
   "source": []
  },
  {
   "cell_type": "markdown",
   "metadata": {},
   "source": [
    "## 2 OBTENER LA INFO DE LA PÁGINA PROPIA DEL PRODUCTO\n",
    "Info que necesitamos:\n",
    "* Nombre del producto\n",
    "* Details\n",
    "* Ingredients"
   ]
  },
  {
   "cell_type": "markdown",
   "metadata": {},
   "source": [
    "* Details e Ingredients se encuentran dentro de un grupo <div class='panel-group'"
   ]
  },
  {
   "cell_type": "code",
   "execution_count": 5,
   "metadata": {},
   "outputs": [],
   "source": [
    "toners = []"
   ]
  },
  {
   "cell_type": "code",
   "execution_count": 6,
   "metadata": {},
   "outputs": [],
   "source": [
    "for link in toner_url[0:790]:\n",
    "    r = requests.get(link, headers=headers) #para cada link en el listado, hacemos una requests\n",
    "    soup = BeautifulSoup(r.content, 'lxml')\n",
    "    #usamos try, except porque hay ocasiones en las que no hay info sobre los ingredientes\n",
    "    try:\n",
    "        name = soup.find('h1', class_='product-name-h1').text\n",
    "        details = (soup.find('div', id='product-view-details').text.strip()) # details\n",
    "        price = (soup.find('span', class_='price').text.strip())\n",
    "        best_seller = soup.find(class_=\"product-badge-icon\").get('title')\n",
    "        ingredients = soup.find_all('div', id=\"product-view-ingredients\") #ingredients\n",
    "        for item in ingredients:\n",
    "            ingredients = item.find('div', class_='panel-body').text.strip()\n",
    "    except:\n",
    "        details = 'no info'\n",
    "        ingredients = 'no info'\n",
    "        price = 'no info'\n",
    "        best_seller = 'no'\n",
    "        \n",
    "    toners_info = {\n",
    "    'name': name,\n",
    "    'details': details,\n",
    "    'ingredients': ingredients,\n",
    "    'price': price,\n",
    "    'best-seller': best_seller}\n",
    "    \n",
    "    toners.append(toners_info)"
   ]
  },
  {
   "cell_type": "code",
   "execution_count": 7,
   "metadata": {},
   "outputs": [
    {
     "name": "stdout",
     "output_type": "stream",
     "text": [
      "790\n"
     ]
    }
   ],
   "source": [
    "print(len(toners))"
   ]
  },
  {
   "cell_type": "code",
   "execution_count": null,
   "metadata": {},
   "outputs": [],
   "source": []
  },
  {
   "cell_type": "markdown",
   "metadata": {},
   "source": [
    "## 3. PASARLO A DATAFRAME"
   ]
  },
  {
   "cell_type": "code",
   "execution_count": 8,
   "metadata": {},
   "outputs": [
    {
     "data": {
      "text/html": [
       "<div>\n",
       "<style scoped>\n",
       "    .dataframe tbody tr th:only-of-type {\n",
       "        vertical-align: middle;\n",
       "    }\n",
       "\n",
       "    .dataframe tbody tr th {\n",
       "        vertical-align: top;\n",
       "    }\n",
       "\n",
       "    .dataframe thead th {\n",
       "        text-align: right;\n",
       "    }\n",
       "</style>\n",
       "<table border=\"1\" class=\"dataframe\">\n",
       "  <thead>\n",
       "    <tr style=\"text-align: right;\">\n",
       "      <th></th>\n",
       "      <th>name</th>\n",
       "      <th>details</th>\n",
       "      <th>ingredients</th>\n",
       "      <th>price</th>\n",
       "      <th>best-seller</th>\n",
       "    </tr>\n",
       "  </thead>\n",
       "  <tbody>\n",
       "    <tr>\n",
       "      <th>0</th>\n",
       "      <td>Isntree - Green Tea Fresh Toner</td>\n",
       "      <td>Cruelty Free: Yes\\n\\n\\nUsage: Day, Night\\n\\n\\n...</td>\n",
       "      <td>Camellia Sinensis Leaf Extract, Water, Ginkgo ...</td>\n",
       "      <td>1.09€</td>\n",
       "      <td>Cruelty Free</td>\n",
       "    </tr>\n",
       "    <tr>\n",
       "      <th>1</th>\n",
       "      <td>COSRX - Centella Water Alcohol-Free Toner 150ml</td>\n",
       "      <td>Cruelty Free: Yes\\n\\n\\nUsage: Day, Night\\n\\n\\n...</td>\n",
       "      <td>Water, Centella Asiatica Leaf Water, Butylene ...</td>\n",
       "      <td>12.39€</td>\n",
       "      <td>Best Sellers</td>\n",
       "    </tr>\n",
       "    <tr>\n",
       "      <th>2</th>\n",
       "      <td>Isntree - Hyaluronic Acid Toner Plus</td>\n",
       "      <td>Cruelty Free: Yes\\n\\n\\nUsage: Day, Night\\n\\n\\n...</td>\n",
       "      <td>[]</td>\n",
       "      <td>9.99€</td>\n",
       "      <td>Cruelty Free</td>\n",
       "    </tr>\n",
       "    <tr>\n",
       "      <th>3</th>\n",
       "      <td>SOME BY MI - AHA-BHA-PHA 30 Days Miracle Toner...</td>\n",
       "      <td>Usage: Day, Night\\n\\n\\nProduct Type: Toner &amp; M...</td>\n",
       "      <td>[]</td>\n",
       "      <td>14.09€</td>\n",
       "      <td>Best Sellers</td>\n",
       "    </tr>\n",
       "    <tr>\n",
       "      <th>4</th>\n",
       "      <td>Haruharu WONDER - Black Rice Hyaluronic Toner ...</td>\n",
       "      <td>Usage: Day, Night\\n\\n\\nProduct Type: Toner &amp; M...</td>\n",
       "      <td>After washing the face, wet a cotton pad with ...</td>\n",
       "      <td>11.09€</td>\n",
       "      <td>Best Sellers</td>\n",
       "    </tr>\n",
       "    <tr>\n",
       "      <th>...</th>\n",
       "      <td>...</td>\n",
       "      <td>...</td>\n",
       "      <td>...</td>\n",
       "      <td>...</td>\n",
       "      <td>...</td>\n",
       "    </tr>\n",
       "    <tr>\n",
       "      <th>785</th>\n",
       "      <td>It's Skin - Cera Routine Essential Toner - 200ml</td>\n",
       "      <td>no info</td>\n",
       "      <td>no info</td>\n",
       "      <td>no info</td>\n",
       "      <td>no</td>\n",
       "    </tr>\n",
       "    <tr>\n",
       "      <th>786</th>\n",
       "      <td>The Saem - Eco Energy Fresh Toner - 150ml</td>\n",
       "      <td>no info</td>\n",
       "      <td>no info</td>\n",
       "      <td>no info</td>\n",
       "      <td>no</td>\n",
       "    </tr>\n",
       "    <tr>\n",
       "      <th>787</th>\n",
       "      <td>innisfree - Olive Real Oil Mist EX - 80ml</td>\n",
       "      <td>Usage: Day, Night\\n\\n\\nProduct Type: Toner &amp; M...</td>\n",
       "      <td>Water, Butylene Glycol, Olea Europaea (Olive) ...</td>\n",
       "      <td>5.99€</td>\n",
       "      <td>Clearance</td>\n",
       "    </tr>\n",
       "    <tr>\n",
       "      <th>788</th>\n",
       "      <td>A.H.C - Hydra G6 Essence Toner - 130ml</td>\n",
       "      <td>no info</td>\n",
       "      <td>no info</td>\n",
       "      <td>no info</td>\n",
       "      <td>no</td>\n",
       "    </tr>\n",
       "    <tr>\n",
       "      <th>789</th>\n",
       "      <td>Kao - Curel - Sebum Care Lotion - 150ml</td>\n",
       "      <td>no info</td>\n",
       "      <td>no info</td>\n",
       "      <td>no info</td>\n",
       "      <td>no</td>\n",
       "    </tr>\n",
       "  </tbody>\n",
       "</table>\n",
       "<p>790 rows × 5 columns</p>\n",
       "</div>"
      ],
      "text/plain": [
       "                                                  name  \\\n",
       "0                     Isntree - Green Tea Fresh Toner    \n",
       "1      COSRX - Centella Water Alcohol-Free Toner 150ml   \n",
       "2                Isntree - Hyaluronic Acid Toner Plus    \n",
       "3    SOME BY MI - AHA-BHA-PHA 30 Days Miracle Toner...   \n",
       "4    Haruharu WONDER - Black Rice Hyaluronic Toner ...   \n",
       "..                                                 ...   \n",
       "785   It's Skin - Cera Routine Essential Toner - 200ml   \n",
       "786          The Saem - Eco Energy Fresh Toner - 150ml   \n",
       "787          innisfree - Olive Real Oil Mist EX - 80ml   \n",
       "788             A.H.C - Hydra G6 Essence Toner - 130ml   \n",
       "789            Kao - Curel - Sebum Care Lotion - 150ml   \n",
       "\n",
       "                                               details  \\\n",
       "0    Cruelty Free: Yes\\n\\n\\nUsage: Day, Night\\n\\n\\n...   \n",
       "1    Cruelty Free: Yes\\n\\n\\nUsage: Day, Night\\n\\n\\n...   \n",
       "2    Cruelty Free: Yes\\n\\n\\nUsage: Day, Night\\n\\n\\n...   \n",
       "3    Usage: Day, Night\\n\\n\\nProduct Type: Toner & M...   \n",
       "4    Usage: Day, Night\\n\\n\\nProduct Type: Toner & M...   \n",
       "..                                                 ...   \n",
       "785                                            no info   \n",
       "786                                            no info   \n",
       "787  Usage: Day, Night\\n\\n\\nProduct Type: Toner & M...   \n",
       "788                                            no info   \n",
       "789                                            no info   \n",
       "\n",
       "                                           ingredients    price   best-seller  \n",
       "0    Camellia Sinensis Leaf Extract, Water, Ginkgo ...    1.09€  Cruelty Free  \n",
       "1    Water, Centella Asiatica Leaf Water, Butylene ...   12.39€  Best Sellers  \n",
       "2                                                   []    9.99€  Cruelty Free  \n",
       "3                                                   []   14.09€  Best Sellers  \n",
       "4    After washing the face, wet a cotton pad with ...   11.09€  Best Sellers  \n",
       "..                                                 ...      ...           ...  \n",
       "785                                            no info  no info            no  \n",
       "786                                            no info  no info            no  \n",
       "787  Water, Butylene Glycol, Olea Europaea (Olive) ...    5.99€     Clearance  \n",
       "788                                            no info  no info            no  \n",
       "789                                            no info  no info            no  \n",
       "\n",
       "[790 rows x 5 columns]"
      ]
     },
     "execution_count": 8,
     "metadata": {},
     "output_type": "execute_result"
    }
   ],
   "source": [
    "toners_df = pd.DataFrame(toners)\n",
    "toners_df"
   ]
  },
  {
   "cell_type": "code",
   "execution_count": 9,
   "metadata": {},
   "outputs": [],
   "source": [
    "toners = toners_df.to_csv('../data_/toners.csv')"
   ]
  },
  {
   "cell_type": "code",
   "execution_count": null,
   "metadata": {},
   "outputs": [],
   "source": []
  },
  {
   "cell_type": "code",
   "execution_count": null,
   "metadata": {},
   "outputs": [],
   "source": []
  }
 ],
 "metadata": {
  "kernelspec": {
   "display_name": "Python [conda env:ironhack_env]",
   "language": "python",
   "name": "conda-env-ironhack_env-py"
  },
  "language_info": {
   "codemirror_mode": {
    "name": "ipython",
    "version": 3
   },
   "file_extension": ".py",
   "mimetype": "text/x-python",
   "name": "python",
   "nbconvert_exporter": "python",
   "pygments_lexer": "ipython3",
   "version": "3.8.5"
  }
 },
 "nbformat": 4,
 "nbformat_minor": 4
}
