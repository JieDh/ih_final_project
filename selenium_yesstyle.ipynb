{
 "cells": [
  {
   "cell_type": "code",
   "execution_count": null,
   "metadata": {},
   "outputs": [],
   "source": []
  },
  {
   "cell_type": "code",
   "execution_count": 1,
   "metadata": {},
   "outputs": [],
   "source": [
    "import time\n",
    "from time import sleep\n",
    "from selenium import webdriver #qué navegador vamos a usar\n",
    "from selenium.webdriver.common.keys import Keys\n",
    "from selenium.webdriver.common.by import By\n",
    "from selenium.common.exceptions import NoSuchElementException"
   ]
  },
  {
   "cell_type": "code",
   "execution_count": 3,
   "metadata": {},
   "outputs": [],
   "source": [
    "#como el navegador a usar es chrome, hemos descargado ya el driver de la página, guardamos la ruta en una variable\n",
    "chrome_path = 'chromedriver_linux64/chromedriver'\n",
    "driver = webdriver.Chrome(executable_path = chrome_path)"
   ]
  },
  {
   "cell_type": "code",
   "execution_count": 4,
   "metadata": {},
   "outputs": [],
   "source": [
    "url = 'https://www.yesstyle.com/es/mujer-limpiadores-faciales/list.html/bcc.14335_bpt.46#/bpt=46&sb=136&pn=1&l=17&s=10&bcc=14335&bt=37' #página a scrappear. En Jolse no están listados los ingredientes\n",
    "driver.get(url)"
   ]
  },
  {
   "cell_type": "markdown",
   "metadata": {},
   "source": [
    "¿Qué queremos obtener de la página?\n",
    "1. Nombre del producto\n",
    "2. Precio (?)\n",
    "3. Detalles\n",
    "4. Ingredientes"
   ]
  },
  {
   "cell_type": "markdown",
   "metadata": {},
   "source": [
    "En Stylevana, los productos están en contenedores <li class=item product-item>"
   ]
  },
  {
   "cell_type": "code",
   "execution_count": 34,
   "metadata": {},
   "outputs": [],
   "source": [
    "#cleansers = driver.find_elements_by_xpath('//li[@class=\"item product-item\"]') #extrae una lista de todos los elementos cuyo atributo sea el especificado tras @"
   ]
  },
  {
   "cell_type": "code",
   "execution_count": 5,
   "metadata": {},
   "outputs": [],
   "source": [
    "load_more = driver.find_element_by_xpath('//a[@class=\"next i-next\"]')"
   ]
  },
  {
   "cell_type": "code",
   "execution_count": 6,
   "metadata": {},
   "outputs": [
    {
     "data": {
      "text/plain": [
       "<selenium.webdriver.remote.webelement.WebElement (session=\"22eb04c319867d75a0a4c7a969d46137\", element=\"f5c5642b-04d0-4c68-8227-d68ee9940d95\")>"
      ]
     },
     "execution_count": 6,
     "metadata": {},
     "output_type": "execute_result"
    }
   ],
   "source": []
  },
  {
   "cell_type": "code",
   "execution_count": 36,
   "metadata": {},
   "outputs": [],
   "source": [
    "for i in range(2):\n",
    "    try:\n",
    "        cleansers = driver.find_elements_by_xpath('//li[@class=\"item product-item\"]')\n",
    "        load_more.click()\n",
    "        load_more = driver.find_element_by_xpath('//a[@class=\"next i-next\"]')\n",
    "    except:\n",
    "        break"
   ]
  },
  {
   "cell_type": "markdown",
   "metadata": {},
   "source": [
    "no se, no funciona\n",
    "while True:\n",
    "    #extrae una lista de todos los elementos cuyo atributo sea el especificado tras @\n",
    "    cleansers = driver.find_elements_by_xpath('//li[@class=\"item product-item\"]')\n",
    "    name = []\n",
    "    for cleanser in cleansers:\n",
    "        name.append(cleanser.text)\n",
    "        for i in range(3):\n",
    "            try:\n",
    "                load_more.click()\n",
    "            #sleep(random.uniform(7.0, 10.0))\n",
    "                load_more = driver.find_element_by_xpath('//a[@class=\"next i-next\"]')\n",
    "            except:\n",
    "                break"
   ]
  },
  {
   "cell_type": "code",
   "execution_count": null,
   "metadata": {},
   "outputs": [],
   "source": [
    "#for i in range(3):\n",
    "    #try:\n",
    "        \n",
    "      #  load_more.click()\n",
    "        #sleep(random.uniform(7.0, 10.0))\n",
    "    #    load_more = driver.find_element_by_xpath('//a[@class=\"next i-next\"]')\n",
    "    #except:\n",
    "     #   break"
   ]
  },
  {
   "cell_type": "markdown",
   "metadata": {},
   "source": [
    "la info de los productos (el nombre es lo que nos interesa), se encuentra dentro de un <div class=\"product-item-details\""
   ]
  },
  {
   "cell_type": "code",
   "execution_count": 37,
   "metadata": {},
   "outputs": [
    {
     "name": "stdout",
     "output_type": "stream",
     "text": [
      "iUNIK - Calendula Complete Cleansing Oil - 200ml\n",
      "Krave - Matcha Hemp Hydrating Cleanser 120ml\n",
      "COSRX - Low pH Good Morning Gel Cleanser - 150ml\n",
      "SOME BY MI - AHA-BHA-PHA 30days Miracle Acne Clear Body Cleanser - 400g\n",
      "heimish - All Clean Balm\n",
      "Isntree - Micellar Washing Cleansing Water - 300ml\n",
      "BEAUTY OF JOSEON - Cleansing Balm - 80g\n",
      "iUNIK - Centella Bubble Cleansing Foam - 150ml\n",
      "Haruharu WONDER - Black Rice Moisture Deep Cleansing Oil - 150ml\n",
      "Haruharu WONDER - Black Rice Moisture 5.5 Soft Cleansing Gel - 100ml\n",
      "heimish - All Clean Green Foam - 150ml\n",
      "SOME BY MI - Bye Bye Blackhead 30days Miracle Green Tea Tox Bubble Cleanser - 120g\n"
     ]
    }
   ],
   "source": [
    "for cleanser in cleansers:\n",
    "    # . para que busque dentro del elemento (en este caso cleansers, // todos los elementos)\n",
    "    name = cleanser.find_element_by_xpath('.//a[@class=\"ng-isolate-scope').text\n",
    "    print(name)"
   ]
  },
  {
   "cell_type": "code",
   "execution_count": null,
   "metadata": {},
   "outputs": [],
   "source": []
  },
  {
   "cell_type": "code",
   "execution_count": null,
   "metadata": {},
   "outputs": [],
   "source": []
  },
  {
   "cell_type": "code",
   "execution_count": null,
   "metadata": {},
   "outputs": [],
   "source": []
  },
  {
   "cell_type": "code",
   "execution_count": null,
   "metadata": {},
   "outputs": [],
   "source": []
  },
  {
   "cell_type": "code",
   "execution_count": null,
   "metadata": {},
   "outputs": [],
   "source": []
  },
  {
   "cell_type": "code",
   "execution_count": null,
   "metadata": {},
   "outputs": [],
   "source": []
  },
  {
   "cell_type": "code",
   "execution_count": null,
   "metadata": {},
   "outputs": [],
   "source": []
  },
  {
   "cell_type": "code",
   "execution_count": null,
   "metadata": {},
   "outputs": [],
   "source": []
  }
 ],
 "metadata": {
  "kernelspec": {
   "display_name": "Python [conda env:ironhack_env]",
   "language": "python",
   "name": "conda-env-ironhack_env-py"
  },
  "language_info": {
   "codemirror_mode": {
    "name": "ipython",
    "version": 3
   },
   "file_extension": ".py",
   "mimetype": "text/x-python",
   "name": "python",
   "nbconvert_exporter": "python",
   "pygments_lexer": "ipython3",
   "version": "3.8.5"
  }
 },
 "nbformat": 4,
 "nbformat_minor": 4
}
