{
 "cells": [
  {
   "cell_type": "code",
   "execution_count": null,
   "metadata": {},
   "outputs": [],
   "source": []
  },
  {
   "cell_type": "code",
   "execution_count": 1,
   "metadata": {},
   "outputs": [],
   "source": [
    "import requests\n",
    "from bs4 import BeautifulSoup\n",
    "import pandas as pd\n",
    "import re"
   ]
  },
  {
   "cell_type": "code",
   "execution_count": 7,
   "metadata": {},
   "outputs": [],
   "source": [
    "headers = {'User-Agent': 'Mozilla/5.0 (Windows NT 10.0; Win64; x64) AppleWebKit/537.36 (KHTML, like Gecko) Chrome/78.0.3904.108 Safari/537.36'}"
   ]
  },
  {
   "cell_type": "code",
   "execution_count": 3,
   "metadata": {},
   "outputs": [],
   "source": [
    "# soup = BeautifulSoup(r.content, 'lxml') #usamos lxml como parser"
   ]
  },
  {
   "cell_type": "markdown",
   "metadata": {},
   "source": [
    "¿Qué queremos obtener de la página?\n",
    "1. Nombre del producto\n",
    "2. Precio (?)\n",
    "3. Detalles\n",
    "4. Ingredientes"
   ]
  },
  {
   "cell_type": "markdown",
   "metadata": {},
   "source": [
    "## 1 OBTENER TODAS LAS URLS DE LOS PRODUCTOS"
   ]
  },
  {
   "cell_type": "markdown",
   "metadata": {},
   "source": [
    "Para ello, utilizaremos bucles que iteren sobre los elementos de la página.\n",
    "* Variable global cleansers_url, es el contenedor de todas las urls.\n",
    "* Los links están dentro de un tag 'a', como sólo nos interesan aquellas que tengan href, pues href=True. \n",
    "* Se ha agregado class='product-image\" porque si no, el bucle cogía todas las urls (wishlist, url de la imagen etc), y solo nos interesan los productos.\n",
    "* Append cada uno de los links al contenedor."
   ]
  },
  {
   "cell_type": "markdown",
   "metadata": {},
   "source": [
    "cream_list = soup.find_all('div', class_='itemContainer')"
   ]
  },
  {
   "cell_type": "markdown",
   "metadata": {},
   "source": [
    "url = []\n",
    "for item in cream_list:\n",
    "        for link in item.find_all('a', href=True): \n",
    "            url.append(link['href'])"
   ]
  },
  {
   "cell_type": "code",
   "execution_count": 3,
   "metadata": {},
   "outputs": [],
   "source": [
    "essence_url = []\n",
    "for i in range (1, 44):\n",
    "    url = f'https://www.yesstyle.com/en/women-face-serums-ampoules/list.html/bcc.14339_bpt.46#/bt=37&sb=136&bpt=46&pn={i}&s=10&bcc=14339&l=1' \n",
    "    r = requests.get(url)\n",
    "    soup = BeautifulSoup(r.content, 'lxml')\n",
    "    essence_list = soup.find_all('div', class_='itemContainer')\n",
    "    for item in essence_list:\n",
    "        for link in item.find_all('a', href=True): \n",
    "            essence_url.append(link['href'])\n"
   ]
  },
  {
   "cell_type": "code",
   "execution_count": 4,
   "metadata": {},
   "outputs": [
    {
     "name": "stdout",
     "output_type": "stream",
     "text": [
      "1548\n"
     ]
    }
   ],
   "source": [
    "print(len(essence_url))"
   ]
  },
  {
   "cell_type": "markdown",
   "metadata": {},
   "source": [
    "with open(\"cleansers_url.txt\", \"w\") as output:\n",
    "    output.write(str(cleansers_url))"
   ]
  },
  {
   "cell_type": "markdown",
   "metadata": {},
   "source": [
    "## 2 OBTENER LA INFO DE LA PÁGINA PROPIA DEL PRODUCTO\n",
    "Info que necesitamos:\n",
    "* Nombre del producto\n",
    "* Details\n",
    "* Ingredients"
   ]
  },
  {
   "cell_type": "markdown",
   "metadata": {},
   "source": [
    "* Details e Ingredients se encuentran dentro de un grupo <div class='panel-group'"
   ]
  },
  {
   "cell_type": "code",
   "execution_count": 51,
   "metadata": {},
   "outputs": [],
   "source": [
    "\"\"\"\n",
    "test_url = 'https://www.yesstyle.com/es/cosrx-gel-limpiador-con-ph-bajo-good-morning-150ml/info.html/pid.1052684732'\n",
    "r = requests.get(test_url) #para cada link en el listado, hacemos una requests\n",
    "soup = BeautifulSoup(r.content, 'lxml')\n",
    "name = soup.find_all('div', class_='headingContent flex-gt-sm-66 flex-100')\n",
    "for x in name:\n",
    "    title = soup.find('h1').text\n",
    "ingred = soup.find('div', class_=\"cropWrapper\").text #ingredients\n",
    "rating = soup.find('div', class_='satisfied').text\n",
    "\"\"\""
   ]
  },
  {
   "cell_type": "code",
   "execution_count": null,
   "metadata": {},
   "outputs": [],
   "source": []
  },
  {
   "cell_type": "code",
   "execution_count": null,
   "metadata": {},
   "outputs": [],
   "source": []
  },
  {
   "cell_type": "code",
   "execution_count": 6,
   "metadata": {},
   "outputs": [
    {
     "data": {
      "text/plain": [
       "'https://www.yesstyle.com/en/the-face-shop-real-nature-face-mask-1pc-20-types-20g-calendula/info.html/pid.1061020764'"
      ]
     },
     "execution_count": 6,
     "metadata": {},
     "output_type": "execute_result"
    }
   ],
   "source": [
    "essence_url[0]"
   ]
  },
  {
   "cell_type": "code",
   "execution_count": 5,
   "metadata": {},
   "outputs": [],
   "source": [
    "essence = []"
   ]
  },
  {
   "cell_type": "code",
   "execution_count": 8,
   "metadata": {},
   "outputs": [],
   "source": [
    "for link in essence_url[0:1548]:\n",
    "    r = requests.get(link, headers=headers) #para cada link en el listado, hacemos una requests\n",
    "    soup = BeautifulSoup(r.content, 'lxml')\n",
    "    #usamos try, except porque hay ocasiones en las que no hay info sobre los ingredientes\n",
    "    try:\n",
    "        name_box = soup.find_all('div', class_='headingContent flex-gt-sm-66 flex-100')\n",
    "        for x in name_box:\n",
    "            name = soup.find('h1').text\n",
    "        ingredients = soup.find('div', class_=\"cropWrapper\").text.strip() #ingredients\n",
    "        rating = soup.find('div', class_='satisfied').text.strip()\n",
    "    except:\n",
    "        name= 'no info'\n",
    "        ingredients = 'no info'\n",
    "        rating = 'no info'\n",
    "        \n",
    "    essence_info = {\n",
    "    'name': name,\n",
    "    'rating': rating,\n",
    "    'ingredients': ingredients}\n",
    "    \n",
    "    essence.append(essence_info)"
   ]
  },
  {
   "cell_type": "code",
   "execution_count": 9,
   "metadata": {},
   "outputs": [
    {
     "name": "stdout",
     "output_type": "stream",
     "text": [
      "1548\n"
     ]
    }
   ],
   "source": [
    "print(len(essence))"
   ]
  },
  {
   "cell_type": "code",
   "execution_count": 12,
   "metadata": {},
   "outputs": [
    {
     "ename": "IndexError",
     "evalue": "list index out of range",
     "output_type": "error",
     "traceback": [
      "\u001b[0;31m---------------------------------------------------------------------------\u001b[0m",
      "\u001b[0;31mIndexError\u001b[0m                                Traceback (most recent call last)",
      "\u001b[0;32m<ipython-input-12-f20bd3beb773>\u001b[0m in \u001b[0;36m<module>\u001b[0;34m\u001b[0m\n\u001b[0;32m----> 1\u001b[0;31m \u001b[0mmasks\u001b[0m\u001b[0;34m[\u001b[0m\u001b[0;36m496\u001b[0m\u001b[0;34m]\u001b[0m\u001b[0;34m\u001b[0m\u001b[0;34m\u001b[0m\u001b[0m\n\u001b[0m",
      "\u001b[0;31mIndexError\u001b[0m: list index out of range"
     ]
    }
   ],
   "source": [
    "essence[496]"
   ]
  },
  {
   "cell_type": "markdown",
   "metadata": {},
   "source": [
    "## 3. PASARLO A DATAFRAME"
   ]
  },
  {
   "cell_type": "code",
   "execution_count": 10,
   "metadata": {},
   "outputs": [
    {
     "data": {
      "text/html": [
       "<div>\n",
       "<style scoped>\n",
       "    .dataframe tbody tr th:only-of-type {\n",
       "        vertical-align: middle;\n",
       "    }\n",
       "\n",
       "    .dataframe tbody tr th {\n",
       "        vertical-align: top;\n",
       "    }\n",
       "\n",
       "    .dataframe thead th {\n",
       "        text-align: right;\n",
       "    }\n",
       "</style>\n",
       "<table border=\"1\" class=\"dataframe\">\n",
       "  <thead>\n",
       "    <tr style=\"text-align: right;\">\n",
       "      <th></th>\n",
       "      <th>name</th>\n",
       "      <th>rating</th>\n",
       "      <th>ingredients</th>\n",
       "    </tr>\n",
       "  </thead>\n",
       "  <tbody>\n",
       "    <tr>\n",
       "      <th>0</th>\n",
       "      <td>\\nCOSRX - Advanced Snail 96 Mucin Power Essence\\n</td>\n",
       "      <td>97.7% customers satisfied|4,210 reviews</td>\n",
       "      <td>Snail Secretion Filtrate, Betaine, Butylene Gl...</td>\n",
       "    </tr>\n",
       "    <tr>\n",
       "      <th>1</th>\n",
       "      <td>\\nSOME BY MI - AHA, BHA, PHA 30 Days Miracle S...</td>\n",
       "      <td>93.3% customers satisfied|2,374 reviews</td>\n",
       "      <td>Water, Centella Asiatica (Gotu Kola) Extract (...</td>\n",
       "    </tr>\n",
       "    <tr>\n",
       "      <th>2</th>\n",
       "      <td>\\nBenton - Snail Bee High Content Essence 60ml\\n</td>\n",
       "      <td>96.5% customers satisfied|4,185 reviews</td>\n",
       "      <td>Aqua (Water), Snail Secretion Filtrate, Butyle...</td>\n",
       "    </tr>\n",
       "    <tr>\n",
       "      <th>3</th>\n",
       "      <td>\\nBeauty of Joseon - Repair Serum\\n</td>\n",
       "      <td>98.1% customers satisfied|407 reviews</td>\n",
       "      <td>Panax Ginseng Root Water, Butylene Glycol, 1,2...</td>\n",
       "    </tr>\n",
       "    <tr>\n",
       "      <th>4</th>\n",
       "      <td>\\nRohto Mentholatum - Melano CC Vitamin C Esse...</td>\n",
       "      <td>96.1% customers satisfied|1,842 reviews</td>\n",
       "      <td>Active ingredient : Ascorbic acid (Active vita...</td>\n",
       "    </tr>\n",
       "    <tr>\n",
       "      <th>...</th>\n",
       "      <td>...</td>\n",
       "      <td>...</td>\n",
       "      <td>...</td>\n",
       "    </tr>\n",
       "    <tr>\n",
       "      <th>1543</th>\n",
       "      <td>\\nSOME BY MI - Yuja Niacin 30 Days Blemish Car...</td>\n",
       "      <td>92.9% customers satisfied|286 reviews</td>\n",
       "      <td>Citrus Junos Fruit Extract (82.37%), Niacinami...</td>\n",
       "    </tr>\n",
       "    <tr>\n",
       "      <th>1544</th>\n",
       "      <td>\\nTimeless Skin Care - 20% Vitamin C + E Ferul...</td>\n",
       "      <td>91.9% customers satisfied|303 reviews</td>\n",
       "      <td>Water, Ethoxydiglycol, L-Ascorbic Acid, Propyl...</td>\n",
       "    </tr>\n",
       "    <tr>\n",
       "      <th>1545</th>\n",
       "      <td>\\nSecret Key - Multi Cell Night Repair Ampoule...</td>\n",
       "      <td>93.4% customers satisfied|432 reviews</td>\n",
       "      <td>Water, Glycerin, Butylene Glycol, Arbutin, Nia...</td>\n",
       "    </tr>\n",
       "    <tr>\n",
       "      <th>1546</th>\n",
       "      <td>\\nIsntree - TW-Real Bifida Ampoule 50ml\\n</td>\n",
       "      <td>99% customers satisfied|103 reviews</td>\n",
       "      <td>Bifida Fermentation Lysate, Dipropylene Glycol...</td>\n",
       "    </tr>\n",
       "    <tr>\n",
       "      <th>1547</th>\n",
       "      <td>\\niUNIK - Black Snail Restore Serum Mini\\n</td>\n",
       "      <td>96.2% customers satisfied|225 reviews</td>\n",
       "      <td>Snail Secretion Filtrate, Centella Asiatica Le...</td>\n",
       "    </tr>\n",
       "  </tbody>\n",
       "</table>\n",
       "<p>1548 rows × 3 columns</p>\n",
       "</div>"
      ],
      "text/plain": [
       "                                                   name  \\\n",
       "0     \\nCOSRX - Advanced Snail 96 Mucin Power Essence\\n   \n",
       "1     \\nSOME BY MI - AHA, BHA, PHA 30 Days Miracle S...   \n",
       "2      \\nBenton - Snail Bee High Content Essence 60ml\\n   \n",
       "3                   \\nBeauty of Joseon - Repair Serum\\n   \n",
       "4     \\nRohto Mentholatum - Melano CC Vitamin C Esse...   \n",
       "...                                                 ...   \n",
       "1543  \\nSOME BY MI - Yuja Niacin 30 Days Blemish Car...   \n",
       "1544  \\nTimeless Skin Care - 20% Vitamin C + E Ferul...   \n",
       "1545  \\nSecret Key - Multi Cell Night Repair Ampoule...   \n",
       "1546          \\nIsntree - TW-Real Bifida Ampoule 50ml\\n   \n",
       "1547         \\niUNIK - Black Snail Restore Serum Mini\\n   \n",
       "\n",
       "                                       rating  \\\n",
       "0     97.7% customers satisfied|4,210 reviews   \n",
       "1     93.3% customers satisfied|2,374 reviews   \n",
       "2     96.5% customers satisfied|4,185 reviews   \n",
       "3       98.1% customers satisfied|407 reviews   \n",
       "4     96.1% customers satisfied|1,842 reviews   \n",
       "...                                       ...   \n",
       "1543    92.9% customers satisfied|286 reviews   \n",
       "1544    91.9% customers satisfied|303 reviews   \n",
       "1545    93.4% customers satisfied|432 reviews   \n",
       "1546      99% customers satisfied|103 reviews   \n",
       "1547    96.2% customers satisfied|225 reviews   \n",
       "\n",
       "                                            ingredients  \n",
       "0     Snail Secretion Filtrate, Betaine, Butylene Gl...  \n",
       "1     Water, Centella Asiatica (Gotu Kola) Extract (...  \n",
       "2     Aqua (Water), Snail Secretion Filtrate, Butyle...  \n",
       "3     Panax Ginseng Root Water, Butylene Glycol, 1,2...  \n",
       "4     Active ingredient : Ascorbic acid (Active vita...  \n",
       "...                                                 ...  \n",
       "1543  Citrus Junos Fruit Extract (82.37%), Niacinami...  \n",
       "1544  Water, Ethoxydiglycol, L-Ascorbic Acid, Propyl...  \n",
       "1545  Water, Glycerin, Butylene Glycol, Arbutin, Nia...  \n",
       "1546  Bifida Fermentation Lysate, Dipropylene Glycol...  \n",
       "1547  Snail Secretion Filtrate, Centella Asiatica Le...  \n",
       "\n",
       "[1548 rows x 3 columns]"
      ]
     },
     "execution_count": 10,
     "metadata": {},
     "output_type": "execute_result"
    }
   ],
   "source": [
    "essence_df = pd.DataFrame(essence)\n",
    "essence_df"
   ]
  },
  {
   "cell_type": "code",
   "execution_count": 11,
   "metadata": {},
   "outputs": [],
   "source": [
    "essence = essence_df.to_csv('yesstyle_data/essence.csv')"
   ]
  },
  {
   "cell_type": "code",
   "execution_count": null,
   "metadata": {},
   "outputs": [],
   "source": []
  }
 ],
 "metadata": {
  "kernelspec": {
   "display_name": "Python [conda env:ironhack_env]",
   "language": "python",
   "name": "conda-env-ironhack_env-py"
  },
  "language_info": {
   "codemirror_mode": {
    "name": "ipython",
    "version": 3
   },
   "file_extension": ".py",
   "mimetype": "text/x-python",
   "name": "python",
   "nbconvert_exporter": "python",
   "pygments_lexer": "ipython3",
   "version": "3.8.5"
  }
 },
 "nbformat": 4,
 "nbformat_minor": 4
}
