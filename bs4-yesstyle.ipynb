{
 "cells": [
  {
   "cell_type": "code",
   "execution_count": null,
   "metadata": {},
   "outputs": [],
   "source": []
  },
  {
   "cell_type": "code",
   "execution_count": 31,
   "metadata": {},
   "outputs": [],
   "source": [
    "import requests\n",
    "from bs4 import BeautifulSoup\n",
    "import pandas as pd\n",
    "import re"
   ]
  },
  {
   "cell_type": "code",
   "execution_count": 5,
   "metadata": {},
   "outputs": [],
   "source": [
    "headers = {'User-Agent': 'Mozilla/5.0 (Windows NT 10.0; Win64; x64) AppleWebKit/537.36 (KHTML, like Gecko) Chrome/78.0.3904.108 Safari/537.36'}"
   ]
  },
  {
   "cell_type": "code",
   "execution_count": 3,
   "metadata": {},
   "outputs": [],
   "source": [
    "# soup = BeautifulSoup(r.content, 'lxml') #usamos lxml como parser"
   ]
  },
  {
   "cell_type": "markdown",
   "metadata": {},
   "source": [
    "¿Qué queremos obtener de la página?\n",
    "1. Nombre del producto\n",
    "2. Precio (?)\n",
    "3. Detalles\n",
    "4. Ingredientes"
   ]
  },
  {
   "cell_type": "markdown",
   "metadata": {},
   "source": [
    "## 1 OBTENER TODAS LAS URLS DE LOS PRODUCTOS"
   ]
  },
  {
   "cell_type": "markdown",
   "metadata": {},
   "source": [
    "Para ello, utilizaremos bucles que iteren sobre los elementos de la página.\n",
    "* Variable global cleansers_url, es el contenedor de todas las urls.\n",
    "* Los links están dentro de un tag 'a', como sólo nos interesan aquellas que tengan href, pues href=True. \n",
    "* Se ha agregado class='product-image\" porque si no, el bucle cogía todas las urls (wishlist, url de la imagen etc), y solo nos interesan los productos.\n",
    "* Append cada uno de los links al contenedor."
   ]
  },
  {
   "cell_type": "code",
   "execution_count": 20,
   "metadata": {},
   "outputs": [],
   "source": [
    "url = f'https://www.yesstyle.com/es/mujer-limpiadores-faciales/list.html/bcc.14335_bpt.46#/bpt=46&sb=136&pn=1&l=17&s=10&bcc=14335&bt=37' \n",
    "r = requests.get(url)\n",
    "soup = BeautifulSoup(r.content, 'lxml')\n"
   ]
  },
  {
   "cell_type": "code",
   "execution_count": 95,
   "metadata": {},
   "outputs": [],
   "source": [
    "a = soup.find_all('a', href=True)"
   ]
  },
  {
   "cell_type": "code",
   "execution_count": 96,
   "metadata": {},
   "outputs": [
    {
     "data": {
      "text/plain": [
       "list"
      ]
     },
     "execution_count": 96,
     "metadata": {},
     "output_type": "execute_result"
    }
   ],
   "source": [
    "type(a)"
   ]
  },
  {
   "cell_type": "code",
   "execution_count": 108,
   "metadata": {},
   "outputs": [],
   "source": [
    "url = []\n",
    "for item in soup.find_all('a', href=True):\n",
    "    url.append(item['href'])"
   ]
  },
  {
   "cell_type": "code",
   "execution_count": 109,
   "metadata": {},
   "outputs": [
    {
     "data": {
      "text/plain": [
       "['javascript:void(0)',\n",
       " 'https://www.yesstyle.com/es/help/section.html/hsi.727##1521',\n",
       " 'https://www.yesstyle.com/es/women.html',\n",
       " 'https://www.yesstyle.com/es/women.html',\n",
       " 'https://www.yesstyle.com/es/beauty.html',\n",
       " 'https://www.yesstyle.com/es/mujer-belleza/list.html/bcc.14072_bpt.46?oc=1&sb=158',\n",
       " 'https://www.yesstyle.com/es/mujer-belleza/list.html/bcc.14072_bpt.46?oc=2',\n",
       " 'https://www.yesstyle.com/es/mujer-belleza/list.html/bcc.14072_bpt.46?oc=23',\n",
       " '/es/special-offers.html',\n",
       " '/es/japanese-beauty-cosmetics',\n",
       " '/es/taiwanese-beauty-cosmetics',\n",
       " '/es/us-beauty-cosmetics',\n",
       " 'https://www.yesstyle.com/es/mujer-belleza/list.html/bcc.14072_bpt.46',\n",
       " 'https://www.yesstyle.com/es/mujer-accesorios-y-complementos-de-belleza/list.html/bcc.14105_bpt.46',\n",
       " 'https://www.yesstyle.com/es/mujer-cuidado-facial/list.html/bcc.14107_bpt.46',\n",
       " 'https://www.yesstyle.com/es/mujer-cuidado-del-cuerpo/list.html/bcc.14106_bpt.46',\n",
       " 'https://www.yesstyle.com/es/mujer-cuidado-solar/list.html/bcc.15396_bpt.46',\n",
       " 'https://www.yesstyle.com/es/mujer-ducha-y-ba%C3%B1o/list.html/bcc.14104_bpt.46',\n",
       " 'https://www.yesstyle.com/es/mujer-higiene-dental/list.html/bcc.14108_bpt.46',\n",
       " 'https://www.yesstyle.com/es/mujer-manicure-y-pedicure/list.html/bcc.14113_bpt.46',\n",
       " 'https://www.yesstyle.com/es/mujer-maquillaje-y-cosm%C3%A9ticos/list.html/bcc.14114_bpt.46',\n",
       " 'https://www.yesstyle.com/es/mujer-tratamientos-y-cuidado-del-cabello/list.html/bcc.14112_bpt.46',\n",
       " 'https://www.yesstyle.com/es/cosrx/list.html/bpt.299_bid.317041?bcc=14072',\n",
       " 'https://www.yesstyle.com/es/secret-key/list.html/bpt.299_bid.313076?bcc=14072',\n",
       " 'https://www.yesstyle.com/es/some-by-mi/list.html/bpt.299_bid.321384?bcc=14072',\n",
       " 'https://www.yesstyle.com/es/mizon/list.html/bpt.299_bid.314120?bcc=14072',\n",
       " 'https://www.yesstyle.com/es/mujer-belleza/list.html/bcc.14072_bpt.46?oc=29',\n",
       " 'https://www.yesstyle.com/es/mujer-brands/list.html/bpt.300?bcs=1&badid=14072',\n",
       " 'https://www.yesstyle.com/es/mujer-brands/list.html/bpt.300?badid=14072',\n",
       " '/es/k-beauty',\n",
       " 'https://www.yesstyle.com/es/korean-skin-care',\n",
       " 'https://www.yesstyle.com/es/korean-beauty-cosmetics',\n",
       " 'https://www.yesstyle.com/es/korean-moisturizers',\n",
       " '/es/women-beauty/list.html/bcc.14072_bpt.46#/oc=2,30,12',\n",
       " 'https://www.yesstyle.com/es/mujer-prendas/list.html/bcc.14071_bpt.46?oc=1&sb=158',\n",
       " 'https://www.yesstyle.com/es/mujer-prendas/list.html/bcc.14071_bpt.46?oc=2',\n",
       " 'https://www.yesstyle.com/es/mujer-prendas/list.html/bcc.14071_bpt.46?oc=23',\n",
       " '/es/special-offers.html',\n",
       " '/es/high-street',\n",
       " '/es/korean-fashion-women',\n",
       " '/es/mujer-prendas/list.html/bcc.14071_bpt.46#/pr=0~15',\n",
       " 'https://www.yesstyle.com/es/mujer-prendas/list.html/bcc.14071_bpt.46',\n",
       " 'https://www.yesstyle.com/es/mujer-ba%C3%B1adores-y-bikinis/list.html/bcc.14100_bpt.46',\n",
       " 'https://www.yesstyle.com/es/mujer-camisetas-y-blusas/list.html/bcc.14090_bpt.46',\n",
       " 'https://www.yesstyle.com/es/mujer-cazadoras-y-chaquetas/list.html/bcc.14094_bpt.46',\n",
       " 'https://www.yesstyle.com/es/mujer-compra-faldas-y-skorts/list.html/bcc.14093_bpt.46',\n",
       " 'https://www.yesstyle.com/es/mujer-lencer%C3%ADa-y-ropa/list.html/bcc.14096_bpt.46',\n",
       " 'https://www.yesstyle.com/es/mujer-pijamas-de-mujer-y-ropa-de-dormir/list.html/bcc.14097_bpt.46',\n",
       " 'https://www.yesstyle.com/es/mujer-ropa-deportiva-y-crossfitness/list.html/bcc.14099_bpt.46',\n",
       " 'https://www.yesstyle.com/es/mujer-shorts-y-bottoms/list.html/bcc.14092_bpt.46',\n",
       " 'https://www.yesstyle.com/es/mujer-sudaderas-con-capucha/list.html/bcc.14263_bpt.46',\n",
       " 'https://www.yesstyle.com/es/mujer-vaqueros-y-jeans/list.html/bcc.15663_bpt.46',\n",
       " 'https://www.yesstyle.com/es/mujer-vaqueros-y-bottoms/list.html/bcc.14091_bpt.46',\n",
       " 'https://www.yesstyle.com/es/mujer-vestidos/list.html/bcc.14089_bpt.46',\n",
       " 'https://www.yesstyle.com/es/brickblack/list.html/bpt.299_bid.325709?bcc=14071',\n",
       " 'https://www.yesstyle.com/es/colada/list.html/bpt.299_bid.319791?bcc=14071',\n",
       " 'https://www.yesstyle.com/es/chuu/list.html/bpt.299_bid.313550?bcc=14071',\n",
       " 'https://www.yesstyle.com/es/dute/list.html/bpt.299_bid.314454?bcc=14071',\n",
       " 'https://www.yesstyle.com/es/honet/list.html/bpt.299_bid.324944?bcc=14071',\n",
       " 'https://www.yesstyle.com/es/moon-city/list.html/bpt.299_bid.316029?bcc=14071',\n",
       " 'https://www.yesstyle.com/es/sosana/list.html/bpt.299_bid.324356?bcc=14071',\n",
       " 'https://www.yesstyle.com/es/mujer-brands/list.html/bpt.300?bcs=1&badid=14071',\n",
       " 'https://www.yesstyle.com/es/mujer-brands/list.html/bpt.300?badid=14071',\n",
       " '/es/women-clothing/list.html/bcc.14071_bpt.46?oc=38',\n",
       " 'https://www.yesstyle.com/es/mujer-accesorios/list.html/bcc.14073_bpt.46?oc=1&sb=158',\n",
       " 'https://www.yesstyle.com/es/mujer-accesorios/list.html/bcc.14073_bpt.46?oc=2',\n",
       " 'https://www.yesstyle.com/es/mujer-accesorios/list.html/bcc.14073_bpt.46?oc=23',\n",
       " '/es/mujer-accesorios/list.html/bcc.14073_bpt.46#/sb=169',\n",
       " '/es/mujer-accesorios/list.html/bcc.14073_bpt.46#/pr=0~10',\n",
       " 'https://www.yesstyle.com/es/mujer-accesorios/list.html/bcc.14073_bpt.46',\n",
       " 'https://www.yesstyle.com/es/mujer-alta-joyer%C3%ADa/list.html/bcc.14120_bpt.46',\n",
       " 'https://www.yesstyle.com/es/mujer-bufandas-y-calentadores/list.html/bcc.14116_bpt.46',\n",
       " 'https://www.yesstyle.com/es/mujer-cinturones-y-correas/list.html/bcc.14115_bpt.46',\n",
       " 'https://www.yesstyle.com/es/mujer-gafas-de-sol-y-lentes/list.html/bcc.14119_bpt.46',\n",
       " 'https://www.yesstyle.com/es/mujer-guantes/list.html/bcc.14117_bpt.46',\n",
       " 'https://www.yesstyle.com/es/mujer-joyer%C3%ADa-y-accesorios/list.html/bcc.14121_bpt.46',\n",
       " 'https://www.yesstyle.com/es/mujer-pelucas-y-complementos-de-pelo/list.html/bcc.14122_bpt.46',\n",
       " 'https://www.yesstyle.com/es/mujer-sombreros-y-gorras/list.html/bcc.14118_bpt.46',\n",
       " 'https://www.yesstyle.com/es/pompabee/list.html/bpt.299_bid.316206?bcc=14073',\n",
       " 'https://www.yesstyle.com/es/a-roch/list.html/bpt.299_bid.317114?bcc=14073',\n",
       " 'https://www.yesstyle.com/es/frome/list.html/bpt.299_bid.316208?bcc=14073',\n",
       " 'https://www.yesstyle.com/es/mujer-brands/list.html/bpt.300?bcs=1&badid=14073',\n",
       " 'https://www.yesstyle.com/es/mujer-brands/list.html/bpt.300?badid=14073',\n",
       " '/es/women-headwear/list.html/bcc.14118_bpt.46',\n",
       " 'https://www.yesstyle.com/es/mujer-casa-y-cuidado-personal/list.html/bcc.14076_bpt.46?oc=1&sb=158',\n",
       " 'https://www.yesstyle.com/es/mujer-casa-y-cuidado-personal/list.html/bcc.14076_bpt.46?oc=2',\n",
       " 'https://www.yesstyle.com/es/mujer-casa-y-cuidado-personal/list.html/bcc.14076_bpt.46?oc=23',\n",
       " '/es/mujer-casa-y-cuidado-personal/list.html/bcc.14076_bpt.46#/sb=169',\n",
       " '/es/mujer-casa-y-cuidado-personal/list.html/bcc.14076_bpt.46#/oc=12',\n",
       " '/es/mujer-casa-y-cuidado-personal/list.html/bcc.14076_bpt.46#/oc=13',\n",
       " 'https://www.yesstyle.com/es/mujer-casa-y-cuidado-personal/list.html/bcc.14076_bpt.46',\n",
       " 'https://www.yesstyle.com/es/mujer-accesorios-deportivos/list.html/bcc.14156_bpt.46',\n",
       " 'https://www.yesstyle.com/es/mujer-accesorios-electr%C3%B3nicos/list.html/bcc.14152_bpt.46',\n",
       " 'https://www.yesstyle.com/es/mujer-accesorios-para-mascotas/list.html/bcc.14155_bpt.46',\n",
       " 'https://www.yesstyle.com/es/mujer-curiosidades-y-gizmos/list.html/bcc.14154_bpt.46',\n",
       " 'https://www.yesstyle.com/es/mujer-diy-y-arte/list.html/bcc.14158_bpt.46',\n",
       " 'https://www.yesstyle.com/es/mujer-entretenimiento-coreano/list.html/bcc.15162_bpt.46',\n",
       " 'https://www.yesstyle.com/es/mujer-esenciales-de-viaje/list.html/bcc.14159_bpt.46',\n",
       " 'https://www.yesstyle.com/es/mujer-esenciales-para-el-aire-libre/list.html/bcc.14153_bpt.46',\n",
       " 'https://www.yesstyle.com/es/mujer-hogar/list.html/bcc.14151_bpt.46',\n",
       " 'https://www.yesstyle.com/es/mujer-librer%C3%ADa-y-papeler%C3%ADa/list.html/bcc.14157_bpt.46',\n",
       " 'https://www.yesstyle.com/es/mujer-brands/list.html/bpt.300?bcs=1&badid=14076',\n",
       " 'https://www.yesstyle.com/es/mujer-brands/list.html/bpt.300?badid=14076',\n",
       " '/es/women-homeware/list.html/bcc.14151_bpt.46',\n",
       " '//www.yesstyle.com/blog/',\n",
       " 'https://www.yesstyle.com/es/men.html',\n",
       " 'https://www.yesstyle.com/es/men.html',\n",
       " 'https://www.yesstyle.com/es/hombre-moda/list.html/bcc.14077_bpt.46?oc=1&sb=158',\n",
       " 'https://www.yesstyle.com/es/hombre-moda/list.html/bcc.14077_bpt.46?oc=2',\n",
       " 'https://www.yesstyle.com/es/hombre-moda/list.html/bcc.14077_bpt.46?oc=23',\n",
       " '/es/special-offers.html',\n",
       " '/es/hombre-moda/list.html/bcc.14077_bpt.46#/sb=169',\n",
       " '/es/korean-fashion-men',\n",
       " '/es/hombre-moda/list.html/bcc.14077_bpt.46#/pr=0~15',\n",
       " 'https://www.yesstyle.com/es/hombre-moda/list.html/bcc.14077_bpt.46',\n",
       " 'https://www.yesstyle.com/es/hombre-calcetines/list.html/bcc.15148_bpt.46',\n",
       " 'https://www.yesstyle.com/es/hombre-camisas-y-tops/list.html/bcc.14160_bpt.46',\n",
       " 'https://www.yesstyle.com/es/hombre-chaquetas-y-abrigos/list.html/bcc.14163_bpt.46',\n",
       " 'https://www.yesstyle.com/es/hombre-cosplay-y-disfraces/list.html/bcc.14166_bpt.46',\n",
       " 'https://www.yesstyle.com/es/hombre-pantalones/list.html/bcc.14161_bpt.46',\n",
       " 'https://www.yesstyle.com/es/hombre-pijamas-y-ropa-de-dormir/list.html/bcc.14169_bpt.46',\n",
       " 'https://www.yesstyle.com/es/hombre-ropa-deportiva-sportswear/list.html/bcc.14168_bpt.46',\n",
       " 'https://www.yesstyle.com/es/hombre-ropa-interior/list.html/bcc.14165_bpt.46',\n",
       " 'https://www.yesstyle.com/es/hombre-shorts/list.html/bcc.14162_bpt.46',\n",
       " 'https://www.yesstyle.com/es/hombre-sudaderas/list.html/bcc.14460_bpt.46',\n",
       " 'https://www.yesstyle.com/es/hombre-trajes/list.html/bcc.14164_bpt.46',\n",
       " 'https://www.yesstyle.com/es/hombre-trajes-de-ba%C3%B1o/list.html/bcc.14167_bpt.46',\n",
       " 'https://www.yesstyle.com/es/styleman/list.html/bpt.299_bid.314724?bcc=14077',\n",
       " 'https://www.yesstyle.com/es/mrcyc/list.html/bpt.299_bid.314015?bcc=14077',\n",
       " 'https://www.yesstyle.com/es/bay-go-mall/list.html/bpt.299_bid.314066?bcc=14077',\n",
       " 'https://www.yesstyle.com/es/hombre-brands/list.html/bpt.300?bcs=1&badid=14077',\n",
       " 'https://www.yesstyle.com/es/hombre-brands/list.html/bpt.300?badid=14077',\n",
       " '/es/men-sweatshirts/list.html/bcc.14460_bpt.46',\n",
       " 'https://www.yesstyle.com/es/hombre-accesorios/list.html/bcc.14078_bpt.46?oc=1&sb=158',\n",
       " 'https://www.yesstyle.com/es/hombre-accesorios/list.html/bcc.14078_bpt.46?oc=2',\n",
       " 'https://www.yesstyle.com/es/hombre-accesorios/list.html/bcc.14078_bpt.46?oc=23',\n",
       " '/es/hombre-accesorios/list.html/bcc.14078_bpt.46#/sb=169',\n",
       " '/es/hombre-accesorios/list.html/bcc.14078_bpt.46#/pr=0~10',\n",
       " 'https://www.yesstyle.com/es/hombre-accesorios/list.html/bcc.14078_bpt.46',\n",
       " 'https://www.yesstyle.com/es/hombre-bufandas-y-guantes/list.html/bcc.14171_bpt.46',\n",
       " 'https://www.yesstyle.com/es/hombre-corbatas-mo%C3%B1os/list.html/bcc.14173_bpt.46',\n",
       " 'https://www.yesstyle.com/es/hombre-corras-y-cinturones/list.html/bcc.14170_bpt.46',\n",
       " 'https://www.yesstyle.com/es/hombre-gemelos-y-clips-de-corbata/list.html/bcc.14174_bpt.46',\n",
       " 'https://www.yesstyle.com/es/hombre-gorras-y-sombreros/list.html/bcc.14172_bpt.46',\n",
       " 'https://www.yesstyle.com/es/hombre-joyer%C3%ADa-y-accesorios/list.html/bcc.14175_bpt.46',\n",
       " 'https://www.yesstyle.com/es/hombre-lentes-de-contacto/list.html/bcc.14178_bpt.46',\n",
       " 'https://www.yesstyle.com/es/hombre-pelucas-y-complementos-de-pelo/list.html/bcc.14176_bpt.46',\n",
       " 'https://www.yesstyle.com/es/hombre-brands/list.html/bpt.300?bcs=1&badid=14078',\n",
       " 'https://www.yesstyle.com/es/hombre-brands/list.html/bpt.300?badid=14078',\n",
       " '/es/men-belts/list.html/bcc.14170_bpt.46',\n",
       " 'https://www.yesstyle.com/es/hombre-grooming/list.html/bcc.14079_bpt.46?oc=1&sb=158',\n",
       " 'https://www.yesstyle.com/es/hombre-grooming/list.html/bcc.14079_bpt.46?oc=2',\n",
       " 'https://www.yesstyle.com/es/hombre-grooming/list.html/bcc.14079_bpt.46?oc=23',\n",
       " '/es/hombre-grooming/list.html/bcc.14079_bpt.46#/sb=169',\n",
       " '/es/hombre-grooming/list.html/bcc.14079_bpt.46#/oc=12',\n",
       " '/es/hombre-grooming/list.html/bcc.14079_bpt.46#/oc=13',\n",
       " 'https://www.yesstyle.com/es/hombre-grooming/list.html/bcc.14079_bpt.46',\n",
       " 'https://www.yesstyle.com/es/hombre-cuidado-facial/list.html/bcc.14179_bpt.46',\n",
       " 'https://www.yesstyle.com/es/hombre-cuidado-solar/list.html/bcc.15400_bpt.46',\n",
       " 'https://www.yesstyle.com/es/hombre-desodorantes-y-antitranspirantes/list.html/bcc.14181_bpt.46',\n",
       " 'https://www.yesstyle.com/es/hombre-productos-para-el-cabello/list.html/bcc.14182_bpt.46',\n",
       " 'https://www.yesstyle.com/es/mandom/list.html/bpt.299_bid.311582?bcc=14079',\n",
       " 'https://www.yesstyle.com/es/the-face-shop/list.html/bpt.299_bid.314576?bcc=14079',\n",
       " 'https://www.yesstyle.com/es/rohto-mentholatum/list.html/bpt.299_bid.311904?bcc=14079',\n",
       " 'https://www.yesstyle.com/es/hombre-brands/list.html/bpt.300?bcs=1&badid=14079',\n",
       " 'https://www.yesstyle.com/es/hombre-brands/list.html/bpt.300?badid=14079',\n",
       " '/es/men-face-creams-moisturizers/list.html/bcc.14510_bpt.46',\n",
       " 'https://www.yesstyle.com/es/hombre-hogar-y-estilo-de-vida/list.html/bcc.14082_bpt.46?oc=1&sb=158',\n",
       " 'https://www.yesstyle.com/es/hombre-hogar-y-estilo-de-vida/list.html/bcc.14082_bpt.46?oc=2',\n",
       " 'https://www.yesstyle.com/es/hombre-hogar-y-estilo-de-vida/list.html/bcc.14082_bpt.46?oc=23',\n",
       " '/es/hombre-hogar-y-estilo-de-vida/list.html/bcc.14082_bpt.46#/sb=169',\n",
       " '/es/hombre-hogar-y-estilo-de-vida/list.html/bcc.14082_bpt.46#/oc=12',\n",
       " '/es/hombre-hogar-y-estilo-de-vida/list.html/bcc.14082_bpt.46#/oc=13',\n",
       " 'https://www.yesstyle.com/es/hombre-hogar-y-estilo-de-vida/list.html/bcc.14082_bpt.46',\n",
       " 'https://www.yesstyle.com/es/hombre-accesorios-deportivos/list.html/bcc.14204_bpt.46',\n",
       " 'https://www.yesstyle.com/es/hombre-accesorios-electr%C3%B3nicos/list.html/bcc.14200_bpt.46',\n",
       " 'https://www.yesstyle.com/es/hombre-accesorios-para-mascotas/list.html/bcc.14203_bpt.46',\n",
       " 'https://www.yesstyle.com/es/hombre-curiosidades-y-gizmos/list.html/bcc.14202_bpt.46',\n",
       " 'https://www.yesstyle.com/es/hombre-diy-y-arte/list.html/bcc.14206_bpt.46',\n",
       " 'https://www.yesstyle.com/es/hombre-entretenimiento-coreano/list.html/bcc.15163_bpt.46',\n",
       " 'https://www.yesstyle.com/es/hombre-esenciales-de-viaje/list.html/bcc.14207_bpt.46',\n",
       " 'https://www.yesstyle.com/es/hombre-es%C3%A9nciales-para/list.html/bcc.14201_bpt.46',\n",
       " 'https://www.yesstyle.com/es/hombre-hogar/list.html/bcc.14199_bpt.46',\n",
       " 'https://www.yesstyle.com/es/hombre-librer%C3%ADa-y-papeler%C3%ADa/list.html/bcc.14205_bpt.46',\n",
       " 'https://www.yesstyle.com/es/hombre-brands/list.html/bpt.300?bcs=1&badid=14082',\n",
       " 'https://www.yesstyle.com/es/hombre-brands/list.html/bpt.300?badid=14082',\n",
       " '/es/men-arts-crafts/list.html/bcc.14206_bpt.46',\n",
       " '//www.yesstyle.com/blog/',\n",
       " 'https://www.yesstyle.com/es/secure/sign-in.html',\n",
       " 'https://www.yesstyle.com/es/secure/sign-up.html',\n",
       " 'https://www.yesstyle.com/es/influencers.html',\n",
       " 'https://www.yesstyle.com/es/friend-rewards.html',\n",
       " 'https://www.yesstyle.com/es/help/main.html',\n",
       " 'https://www.yesstyle.com/es/secure/myaccount/track-your-order.html',\n",
       " 'https://www.yesstyle.com/en/women-facial-cleansers/list.html/bcc.14335_bpt.46',\n",
       " 'https://www.yesstyle.com/fr/femmes-nettoyants/list.html/bcc.14335_bpt.46',\n",
       " 'https://www.yesstyle.com/de/damen-reinigung/list.html/bcc.14335_bpt.46',\n",
       " 'https://www.yesstyle.com/es/mujer-limpiadores-faciales/list.html/bcc.14335_bpt.46',\n",
       " 'https://www.yesstyle.com/ja/%E3%83%AC%E3%83%87%E3%82%A3%E3%83%BC%E3%82%B9-%E6%B4%97%E9%A1%94-%E3%82%AF%E3%83%AC%E3%83%B3%E3%82%B8%E3%83%B3%E3%82%B0/list.html/bcc.14335_bpt.46',\n",
       " 'https://www.yesstyle.com/zh_TW/%E5%A5%B3%E8%A3%9D-%E6%BD%94%E9%9D%A2/list.html/bcc.14335_bpt.46',\n",
       " 'https://www.yesstyle.com/zh_CN/%E5%A5%B3%E8%A3%85-%E6%B4%81%E9%9D%A2/list.html/bcc.14335_bpt.46',\n",
       " '#',\n",
       " '#',\n",
       " '#',\n",
       " '#',\n",
       " '#',\n",
       " '#',\n",
       " '#',\n",
       " '#',\n",
       " '#',\n",
       " '#',\n",
       " '#',\n",
       " '#',\n",
       " '#',\n",
       " '#',\n",
       " '#',\n",
       " '#',\n",
       " '#',\n",
       " '#',\n",
       " 'https://www.yesstyle.com/es/home.html',\n",
       " 'https://www.yesstyle.com/en/women-facial-cleansers/list.html/bcc.14335_bpt.46',\n",
       " 'https://www.yesstyle.com/fr/femmes-nettoyants/list.html/bcc.14335_bpt.46',\n",
       " 'https://www.yesstyle.com/de/damen-reinigung/list.html/bcc.14335_bpt.46',\n",
       " 'https://www.yesstyle.com/es/mujer-limpiadores-faciales/list.html/bcc.14335_bpt.46',\n",
       " 'https://www.yesstyle.com/ja/%E3%83%AC%E3%83%87%E3%82%A3%E3%83%BC%E3%82%B9-%E6%B4%97%E9%A1%94-%E3%82%AF%E3%83%AC%E3%83%B3%E3%82%B8%E3%83%B3%E3%82%B0/list.html/bcc.14335_bpt.46',\n",
       " 'https://www.yesstyle.com/zh_TW/%E5%A5%B3%E8%A3%9D-%E6%BD%94%E9%9D%A2/list.html/bcc.14335_bpt.46',\n",
       " 'https://www.yesstyle.com/zh_CN/%E5%A5%B3%E8%A3%85-%E6%B4%81%E9%9D%A2/list.html/bcc.14335_bpt.46',\n",
       " 'https://www.yesstyle.com/es/shipping-rates-amp-delivery/help/section.html/hsi.732',\n",
       " 'https://www.yesstyle.com/es/secure/sign-in.html',\n",
       " 'https://www.yesstyle.com/es/secure/sign-up.html',\n",
       " 'https://www.yesstyle.com/es/secure/myaccount/track-your-order.html',\n",
       " 'https://www.yesstyle.com/es/help/main.html',\n",
       " 'https://www.yesstyle.com/es/influencers.html',\n",
       " 'https://www.yesstyle.com/es/friend-rewards.html',\n",
       " 'http://www.enable-javascript.com',\n",
       " '/es/first-time-visitors/help/section.html/hsi.2270',\n",
       " '/es/help/section.html/hsi.2212',\n",
       " 'https://www.yesstyle.com/es/home.html',\n",
       " 'https://www.yesstyle.com/es/women.html',\n",
       " 'https://www.yesstyle.com/es/mujer-belleza/list.html/bcc.14072_bpt.46',\n",
       " 'https://www.yesstyle.com/es/mujer-cuidado-facial/list.html/bcc.14107_bpt.46',\n",
       " '/es/mujer-mujer/list.html/bcc.14068_bpt.46#/sb=165',\n",
       " '/es/benton/list.html/bpt.299_bid.317175',\n",
       " 'javascript:void(0)',\n",
       " 'https://www.yesstyle.com/es/mujer-cuidado-facial/list.html/bcc.14107_bpt.46',\n",
       " 'https://www.yesstyle.com/es/mujer-limpiadores-faciales/list.html/bcc.14335_bpt.46?pn=2',\n",
       " 'https://www.yesstyle.com/es/mujer-limpiadores-faciales/list.html/bcc.14335_bpt.46?pn=3',\n",
       " 'https://www.yesstyle.com/es/mujer-limpiadores-faciales/list.html/bcc.14335_bpt.46?pn=4',\n",
       " 'https://www.yesstyle.com/es/mujer-limpiadores-faciales/list.html/bcc.14335_bpt.46?pn=48',\n",
       " 'https://www.yesstyle.com/es/mujer-limpiadores-faciales/list.html/bcc.14335_bpt.46?pn=2',\n",
       " 'https://www.yesstyle.com/es/cosrx-gel-limpiador-con-ph-bajo-good-morning-150ml/info.html/pid.1052684732',\n",
       " 'https://www.yesstyle.com/es/banila-co-b%C3%A1lsamo-limpiador/info.html/pid.1038277215',\n",
       " 'https://www.yesstyle.com/es/some-by-mi-limpiador/info.html/pid.1075314546',\n",
       " 'https://www.yesstyle.com/es/iunik-aceite-limpiador/info.html/pid.1068351702',\n",
       " 'https://www.yesstyle.com/es/rovectin-crema-de-agua-de-loto-clean-lotus-water-60ml/info.html/pid.1078663826',\n",
       " 'https://www.yesstyle.com/es/heimish-b%C3%A1lsamo-limpiador/info.html/pid.1053102258',\n",
       " 'https://www.yesstyle.com/es/the-face-shop-aceite-de-limpieza-rice-water-bright-light-cleansing/info.html/pid.1038281063',\n",
       " 'https://www.yesstyle.com/es/some-by-mi-barra-de-limpieza-pure-vitamin-c-v10-cleansing-bar-1-ud/info.html/pid.1070437922',\n",
       " 'https://www.yesstyle.com/es/cosrx-limpiador-suave/info.html/pid.1052684728',\n",
       " 'https://www.yesstyle.com/es/pyunkang-yul-espuma-limpiadora-low-ph-pore-deep-cleansing-foam-100ml/info.html/pid.1076632150',\n",
       " 'https://www.yesstyle.com/es/shiseido-senka-perfect-cleansing-foam-120g-3-types/info.html/pid.1077320744',\n",
       " 'https://www.yesstyle.com/es/purito-aceite-limpiador-from-green-new-version-200ml/info.html/pid.1099314024',\n",
       " 'https://www.yesstyle.com/es/some-by-mi-barra-limpiadora-aha-bha-pha-30-days-miracle-cleansing/info.html/pid.1067311278',\n",
       " 'https://www.yesstyle.com/es/rire-limpiador-con-cepillo-style-black-head-brush-cleanser-20-ml-20ml/info.html/pid.1050950624',\n",
       " 'https://www.yesstyle.com/es/dear-klairs-aceite-limpiador-gentle-black-deep-150-ml-150ml/info.html/pid.1060708178',\n",
       " 'https://www.yesstyle.com/es/neogen-espuma-refrescante/info.html/pid.1062926496',\n",
       " 'https://www.yesstyle.com/es/im-from-b%C3%A1lsamo-limpiador/info.html/pid.1088121259',\n",
       " 'https://www.yesstyle.com/es/some-by-mi-espuma-limpiadora/info.html/pid.1072962064',\n",
       " 'https://www.yesstyle.com/es/dear-klairs-aceite-limpiador-gentle-black-fresh-150ml/info.html/pid.1095321840',\n",
       " 'https://www.yesstyle.com/es/rovectin-limpiador-facial-skin-essentials-conditioning-175ml/info.html/pid.1067313193',\n",
       " 'https://www.yesstyle.com/es/rire-stick-all-kill-blackhead-remover-stick-10g/info.html/pid.1055525438',\n",
       " 'https://www.yesstyle.com/es/sioris-cleanse-me-softly-milk-cleanser-200ml/info.html/pid.1073323095',\n",
       " 'https://www.yesstyle.com/es/the-face-shop-espuma-limpiadora-rice-water-bright-cleansing-foam-150/info.html/pid.1038281940',\n",
       " 'https://www.yesstyle.com/es/dear-klairs-espuma-limpiadora-rich-moist-100-ml-100ml/info.html/pid.1060708192',\n",
       " 'https://www.yesstyle.com/es/mizon-espuma-limpiadora-reparadora-de-caracol-snail-repairing-foam/info.html/pid.1052813629',\n",
       " 'https://www.yesstyle.com/es/iunik-espuma-limpiadora-centella-bubble-150-ml-150ml/info.html/pid.1066345252',\n",
       " 'https://www.yesstyle.com/es/b-lab-espuma-limpiadora-matcha-hydrating-120ml/info.html/pid.1098673827',\n",
       " 'https://www.yesstyle.com/es/purito-limpiador-defence-barrier-ph-cleanser-150-ml-150ml-new-version/info.html/pid.1100577218',\n",
       " 'https://www.yesstyle.com/es/kumano-cosme-pharmaact-deep-cleansing-oil-160ml/info.html/pid.1066654888',\n",
       " 'https://www.yesstyle.com/es/dear-klairs-jab%C3%B3n-pore/info.html/pid.1060708119',\n",
       " 'https://www.yesstyle.com/es/by-wishtrend-jab%C3%B3n-en/info.html/pid.1063489499',\n",
       " 'https://www.yesstyle.com/es/heimish-espuma-limpiadora-all-clean-green-foam-150-ml-150ml/info.html/pid.1063347713',\n",
       " 'https://www.yesstyle.com/es/benton-espuma-limpiadora-honest-150-g-150g/info.html/pid.1053033541',\n",
       " 'https://www.yesstyle.com/es/banila-co-kit-de-prueba-especial-clean-it-zero-4-pcs/info.html/pid.1084102102',\n",
       " 'https://www.yesstyle.com/es/etude-house-limpiador-soon-jung-ph6-5-whip-cleanser-150ml-150ml-2021/info.html/pid.1059551584',\n",
       " 'https://www.yesstyle.com/es/etude-house-tratamiento/info.html/pid.1053803590',\n",
       " 'https://www.yesstyle.com/es/help/main.html',\n",
       " 'https://www.yesstyle.com/es/secure/myaccount/track-your-order.html',\n",
       " 'https://www.yesstyle.com/es/help/contact-us.html',\n",
       " 'https://www.yesstyle.com/es/about-us/company-overview.html',\n",
       " 'https://www.yesstyle.com/es/email-our-ceo.html',\n",
       " 'https://www.yesstyle.com/es/elite-club-2021.html',\n",
       " 'https://www.yesstyle.com/es/friend-rewards.html',\n",
       " 'https://www.yesstyle.com/es/influencers.html',\n",
       " 'https://www.yesstyle.com/es/special-offers.html',\n",
       " 'https://www.yesstyle.com/es/affiliate-program.html',\n",
       " 'https://www.asianbeautywholesale.com/home.html',\n",
       " 'https://www.yesstyle.com/es/app',\n",
       " '//www.facebook.com/yesstyle',\n",
       " '//twitter.com/YesStyle_JP',\n",
       " '//pinterest.com/yesstyle',\n",
       " '//instagram.com/yesstyle',\n",
       " '//www.youtube.com/yesstyle',\n",
       " '//yesstyle.tumblr.com',\n",
       " 'https://www.yesstyle.com/es/terms-of-use/help/section.html/hsi.804',\n",
       " 'https://www.yesstyle.com/es/privacy-security/help/section.html/hsi.754',\n",
       " 'javascript:void(0)',\n",
       " 'https://www.yesstyle.com/es/help/section.html/hsi.754',\n",
       " 'https://www.yesstyle.com/es/help/section.html/hsi.804',\n",
       " 'javascript:void(0)']"
      ]
     },
     "execution_count": 109,
     "metadata": {},
     "output_type": "execute_result"
    }
   ],
   "source": [
    "url"
   ]
  },
  {
   "cell_type": "code",
   "execution_count": 119,
   "metadata": {},
   "outputs": [],
   "source": [
    "final=[]\n",
    "for elements in url:\n",
    "    if (re.match(r'(pid)', elements)):\n",
    "        final.append(elements)\n",
    "    "
   ]
  },
  {
   "cell_type": "code",
   "execution_count": 120,
   "metadata": {},
   "outputs": [
    {
     "data": {
      "text/plain": [
       "[]"
      ]
     },
     "execution_count": 120,
     "metadata": {},
     "output_type": "execute_result"
    }
   ],
   "source": [
    "final\n",
    "\n",
    "    "
   ]
  },
  {
   "cell_type": "code",
   "execution_count": 106,
   "metadata": {},
   "outputs": [
    {
     "data": {
      "text/plain": [
       "list"
      ]
     },
     "execution_count": 106,
     "metadata": {},
     "output_type": "execute_result"
    }
   ],
   "source": [
    "type(links)"
   ]
  },
  {
   "cell_type": "code",
   "execution_count": 107,
   "metadata": {},
   "outputs": [
    {
     "data": {
      "text/plain": [
       "[]"
      ]
     },
     "execution_count": 107,
     "metadata": {},
     "output_type": "execute_result"
    }
   ],
   "source": [
    "links"
   ]
  },
  {
   "cell_type": "code",
   "execution_count": 10,
   "metadata": {},
   "outputs": [
    {
     "name": "stdout",
     "output_type": "stream",
     "text": [
      "[]\n",
      "[]\n"
     ]
    }
   ],
   "source": [
    "cleansers_url = []\n",
    "for i in range (1, 3):\n",
    "    url = f'https://www.yesstyle.com/es/mujer-limpiadores-faciales/list.html/bcc.14335_bpt.46#/bpt=46&sb=136&pn={i}&l=17&s=10&bcc=14335&bt=37' \n",
    "    r = requests.get(url)\n",
    "    soup = BeautifulSoup(r.content, 'lxml')\n",
    "    cleansers_list = soup.find_all('div', data-ng-repeat='lotinfoitem in lotinfoitems')\n",
    "    print(cleansers_list)\n",
    "    for item in cleansers_list:\n",
    "        for link in item.find_all('a', class_='ng-isolate-scope', href=True): \n",
    "            cleansers_url.append(link['href'])\n",
    "print(len(cleansers_url))"
   ]
  },
  {
   "cell_type": "code",
   "execution_count": 8,
   "metadata": {},
   "outputs": [
    {
     "name": "stdout",
     "output_type": "stream",
     "text": [
      "[]\n"
     ]
    }
   ],
   "source": [
    "print(cleansers_list)"
   ]
  },
  {
   "cell_type": "code",
   "execution_count": null,
   "metadata": {},
   "outputs": [],
   "source": [
    "for item in cleansers_list:\n",
    "        for link in item.find_all('a', class_='ng-isolate-scope', href=True): \n",
    "            cleansers_url.append(link['href'])\n",
    "print(len(cleansers_url))"
   ]
  },
  {
   "cell_type": "code",
   "execution_count": 91,
   "metadata": {},
   "outputs": [],
   "source": [
    "for i in range (4, 20):\n",
    "    r = requests.get(url)\n",
    "    soup = BeautifulSoup(r.content, 'lxml')\n",
    "    cleansers_list = soup.find_all('div', class_='product-item-info')\n",
    "    for item in cleansers_list:\n",
    "        for link in item.find_all('a', class_='product-image', href=True): \n",
    "            cleansers_url.append(link['href'])"
   ]
  },
  {
   "cell_type": "code",
   "execution_count": 93,
   "metadata": {},
   "outputs": [],
   "source": [
    "for i in range (20, 41):\n",
    "    r = requests.get(url)\n",
    "    soup = BeautifulSoup(r.content, 'lxml')\n",
    "    cleansers_list = soup.find_all('div', class_='product-item-info')\n",
    "    for item in cleansers_list:\n",
    "        for link in item.find_all('a', class_='product-image', href=True): \n",
    "            cleansers_url.append(link['href'])"
   ]
  },
  {
   "cell_type": "code",
   "execution_count": 95,
   "metadata": {},
   "outputs": [],
   "source": [
    "for i in range (41, 87):\n",
    "    r = requests.get(url)\n",
    "    soup = BeautifulSoup(r.content, 'lxml')\n",
    "    cleansers_list = soup.find_all('div', class_='product-item-info')\n",
    "    for item in cleansers_list:\n",
    "        for link in item.find_all('a', class_='product-image', href=True): \n",
    "            cleansers_url.append(link['href'])"
   ]
  },
  {
   "cell_type": "code",
   "execution_count": 96,
   "metadata": {},
   "outputs": [
    {
     "name": "stdout",
     "output_type": "stream",
     "text": [
      "1032\n"
     ]
    }
   ],
   "source": [
    "print(len(cleansers_url))"
   ]
  },
  {
   "cell_type": "code",
   "execution_count": 99,
   "metadata": {},
   "outputs": [],
   "source": [
    "with open(\"cleansers_url.txt\", \"w\") as output:\n",
    "    output.write(str(cleansers_url))"
   ]
  },
  {
   "cell_type": "code",
   "execution_count": null,
   "metadata": {},
   "outputs": [],
   "source": []
  },
  {
   "cell_type": "code",
   "execution_count": null,
   "metadata": {},
   "outputs": [],
   "source": []
  },
  {
   "cell_type": "markdown",
   "metadata": {},
   "source": [
    "## 2 OBTENER LA INFO DE LA PÁGINA PROPIA DEL PRODUCTO\n",
    "Info que necesitamos:\n",
    "* Nombre del producto\n",
    "* Details\n",
    "* Ingredients"
   ]
  },
  {
   "cell_type": "markdown",
   "metadata": {},
   "source": [
    "* Details e Ingredients se encuentran dentro de un grupo <div class='panel-group'"
   ]
  },
  {
   "cell_type": "code",
   "execution_count": 27,
   "metadata": {},
   "outputs": [
    {
     "name": "stdout",
     "output_type": "stream",
     "text": [
      "LANEIGE - Lip Sleeping Mask\n"
     ]
    }
   ],
   "source": [
    "#test_url = 'https://www.stylevana.com/en_EU/laneige-lip-sleeping-mask.html'"
   ]
  },
  {
   "cell_type": "code",
   "execution_count": null,
   "metadata": {},
   "outputs": [],
   "source": [
    "cleansers = []"
   ]
  },
  {
   "cell_type": "code",
   "execution_count": 115,
   "metadata": {},
   "outputs": [],
   "source": [
    "for link in cleansers_url[891:1032]:\n",
    "    r = requests.get(link, headers=headers) #para cada link en el listado, hacemos una requests\n",
    "    soup = BeautifulSoup(r.content, 'lxml')\n",
    "    name = soup.find('h1', class_='product-name-h1').text\n",
    "    details = (soup.find('div', id='product-view-details').text.strip()) # details\n",
    "    #usamos try, except porque hay ocasiones en las que no hay info sobre los ingredientes\n",
    "    try:\n",
    "        ingred = soup.find_all('div', id=\"product-view-ingredients\") #ingredients\n",
    "        for item in ingred:\n",
    "            ingredients = item.find('div', class_='panel-body').text.strip()\n",
    "    except:\n",
    "        ingredients = 'no info'\n",
    "        \n",
    "    cleansers_info = {\n",
    "    'name': name,\n",
    "    'details': details,\n",
    "    'ingredients': ingredients}\n",
    "    \n",
    "    cleansers.append(cleansers_info)"
   ]
  },
  {
   "cell_type": "code",
   "execution_count": 116,
   "metadata": {},
   "outputs": [
    {
     "name": "stdout",
     "output_type": "stream",
     "text": [
      "1032\n"
     ]
    }
   ],
   "source": [
    "print(len(cleansers))"
   ]
  },
  {
   "cell_type": "code",
   "execution_count": null,
   "metadata": {},
   "outputs": [],
   "source": []
  },
  {
   "cell_type": "markdown",
   "metadata": {},
   "source": [
    "## 3. PASARLO A DATAFRAME"
   ]
  },
  {
   "cell_type": "code",
   "execution_count": 117,
   "metadata": {},
   "outputs": [
    {
     "data": {
      "text/html": [
       "<div>\n",
       "<style scoped>\n",
       "    .dataframe tbody tr th:only-of-type {\n",
       "        vertical-align: middle;\n",
       "    }\n",
       "\n",
       "    .dataframe tbody tr th {\n",
       "        vertical-align: top;\n",
       "    }\n",
       "\n",
       "    .dataframe thead th {\n",
       "        text-align: right;\n",
       "    }\n",
       "</style>\n",
       "<table border=\"1\" class=\"dataframe\">\n",
       "  <thead>\n",
       "    <tr style=\"text-align: right;\">\n",
       "      <th></th>\n",
       "      <th>name</th>\n",
       "      <th>details</th>\n",
       "      <th>ingredients</th>\n",
       "    </tr>\n",
       "  </thead>\n",
       "  <tbody>\n",
       "    <tr>\n",
       "      <th>0</th>\n",
       "      <td>iUNIK - Calendula Complete Cleansing Oil - 200ml</td>\n",
       "      <td>Product Type: Cleansing Oil\\n\\n\\nSkin Concern:...</td>\n",
       "      <td>Centella Asiatica Leaf Water,Water,TEA-Cocoyl ...</td>\n",
       "    </tr>\n",
       "    <tr>\n",
       "      <th>1</th>\n",
       "      <td>Krave - Matcha Hemp Hydrating Cleanser 120ml</td>\n",
       "      <td>Product Type: Cleansing Gel\\n\\n\\nSkin Concern:...</td>\n",
       "      <td>Centella Asiatica Leaf Water,Water,TEA-Cocoyl ...</td>\n",
       "    </tr>\n",
       "    <tr>\n",
       "      <th>2</th>\n",
       "      <td>COSRX - Low pH Good Morning Gel Cleanser - 150ml</td>\n",
       "      <td>Cruelty Free: Yes\\n\\n\\nProduct Type: Cleansing...</td>\n",
       "      <td>Water, Cocamidopropyl Betaine, Sodium Lauroyl ...</td>\n",
       "    </tr>\n",
       "    <tr>\n",
       "      <th>3</th>\n",
       "      <td>heimish - All Clean Balm</td>\n",
       "      <td>Cruelty Free: Yes\\n\\n\\nProduct Type: Cleansing...</td>\n",
       "      <td>Ethylhexyl Palmitate, Cetyl Ethylhexanoate, PE...</td>\n",
       "    </tr>\n",
       "    <tr>\n",
       "      <th>4</th>\n",
       "      <td>SOME BY MI - AHA-BHA-PHA 30days Miracle Acne C...</td>\n",
       "      <td>Product Type: Cleansing Water\\n\\n\\nSkin Concer...</td>\n",
       "      <td>Ethylhexyl Palmitate, Cetyl Ethylhexanoate, PE...</td>\n",
       "    </tr>\n",
       "    <tr>\n",
       "      <th>...</th>\n",
       "      <td>...</td>\n",
       "      <td>...</td>\n",
       "      <td>...</td>\n",
       "    </tr>\n",
       "    <tr>\n",
       "      <th>1027</th>\n",
       "      <td>Haruharu WONDER - Black Rice Moisture Deep Cle...</td>\n",
       "      <td>Product Type: Cleansing Oil\\n\\n\\nSkin Type: Co...</td>\n",
       "      <td>Water, Glycerin, Acer Saccharum (Sugar Maple) ...</td>\n",
       "    </tr>\n",
       "    <tr>\n",
       "      <th>1028</th>\n",
       "      <td>iUNIK - Centella Bubble Cleansing Foam - 150ml</td>\n",
       "      <td>Product Type: Cleansing Foam\\n\\n\\nSkin Concern...</td>\n",
       "      <td>Centella Asiatica Leaf Water,Water,TEA-Cocoyl ...</td>\n",
       "    </tr>\n",
       "    <tr>\n",
       "      <th>1029</th>\n",
       "      <td>heimish - All Clean Green Foam - 150ml</td>\n",
       "      <td>Cruelty Free: Yes\\n\\n\\nProduct Type: Cleansing...</td>\n",
       "      <td>Centella Asiatica Leaf Water,Water,TEA-Cocoyl ...</td>\n",
       "    </tr>\n",
       "    <tr>\n",
       "      <th>1030</th>\n",
       "      <td>SOME BY MI - Bye Bye Blackhead 30days Miracle ...</td>\n",
       "      <td>Product Type: Cleansing Foam\\n\\n\\nSkin Concern...</td>\n",
       "      <td>Centella Asiatica Leaf Water,Water,TEA-Cocoyl ...</td>\n",
       "    </tr>\n",
       "    <tr>\n",
       "      <th>1031</th>\n",
       "      <td>Farm Stay - Char-Coal Pure Cleansing Foam - 180ml</td>\n",
       "      <td>Product Type: Cleansing Foam\\n\\n\\nSkin Concern...</td>\n",
       "      <td>Centella Asiatica Leaf Water,Water,TEA-Cocoyl ...</td>\n",
       "    </tr>\n",
       "  </tbody>\n",
       "</table>\n",
       "<p>1032 rows × 3 columns</p>\n",
       "</div>"
      ],
      "text/plain": [
       "                                                   name  \\\n",
       "0      iUNIK - Calendula Complete Cleansing Oil - 200ml   \n",
       "1          Krave - Matcha Hemp Hydrating Cleanser 120ml   \n",
       "2      COSRX - Low pH Good Morning Gel Cleanser - 150ml   \n",
       "3                              heimish - All Clean Balm   \n",
       "4     SOME BY MI - AHA-BHA-PHA 30days Miracle Acne C...   \n",
       "...                                                 ...   \n",
       "1027  Haruharu WONDER - Black Rice Moisture Deep Cle...   \n",
       "1028     iUNIK - Centella Bubble Cleansing Foam - 150ml   \n",
       "1029             heimish - All Clean Green Foam - 150ml   \n",
       "1030  SOME BY MI - Bye Bye Blackhead 30days Miracle ...   \n",
       "1031  Farm Stay - Char-Coal Pure Cleansing Foam - 180ml   \n",
       "\n",
       "                                                details  \\\n",
       "0     Product Type: Cleansing Oil\\n\\n\\nSkin Concern:...   \n",
       "1     Product Type: Cleansing Gel\\n\\n\\nSkin Concern:...   \n",
       "2     Cruelty Free: Yes\\n\\n\\nProduct Type: Cleansing...   \n",
       "3     Cruelty Free: Yes\\n\\n\\nProduct Type: Cleansing...   \n",
       "4     Product Type: Cleansing Water\\n\\n\\nSkin Concer...   \n",
       "...                                                 ...   \n",
       "1027  Product Type: Cleansing Oil\\n\\n\\nSkin Type: Co...   \n",
       "1028  Product Type: Cleansing Foam\\n\\n\\nSkin Concern...   \n",
       "1029  Cruelty Free: Yes\\n\\n\\nProduct Type: Cleansing...   \n",
       "1030  Product Type: Cleansing Foam\\n\\n\\nSkin Concern...   \n",
       "1031  Product Type: Cleansing Foam\\n\\n\\nSkin Concern...   \n",
       "\n",
       "                                            ingredients  \n",
       "0     Centella Asiatica Leaf Water,Water,TEA-Cocoyl ...  \n",
       "1     Centella Asiatica Leaf Water,Water,TEA-Cocoyl ...  \n",
       "2     Water, Cocamidopropyl Betaine, Sodium Lauroyl ...  \n",
       "3     Ethylhexyl Palmitate, Cetyl Ethylhexanoate, PE...  \n",
       "4     Ethylhexyl Palmitate, Cetyl Ethylhexanoate, PE...  \n",
       "...                                                 ...  \n",
       "1027  Water, Glycerin, Acer Saccharum (Sugar Maple) ...  \n",
       "1028  Centella Asiatica Leaf Water,Water,TEA-Cocoyl ...  \n",
       "1029  Centella Asiatica Leaf Water,Water,TEA-Cocoyl ...  \n",
       "1030  Centella Asiatica Leaf Water,Water,TEA-Cocoyl ...  \n",
       "1031  Centella Asiatica Leaf Water,Water,TEA-Cocoyl ...  \n",
       "\n",
       "[1032 rows x 3 columns]"
      ]
     },
     "execution_count": 117,
     "metadata": {},
     "output_type": "execute_result"
    }
   ],
   "source": [
    "cleansers_df = pd.DataFrame(cleansers)\n",
    "cleansers_df"
   ]
  },
  {
   "cell_type": "code",
   "execution_count": 118,
   "metadata": {},
   "outputs": [],
   "source": [
    "cleansers = cleansers_df.to_csv('data/cleansers.csv')"
   ]
  },
  {
   "cell_type": "code",
   "execution_count": 75,
   "metadata": {},
   "outputs": [
    {
     "name": "stdout",
     "output_type": "stream",
     "text": [
      "{'name': 'LANEIGE - Lip Sleeping Mask', 'details': 'Product Type: Lip Mask\\n\\n\\nSkin Type: Combination, Dry, Normal, Oily, Sensitive', 'ingredients': 'Diisostearyl Malate, Hydrogenated Polyisobutene, Phytosteryl/Isostearyl/Cetyl/Stearyl/Behenyl Dimer Dilinoleate, Hydrogenated Poly(C6-14 Olefin), Polybutene, Microcrystalline Wax, Shea Butter, Synthetic Wax, Candelilla Wax, Sucrose Tetrastearate Triacetate, Butylene/Ethylene/Styrene Copolymer, Ethylene/Propylene/Styrene Copolymer, Mica, Fragrance, Astrocaryum Murumuru Seed Butter, Dimethicone, Titanium Dioxide (CI 77891), Polyglyceryl-3 Diisostearate, Dehydroacetic Acid, Polyglyceryl-2 Triisostearate, Methicone, Carnauba Wax, Polyhydroxystearic Acid, Water, Potassium Alginate, Propanediol, Glycerin, Ethanol, Lycium Chinense Fruit Extract, Vaccinium Macrocarpon (Cranberry) Fruit Extract, Fragaria Ananassa (Strawberry) Fruit Extract, Rubus Idaeus (Raspberry) Fruit Extract, Sapindus Mukorossi Fruit Extract, Vaccinium Angustifolium (Blueberry) Fruit Extract, Rubus Chamaemorus Seed Extract, Coffea Arabica (Coffee) Seed Extract, Chenopodium Quinoa Seed Extract, Magnesium Sulfate, Calcium Chloride, Sodium Hyaluronate, Beta-Glucan, Manganese Sulfate, Zinc Sulfate, Ascorbyl Glucoside, Silica, Lithol Rubine B, Tartrazine, Quinoline Yellow WS, Brilliant Blue FCF, Sunset Yellow FCF'}\n"
     ]
    }
   ],
   "source": []
  },
  {
   "cell_type": "code",
   "execution_count": null,
   "metadata": {},
   "outputs": [],
   "source": []
  }
 ],
 "metadata": {
  "kernelspec": {
   "display_name": "Python [conda env:ironhack_env]",
   "language": "python",
   "name": "conda-env-ironhack_env-py"
  },
  "language_info": {
   "codemirror_mode": {
    "name": "ipython",
    "version": 3
   },
   "file_extension": ".py",
   "mimetype": "text/x-python",
   "name": "python",
   "nbconvert_exporter": "python",
   "pygments_lexer": "ipython3",
   "version": "3.8.5"
  }
 },
 "nbformat": 4,
 "nbformat_minor": 4
}
