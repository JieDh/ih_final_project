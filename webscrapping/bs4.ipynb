{
 "cells": [
  {
   "cell_type": "code",
   "execution_count": null,
   "metadata": {},
   "outputs": [],
   "source": []
  },
  {
   "cell_type": "code",
   "execution_count": 1,
   "metadata": {},
   "outputs": [],
   "source": [
    "import requests\n",
    "from bs4 import BeautifulSoup\n",
    "import pandas as pd"
   ]
  },
  {
   "cell_type": "code",
   "execution_count": null,
   "metadata": {},
   "outputs": [],
   "source": [
    "#como el navegador a usar es chrome, hemos descargado ya el driver de la página, guardamos la ruta en una variable\n",
    "#chrome_path = 'chromedriver_linux64/chromedriver'\n",
    "#driver = webdriver.Chrome(executable_path = chrome_path)"
   ]
  },
  {
   "cell_type": "code",
   "execution_count": 2,
   "metadata": {},
   "outputs": [],
   "source": [
    "headers = {'User-Agent': 'Mozilla/5.0 (Windows NT 10.0; Win64; x64) AppleWebKit/537.36 (KHTML, like Gecko) Chrome/78.0.3904.108 Safari/537.36'}"
   ]
  },
  {
   "cell_type": "code",
   "execution_count": null,
   "metadata": {},
   "outputs": [],
   "source": [
    "r = requests.get(url)\n",
    "soup = BeautifulSoup(r.content, 'lxml') #usamos lxml como parser"
   ]
  },
  {
   "cell_type": "markdown",
   "metadata": {},
   "source": [
    "¿Qué queremos obtener de la página?\n",
    "1. Nombre del producto\n",
    "2. Precio (?)\n",
    "3. Detalles\n",
    "4. Ingredientes"
   ]
  },
  {
   "cell_type": "markdown",
   "metadata": {},
   "source": [
    "## 1 OBTENER TODAS LAS URLS DE LOS PRODUCTOS"
   ]
  },
  {
   "cell_type": "markdown",
   "metadata": {},
   "source": [
    "Para ello, utilizaremos bucles que iteren sobre los elementos de la página.\n",
    "* Variable global cleansers_url, es el contenedor de todas las urls.\n",
    "* Los links están dentro de un tag 'a', como sólo nos interesan aquellas que tengan href, pues href=True. \n",
    "* Se ha agregado class='product-image\" porque si no, el bucle cogía todas las urls (wishlist, url de la imagen etc), y solo nos interesan los productos.\n",
    "* Append cada uno de los links al contenedor."
   ]
  },
  {
   "cell_type": "code",
   "execution_count": 3,
   "metadata": {},
   "outputs": [
    {
     "name": "stdout",
     "output_type": "stream",
     "text": [
      "36\n"
     ]
    }
   ],
   "source": [
    "cleansers_url = []\n",
    "for i in range (1, 4):\n",
    "    url = f'https://www.stylevana.com/en_EU/skincare/facial-cleanser/face-wash-cleansers.html?p={i}' \n",
    "    r = requests.get(url)\n",
    "    soup = BeautifulSoup(r.content, 'lxml')\n",
    "    cleansers_list = soup.find_all('div', class_='product-item-info')\n",
    "    for item in cleansers_list:\n",
    "        for link in item.find_all('a', class_='product-image', href=True): \n",
    "            cleansers_url.append(link['href'])\n",
    "print(len(cleansers_url))"
   ]
  },
  {
   "cell_type": "code",
   "execution_count": 4,
   "metadata": {},
   "outputs": [
    {
     "name": "stdout",
     "output_type": "stream",
     "text": [
      "228\n"
     ]
    }
   ],
   "source": [
    "for i in range (4, 20):\n",
    "    url = f'https://www.stylevana.com/en_EU/skincare/facial-cleanser/face-wash-cleansers.html?p={i}' \n",
    "    r = requests.get(url)\n",
    "    soup = BeautifulSoup(r.content, 'lxml')\n",
    "    cleansers_list = soup.find_all('div', class_='product-item-info')\n",
    "    for item in cleansers_list:\n",
    "        for link in item.find_all('a', class_='product-image', href=True): \n",
    "            cleansers_url.append(link['href'])\n",
    "print(len(cleansers_url))"
   ]
  },
  {
   "cell_type": "code",
   "execution_count": 6,
   "metadata": {},
   "outputs": [
    {
     "name": "stdout",
     "output_type": "stream",
     "text": [
      "480\n"
     ]
    }
   ],
   "source": [
    "for i in range (20, 41):\n",
    "    url = f'https://www.stylevana.com/en_EU/skincare/facial-cleanser/face-wash-cleansers.html?p={i}' \n",
    "    r = requests.get(url)\n",
    "    soup = BeautifulSoup(r.content, 'lxml')\n",
    "    cleansers_list = soup.find_all('div', class_='product-item-info')\n",
    "    for item in cleansers_list:\n",
    "        for link in item.find_all('a', class_='product-image', href=True): \n",
    "            cleansers_url.append(link['href'])\n",
    "print(len(cleansers_url))"
   ]
  },
  {
   "cell_type": "code",
   "execution_count": 7,
   "metadata": {},
   "outputs": [
    {
     "name": "stdout",
     "output_type": "stream",
     "text": [
      "1032\n"
     ]
    }
   ],
   "source": [
    "for i in range (41, 87):\n",
    "    url = f'https://www.stylevana.com/en_EU/skincare/facial-cleanser/face-wash-cleansers.html?p={i}' \n",
    "    r = requests.get(url)\n",
    "    soup = BeautifulSoup(r.content, 'lxml')\n",
    "    cleansers_list = soup.find_all('div', class_='product-item-info')\n",
    "    for item in cleansers_list:\n",
    "        for link in item.find_all('a', class_='product-image', href=True): \n",
    "            cleansers_url.append(link['href'])\n",
    "print(len(cleansers_url))"
   ]
  },
  {
   "cell_type": "code",
   "execution_count": null,
   "metadata": {},
   "outputs": [],
   "source": []
  },
  {
   "cell_type": "code",
   "execution_count": null,
   "metadata": {},
   "outputs": [],
   "source": [
    "with open(\"cleansers_url.txt\", \"w\") as output:\n",
    "    output.write(str(cleansers_url))"
   ]
  },
  {
   "cell_type": "code",
   "execution_count": 30,
   "metadata": {},
   "outputs": [
    {
     "data": {
      "text/plain": [
       "'https://www.stylevana.com/en_EU/enough-project-enuf-proj-cleansing-oil-150ml.html'"
      ]
     },
     "execution_count": 30,
     "metadata": {},
     "output_type": "execute_result"
    }
   ],
   "source": [
    "cleansers_url[1031]"
   ]
  },
  {
   "cell_type": "code",
   "execution_count": null,
   "metadata": {},
   "outputs": [],
   "source": []
  },
  {
   "cell_type": "markdown",
   "metadata": {},
   "source": [
    "## 2 OBTENER LA INFO DE LA PÁGINA PROPIA DEL PRODUCTO\n",
    "Info que necesitamos:\n",
    "* Nombre del producto\n",
    "* Details\n",
    "* Ingredients"
   ]
  },
  {
   "cell_type": "markdown",
   "metadata": {},
   "source": [
    "* Details e Ingredients se encuentran dentro de un grupo <div class='panel-group'"
   ]
  },
  {
   "cell_type": "code",
   "execution_count": 19,
   "metadata": {},
   "outputs": [
    {
     "data": {
      "text/plain": [
       "'https://www.stylevana.com/en_EU/farm-stay-pure-natural-cleansing-water-500ml-green-tea-seed.html'"
      ]
     },
     "execution_count": 19,
     "metadata": {},
     "output_type": "execute_result"
    }
   ],
   "source": [
    "#test_url = 'https://www.stylevana.com/en_EU/laneige-lip-sleeping-mask.html'\n",
    "cleansers_url[39]"
   ]
  },
  {
   "cell_type": "code",
   "execution_count": 10,
   "metadata": {},
   "outputs": [],
   "source": [
    "cleansers = []"
   ]
  },
  {
   "cell_type": "code",
   "execution_count": 31,
   "metadata": {},
   "outputs": [],
   "source": [
    "for link in cleansers_url[750:1032]:\n",
    "    r = requests.get(link, headers=headers) #para cada link en el listado, hacemos una requests\n",
    "    soup = BeautifulSoup(r.content, 'lxml')\n",
    "    name = soup.find('h1', class_='product-name-h1').text\n",
    "    #usamos try, except porque hay ocasiones en las que no hay info sobre los ingredientes\n",
    "    try:\n",
    "        details = (soup.find('div', id='product-view-details').text.strip()) # details\n",
    "        ingredients = soup.find_all('div', id=\"product-view-ingredients\") #ingredients\n",
    "        for item in ingredients:\n",
    "            ingredients = item.find('div', class_='panel-body').text.strip()\n",
    "    except:\n",
    "        details = 'no info'\n",
    "        ingredients = 'no info'\n",
    "        \n",
    "    cleansers_info = {\n",
    "    'name': name,\n",
    "    'details': details,\n",
    "    'ingredients': ingredients}\n",
    "    \n",
    "    cleansers.append(cleansers_info)"
   ]
  },
  {
   "cell_type": "code",
   "execution_count": 32,
   "metadata": {},
   "outputs": [
    {
     "name": "stdout",
     "output_type": "stream",
     "text": [
      "1032\n"
     ]
    }
   ],
   "source": [
    "print(len(cleansers))"
   ]
  },
  {
   "cell_type": "code",
   "execution_count": null,
   "metadata": {},
   "outputs": [],
   "source": []
  },
  {
   "cell_type": "markdown",
   "metadata": {},
   "source": [
    "## 3. PASARLO A DATAFRAME"
   ]
  },
  {
   "cell_type": "code",
   "execution_count": 33,
   "metadata": {},
   "outputs": [
    {
     "data": {
      "text/html": [
       "<div>\n",
       "<style scoped>\n",
       "    .dataframe tbody tr th:only-of-type {\n",
       "        vertical-align: middle;\n",
       "    }\n",
       "\n",
       "    .dataframe tbody tr th {\n",
       "        vertical-align: top;\n",
       "    }\n",
       "\n",
       "    .dataframe thead th {\n",
       "        text-align: right;\n",
       "    }\n",
       "</style>\n",
       "<table border=\"1\" class=\"dataframe\">\n",
       "  <thead>\n",
       "    <tr style=\"text-align: right;\">\n",
       "      <th></th>\n",
       "      <th>name</th>\n",
       "      <th>details</th>\n",
       "      <th>ingredients</th>\n",
       "    </tr>\n",
       "  </thead>\n",
       "  <tbody>\n",
       "    <tr>\n",
       "      <th>0</th>\n",
       "      <td>iUNIK - Calendula Complete Cleansing Oil - 200ml</td>\n",
       "      <td>Product Type: Cleansing Oil\\n\\n\\nSkin Concern:...</td>\n",
       "      <td>[]</td>\n",
       "    </tr>\n",
       "    <tr>\n",
       "      <th>1</th>\n",
       "      <td>Krave - Matcha Hemp Hydrating Cleanser 120ml</td>\n",
       "      <td>Product Type: Cleansing Gel\\n\\n\\nSkin Concern:...</td>\n",
       "      <td>[]</td>\n",
       "    </tr>\n",
       "    <tr>\n",
       "      <th>2</th>\n",
       "      <td>COSRX - Low pH Good Morning Gel Cleanser - 150ml</td>\n",
       "      <td>Cruelty Free: Yes\\n\\n\\nProduct Type: Cleansing...</td>\n",
       "      <td>Water, Cocamidopropyl Betaine, Sodium Lauroyl ...</td>\n",
       "    </tr>\n",
       "    <tr>\n",
       "      <th>3</th>\n",
       "      <td>heimish - All Clean Balm</td>\n",
       "      <td>Cruelty Free: Yes\\n\\n\\nProduct Type: Cleansing...</td>\n",
       "      <td>Ethylhexyl Palmitate, Cetyl Ethylhexanoate, PE...</td>\n",
       "    </tr>\n",
       "    <tr>\n",
       "      <th>4</th>\n",
       "      <td>SOME BY MI - AHA-BHA-PHA 30days Miracle Acne C...</td>\n",
       "      <td>Product Type: Cleansing Water\\n\\n\\nSkin Concer...</td>\n",
       "      <td>[]</td>\n",
       "    </tr>\n",
       "    <tr>\n",
       "      <th>...</th>\n",
       "      <td>...</td>\n",
       "      <td>...</td>\n",
       "      <td>...</td>\n",
       "    </tr>\n",
       "    <tr>\n",
       "      <th>1027</th>\n",
       "      <td>Etude House - SoonJung 5.5 Foam Cleanser - 100ml</td>\n",
       "      <td>Product Type: Cleansing Foam\\n\\n\\nProduct Unit...</td>\n",
       "      <td>[]</td>\n",
       "    </tr>\n",
       "    <tr>\n",
       "      <th>1028</th>\n",
       "      <td>Mandom - Bifesta Foaming Whip Oil Clear - 180g</td>\n",
       "      <td>Product Type: Cleansing Foam\\n\\n\\nProduct Unit...</td>\n",
       "      <td>[]</td>\n",
       "    </tr>\n",
       "    <tr>\n",
       "      <th>1029</th>\n",
       "      <td>Fancl - Washing Powder - 50g</td>\n",
       "      <td>Product Type: Cleansing Powder\\n\\n\\nSkin Conce...</td>\n",
       "      <td>Sodium Cocoyl/Palmoyl/Sunfloweroyl Glutamate,S...</td>\n",
       "    </tr>\n",
       "    <tr>\n",
       "      <th>1030</th>\n",
       "      <td>DeARANCHY - Purifying Pure Cleansing Water - 3...</td>\n",
       "      <td>Product Type: Cleansing Water\\n\\n\\nSkin Concer...</td>\n",
       "      <td>[]</td>\n",
       "    </tr>\n",
       "    <tr>\n",
       "      <th>1031</th>\n",
       "      <td>Enough Project (enuf proj) - Cleansing Oil - 1...</td>\n",
       "      <td>Product Type: Cleansing Oil\\n\\n\\nSkin Concern:...</td>\n",
       "      <td>CAPRYLIC/CAPRIC TRIGLYCERIDE, CARTHAMUS TINCTO...</td>\n",
       "    </tr>\n",
       "  </tbody>\n",
       "</table>\n",
       "<p>1032 rows × 3 columns</p>\n",
       "</div>"
      ],
      "text/plain": [
       "                                                   name  \\\n",
       "0      iUNIK - Calendula Complete Cleansing Oil - 200ml   \n",
       "1          Krave - Matcha Hemp Hydrating Cleanser 120ml   \n",
       "2      COSRX - Low pH Good Morning Gel Cleanser - 150ml   \n",
       "3                              heimish - All Clean Balm   \n",
       "4     SOME BY MI - AHA-BHA-PHA 30days Miracle Acne C...   \n",
       "...                                                 ...   \n",
       "1027   Etude House - SoonJung 5.5 Foam Cleanser - 100ml   \n",
       "1028     Mandom - Bifesta Foaming Whip Oil Clear - 180g   \n",
       "1029                       Fancl - Washing Powder - 50g   \n",
       "1030  DeARANCHY - Purifying Pure Cleansing Water - 3...   \n",
       "1031  Enough Project (enuf proj) - Cleansing Oil - 1...   \n",
       "\n",
       "                                                details  \\\n",
       "0     Product Type: Cleansing Oil\\n\\n\\nSkin Concern:...   \n",
       "1     Product Type: Cleansing Gel\\n\\n\\nSkin Concern:...   \n",
       "2     Cruelty Free: Yes\\n\\n\\nProduct Type: Cleansing...   \n",
       "3     Cruelty Free: Yes\\n\\n\\nProduct Type: Cleansing...   \n",
       "4     Product Type: Cleansing Water\\n\\n\\nSkin Concer...   \n",
       "...                                                 ...   \n",
       "1027  Product Type: Cleansing Foam\\n\\n\\nProduct Unit...   \n",
       "1028  Product Type: Cleansing Foam\\n\\n\\nProduct Unit...   \n",
       "1029  Product Type: Cleansing Powder\\n\\n\\nSkin Conce...   \n",
       "1030  Product Type: Cleansing Water\\n\\n\\nSkin Concer...   \n",
       "1031  Product Type: Cleansing Oil\\n\\n\\nSkin Concern:...   \n",
       "\n",
       "                                            ingredients  \n",
       "0                                                    []  \n",
       "1                                                    []  \n",
       "2     Water, Cocamidopropyl Betaine, Sodium Lauroyl ...  \n",
       "3     Ethylhexyl Palmitate, Cetyl Ethylhexanoate, PE...  \n",
       "4                                                    []  \n",
       "...                                                 ...  \n",
       "1027                                                 []  \n",
       "1028                                                 []  \n",
       "1029  Sodium Cocoyl/Palmoyl/Sunfloweroyl Glutamate,S...  \n",
       "1030                                                 []  \n",
       "1031  CAPRYLIC/CAPRIC TRIGLYCERIDE, CARTHAMUS TINCTO...  \n",
       "\n",
       "[1032 rows x 3 columns]"
      ]
     },
     "execution_count": 33,
     "metadata": {},
     "output_type": "execute_result"
    }
   ],
   "source": [
    "cleansers_df = pd.DataFrame(cleansers)\n",
    "cleansers_df"
   ]
  },
  {
   "cell_type": "code",
   "execution_count": 34,
   "metadata": {},
   "outputs": [],
   "source": [
    "cleansers = cleansers_df.to_csv('data/cleansers.csv')"
   ]
  },
  {
   "cell_type": "code",
   "execution_count": null,
   "metadata": {},
   "outputs": [],
   "source": []
  },
  {
   "cell_type": "code",
   "execution_count": null,
   "metadata": {},
   "outputs": [],
   "source": []
  }
 ],
 "metadata": {
  "kernelspec": {
   "display_name": "Python [conda env:ironhack_env]",
   "language": "python",
   "name": "conda-env-ironhack_env-py"
  },
  "language_info": {
   "codemirror_mode": {
    "name": "ipython",
    "version": 3
   },
   "file_extension": ".py",
   "mimetype": "text/x-python",
   "name": "python",
   "nbconvert_exporter": "python",
   "pygments_lexer": "ipython3",
   "version": "3.8.5"
  }
 },
 "nbformat": 4,
 "nbformat_minor": 4
}
