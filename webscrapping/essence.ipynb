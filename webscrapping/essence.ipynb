{
 "cells": [
  {
   "cell_type": "code",
   "execution_count": null,
   "metadata": {},
   "outputs": [],
   "source": []
  },
  {
   "cell_type": "code",
   "execution_count": 1,
   "metadata": {},
   "outputs": [],
   "source": [
    "import requests\n",
    "from bs4 import BeautifulSoup\n",
    "import pandas as pd"
   ]
  },
  {
   "cell_type": "code",
   "execution_count": null,
   "metadata": {},
   "outputs": [],
   "source": [
    "#como el navegador a usar es chrome, hemos descargado ya el driver de la página, guardamos la ruta en una variable\n",
    "#chrome_path = 'chromedriver_linux64/chromedriver'\n",
    "#driver = webdriver.Chrome(executable_path = chrome_path)"
   ]
  },
  {
   "cell_type": "code",
   "execution_count": 2,
   "metadata": {},
   "outputs": [],
   "source": [
    "headers = {'User-Agent': 'Mozilla/5.0 (Windows NT 10.0; Win64; x64) AppleWebKit/537.36 (KHTML, like Gecko) Chrome/78.0.3904.108 Safari/537.36'}"
   ]
  },
  {
   "cell_type": "markdown",
   "metadata": {},
   "source": [
    "¿Qué queremos obtener de la página?\n",
    "1. Nombre del producto\n",
    "2. Precio (?)\n",
    "3. Detalles\n",
    "4. Ingredientes"
   ]
  },
  {
   "cell_type": "markdown",
   "metadata": {},
   "source": [
    "## 1 OBTENER TODAS LAS URLS DE LOS PRODUCTOS"
   ]
  },
  {
   "cell_type": "markdown",
   "metadata": {},
   "source": [
    "Para ello, utilizaremos bucles que iteren sobre los elementos de la página.\n",
    "* Variable global cleansers_url, es el contenedor de todas las urls.\n",
    "* Los links están dentro de un tag 'a', como sólo nos interesan aquellas que tengan href, pues href=True. \n",
    "* Se ha agregado class='product-image\" porque si no, el bucle cogía todas las urls (wishlist, url de la imagen etc), y solo nos interesan los productos.\n",
    "* Append cada uno de los links al contenedor."
   ]
  },
  {
   "cell_type": "code",
   "execution_count": 3,
   "metadata": {},
   "outputs": [],
   "source": [
    "essence_url = []"
   ]
  },
  {
   "cell_type": "code",
   "execution_count": 4,
   "metadata": {},
   "outputs": [
    {
     "name": "stdout",
     "output_type": "stream",
     "text": [
      "755\n"
     ]
    }
   ],
   "source": [
    "for i in range (1,64):\n",
    "    url = f'https://www.stylevana.com/en_EU/skincare/face-care/essence-serum.html?p={i}' \n",
    "    r = requests.get(url)\n",
    "    soup = BeautifulSoup(r.content, 'lxml')\n",
    "    essence_list = soup.find_all('div', class_='product-item-info')\n",
    "    for item in essence_list:\n",
    "        for link in item.find_all('a', class_='product-image', href=True): \n",
    "            essence_url.append(link['href'])\n",
    "print(len(essence_url))"
   ]
  },
  {
   "cell_type": "markdown",
   "metadata": {},
   "source": [
    "with open(\"cleansers_url.txt\", \"w\") as output:\n",
    "    output.write(str(cleansers_url))"
   ]
  },
  {
   "cell_type": "code",
   "execution_count": 7,
   "metadata": {},
   "outputs": [],
   "source": [
    "toner_url=essence_url"
   ]
  },
  {
   "cell_type": "markdown",
   "metadata": {},
   "source": [
    "## 2 OBTENER LA INFO DE LA PÁGINA PROPIA DEL PRODUCTO\n",
    "Info que necesitamos:\n",
    "* Nombre del producto\n",
    "* Details\n",
    "* Ingredients"
   ]
  },
  {
   "cell_type": "markdown",
   "metadata": {},
   "source": [
    "* Details e Ingredients se encuentran dentro de un grupo <div class='panel-group'"
   ]
  },
  {
   "cell_type": "code",
   "execution_count": 8,
   "metadata": {},
   "outputs": [],
   "source": [
    "toners = []"
   ]
  },
  {
   "cell_type": "code",
   "execution_count": 15,
   "metadata": {},
   "outputs": [],
   "source": [
    "for link in toner_url[732:793]:\n",
    "    r = requests.get(link, headers=headers) #para cada link en el listado, hacemos una requests\n",
    "    soup = BeautifulSoup(r.content, 'lxml')\n",
    "    #usamos try, except porque hay ocasiones en las que no hay info sobre los ingredientes\n",
    "    try:\n",
    "        name = soup.find('h1', class_='product-name-h1').text\n",
    "        details = (soup.find('div', id='product-view-details').text.strip()) # details\n",
    "        ingredients = soup.find_all('div', id=\"product-view-ingredients\") #ingredients\n",
    "        for item in ingredients:\n",
    "            ingredients = item.find('div', class_='panel-body').text.strip()\n",
    "    except:\n",
    "        name = 'no info'\n",
    "        details = 'no info'\n",
    "        ingredients = 'no info'\n",
    "        \n",
    "    toners_info = {\n",
    "    'name': name,\n",
    "    'details': details,\n",
    "    'ingredients': ingredients}\n",
    "    \n",
    "    toners.append(toners_info)"
   ]
  },
  {
   "cell_type": "code",
   "execution_count": 17,
   "metadata": {},
   "outputs": [
    {
     "name": "stdout",
     "output_type": "stream",
     "text": [
      "755\n"
     ]
    }
   ],
   "source": [
    "print(len(toners))"
   ]
  },
  {
   "cell_type": "markdown",
   "metadata": {},
   "source": [
    "## 3. PASARLO A DATAFRAME"
   ]
  },
  {
   "cell_type": "code",
   "execution_count": 21,
   "metadata": {},
   "outputs": [
    {
     "data": {
      "text/html": [
       "<div>\n",
       "<style scoped>\n",
       "    .dataframe tbody tr th:only-of-type {\n",
       "        vertical-align: middle;\n",
       "    }\n",
       "\n",
       "    .dataframe tbody tr th {\n",
       "        vertical-align: top;\n",
       "    }\n",
       "\n",
       "    .dataframe thead th {\n",
       "        text-align: right;\n",
       "    }\n",
       "</style>\n",
       "<table border=\"1\" class=\"dataframe\">\n",
       "  <thead>\n",
       "    <tr style=\"text-align: right;\">\n",
       "      <th></th>\n",
       "      <th>name</th>\n",
       "      <th>details</th>\n",
       "      <th>ingredients</th>\n",
       "    </tr>\n",
       "  </thead>\n",
       "  <tbody>\n",
       "    <tr>\n",
       "      <th>0</th>\n",
       "      <td>BEAUTY OF JOSEON - Glow Serum : Propolis + Nia...</td>\n",
       "      <td>Cruelty Free: Yes\\n\\n\\nUsage: Day, Night\\n\\n\\n...</td>\n",
       "      <td>[]</td>\n",
       "    </tr>\n",
       "    <tr>\n",
       "      <th>1</th>\n",
       "      <td>COSRX - Advanced Snail 96 Mucin Power Essence ...</td>\n",
       "      <td>Cruelty Free: Yes\\n\\n\\nUsage: Day, Night\\n\\n\\n...</td>\n",
       "      <td>Snail Secretion Filtrate, Betaine, Butylene Gl...</td>\n",
       "    </tr>\n",
       "    <tr>\n",
       "      <th>2</th>\n",
       "      <td>Krave - Great Barrier Relief - 45ml</td>\n",
       "      <td>Usage: Day, Night\\n\\n\\nProduct Type: Essence &amp;...</td>\n",
       "      <td>[]</td>\n",
       "    </tr>\n",
       "    <tr>\n",
       "      <th>3</th>\n",
       "      <td>BEAUTY OF JOSEON - Ginseng Essence Water - 150...</td>\n",
       "      <td>Cruelty Free: Yes\\n\\n\\nUsage: Day, Night\\n\\n\\n...</td>\n",
       "      <td>Panax ginseng root water, Butylene glycol, Gly...</td>\n",
       "    </tr>\n",
       "    <tr>\n",
       "      <th>4</th>\n",
       "      <td>BEAUTY OF JOSEON - Repair Serum : Ginseng + Sn...</td>\n",
       "      <td>Cruelty Free: Yes\\n\\n\\nUsage: Day, Night\\n\\n\\n...</td>\n",
       "      <td>[]</td>\n",
       "    </tr>\n",
       "    <tr>\n",
       "      <th>...</th>\n",
       "      <td>...</td>\n",
       "      <td>...</td>\n",
       "      <td>...</td>\n",
       "    </tr>\n",
       "    <tr>\n",
       "      <th>750</th>\n",
       "      <td>White Formula - Extreme Hyaluronic Acid Essenc...</td>\n",
       "      <td>Usage: Day, Night\\n\\n\\nProduct Type: Essence &amp;...</td>\n",
       "      <td>[]</td>\n",
       "    </tr>\n",
       "    <tr>\n",
       "      <th>751</th>\n",
       "      <td>Fancl - Pore Essence - 8g</td>\n",
       "      <td>Usage: Day, Night\\n\\n\\nProduct Type: Essence &amp;...</td>\n",
       "      <td>Water, Cyclopentasiloxane, Silica, Butylene Gl...</td>\n",
       "    </tr>\n",
       "    <tr>\n",
       "      <th>752</th>\n",
       "      <td>Beaudiani - Organic Jojoba Oil - 100ml</td>\n",
       "      <td>Usage: Day, Night\\n\\n\\nProduct Type: Oil\\n\\n\\n...</td>\n",
       "      <td>100% organic jojoba oil</td>\n",
       "    </tr>\n",
       "    <tr>\n",
       "      <th>753</th>\n",
       "      <td>Saturday Skin - Beauty Essence - 50ml</td>\n",
       "      <td>Cruelty Free: Yes\\n\\n\\nUsage: Day, Night\\n\\n\\n...</td>\n",
       "      <td>[]</td>\n",
       "    </tr>\n",
       "    <tr>\n",
       "      <th>754</th>\n",
       "      <td>BioSkin - Hyaluronic Acid Essence - 10ml</td>\n",
       "      <td>Usage: Day, Night\\n\\n\\nProduct Type: Essence &amp;...</td>\n",
       "      <td>[]</td>\n",
       "    </tr>\n",
       "  </tbody>\n",
       "</table>\n",
       "<p>755 rows × 3 columns</p>\n",
       "</div>"
      ],
      "text/plain": [
       "                                                  name  \\\n",
       "0    BEAUTY OF JOSEON - Glow Serum : Propolis + Nia...   \n",
       "1    COSRX - Advanced Snail 96 Mucin Power Essence ...   \n",
       "2                  Krave - Great Barrier Relief - 45ml   \n",
       "3    BEAUTY OF JOSEON - Ginseng Essence Water - 150...   \n",
       "4    BEAUTY OF JOSEON - Repair Serum : Ginseng + Sn...   \n",
       "..                                                 ...   \n",
       "750  White Formula - Extreme Hyaluronic Acid Essenc...   \n",
       "751                          Fancl - Pore Essence - 8g   \n",
       "752             Beaudiani - Organic Jojoba Oil - 100ml   \n",
       "753              Saturday Skin - Beauty Essence - 50ml   \n",
       "754           BioSkin - Hyaluronic Acid Essence - 10ml   \n",
       "\n",
       "                                               details  \\\n",
       "0    Cruelty Free: Yes\\n\\n\\nUsage: Day, Night\\n\\n\\n...   \n",
       "1    Cruelty Free: Yes\\n\\n\\nUsage: Day, Night\\n\\n\\n...   \n",
       "2    Usage: Day, Night\\n\\n\\nProduct Type: Essence &...   \n",
       "3    Cruelty Free: Yes\\n\\n\\nUsage: Day, Night\\n\\n\\n...   \n",
       "4    Cruelty Free: Yes\\n\\n\\nUsage: Day, Night\\n\\n\\n...   \n",
       "..                                                 ...   \n",
       "750  Usage: Day, Night\\n\\n\\nProduct Type: Essence &...   \n",
       "751  Usage: Day, Night\\n\\n\\nProduct Type: Essence &...   \n",
       "752  Usage: Day, Night\\n\\n\\nProduct Type: Oil\\n\\n\\n...   \n",
       "753  Cruelty Free: Yes\\n\\n\\nUsage: Day, Night\\n\\n\\n...   \n",
       "754  Usage: Day, Night\\n\\n\\nProduct Type: Essence &...   \n",
       "\n",
       "                                           ingredients  \n",
       "0                                                   []  \n",
       "1    Snail Secretion Filtrate, Betaine, Butylene Gl...  \n",
       "2                                                   []  \n",
       "3    Panax ginseng root water, Butylene glycol, Gly...  \n",
       "4                                                   []  \n",
       "..                                                 ...  \n",
       "750                                                 []  \n",
       "751  Water, Cyclopentasiloxane, Silica, Butylene Gl...  \n",
       "752                            100% organic jojoba oil  \n",
       "753                                                 []  \n",
       "754                                                 []  \n",
       "\n",
       "[755 rows x 3 columns]"
      ]
     },
     "execution_count": 21,
     "metadata": {},
     "output_type": "execute_result"
    }
   ],
   "source": [
    "essence_df = pd.DataFrame(toners)\n",
    "essence_df"
   ]
  },
  {
   "cell_type": "code",
   "execution_count": 22,
   "metadata": {},
   "outputs": [],
   "source": [
    "essence = essence_df.to_csv('data/essence.csv')"
   ]
  },
  {
   "cell_type": "code",
   "execution_count": null,
   "metadata": {},
   "outputs": [],
   "source": []
  },
  {
   "cell_type": "code",
   "execution_count": null,
   "metadata": {},
   "outputs": [],
   "source": []
  }
 ],
 "metadata": {
  "kernelspec": {
   "display_name": "Python [conda env:ironhack_env]",
   "language": "python",
   "name": "conda-env-ironhack_env-py"
  },
  "language_info": {
   "codemirror_mode": {
    "name": "ipython",
    "version": 3
   },
   "file_extension": ".py",
   "mimetype": "text/x-python",
   "name": "python",
   "nbconvert_exporter": "python",
   "pygments_lexer": "ipython3",
   "version": "3.8.5"
  }
 },
 "nbformat": 4,
 "nbformat_minor": 4
}
