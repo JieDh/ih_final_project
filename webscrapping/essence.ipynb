{
 "cells": [
  {
   "cell_type": "code",
   "execution_count": null,
   "metadata": {},
   "outputs": [],
   "source": []
  },
  {
   "cell_type": "code",
   "execution_count": 2,
   "metadata": {},
   "outputs": [],
   "source": [
    "import requests\n",
    "from bs4 import BeautifulSoup\n",
    "import pandas as pd\n",
    "import re"
   ]
  },
  {
   "cell_type": "code",
   "execution_count": null,
   "metadata": {},
   "outputs": [],
   "source": [
    "#como el navegador a usar es chrome, hemos descargado ya el driver de la página, guardamos la ruta en una variable\n",
    "#chrome_path = 'chromedriver_linux64/chromedriver'\n",
    "#driver = webdriver.Chrome(executable_path = chrome_path)"
   ]
  },
  {
   "cell_type": "code",
   "execution_count": 3,
   "metadata": {},
   "outputs": [],
   "source": [
    "headers = {'User-Agent': 'Mozilla/5.0 (Windows NT 10.0; Win64; x64) AppleWebKit/537.36 (KHTML, like Gecko) Chrome/78.0.3904.108 Safari/537.36'}"
   ]
  },
  {
   "cell_type": "markdown",
   "metadata": {},
   "source": [
    "¿Qué queremos obtener de la página?\n",
    "1. Nombre del producto\n",
    "2. Precio (?)\n",
    "3. Detalles\n",
    "4. Ingredientes"
   ]
  },
  {
   "cell_type": "markdown",
   "metadata": {},
   "source": [
    "## 1 OBTENER TODAS LAS URLS DE LOS PRODUCTOS"
   ]
  },
  {
   "cell_type": "markdown",
   "metadata": {},
   "source": [
    "Para ello, utilizaremos bucles que iteren sobre los elementos de la página.\n",
    "* Variable global cleansers_url, es el contenedor de todas las urls.\n",
    "* Los links están dentro de un tag 'a', como sólo nos interesan aquellas que tengan href, pues href=True. \n",
    "* Se ha agregado class='product-image\" porque si no, el bucle cogía todas las urls (wishlist, url de la imagen etc), y solo nos interesan los productos.\n",
    "* Append cada uno de los links al contenedor."
   ]
  },
  {
   "cell_type": "code",
   "execution_count": 12,
   "metadata": {},
   "outputs": [],
   "source": [
    "essence_url = []"
   ]
  },
  {
   "cell_type": "code",
   "execution_count": 13,
   "metadata": {},
   "outputs": [
    {
     "name": "stdout",
     "output_type": "stream",
     "text": [
      "756\n"
     ]
    }
   ],
   "source": [
    "for i in range (1,64):\n",
    "    url = f'https://www.stylevana.com/en_EU/skincare/face-care/essence-serum.html?p={i}' \n",
    "    r = requests.get(url)\n",
    "    soup = BeautifulSoup(r.content, 'lxml')\n",
    "    essence_list = soup.find_all('div', class_='product-item-info')\n",
    "    for item in essence_list:\n",
    "        for link in item.find_all('a', class_='product-image', href=True): \n",
    "            essence_url.append(link['href'])\n",
    "print(len(essence_url))"
   ]
  },
  {
   "cell_type": "markdown",
   "metadata": {},
   "source": [
    "with open(\"cleansers_url.txt\", \"w\") as output:\n",
    "    output.write(str(cleansers_url))"
   ]
  },
  {
   "cell_type": "code",
   "execution_count": 179,
   "metadata": {},
   "outputs": [
    {
     "data": {
      "text/plain": [
       "[]"
      ]
     },
     "execution_count": 179,
     "metadata": {},
     "output_type": "execute_result"
    }
   ],
   "source": [
    "essence_url"
   ]
  },
  {
   "cell_type": "code",
   "execution_count": 157,
   "metadata": {},
   "outputs": [],
   "source": [
    "details = []"
   ]
  },
  {
   "cell_type": "code",
   "execution_count": 166,
   "metadata": {},
   "outputs": [
    {
     "name": "stdout",
     "output_type": "stream",
     "text": [
      "200\n",
      "200\n",
      "200\n",
      "200\n",
      "200\n",
      "200\n",
      "200\n",
      "200\n",
      "200\n",
      "200\n",
      "200\n",
      "200\n",
      "200\n",
      "200\n",
      "200\n",
      "200\n",
      "200\n",
      "200\n",
      "200\n",
      "200\n",
      "200\n",
      "200\n",
      "200\n",
      "200\n",
      "200\n",
      "200\n",
      "200\n",
      "200\n",
      "200\n",
      "200\n",
      "200\n",
      "200\n",
      "200\n",
      "200\n",
      "200\n",
      "200\n",
      "200\n",
      "200\n",
      "200\n",
      "200\n",
      "200\n",
      "200\n",
      "200\n",
      "200\n",
      "200\n",
      "200\n",
      "200\n",
      "200\n",
      "200\n",
      "200\n",
      "200\n",
      "200\n",
      "200\n",
      "200\n",
      "200\n",
      "200\n",
      "200\n",
      "200\n",
      "200\n",
      "200\n",
      "200\n",
      "200\n",
      "200\n"
     ]
    }
   ],
   "source": [
    "prices = []\n",
    "names = []\n",
    "best_seller = []\n",
    "for i in range (1,64):\n",
    "    url = f'https://www.stylevana.com/en_EU/skincare/face-care/essence-serum.html?p={i}' \n",
    "    r = requests.get(url)\n",
    "    soup = BeautifulSoup(r.content, 'lxml')\n",
    "    try:\n",
    "        name = soup.find_all('h2', class_=\"product-name\")\n",
    "        for title in name:\n",
    "            names.append(title.text)\n",
    "        bestseller = soup.find_all('div', class_='product-badge product-badge-bestseller')\n",
    "        for images in bestseller:\n",
    "            best_seller.append(images.find('img', alt='Best Sellers').get('alt'))\n",
    "        price = soup.find_all('span', class_=\"regular-price\")\n",
    "        for euros in price:\n",
    "            prices.append(euros.find('span', class_='price').text)\n",
    "    except:\n",
    "        names.append('no info')\n",
    "        best_seller.append('no info')\n",
    "        prices.append('no info')"
   ]
  },
  {
   "cell_type": "code",
   "execution_count": 1,
   "metadata": {},
   "outputs": [
    {
     "ename": "NameError",
     "evalue": "name 'prices' is not defined",
     "output_type": "error",
     "traceback": [
      "\u001b[0;31m---------------------------------------------------------------------------\u001b[0m",
      "\u001b[0;31mNameError\u001b[0m                                 Traceback (most recent call last)",
      "\u001b[0;32m<ipython-input-1-690d0bab5559>\u001b[0m in \u001b[0;36m<module>\u001b[0;34m\u001b[0m\n\u001b[0;32m----> 1\u001b[0;31m \u001b[0mprices\u001b[0m\u001b[0;34m\u001b[0m\u001b[0;34m\u001b[0m\u001b[0m\n\u001b[0m",
      "\u001b[0;31mNameError\u001b[0m: name 'prices' is not defined"
     ]
    }
   ],
   "source": [
    "prices"
   ]
  },
  {
   "cell_type": "code",
   "execution_count": 14,
   "metadata": {},
   "outputs": [
    {
     "name": "stdout",
     "output_type": "stream",
     "text": [
      "200\n",
      "200\n"
     ]
    }
   ],
   "source": [
    "dataframe = [] \n",
    "for i in range (1,3):\n",
    "    url = f'https://www.stylevana.com/en_EU/skincare/face-care/essence-serum.html?p={i}' \n",
    "    r = requests.get(url)\n",
    "    soup = BeautifulSoup(r.content, 'lxml')\n",
    "    print(r.status_code)\n",
    "    try:\n",
    "        name = soup.find_all('h2', class_=\"product-name\")\n",
    "        for title in name:\n",
    "            name = title.text\n",
    "        bestseller = soup.find_all('div', class_='product-badge product-badge-bestseller')\n",
    "        for images in bestseller:\n",
    "            bestseller = images.find('img', alt='Best Sellers').get('alt')\n",
    "        price = soup.find_all('span', class_=\"regular-price\")\n",
    "        for euros in price:\n",
    "            price = euros.find('span', class_='price').text\n",
    "    except:\n",
    "        name = 'no info'\n",
    "        bestseller = 'no info'\n",
    "        price = 'no info'\n",
    "        \n",
    "    info = {\n",
    "        'product name': name,\n",
    "        'cost': price,\n",
    "        'stars': bestseller}\n",
    "    \n",
    "    dataframe.append(info)"
   ]
  },
  {
   "cell_type": "code",
   "execution_count": 16,
   "metadata": {},
   "outputs": [
    {
     "data": {
      "text/plain": [
       "'iUNIK - Beta Glucan Power Moisture Serum - 50ml'"
      ]
     },
     "execution_count": 16,
     "metadata": {},
     "output_type": "execute_result"
    }
   ],
   "source": []
  },
  {
   "cell_type": "code",
   "execution_count": 11,
   "metadata": {},
   "outputs": [
    {
     "data": {
      "text/plain": [
       "'no info'"
      ]
     },
     "execution_count": 11,
     "metadata": {},
     "output_type": "execute_result"
    }
   ],
   "source": [
    "names"
   ]
  },
  {
   "cell_type": "code",
   "execution_count": 49,
   "metadata": {},
   "outputs": [
    {
     "name": "stdout",
     "output_type": "stream",
     "text": [
      "200\n"
     ]
    }
   ],
   "source": [
    "turl = f'https://www.stylevana.com/en_EU/skincare/face-care/essence-serum.html?p=1' \n",
    "r = requests.get(turl)\n",
    "soup = BeautifulSoup(r.content, 'lxml')\n",
    "print(r.status_code)\n",
    "name = soup.find_all('h2', class_=\"product-name\", title=True)\n",
    "price = soup.find_all('span', class_=\"regular-price\")"
   ]
  },
  {
   "cell_type": "code",
   "execution_count": 85,
   "metadata": {},
   "outputs": [],
   "source": [
    "name = soup.find_all('h2', class_=\"product-name\")"
   ]
  },
  {
   "cell_type": "code",
   "execution_count": 86,
   "metadata": {},
   "outputs": [
    {
     "data": {
      "text/plain": [
       "[<h2 class=\"product-name\"><a href=\"https://www.stylevana.com/en_EU/iunik-tea-tree-relief-serum-50ml.html\" title=\"iUNIK - Tea Tree Relief Serum - 50ml\">iUNIK - Tea Tree Relief Serum - 50ml</a></h2>,\n",
       " <h2 class=\"product-name\"><a href=\"https://www.stylevana.com/en_EU/cosrx-advanced-snail-96-mucin-power-essence-100ml.html\" title=\"COSRX - Advanced Snail 96 Mucin Power Essence 100ml\">COSRX - Advanced Snail 96 Mucin Power Essence 100ml</a></h2>,\n",
       " <h2 class=\"product-name\"><a href=\"https://www.stylevana.com/en_EU/beauty-of-joseon-repair-serum-ginseng-snail-mucin-30ml.html\" title=\"BEAUTY OF JOSEON - Repair Serum : Ginseng + Snail Mucin - 30ml\">BEAUTY OF JOSEON - Repair Serum : Ginseng + Snail Mucin - 30ml</a></h2>,\n",
       " <h2 class=\"product-name\"><a href=\"https://www.stylevana.com/en_EU/krave-great-barrier-relief-45ml-1.html\" title=\"Krave - Great Barrier Relief - 45ml\">Krave - Great Barrier Relief - 45ml</a></h2>,\n",
       " <h2 class=\"product-name\"><a href=\"https://www.stylevana.com/en_EU/beauty-of-joseon-glow-serum-propolis-niacinamide-30ml-4.html\" title=\"BEAUTY OF JOSEON - Glow Serum : Propolis + Niacinamide - 30ml\">BEAUTY OF JOSEON - Glow Serum : Propolis + Niacinamide - 30ml</a></h2>,\n",
       " <h2 class=\"product-name\"><a href=\"https://www.stylevana.com/en_EU/beauty-of-joseon-ginseng-essence-water-150ml-5-fl-oz.html\" title=\"BEAUTY OF JOSEON - Ginseng Essence Water - 150ml(5 fl.oz.)\">BEAUTY OF JOSEON - Ginseng Essence Water - 150ml(5 fl.oz.)</a></h2>,\n",
       " <h2 class=\"product-name\"><a href=\"https://www.stylevana.com/en_EU/purito-centella-unscented-serum-60ml.html\" title=\"PURITO - Centella Unscented Serum - 60ml\">PURITO - Centella Unscented Serum - 60ml</a></h2>,\n",
       " <h2 class=\"product-name\"><a href=\"https://www.stylevana.com/en_EU/iunik-black-snail-restore-serum.html\" title=\"iUNIK - Black Snail Restore Serum\">iUNIK - Black Snail Restore Serum</a></h2>,\n",
       " <h2 class=\"product-name\"><a href=\"https://www.stylevana.com/en_EU/mentholatum-rohto-melano-cc-concentration-measures-essence-1.html\" title=\"Rohto Mentholatum   - Rohto Melano CC Concentration Measures Essence\">Rohto Mentholatum - Rohto Melano CC Concentration Measures Essence</a></h2>,\n",
       " <h2 class=\"product-name\"><a href=\"https://www.stylevana.com/en_EU/isntree-hyaluronic-acid-water-essence-50ml.html\" title=\"Isntree - Hyaluronic Acid Water Essence - 50ml\">Isntree - Hyaluronic Acid Water Essence - 50ml</a></h2>,\n",
       " <h2 class=\"product-name\"><a href=\"https://www.stylevana.com/en_EU/beauty-of-joseon-calming-serum-green-tea-panthenol-30ml.html\" title=\"BEAUTY OF JOSEON - Calming Serum : Green tea + Panthenol - 30ml\">BEAUTY OF JOSEON - Calming Serum : Green tea + Panthenol - 30ml</a></h2>,\n",
       " <h2 class=\"product-name\"><a href=\"https://www.stylevana.com/en_EU/cosrx-bha-blackhead-power-liquid-100ml.html\" title=\"COSRX - BHA Blackhead Power Liquid 100ml\">COSRX - BHA Blackhead Power Liquid 100ml</a></h2>]"
      ]
     },
     "execution_count": 86,
     "metadata": {},
     "output_type": "execute_result"
    }
   ],
   "source": [
    "name"
   ]
  },
  {
   "cell_type": "code",
   "execution_count": 145,
   "metadata": {},
   "outputs": [
    {
     "name": "stdout",
     "output_type": "stream",
     "text": [
      "200\n",
      "200\n"
     ]
    }
   ],
   "source": [
    "best_seller = []\n",
    "for i in range (1,3):\n",
    "    url = f'https://www.stylevana.com/en_EU/skincare/face-care/essence-serum.html?p={i}' \n",
    "    r = requests.get(url)\n",
    "    soup = BeautifulSoup(r.content, 'lxml')\n",
    "    print(r.status_code)\n",
    "    bestseller = soup.find_all('div', class_='product-badge product-badge-bestseller')\n",
    "    for images in bestseller:\n",
    "        best_seller.append(images.find('img', alt='Best Sellers').get('alt'))"
   ]
  },
  {
   "cell_type": "code",
   "execution_count": 144,
   "metadata": {},
   "outputs": [
    {
     "data": {
      "text/plain": [
       "[<img alt=\"Best Sellers\" class=\"product-badge-icon\" src=\"https://cdn.stylevana.com/images/webicons/20-01w3-Icon-BestSeller-VUS-Home.svg\" title=\"Best Sellers\"/>,\n",
       " <img alt=\"Best Sellers\" class=\"product-badge-icon\" src=\"https://cdn.stylevana.com/images/webicons/20-01w3-Icon-BestSeller-VUS-Home.svg\" title=\"Best Sellers\"/>,\n",
       " <img alt=\"Cruelty Free\" class=\"product-badge-icon\" src=\"https://cdn.stylevana.com/images/webicons/icon-crueltyfree.svg\" title=\"Cruelty Free\"/>,\n",
       " <img alt=\"Best Sellers\" class=\"product-badge-icon\" src=\"https://cdn.stylevana.com/images/webicons/20-01w3-Icon-BestSeller-VUS-Home.svg\" title=\"Best Sellers\"/>,\n",
       " <img alt=\"Cruelty Free\" class=\"product-badge-icon\" src=\"https://cdn.stylevana.com/images/webicons/icon-crueltyfree.svg\" title=\"Cruelty Free\"/>,\n",
       " <img alt=\"Best Sellers\" class=\"product-badge-icon\" src=\"https://cdn.stylevana.com/images/webicons/20-01w3-Icon-BestSeller-VUS-Home.svg\" title=\"Best Sellers\"/>,\n",
       " <img alt=\"Best Sellers\" class=\"product-badge-icon\" src=\"https://cdn.stylevana.com/images/webicons/20-01w3-Icon-BestSeller-VUS-Home.svg\" title=\"Best Sellers\"/>,\n",
       " <img alt=\"Cruelty Free\" class=\"product-badge-icon\" src=\"https://cdn.stylevana.com/images/webicons/icon-crueltyfree.svg\" title=\"Cruelty Free\"/>,\n",
       " <img alt=\"Best Sellers\" class=\"product-badge-icon\" src=\"https://cdn.stylevana.com/images/webicons/20-01w3-Icon-BestSeller-VUS-Home.svg\" title=\"Best Sellers\"/>,\n",
       " <img alt=\"Cruelty Free\" class=\"product-badge-icon\" src=\"https://cdn.stylevana.com/images/webicons/icon-crueltyfree.svg\" title=\"Cruelty Free\"/>,\n",
       " <img alt=\"Best Sellers\" class=\"product-badge-icon\" src=\"https://cdn.stylevana.com/images/webicons/20-01w3-Icon-BestSeller-VUS-Home.svg\" title=\"Best Sellers\"/>,\n",
       " <img alt=\"Cruelty Free\" class=\"product-badge-icon\" src=\"https://cdn.stylevana.com/images/webicons/icon-crueltyfree.svg\" title=\"Cruelty Free\"/>,\n",
       " <img alt=\"Best Sellers\" class=\"product-badge-icon\" src=\"https://cdn.stylevana.com/images/webicons/20-01w3-Icon-BestSeller-VUS-Home.svg\" title=\"Best Sellers\"/>,\n",
       " <img alt=\"Best Sellers\" class=\"product-badge-icon\" src=\"https://cdn.stylevana.com/images/webicons/20-01w3-Icon-BestSeller-VUS-Home.svg\" title=\"Best Sellers\"/>,\n",
       " <img alt=\"Cruelty Free\" class=\"product-badge-icon\" src=\"https://cdn.stylevana.com/images/webicons/icon-crueltyfree.svg\" title=\"Cruelty Free\"/>,\n",
       " <img alt=\"Best Sellers\" class=\"product-badge-icon\" src=\"https://cdn.stylevana.com/images/webicons/20-01w3-Icon-BestSeller-VUS-Home.svg\" title=\"Best Sellers\"/>,\n",
       " <img alt=\"Cruelty Free\" class=\"product-badge-icon\" src=\"https://cdn.stylevana.com/images/webicons/icon-crueltyfree.svg\" title=\"Cruelty Free\"/>,\n",
       " <img alt=\"Best Sellers\" class=\"product-badge-icon\" src=\"https://cdn.stylevana.com/images/webicons/20-01w3-Icon-BestSeller-VUS-Home.svg\" title=\"Best Sellers\"/>,\n",
       " <img alt=\"Vegan\" class=\"product-badge-icon\" src=\"https://cdn.stylevana.com/images/webicons/icon-vegan.svg\" title=\"Vegan\"/>,\n",
       " <img alt=\"Cruelty Free\" class=\"product-badge-icon\" src=\"https://cdn.stylevana.com/images/webicons/icon-crueltyfree.svg\" title=\"Cruelty Free\"/>]"
      ]
     },
     "execution_count": 144,
     "metadata": {},
     "output_type": "execute_result"
    }
   ],
   "source": [
    "bestseller"
   ]
  },
  {
   "cell_type": "code",
   "execution_count": 146,
   "metadata": {},
   "outputs": [
    {
     "data": {
      "text/plain": [
       "['Best Sellers',\n",
       " 'Best Sellers',\n",
       " 'Best Sellers',\n",
       " 'Best Sellers',\n",
       " 'Best Sellers',\n",
       " 'Best Sellers',\n",
       " 'Best Sellers',\n",
       " 'Best Sellers',\n",
       " 'Best Sellers',\n",
       " 'Best Sellers',\n",
       " 'Best Sellers',\n",
       " 'Best Sellers',\n",
       " 'Best Sellers',\n",
       " 'Best Sellers']"
      ]
     },
     "execution_count": 146,
     "metadata": {},
     "output_type": "execute_result"
    }
   ],
   "source": [
    "best_seller"
   ]
  },
  {
   "cell_type": "code",
   "execution_count": 135,
   "metadata": {},
   "outputs": [
    {
     "data": {
      "text/plain": [
       "['PURITO - Pure Vitamin C Serum - 60ml',\n",
       " 'iUNIK - Tea Tree Relief Serum - 15ml',\n",
       " 'SOME BY MI - Galactomyces Pure Vitamin C Glow Serum - 30ml',\n",
       " 'SOME BY MI - AHA-BHA-PHA 30 Days Miracle Serum - 50ml',\n",
       " 'Haruharu WONDER - Black Rice Facial Oil - 10ml',\n",
       " 'iUNIK - Propolis Vitamin Synergy Serum - 50ml',\n",
       " 'SOME BY MI - Yuja Niacin Blemish Care Serum - 50ml',\n",
       " \"TIA'M - My Signature Red C Serum - 30ml\",\n",
       " 'Isntree - Clear Skin 8% AHA Essence - 100ml',\n",
       " 'iUNIK - Propolis Vitamin Synergy Serum - 15ml',\n",
       " 'Haruharu WONDER - Black Rice Hyaluronic Anti-wrinkle Serum - 50ml',\n",
       " \"TIA'M - Vita B3 Source - 40ml\"]"
      ]
     },
     "execution_count": 135,
     "metadata": {},
     "output_type": "execute_result"
    }
   ],
   "source": [
    "names"
   ]
  },
  {
   "cell_type": "code",
   "execution_count": 124,
   "metadata": {},
   "outputs": [
    {
     "name": "stdout",
     "output_type": "stream",
     "text": [
      "9.99€\n",
      "5.29€\n",
      "10.69€\n",
      "13.39€\n",
      "4.39€\n",
      "12.59€\n",
      "12.59€\n",
      "7.69€\n",
      "9.39€\n",
      "5.79€\n",
      "10.59€\n",
      "7.59€\n"
     ]
    }
   ],
   "source": [
    "for euros in price:\n",
    "        priceeuros.find('span', class_='price').text"
   ]
  },
  {
   "cell_type": "code",
   "execution_count": 122,
   "metadata": {},
   "outputs": [
    {
     "data": {
      "text/plain": [
       "'7.59€'"
      ]
     },
     "execution_count": 122,
     "metadata": {},
     "output_type": "execute_result"
    }
   ],
   "source": [
    "cost"
   ]
  },
  {
   "cell_type": "code",
   "execution_count": 43,
   "metadata": {},
   "outputs": [
    {
     "name": "stdout",
     "output_type": "stream",
     "text": [
      "iUNIK - Tea Tree Relief Serum - 50ml\n",
      "COSRX - Advanced Snail 96 Mucin Power Essence 100ml\n",
      "BEAUTY OF JOSEON - Repair Serum : Ginseng + Snail Mucin - 30ml\n",
      "Krave - Great Barrier Relief - 45ml\n",
      "BEAUTY OF JOSEON - Glow Serum : Propolis + Niacinamide - 30ml\n",
      "BEAUTY OF JOSEON - Ginseng Essence Water - 150ml(5 fl.oz.)\n",
      "PURITO - Centella Unscented Serum - 60ml\n",
      "iUNIK - Black Snail Restore Serum\n",
      "Rohto Mentholatum - Rohto Melano CC Concentration Measures Essence\n",
      "Isntree - Hyaluronic Acid Water Essence - 50ml\n",
      "BEAUTY OF JOSEON - Calming Serum : Green tea + Panthenol - 30ml\n",
      "COSRX - BHA Blackhead Power Liquid 100ml\n"
     ]
    }
   ],
   "source": [
    "for products in name:\n",
    "    print(products.text)"
   ]
  },
  {
   "cell_type": "code",
   "execution_count": 57,
   "metadata": {},
   "outputs": [],
   "source": [
    "bestseller = soup.find_all('div', class_='product-badge product-badge-bestseller')"
   ]
  },
  {
   "cell_type": "code",
   "execution_count": null,
   "metadata": {},
   "outputs": [],
   "source": []
  },
  {
   "cell_type": "code",
   "execution_count": 64,
   "metadata": {},
   "outputs": [
    {
     "data": {
      "text/plain": [
       "[<div class=\"product-badge product-badge-bestseller\" style=\"order:20\">\n",
       " <img alt=\"Best Sellers\" class=\"product-badge-icon\" src=\"https://cdn.stylevana.com/images/webicons/20-01w3-Icon-BestSeller-VUS-Home.svg\" title=\"Best Sellers\"/>\n",
       " <span class=\"product-badge-text\"></span>\n",
       " </div>,\n",
       " <div class=\"product-badge product-badge-bestseller\" style=\"order:20\">\n",
       " <img alt=\"Best Sellers\" class=\"product-badge-icon\" src=\"https://cdn.stylevana.com/images/webicons/20-01w3-Icon-BestSeller-VUS-Home.svg\" title=\"Best Sellers\"/>\n",
       " <span class=\"product-badge-text\"></span>\n",
       " </div>,\n",
       " <div class=\"product-badge product-badge-bestseller\" style=\"order:20\">\n",
       " <img alt=\"Best Sellers\" class=\"product-badge-icon\" src=\"https://cdn.stylevana.com/images/webicons/20-01w3-Icon-BestSeller-VUS-Home.svg\" title=\"Best Sellers\"/>\n",
       " <span class=\"product-badge-text\"></span>\n",
       " </div>,\n",
       " <div class=\"product-badge product-badge-bestseller\" style=\"order:20\">\n",
       " <img alt=\"Best Sellers\" class=\"product-badge-icon\" src=\"https://cdn.stylevana.com/images/webicons/20-01w3-Icon-BestSeller-VUS-Home.svg\" title=\"Best Sellers\"/>\n",
       " <span class=\"product-badge-text\"></span>\n",
       " </div>,\n",
       " <div class=\"product-badge product-badge-bestseller\" style=\"order:20\">\n",
       " <img alt=\"Best Sellers\" class=\"product-badge-icon\" src=\"https://cdn.stylevana.com/images/webicons/20-01w3-Icon-BestSeller-VUS-Home.svg\" title=\"Best Sellers\"/>\n",
       " <span class=\"product-badge-text\"></span>\n",
       " </div>,\n",
       " <div class=\"product-badge product-badge-bestseller\" style=\"order:20\">\n",
       " <img alt=\"Best Sellers\" class=\"product-badge-icon\" src=\"https://cdn.stylevana.com/images/webicons/20-01w3-Icon-BestSeller-VUS-Home.svg\" title=\"Best Sellers\"/>\n",
       " <span class=\"product-badge-text\"></span>\n",
       " </div>,\n",
       " <div class=\"product-badge product-badge-bestseller\" style=\"order:20\">\n",
       " <img alt=\"Best Sellers\" class=\"product-badge-icon\" src=\"https://cdn.stylevana.com/images/webicons/20-01w3-Icon-BestSeller-VUS-Home.svg\" title=\"Best Sellers\"/>\n",
       " <span class=\"product-badge-text\"></span>\n",
       " </div>,\n",
       " <div class=\"product-badge product-badge-bestseller\" style=\"order:20\">\n",
       " <img alt=\"Best Sellers\" class=\"product-badge-icon\" src=\"https://cdn.stylevana.com/images/webicons/20-01w3-Icon-BestSeller-VUS-Home.svg\" title=\"Best Sellers\"/>\n",
       " <span class=\"product-badge-text\"></span>\n",
       " </div>,\n",
       " <div class=\"product-badge product-badge-bestseller\" style=\"order:20\">\n",
       " <img alt=\"Best Sellers\" class=\"product-badge-icon\" src=\"https://cdn.stylevana.com/images/webicons/20-01w3-Icon-BestSeller-VUS-Home.svg\" title=\"Best Sellers\"/>\n",
       " <span class=\"product-badge-text\"></span>\n",
       " </div>,\n",
       " <div class=\"product-badge product-badge-bestseller\" style=\"order:20\">\n",
       " <img alt=\"Best Sellers\" class=\"product-badge-icon\" src=\"https://cdn.stylevana.com/images/webicons/20-01w3-Icon-BestSeller-VUS-Home.svg\" title=\"Best Sellers\"/>\n",
       " <span class=\"product-badge-text\"></span>\n",
       " </div>,\n",
       " <div class=\"product-badge product-badge-bestseller\" style=\"order:20\">\n",
       " <img alt=\"Best Sellers\" class=\"product-badge-icon\" src=\"https://cdn.stylevana.com/images/webicons/20-01w3-Icon-BestSeller-VUS-Home.svg\" title=\"Best Sellers\"/>\n",
       " <span class=\"product-badge-text\"></span>\n",
       " </div>]"
      ]
     },
     "execution_count": 64,
     "metadata": {},
     "output_type": "execute_result"
    }
   ],
   "source": [
    "bestseller"
   ]
  },
  {
   "cell_type": "code",
   "execution_count": 81,
   "metadata": {},
   "outputs": [
    {
     "name": "stdout",
     "output_type": "stream",
     "text": [
      "Best Sellers\n",
      "Best Sellers\n",
      "Best Sellers\n",
      "Best Sellers\n",
      "Best Sellers\n",
      "Best Sellers\n",
      "Best Sellers\n",
      "Best Sellers\n",
      "Best Sellers\n",
      "Best Sellers\n",
      "Best Sellers\n"
     ]
    }
   ],
   "source": [
    "for images in bestseller:\n",
    "    print(images.find('img', alt='Best Sellers').get('alt'))"
   ]
  },
  {
   "cell_type": "code",
   "execution_count": null,
   "metadata": {},
   "outputs": [],
   "source": [
    "title = text.get('title', 'No title attribute')"
   ]
  },
  {
   "cell_type": "markdown",
   "metadata": {},
   "source": [
    "## 2 OBTENER LA INFO DE LA PÁGINA PROPIA DEL PRODUCTO\n",
    "Info que necesitamos:\n",
    "* Nombre del producto\n",
    "* Details\n",
    "* Ingredients"
   ]
  },
  {
   "cell_type": "markdown",
   "metadata": {},
   "source": [
    "* Details e Ingredients se encuentran dentro de un grupo <div class='panel-group'"
   ]
  },
  {
   "cell_type": "code",
   "execution_count": 37,
   "metadata": {},
   "outputs": [],
   "source": [
    "essence = []"
   ]
  },
  {
   "cell_type": "code",
   "execution_count": 38,
   "metadata": {},
   "outputs": [],
   "source": [
    "for link in essence_url[0:756]:\n",
    "    r = requests.get(link, headers=headers) #para cada link en el listado, hacemos una requests\n",
    "    soup = BeautifulSoup(r.content, 'lxml')\n",
    "    #usamos try, except porque hay ocasiones en las que no hay info sobre los ingredientes\n",
    "    try:\n",
    "        name = soup.find('h1', class_='product-name-h1').text\n",
    "        details = (soup.find('div', id='product-view-details').text.strip()) # details\n",
    "        price = (soup.find('span', class_='price').text.strip())\n",
    "        best_seller = soup.find(class_=\"product-badge-icon\").get('title')\n",
    "        ingredients = soup.find_all('div', id=\"product-view-ingredients\") #ingredients\n",
    "        for item in ingredients:\n",
    "            ingredients = item.find('div', class_='panel-body').text.strip()\n",
    "    except:\n",
    "        details = 'no info'\n",
    "        ingredients = 'no info'\n",
    "        price = 'no info'\n",
    "        best_seller = 'no'\n",
    "        \n",
    "    essence_info = {\n",
    "    'name': name,\n",
    "    'details': details,\n",
    "    'ingredients': ingredients,\n",
    "    'price': price,\n",
    "    'best-seller': best_seller}\n",
    "    \n",
    "    essence.append(essence_info)"
   ]
  },
  {
   "cell_type": "code",
   "execution_count": 39,
   "metadata": {},
   "outputs": [
    {
     "name": "stdout",
     "output_type": "stream",
     "text": [
      "756\n"
     ]
    }
   ],
   "source": [
    "print(len(essence))"
   ]
  },
  {
   "cell_type": "markdown",
   "metadata": {},
   "source": [
    "## 3. PASARLO A DATAFRAME"
   ]
  },
  {
   "cell_type": "code",
   "execution_count": 40,
   "metadata": {},
   "outputs": [
    {
     "data": {
      "text/html": [
       "<div>\n",
       "<style scoped>\n",
       "    .dataframe tbody tr th:only-of-type {\n",
       "        vertical-align: middle;\n",
       "    }\n",
       "\n",
       "    .dataframe tbody tr th {\n",
       "        vertical-align: top;\n",
       "    }\n",
       "\n",
       "    .dataframe thead th {\n",
       "        text-align: right;\n",
       "    }\n",
       "</style>\n",
       "<table border=\"1\" class=\"dataframe\">\n",
       "  <thead>\n",
       "    <tr style=\"text-align: right;\">\n",
       "      <th></th>\n",
       "      <th>name</th>\n",
       "      <th>details</th>\n",
       "      <th>ingredients</th>\n",
       "      <th>price</th>\n",
       "      <th>best-seller</th>\n",
       "    </tr>\n",
       "  </thead>\n",
       "  <tbody>\n",
       "    <tr>\n",
       "      <th>0</th>\n",
       "      <td>iUNIK - Tea Tree Relief Serum - 50ml</td>\n",
       "      <td>Usage: Day, Night\\n\\n\\nProduct Type: Essence &amp;...</td>\n",
       "      <td>[]</td>\n",
       "      <td>9.09€</td>\n",
       "      <td>Best Sellers</td>\n",
       "    </tr>\n",
       "    <tr>\n",
       "      <th>1</th>\n",
       "      <td>COSRX - Advanced Snail 96 Mucin Power Essence ...</td>\n",
       "      <td>Cruelty Free: Yes\\n\\n\\nUsage: Day, Night\\n\\n\\n...</td>\n",
       "      <td>Snail Secretion Filtrate, Betaine, Butylene Gl...</td>\n",
       "      <td>11.89€</td>\n",
       "      <td>Best Sellers</td>\n",
       "    </tr>\n",
       "    <tr>\n",
       "      <th>2</th>\n",
       "      <td>BEAUTY OF JOSEON - Ginseng Essence Water - 150...</td>\n",
       "      <td>Cruelty Free: Yes\\n\\n\\nUsage: Day, Night\\n\\n\\n...</td>\n",
       "      <td>Panax ginseng root water, Butylene glycol, Gly...</td>\n",
       "      <td>10.59€</td>\n",
       "      <td>Best Sellers</td>\n",
       "    </tr>\n",
       "    <tr>\n",
       "      <th>3</th>\n",
       "      <td>BEAUTY OF JOSEON - Repair Serum : Ginseng + Sn...</td>\n",
       "      <td>Cruelty Free: Yes\\n\\n\\nUsage: Day, Night\\n\\n\\n...</td>\n",
       "      <td>[]</td>\n",
       "      <td>9.29€</td>\n",
       "      <td>Best Sellers</td>\n",
       "    </tr>\n",
       "    <tr>\n",
       "      <th>4</th>\n",
       "      <td>BEAUTY OF JOSEON - Glow Serum : Propolis + Nia...</td>\n",
       "      <td>Cruelty Free: Yes\\n\\n\\nUsage: Day, Night\\n\\n\\n...</td>\n",
       "      <td>[]</td>\n",
       "      <td>9.79€</td>\n",
       "      <td>Best Sellers</td>\n",
       "    </tr>\n",
       "    <tr>\n",
       "      <th>...</th>\n",
       "      <td>...</td>\n",
       "      <td>...</td>\n",
       "      <td>...</td>\n",
       "      <td>...</td>\n",
       "      <td>...</td>\n",
       "    </tr>\n",
       "    <tr>\n",
       "      <th>751</th>\n",
       "      <td>Dr.Ci:Labo - Super White 377 VC Essence - 18g</td>\n",
       "      <td>Cruelty Free: Yes\\n\\n\\nUsage: Day, Night\\n\\n\\n...</td>\n",
       "      <td>Water, neopentyl glycol dicaprate, pentaerythr...</td>\n",
       "      <td>78.59€</td>\n",
       "      <td>Cruelty Free</td>\n",
       "    </tr>\n",
       "    <tr>\n",
       "      <th>752</th>\n",
       "      <td>Kose - DECORTE - Hydration Boosting Serum - 60ml</td>\n",
       "      <td>no info</td>\n",
       "      <td>no info</td>\n",
       "      <td>no info</td>\n",
       "      <td>no</td>\n",
       "    </tr>\n",
       "    <tr>\n",
       "      <th>753</th>\n",
       "      <td>Bffect - Granactive Retinoid Emulsion 2% + GAB...</td>\n",
       "      <td>Cruelty Free: Yes\\n\\n\\nUsage: Day, Night\\n\\n\\n...</td>\n",
       "      <td>Aqua, Propanediol, Simmondsia Chinensis (Jojob...</td>\n",
       "      <td>14.19€</td>\n",
       "      <td>Cruelty Free</td>\n",
       "    </tr>\n",
       "    <tr>\n",
       "      <th>754</th>\n",
       "      <td>TAKAMI - Skin Peel - 30ml</td>\n",
       "      <td>no info</td>\n",
       "      <td>no info</td>\n",
       "      <td>no info</td>\n",
       "      <td>no</td>\n",
       "    </tr>\n",
       "    <tr>\n",
       "      <th>755</th>\n",
       "      <td>Elizavecca - Farmer Piggy Jojoba Oil 100%</td>\n",
       "      <td>Cruelty Free: Yes\\n\\n\\nUsage: Night\\n\\n\\nProdu...</td>\n",
       "      <td>[]</td>\n",
       "      <td>21.09€</td>\n",
       "      <td>Cruelty Free</td>\n",
       "    </tr>\n",
       "  </tbody>\n",
       "</table>\n",
       "<p>756 rows × 5 columns</p>\n",
       "</div>"
      ],
      "text/plain": [
       "                                                  name  \\\n",
       "0                 iUNIK - Tea Tree Relief Serum - 50ml   \n",
       "1    COSRX - Advanced Snail 96 Mucin Power Essence ...   \n",
       "2    BEAUTY OF JOSEON - Ginseng Essence Water - 150...   \n",
       "3    BEAUTY OF JOSEON - Repair Serum : Ginseng + Sn...   \n",
       "4    BEAUTY OF JOSEON - Glow Serum : Propolis + Nia...   \n",
       "..                                                 ...   \n",
       "751      Dr.Ci:Labo - Super White 377 VC Essence - 18g   \n",
       "752   Kose - DECORTE - Hydration Boosting Serum - 60ml   \n",
       "753  Bffect - Granactive Retinoid Emulsion 2% + GAB...   \n",
       "754                          TAKAMI - Skin Peel - 30ml   \n",
       "755          Elizavecca - Farmer Piggy Jojoba Oil 100%   \n",
       "\n",
       "                                               details  \\\n",
       "0    Usage: Day, Night\\n\\n\\nProduct Type: Essence &...   \n",
       "1    Cruelty Free: Yes\\n\\n\\nUsage: Day, Night\\n\\n\\n...   \n",
       "2    Cruelty Free: Yes\\n\\n\\nUsage: Day, Night\\n\\n\\n...   \n",
       "3    Cruelty Free: Yes\\n\\n\\nUsage: Day, Night\\n\\n\\n...   \n",
       "4    Cruelty Free: Yes\\n\\n\\nUsage: Day, Night\\n\\n\\n...   \n",
       "..                                                 ...   \n",
       "751  Cruelty Free: Yes\\n\\n\\nUsage: Day, Night\\n\\n\\n...   \n",
       "752                                            no info   \n",
       "753  Cruelty Free: Yes\\n\\n\\nUsage: Day, Night\\n\\n\\n...   \n",
       "754                                            no info   \n",
       "755  Cruelty Free: Yes\\n\\n\\nUsage: Night\\n\\n\\nProdu...   \n",
       "\n",
       "                                           ingredients    price   best-seller  \n",
       "0                                                   []    9.09€  Best Sellers  \n",
       "1    Snail Secretion Filtrate, Betaine, Butylene Gl...   11.89€  Best Sellers  \n",
       "2    Panax ginseng root water, Butylene glycol, Gly...   10.59€  Best Sellers  \n",
       "3                                                   []    9.29€  Best Sellers  \n",
       "4                                                   []    9.79€  Best Sellers  \n",
       "..                                                 ...      ...           ...  \n",
       "751  Water, neopentyl glycol dicaprate, pentaerythr...   78.59€  Cruelty Free  \n",
       "752                                            no info  no info            no  \n",
       "753  Aqua, Propanediol, Simmondsia Chinensis (Jojob...   14.19€  Cruelty Free  \n",
       "754                                            no info  no info            no  \n",
       "755                                                 []   21.09€  Cruelty Free  \n",
       "\n",
       "[756 rows x 5 columns]"
      ]
     },
     "execution_count": 40,
     "metadata": {},
     "output_type": "execute_result"
    }
   ],
   "source": [
    "essence_df = pd.DataFrame(essence)\n",
    "essence_df"
   ]
  },
  {
   "cell_type": "code",
   "execution_count": 41,
   "metadata": {},
   "outputs": [
    {
     "data": {
      "text/html": [
       "<div>\n",
       "<style scoped>\n",
       "    .dataframe tbody tr th:only-of-type {\n",
       "        vertical-align: middle;\n",
       "    }\n",
       "\n",
       "    .dataframe tbody tr th {\n",
       "        vertical-align: top;\n",
       "    }\n",
       "\n",
       "    .dataframe thead th {\n",
       "        text-align: right;\n",
       "    }\n",
       "</style>\n",
       "<table border=\"1\" class=\"dataframe\">\n",
       "  <thead>\n",
       "    <tr style=\"text-align: right;\">\n",
       "      <th></th>\n",
       "      <th>name</th>\n",
       "      <th>details</th>\n",
       "      <th>ingredients</th>\n",
       "      <th>price</th>\n",
       "      <th>best-seller</th>\n",
       "    </tr>\n",
       "  </thead>\n",
       "  <tbody>\n",
       "    <tr>\n",
       "      <th>0</th>\n",
       "      <td>iUNIK - Tea Tree Relief Serum - 50ml</td>\n",
       "      <td>Usage: Day, Night\\n\\n\\nProduct Type: Essence &amp;...</td>\n",
       "      <td>[]</td>\n",
       "      <td>9.09€</td>\n",
       "      <td>Best Sellers</td>\n",
       "    </tr>\n",
       "    <tr>\n",
       "      <th>1</th>\n",
       "      <td>COSRX - Advanced Snail 96 Mucin Power Essence ...</td>\n",
       "      <td>Cruelty Free: Yes\\n\\n\\nUsage: Day, Night\\n\\n\\n...</td>\n",
       "      <td>Snail Secretion Filtrate, Betaine, Butylene Gl...</td>\n",
       "      <td>11.89€</td>\n",
       "      <td>Best Sellers</td>\n",
       "    </tr>\n",
       "    <tr>\n",
       "      <th>2</th>\n",
       "      <td>BEAUTY OF JOSEON - Ginseng Essence Water - 150...</td>\n",
       "      <td>Cruelty Free: Yes\\n\\n\\nUsage: Day, Night\\n\\n\\n...</td>\n",
       "      <td>Panax ginseng root water, Butylene glycol, Gly...</td>\n",
       "      <td>10.59€</td>\n",
       "      <td>Best Sellers</td>\n",
       "    </tr>\n",
       "    <tr>\n",
       "      <th>3</th>\n",
       "      <td>BEAUTY OF JOSEON - Repair Serum : Ginseng + Sn...</td>\n",
       "      <td>Cruelty Free: Yes\\n\\n\\nUsage: Day, Night\\n\\n\\n...</td>\n",
       "      <td>[]</td>\n",
       "      <td>9.29€</td>\n",
       "      <td>Best Sellers</td>\n",
       "    </tr>\n",
       "    <tr>\n",
       "      <th>4</th>\n",
       "      <td>BEAUTY OF JOSEON - Glow Serum : Propolis + Nia...</td>\n",
       "      <td>Cruelty Free: Yes\\n\\n\\nUsage: Day, Night\\n\\n\\n...</td>\n",
       "      <td>[]</td>\n",
       "      <td>9.79€</td>\n",
       "      <td>Best Sellers</td>\n",
       "    </tr>\n",
       "    <tr>\n",
       "      <th>...</th>\n",
       "      <td>...</td>\n",
       "      <td>...</td>\n",
       "      <td>...</td>\n",
       "      <td>...</td>\n",
       "      <td>...</td>\n",
       "    </tr>\n",
       "    <tr>\n",
       "      <th>751</th>\n",
       "      <td>Dr.Ci:Labo - Super White 377 VC Essence - 18g</td>\n",
       "      <td>Cruelty Free: Yes\\n\\n\\nUsage: Day, Night\\n\\n\\n...</td>\n",
       "      <td>Water, neopentyl glycol dicaprate, pentaerythr...</td>\n",
       "      <td>78.59€</td>\n",
       "      <td>Cruelty Free</td>\n",
       "    </tr>\n",
       "    <tr>\n",
       "      <th>752</th>\n",
       "      <td>Kose - DECORTE - Hydration Boosting Serum - 60ml</td>\n",
       "      <td>no info</td>\n",
       "      <td>no info</td>\n",
       "      <td>no info</td>\n",
       "      <td>no</td>\n",
       "    </tr>\n",
       "    <tr>\n",
       "      <th>753</th>\n",
       "      <td>Bffect - Granactive Retinoid Emulsion 2% + GAB...</td>\n",
       "      <td>Cruelty Free: Yes\\n\\n\\nUsage: Day, Night\\n\\n\\n...</td>\n",
       "      <td>Aqua, Propanediol, Simmondsia Chinensis (Jojob...</td>\n",
       "      <td>14.19€</td>\n",
       "      <td>Cruelty Free</td>\n",
       "    </tr>\n",
       "    <tr>\n",
       "      <th>754</th>\n",
       "      <td>TAKAMI - Skin Peel - 30ml</td>\n",
       "      <td>no info</td>\n",
       "      <td>no info</td>\n",
       "      <td>no info</td>\n",
       "      <td>no</td>\n",
       "    </tr>\n",
       "    <tr>\n",
       "      <th>755</th>\n",
       "      <td>Elizavecca - Farmer Piggy Jojoba Oil 100%</td>\n",
       "      <td>Cruelty Free: Yes\\n\\n\\nUsage: Night\\n\\n\\nProdu...</td>\n",
       "      <td>[]</td>\n",
       "      <td>21.09€</td>\n",
       "      <td>Cruelty Free</td>\n",
       "    </tr>\n",
       "  </tbody>\n",
       "</table>\n",
       "<p>756 rows × 5 columns</p>\n",
       "</div>"
      ],
      "text/plain": [
       "                                                  name  \\\n",
       "0                 iUNIK - Tea Tree Relief Serum - 50ml   \n",
       "1    COSRX - Advanced Snail 96 Mucin Power Essence ...   \n",
       "2    BEAUTY OF JOSEON - Ginseng Essence Water - 150...   \n",
       "3    BEAUTY OF JOSEON - Repair Serum : Ginseng + Sn...   \n",
       "4    BEAUTY OF JOSEON - Glow Serum : Propolis + Nia...   \n",
       "..                                                 ...   \n",
       "751      Dr.Ci:Labo - Super White 377 VC Essence - 18g   \n",
       "752   Kose - DECORTE - Hydration Boosting Serum - 60ml   \n",
       "753  Bffect - Granactive Retinoid Emulsion 2% + GAB...   \n",
       "754                          TAKAMI - Skin Peel - 30ml   \n",
       "755          Elizavecca - Farmer Piggy Jojoba Oil 100%   \n",
       "\n",
       "                                               details  \\\n",
       "0    Usage: Day, Night\\n\\n\\nProduct Type: Essence &...   \n",
       "1    Cruelty Free: Yes\\n\\n\\nUsage: Day, Night\\n\\n\\n...   \n",
       "2    Cruelty Free: Yes\\n\\n\\nUsage: Day, Night\\n\\n\\n...   \n",
       "3    Cruelty Free: Yes\\n\\n\\nUsage: Day, Night\\n\\n\\n...   \n",
       "4    Cruelty Free: Yes\\n\\n\\nUsage: Day, Night\\n\\n\\n...   \n",
       "..                                                 ...   \n",
       "751  Cruelty Free: Yes\\n\\n\\nUsage: Day, Night\\n\\n\\n...   \n",
       "752                                            no info   \n",
       "753  Cruelty Free: Yes\\n\\n\\nUsage: Day, Night\\n\\n\\n...   \n",
       "754                                            no info   \n",
       "755  Cruelty Free: Yes\\n\\n\\nUsage: Night\\n\\n\\nProdu...   \n",
       "\n",
       "                                           ingredients    price   best-seller  \n",
       "0                                                   []    9.09€  Best Sellers  \n",
       "1    Snail Secretion Filtrate, Betaine, Butylene Gl...   11.89€  Best Sellers  \n",
       "2    Panax ginseng root water, Butylene glycol, Gly...   10.59€  Best Sellers  \n",
       "3                                                   []    9.29€  Best Sellers  \n",
       "4                                                   []    9.79€  Best Sellers  \n",
       "..                                                 ...      ...           ...  \n",
       "751  Water, neopentyl glycol dicaprate, pentaerythr...   78.59€  Cruelty Free  \n",
       "752                                            no info  no info            no  \n",
       "753  Aqua, Propanediol, Simmondsia Chinensis (Jojob...   14.19€  Cruelty Free  \n",
       "754                                            no info  no info            no  \n",
       "755                                                 []   21.09€  Cruelty Free  \n",
       "\n",
       "[756 rows x 5 columns]"
      ]
     },
     "execution_count": 41,
     "metadata": {},
     "output_type": "execute_result"
    }
   ],
   "source": [
    "essence_df = pd.DataFrame(essence)\n",
    "essence_df"
   ]
  },
  {
   "cell_type": "code",
   "execution_count": 24,
   "metadata": {},
   "outputs": [
    {
     "data": {
      "text/html": [
       "<div>\n",
       "<style scoped>\n",
       "    .dataframe tbody tr th:only-of-type {\n",
       "        vertical-align: middle;\n",
       "    }\n",
       "\n",
       "    .dataframe tbody tr th {\n",
       "        vertical-align: top;\n",
       "    }\n",
       "\n",
       "    .dataframe thead th {\n",
       "        text-align: right;\n",
       "    }\n",
       "</style>\n",
       "<table border=\"1\" class=\"dataframe\">\n",
       "  <thead>\n",
       "    <tr style=\"text-align: right;\">\n",
       "      <th></th>\n",
       "      <th>name</th>\n",
       "      <th>details</th>\n",
       "      <th>ingredients</th>\n",
       "      <th>price</th>\n",
       "      <th>best-seller</th>\n",
       "    </tr>\n",
       "  </thead>\n",
       "  <tbody>\n",
       "    <tr>\n",
       "      <th>1</th>\n",
       "      <td>ISOI - Acni Dr. 1st Control Essence - 50ml</td>\n",
       "      <td>no info</td>\n",
       "      <td>no info</td>\n",
       "      <td>no info</td>\n",
       "      <td>no</td>\n",
       "    </tr>\n",
       "    <tr>\n",
       "      <th>15</th>\n",
       "      <td>iUNIK - Tea Tree Relief Serum - 15ml</td>\n",
       "      <td>no info</td>\n",
       "      <td>no info</td>\n",
       "      <td>no info</td>\n",
       "      <td>no</td>\n",
       "    </tr>\n",
       "    <tr>\n",
       "      <th>17</th>\n",
       "      <td>SOME BY MI - Yuja Niacin Blemish Care Serum - ...</td>\n",
       "      <td>no info</td>\n",
       "      <td>no info</td>\n",
       "      <td>no info</td>\n",
       "      <td>no</td>\n",
       "    </tr>\n",
       "    <tr>\n",
       "      <th>19</th>\n",
       "      <td>Haruharu WONDER - Black Rice Facial Oil - 10ml</td>\n",
       "      <td>no info</td>\n",
       "      <td>no info</td>\n",
       "      <td>no info</td>\n",
       "      <td>no</td>\n",
       "    </tr>\n",
       "    <tr>\n",
       "      <th>21</th>\n",
       "      <td>SOME BY MI - Galactomyces Pure Vitamin C Glow ...</td>\n",
       "      <td>no info</td>\n",
       "      <td>no info</td>\n",
       "      <td>no info</td>\n",
       "      <td>no</td>\n",
       "    </tr>\n",
       "    <tr>\n",
       "      <th>...</th>\n",
       "      <td>...</td>\n",
       "      <td>...</td>\n",
       "      <td>...</td>\n",
       "      <td>...</td>\n",
       "      <td>...</td>\n",
       "    </tr>\n",
       "    <tr>\n",
       "      <th>745</th>\n",
       "      <td>Jealousness - Gold Helichrysum Water Essence -...</td>\n",
       "      <td>no info</td>\n",
       "      <td>no info</td>\n",
       "      <td>no info</td>\n",
       "      <td>no</td>\n",
       "    </tr>\n",
       "    <tr>\n",
       "      <th>746</th>\n",
       "      <td>HABA - Whitening Squalane</td>\n",
       "      <td>no info</td>\n",
       "      <td>no info</td>\n",
       "      <td>no info</td>\n",
       "      <td>no</td>\n",
       "    </tr>\n",
       "    <tr>\n",
       "      <th>747</th>\n",
       "      <td>BOTANIC HEAL BOH - Derma Intensive Energy Esse...</td>\n",
       "      <td>no info</td>\n",
       "      <td>no info</td>\n",
       "      <td>no info</td>\n",
       "      <td>no</td>\n",
       "    </tr>\n",
       "    <tr>\n",
       "      <th>748</th>\n",
       "      <td>LabNo - Lifted Idebenone Serum - 50ml</td>\n",
       "      <td>no info</td>\n",
       "      <td>no info</td>\n",
       "      <td>no info</td>\n",
       "      <td>no</td>\n",
       "    </tr>\n",
       "    <tr>\n",
       "      <th>749</th>\n",
       "      <td>innisfree - Brightening Pore Serum - 30ml</td>\n",
       "      <td>no info</td>\n",
       "      <td>no info</td>\n",
       "      <td>no info</td>\n",
       "      <td>no</td>\n",
       "    </tr>\n",
       "  </tbody>\n",
       "</table>\n",
       "<p>558 rows × 5 columns</p>\n",
       "</div>"
      ],
      "text/plain": [
       "                                                  name  details ingredients  \\\n",
       "1           ISOI - Acni Dr. 1st Control Essence - 50ml  no info     no info   \n",
       "15                iUNIK - Tea Tree Relief Serum - 15ml  no info     no info   \n",
       "17   SOME BY MI - Yuja Niacin Blemish Care Serum - ...  no info     no info   \n",
       "19      Haruharu WONDER - Black Rice Facial Oil - 10ml  no info     no info   \n",
       "21   SOME BY MI - Galactomyces Pure Vitamin C Glow ...  no info     no info   \n",
       "..                                                 ...      ...         ...   \n",
       "745  Jealousness - Gold Helichrysum Water Essence -...  no info     no info   \n",
       "746                          HABA - Whitening Squalane  no info     no info   \n",
       "747  BOTANIC HEAL BOH - Derma Intensive Energy Esse...  no info     no info   \n",
       "748              LabNo - Lifted Idebenone Serum - 50ml  no info     no info   \n",
       "749          innisfree - Brightening Pore Serum - 30ml  no info     no info   \n",
       "\n",
       "       price best-seller  \n",
       "1    no info          no  \n",
       "15   no info          no  \n",
       "17   no info          no  \n",
       "19   no info          no  \n",
       "21   no info          no  \n",
       "..       ...         ...  \n",
       "745  no info          no  \n",
       "746  no info          no  \n",
       "747  no info          no  \n",
       "748  no info          no  \n",
       "749  no info          no  \n",
       "\n",
       "[558 rows x 5 columns]"
      ]
     },
     "execution_count": 24,
     "metadata": {},
     "output_type": "execute_result"
    }
   ],
   "source": [
    "essence_df[essence_df['price'] == 'no info']"
   ]
  },
  {
   "cell_type": "code",
   "execution_count": null,
   "metadata": {},
   "outputs": [],
   "source": []
  },
  {
   "cell_type": "code",
   "execution_count": 42,
   "metadata": {},
   "outputs": [],
   "source": [
    "essence = essence_df.to_csv('../data_/essence.csv')"
   ]
  },
  {
   "cell_type": "code",
   "execution_count": null,
   "metadata": {},
   "outputs": [],
   "source": []
  },
  {
   "cell_type": "code",
   "execution_count": null,
   "metadata": {},
   "outputs": [],
   "source": []
  }
 ],
 "metadata": {
  "kernelspec": {
   "display_name": "Python [conda env:ironhack_env]",
   "language": "python",
   "name": "conda-env-ironhack_env-py"
  },
  "language_info": {
   "codemirror_mode": {
    "name": "ipython",
    "version": 3
   },
   "file_extension": ".py",
   "mimetype": "text/x-python",
   "name": "python",
   "nbconvert_exporter": "python",
   "pygments_lexer": "ipython3",
   "version": "3.8.5"
  }
 },
 "nbformat": 4,
 "nbformat_minor": 4
}
