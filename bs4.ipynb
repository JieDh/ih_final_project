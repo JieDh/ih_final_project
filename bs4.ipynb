{
 "cells": [
  {
   "cell_type": "code",
   "execution_count": null,
   "metadata": {},
   "outputs": [],
   "source": []
  },
  {
   "cell_type": "code",
   "execution_count": 86,
   "metadata": {},
   "outputs": [],
   "source": [
    "import requests\n",
    "from bs4 import BeautifulSoup\n",
    "import pandas as pd"
   ]
  },
  {
   "cell_type": "code",
   "execution_count": 32,
   "metadata": {},
   "outputs": [],
   "source": [
    "#como el navegador a usar es chrome, hemos descargado ya el driver de la página, guardamos la ruta en una variable\n",
    "#chrome_path = 'chromedriver_linux64/chromedriver'\n",
    "#driver = webdriver.Chrome(executable_path = chrome_path)"
   ]
  },
  {
   "cell_type": "code",
   "execution_count": 2,
   "metadata": {},
   "outputs": [],
   "source": [
    "url = f'https://www.stylevana.com/en_EU/skincare/facial-cleanser/face-wash-cleansers.html?p={x}' \n",
    "headers = {'User-Agent': 'Mozilla/5.0 (Windows NT 10.0; Win64; x64) AppleWebKit/537.36 (KHTML, like Gecko) Chrome/78.0.3904.108 Safari/537.36'}"
   ]
  },
  {
   "cell_type": "code",
   "execution_count": 3,
   "metadata": {},
   "outputs": [],
   "source": [
    "r = requests.get(url)\n",
    "soup = BeautifulSoup(r.content, 'lxml') #usamos lxml como parser"
   ]
  },
  {
   "cell_type": "markdown",
   "metadata": {},
   "source": [
    "¿Qué queremos obtener de la página?\n",
    "1. Nombre del producto\n",
    "2. Precio (?)\n",
    "3. Detalles\n",
    "4. Ingredientes"
   ]
  },
  {
   "cell_type": "markdown",
   "metadata": {},
   "source": [
    "## 1 OBTENER TODAS LAS URLS DE LOS PRODUCTOS"
   ]
  },
  {
   "cell_type": "markdown",
   "metadata": {},
   "source": [
    "Para ello, utilizaremos bucles que iteren sobre los elementos de la página.\n",
    "* Variable global cleansers_url, es el contenedor de todas las urls.\n",
    "* Los links están dentro de un tag 'a', como sólo nos interesan aquellas que tengan href, pues href=True. \n",
    "* Se ha agregado class='product-image\" porque si no, el bucle cogía todas las urls (wishlist, url de la imagen etc), y solo nos interesan los productos.\n",
    "* Append cada uno de los links al contenedor."
   ]
  },
  {
   "cell_type": "code",
   "execution_count": 25,
   "metadata": {},
   "outputs": [
    {
     "name": "stdout",
     "output_type": "stream",
     "text": [
      "36\n"
     ]
    }
   ],
   "source": [
    "cleansers_url = []\n",
    "for i in range (1, 4):\n",
    "    r = requests.get(url)\n",
    "    soup = BeautifulSoup(r.content, 'lxml')\n",
    "    cleansers_list = soup.find_all('div', class_='product-item-info')\n",
    "    for item in cleansers_list:\n",
    "        for link in item.find_all('a', class_='product-image', href=True): \n",
    "            cleansers_url.append(link['href'])\n",
    "print(len(cleansers_url))"
   ]
  },
  {
   "cell_type": "code",
   "execution_count": 91,
   "metadata": {},
   "outputs": [],
   "source": [
    "for i in range (4, 20):\n",
    "    r = requests.get(url)\n",
    "    soup = BeautifulSoup(r.content, 'lxml')\n",
    "    cleansers_list = soup.find_all('div', class_='product-item-info')\n",
    "    for item in cleansers_list:\n",
    "        for link in item.find_all('a', class_='product-image', href=True): \n",
    "            cleansers_url.append(link['href'])"
   ]
  },
  {
   "cell_type": "code",
   "execution_count": 93,
   "metadata": {},
   "outputs": [],
   "source": [
    "for i in range (20, 41):\n",
    "    r = requests.get(url)\n",
    "    soup = BeautifulSoup(r.content, 'lxml')\n",
    "    cleansers_list = soup.find_all('div', class_='product-item-info')\n",
    "    for item in cleansers_list:\n",
    "        for link in item.find_all('a', class_='product-image', href=True): \n",
    "            cleansers_url.append(link['href'])"
   ]
  },
  {
   "cell_type": "code",
   "execution_count": 95,
   "metadata": {},
   "outputs": [],
   "source": [
    "for i in range (41, 87):\n",
    "    r = requests.get(url)\n",
    "    soup = BeautifulSoup(r.content, 'lxml')\n",
    "    cleansers_list = soup.find_all('div', class_='product-item-info')\n",
    "    for item in cleansers_list:\n",
    "        for link in item.find_all('a', class_='product-image', href=True): \n",
    "            cleansers_url.append(link['href'])"
   ]
  },
  {
   "cell_type": "code",
   "execution_count": 96,
   "metadata": {},
   "outputs": [
    {
     "name": "stdout",
     "output_type": "stream",
     "text": [
      "1032\n"
     ]
    }
   ],
   "source": [
    "print(len(cleansers_url))"
   ]
  },
  {
   "cell_type": "code",
   "execution_count": 99,
   "metadata": {},
   "outputs": [],
   "source": [
    "with open(\"cleansers_url.txt\", \"w\") as output:\n",
    "    output.write(str(cleansers_url))"
   ]
  },
  {
   "cell_type": "code",
   "execution_count": null,
   "metadata": {},
   "outputs": [],
   "source": []
  },
  {
   "cell_type": "code",
   "execution_count": null,
   "metadata": {},
   "outputs": [],
   "source": []
  },
  {
   "cell_type": "markdown",
   "metadata": {},
   "source": [
    "## 2 OBTENER LA INFO DE LA PÁGINA PROPIA DEL PRODUCTO\n",
    "Info que necesitamos:\n",
    "* Nombre del producto\n",
    "* Details\n",
    "* Ingredients"
   ]
  },
  {
   "cell_type": "markdown",
   "metadata": {},
   "source": [
    "* Details e Ingredients se encuentran dentro de un grupo <div class='panel-group'"
   ]
  },
  {
   "cell_type": "code",
   "execution_count": 27,
   "metadata": {},
   "outputs": [
    {
     "name": "stdout",
     "output_type": "stream",
     "text": [
      "LANEIGE - Lip Sleeping Mask\n"
     ]
    }
   ],
   "source": [
    "#test_url = 'https://www.stylevana.com/en_EU/laneige-lip-sleeping-mask.html'"
   ]
  },
  {
   "cell_type": "code",
   "execution_count": null,
   "metadata": {},
   "outputs": [],
   "source": [
    "cleansers = []"
   ]
  },
  {
   "cell_type": "code",
   "execution_count": 115,
   "metadata": {},
   "outputs": [],
   "source": [
    "for link in cleansers_url[891:1032]:\n",
    "    r = requests.get(link, headers=headers) #para cada link en el listado, hacemos una requests\n",
    "    soup = BeautifulSoup(r.content, 'lxml')\n",
    "    name = soup.find('h1', class_='product-name-h1').text\n",
    "    details = (soup.find('div', id='product-view-details').text.strip()) # details\n",
    "    #usamos try, except porque hay ocasiones en las que no hay info sobre los ingredientes\n",
    "    try:\n",
    "        ingred = soup.find_all('div', id=\"product-view-ingredients\") #ingredients\n",
    "        for item in ingred:\n",
    "            ingredients = item.find('div', class_='panel-body').text.strip()\n",
    "    except:\n",
    "        ingredients = 'no info'\n",
    "        \n",
    "    cleansers_info = {\n",
    "    'name': name,\n",
    "    'details': details,\n",
    "    'ingredients': ingredients}\n",
    "    \n",
    "    cleansers.append(cleansers_info)"
   ]
  },
  {
   "cell_type": "code",
   "execution_count": 116,
   "metadata": {},
   "outputs": [
    {
     "name": "stdout",
     "output_type": "stream",
     "text": [
      "1032\n"
     ]
    }
   ],
   "source": [
    "print(len(cleansers))"
   ]
  },
  {
   "cell_type": "code",
   "execution_count": null,
   "metadata": {},
   "outputs": [],
   "source": []
  },
  {
   "cell_type": "markdown",
   "metadata": {},
   "source": [
    "## 3. PASARLO A DATAFRAME"
   ]
  },
  {
   "cell_type": "code",
   "execution_count": 117,
   "metadata": {},
   "outputs": [
    {
     "data": {
      "text/html": [
       "<div>\n",
       "<style scoped>\n",
       "    .dataframe tbody tr th:only-of-type {\n",
       "        vertical-align: middle;\n",
       "    }\n",
       "\n",
       "    .dataframe tbody tr th {\n",
       "        vertical-align: top;\n",
       "    }\n",
       "\n",
       "    .dataframe thead th {\n",
       "        text-align: right;\n",
       "    }\n",
       "</style>\n",
       "<table border=\"1\" class=\"dataframe\">\n",
       "  <thead>\n",
       "    <tr style=\"text-align: right;\">\n",
       "      <th></th>\n",
       "      <th>name</th>\n",
       "      <th>details</th>\n",
       "      <th>ingredients</th>\n",
       "    </tr>\n",
       "  </thead>\n",
       "  <tbody>\n",
       "    <tr>\n",
       "      <th>0</th>\n",
       "      <td>iUNIK - Calendula Complete Cleansing Oil - 200ml</td>\n",
       "      <td>Product Type: Cleansing Oil\\n\\n\\nSkin Concern:...</td>\n",
       "      <td>Centella Asiatica Leaf Water,Water,TEA-Cocoyl ...</td>\n",
       "    </tr>\n",
       "    <tr>\n",
       "      <th>1</th>\n",
       "      <td>Krave - Matcha Hemp Hydrating Cleanser 120ml</td>\n",
       "      <td>Product Type: Cleansing Gel\\n\\n\\nSkin Concern:...</td>\n",
       "      <td>Centella Asiatica Leaf Water,Water,TEA-Cocoyl ...</td>\n",
       "    </tr>\n",
       "    <tr>\n",
       "      <th>2</th>\n",
       "      <td>COSRX - Low pH Good Morning Gel Cleanser - 150ml</td>\n",
       "      <td>Cruelty Free: Yes\\n\\n\\nProduct Type: Cleansing...</td>\n",
       "      <td>Water, Cocamidopropyl Betaine, Sodium Lauroyl ...</td>\n",
       "    </tr>\n",
       "    <tr>\n",
       "      <th>3</th>\n",
       "      <td>heimish - All Clean Balm</td>\n",
       "      <td>Cruelty Free: Yes\\n\\n\\nProduct Type: Cleansing...</td>\n",
       "      <td>Ethylhexyl Palmitate, Cetyl Ethylhexanoate, PE...</td>\n",
       "    </tr>\n",
       "    <tr>\n",
       "      <th>4</th>\n",
       "      <td>SOME BY MI - AHA-BHA-PHA 30days Miracle Acne C...</td>\n",
       "      <td>Product Type: Cleansing Water\\n\\n\\nSkin Concer...</td>\n",
       "      <td>Ethylhexyl Palmitate, Cetyl Ethylhexanoate, PE...</td>\n",
       "    </tr>\n",
       "    <tr>\n",
       "      <th>...</th>\n",
       "      <td>...</td>\n",
       "      <td>...</td>\n",
       "      <td>...</td>\n",
       "    </tr>\n",
       "    <tr>\n",
       "      <th>1027</th>\n",
       "      <td>Haruharu WONDER - Black Rice Moisture Deep Cle...</td>\n",
       "      <td>Product Type: Cleansing Oil\\n\\n\\nSkin Type: Co...</td>\n",
       "      <td>Water, Glycerin, Acer Saccharum (Sugar Maple) ...</td>\n",
       "    </tr>\n",
       "    <tr>\n",
       "      <th>1028</th>\n",
       "      <td>iUNIK - Centella Bubble Cleansing Foam - 150ml</td>\n",
       "      <td>Product Type: Cleansing Foam\\n\\n\\nSkin Concern...</td>\n",
       "      <td>Centella Asiatica Leaf Water,Water,TEA-Cocoyl ...</td>\n",
       "    </tr>\n",
       "    <tr>\n",
       "      <th>1029</th>\n",
       "      <td>heimish - All Clean Green Foam - 150ml</td>\n",
       "      <td>Cruelty Free: Yes\\n\\n\\nProduct Type: Cleansing...</td>\n",
       "      <td>Centella Asiatica Leaf Water,Water,TEA-Cocoyl ...</td>\n",
       "    </tr>\n",
       "    <tr>\n",
       "      <th>1030</th>\n",
       "      <td>SOME BY MI - Bye Bye Blackhead 30days Miracle ...</td>\n",
       "      <td>Product Type: Cleansing Foam\\n\\n\\nSkin Concern...</td>\n",
       "      <td>Centella Asiatica Leaf Water,Water,TEA-Cocoyl ...</td>\n",
       "    </tr>\n",
       "    <tr>\n",
       "      <th>1031</th>\n",
       "      <td>Farm Stay - Char-Coal Pure Cleansing Foam - 180ml</td>\n",
       "      <td>Product Type: Cleansing Foam\\n\\n\\nSkin Concern...</td>\n",
       "      <td>Centella Asiatica Leaf Water,Water,TEA-Cocoyl ...</td>\n",
       "    </tr>\n",
       "  </tbody>\n",
       "</table>\n",
       "<p>1032 rows × 3 columns</p>\n",
       "</div>"
      ],
      "text/plain": [
       "                                                   name  \\\n",
       "0      iUNIK - Calendula Complete Cleansing Oil - 200ml   \n",
       "1          Krave - Matcha Hemp Hydrating Cleanser 120ml   \n",
       "2      COSRX - Low pH Good Morning Gel Cleanser - 150ml   \n",
       "3                              heimish - All Clean Balm   \n",
       "4     SOME BY MI - AHA-BHA-PHA 30days Miracle Acne C...   \n",
       "...                                                 ...   \n",
       "1027  Haruharu WONDER - Black Rice Moisture Deep Cle...   \n",
       "1028     iUNIK - Centella Bubble Cleansing Foam - 150ml   \n",
       "1029             heimish - All Clean Green Foam - 150ml   \n",
       "1030  SOME BY MI - Bye Bye Blackhead 30days Miracle ...   \n",
       "1031  Farm Stay - Char-Coal Pure Cleansing Foam - 180ml   \n",
       "\n",
       "                                                details  \\\n",
       "0     Product Type: Cleansing Oil\\n\\n\\nSkin Concern:...   \n",
       "1     Product Type: Cleansing Gel\\n\\n\\nSkin Concern:...   \n",
       "2     Cruelty Free: Yes\\n\\n\\nProduct Type: Cleansing...   \n",
       "3     Cruelty Free: Yes\\n\\n\\nProduct Type: Cleansing...   \n",
       "4     Product Type: Cleansing Water\\n\\n\\nSkin Concer...   \n",
       "...                                                 ...   \n",
       "1027  Product Type: Cleansing Oil\\n\\n\\nSkin Type: Co...   \n",
       "1028  Product Type: Cleansing Foam\\n\\n\\nSkin Concern...   \n",
       "1029  Cruelty Free: Yes\\n\\n\\nProduct Type: Cleansing...   \n",
       "1030  Product Type: Cleansing Foam\\n\\n\\nSkin Concern...   \n",
       "1031  Product Type: Cleansing Foam\\n\\n\\nSkin Concern...   \n",
       "\n",
       "                                            ingredients  \n",
       "0     Centella Asiatica Leaf Water,Water,TEA-Cocoyl ...  \n",
       "1     Centella Asiatica Leaf Water,Water,TEA-Cocoyl ...  \n",
       "2     Water, Cocamidopropyl Betaine, Sodium Lauroyl ...  \n",
       "3     Ethylhexyl Palmitate, Cetyl Ethylhexanoate, PE...  \n",
       "4     Ethylhexyl Palmitate, Cetyl Ethylhexanoate, PE...  \n",
       "...                                                 ...  \n",
       "1027  Water, Glycerin, Acer Saccharum (Sugar Maple) ...  \n",
       "1028  Centella Asiatica Leaf Water,Water,TEA-Cocoyl ...  \n",
       "1029  Centella Asiatica Leaf Water,Water,TEA-Cocoyl ...  \n",
       "1030  Centella Asiatica Leaf Water,Water,TEA-Cocoyl ...  \n",
       "1031  Centella Asiatica Leaf Water,Water,TEA-Cocoyl ...  \n",
       "\n",
       "[1032 rows x 3 columns]"
      ]
     },
     "execution_count": 117,
     "metadata": {},
     "output_type": "execute_result"
    }
   ],
   "source": [
    "cleansers_df = pd.DataFrame(cleansers)\n",
    "cleansers_df"
   ]
  },
  {
   "cell_type": "code",
   "execution_count": 118,
   "metadata": {},
   "outputs": [],
   "source": [
    "cleansers = cleansers_df.to_csv('data/cleansers.csv')"
   ]
  },
  {
   "cell_type": "code",
   "execution_count": 75,
   "metadata": {},
   "outputs": [
    {
     "name": "stdout",
     "output_type": "stream",
     "text": [
      "{'name': 'LANEIGE - Lip Sleeping Mask', 'details': 'Product Type: Lip Mask\\n\\n\\nSkin Type: Combination, Dry, Normal, Oily, Sensitive', 'ingredients': 'Diisostearyl Malate, Hydrogenated Polyisobutene, Phytosteryl/Isostearyl/Cetyl/Stearyl/Behenyl Dimer Dilinoleate, Hydrogenated Poly(C6-14 Olefin), Polybutene, Microcrystalline Wax, Shea Butter, Synthetic Wax, Candelilla Wax, Sucrose Tetrastearate Triacetate, Butylene/Ethylene/Styrene Copolymer, Ethylene/Propylene/Styrene Copolymer, Mica, Fragrance, Astrocaryum Murumuru Seed Butter, Dimethicone, Titanium Dioxide (CI 77891), Polyglyceryl-3 Diisostearate, Dehydroacetic Acid, Polyglyceryl-2 Triisostearate, Methicone, Carnauba Wax, Polyhydroxystearic Acid, Water, Potassium Alginate, Propanediol, Glycerin, Ethanol, Lycium Chinense Fruit Extract, Vaccinium Macrocarpon (Cranberry) Fruit Extract, Fragaria Ananassa (Strawberry) Fruit Extract, Rubus Idaeus (Raspberry) Fruit Extract, Sapindus Mukorossi Fruit Extract, Vaccinium Angustifolium (Blueberry) Fruit Extract, Rubus Chamaemorus Seed Extract, Coffea Arabica (Coffee) Seed Extract, Chenopodium Quinoa Seed Extract, Magnesium Sulfate, Calcium Chloride, Sodium Hyaluronate, Beta-Glucan, Manganese Sulfate, Zinc Sulfate, Ascorbyl Glucoside, Silica, Lithol Rubine B, Tartrazine, Quinoline Yellow WS, Brilliant Blue FCF, Sunset Yellow FCF'}\n"
     ]
    }
   ],
   "source": []
  },
  {
   "cell_type": "code",
   "execution_count": null,
   "metadata": {},
   "outputs": [],
   "source": []
  }
 ],
 "metadata": {
  "kernelspec": {
   "display_name": "Python [conda env:ironhack_env]",
   "language": "python",
   "name": "conda-env-ironhack_env-py"
  },
  "language_info": {
   "codemirror_mode": {
    "name": "ipython",
    "version": 3
   },
   "file_extension": ".py",
   "mimetype": "text/x-python",
   "name": "python",
   "nbconvert_exporter": "python",
   "pygments_lexer": "ipython3",
   "version": "3.8.5"
  }
 },
 "nbformat": 4,
 "nbformat_minor": 4
}
