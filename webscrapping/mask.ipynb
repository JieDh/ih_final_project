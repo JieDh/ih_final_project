{
 "cells": [
  {
   "cell_type": "code",
   "execution_count": null,
   "metadata": {},
   "outputs": [],
   "source": []
  },
  {
   "cell_type": "code",
   "execution_count": 1,
   "metadata": {},
   "outputs": [],
   "source": [
    "import requests\n",
    "from bs4 import BeautifulSoup\n",
    "import pandas as pd"
   ]
  },
  {
   "cell_type": "code",
   "execution_count": 2,
   "metadata": {},
   "outputs": [],
   "source": [
    "#como el navegador a usar es chrome, hemos descargado ya el driver de la página, guardamos la ruta en una variable\n",
    "#chrome_path = 'chromedriver_linux64/chromedriver'\n",
    "#driver = webdriver.Chrome(executable_path = chrome_path)"
   ]
  },
  {
   "cell_type": "code",
   "execution_count": 2,
   "metadata": {},
   "outputs": [],
   "source": [
    "headers = {'User-Agent': 'Mozilla/5.0 (Windows NT 10.0; Win64; x64) AppleWebKit/537.36 (KHTML, like Gecko) Chrome/78.0.3904.108 Safari/537.36'}"
   ]
  },
  {
   "cell_type": "markdown",
   "metadata": {},
   "source": [
    "¿Qué queremos obtener de la página?\n",
    "1. Nombre del producto\n",
    "2. Precio (?)\n",
    "3. Detalles\n",
    "4. Ingredientes"
   ]
  },
  {
   "cell_type": "markdown",
   "metadata": {},
   "source": [
    "## 1 OBTENER TODAS LAS URLS DE LOS PRODUCTOS"
   ]
  },
  {
   "cell_type": "markdown",
   "metadata": {},
   "source": [
    "Para ello, utilizaremos bucles que iteren sobre los elementos de la página.\n",
    "* Variable global cleansers_url, es el contenedor de todas las urls.\n",
    "* Los links están dentro de un tag 'a', como sólo nos interesan aquellas que tengan href, pues href=True. \n",
    "* Se ha agregado class='product-image\" porque si no, el bucle cogía todas las urls (wishlist, url de la imagen etc), y solo nos interesan los productos.\n",
    "* Append cada uno de los links al contenedor."
   ]
  },
  {
   "cell_type": "code",
   "execution_count": 6,
   "metadata": {},
   "outputs": [],
   "source": [
    "masks_url = []"
   ]
  },
  {
   "cell_type": "code",
   "execution_count": 7,
   "metadata": {},
   "outputs": [
    {
     "name": "stdout",
     "output_type": "stream",
     "text": [
      "197\n"
     ]
    }
   ],
   "source": [
    "for i in range (1,18):\n",
    "    url = f'https://www.stylevana.com/en_EU/skincare/masks/gel-masks.html?p={i}' \n",
    "    r = requests.get(url)\n",
    "    soup = BeautifulSoup(r.content, 'lxml')\n",
    "    masks_list = soup.find_all('div', class_='product-item-info')\n",
    "    for item in masks_list:\n",
    "        for link in item.find_all('a', class_='product-image', href=True): \n",
    "            masks_url.append(link['href'])\n",
    "print(len(masks_url))"
   ]
  },
  {
   "cell_type": "markdown",
   "metadata": {},
   "source": [
    "with open(\"cleansers_url.txt\", \"w\") as output:\n",
    "    output.write(str(cleansers_url))"
   ]
  },
  {
   "cell_type": "code",
   "execution_count": 6,
   "metadata": {},
   "outputs": [
    {
     "data": {
      "text/plain": [
       "207"
      ]
     },
     "execution_count": 6,
     "metadata": {},
     "output_type": "execute_result"
    }
   ],
   "source": [
    "len(masks_url)"
   ]
  },
  {
   "cell_type": "markdown",
   "metadata": {},
   "source": [
    "## 2 OBTENER LA INFO DE LA PÁGINA PROPIA DEL PRODUCTO\n",
    "Info que necesitamos:\n",
    "* Nombre del producto\n",
    "* Details\n",
    "* Ingredients"
   ]
  },
  {
   "cell_type": "markdown",
   "metadata": {},
   "source": [
    "* Details e Ingredients se encuentran dentro de un grupo <div class='panel-group'"
   ]
  },
  {
   "cell_type": "code",
   "execution_count": 9,
   "metadata": {},
   "outputs": [
    {
     "data": {
      "text/plain": [
       "'https://www.stylevana.com/en_EU/caolion-blackhead-steam-pore-pack-50g.html'"
      ]
     },
     "execution_count": 9,
     "metadata": {},
     "output_type": "execute_result"
    }
   ],
   "source": [
    "masks_url[206]"
   ]
  },
  {
   "cell_type": "code",
   "execution_count": 8,
   "metadata": {},
   "outputs": [],
   "source": [
    "masks = []"
   ]
  },
  {
   "cell_type": "code",
   "execution_count": 9,
   "metadata": {},
   "outputs": [],
   "source": [
    "for link in masks_url[0:197]:\n",
    "    r = requests.get(link, headers=headers) #para cada link en el listado, hacemos una requests\n",
    "    soup = BeautifulSoup(r.content, 'lxml')\n",
    "    #usamos try, except porque hay ocasiones en las que no hay info sobre los ingredientes\n",
    "    try:\n",
    "        name = soup.find('h1', class_='product-name-h1').text\n",
    "        details = (soup.find('div', id='product-view-details').text.strip()) # details\n",
    "        price = (soup.find('span', class_='price').text.strip())\n",
    "        best_seller = soup.find(class_=\"product-badge-icon\").get('title')\n",
    "        ingredients = soup.find_all('div', id=\"product-view-ingredients\") #ingredients\n",
    "        for item in ingredients:\n",
    "            ingredients = item.find('div', class_='panel-body').text.strip()\n",
    "    except:\n",
    "        details = 'no info'\n",
    "        ingredients = 'no info'\n",
    "        price = 'no info'\n",
    "        best_seller = 'no'\n",
    "        \n",
    "    masks_info = {\n",
    "    'name': name,\n",
    "    'details': details,\n",
    "    'ingredients': ingredients,\n",
    "    'price': price,\n",
    "    'best-seller': best_seller}\n",
    "    \n",
    "    masks.append(masks_info)"
   ]
  },
  {
   "cell_type": "code",
   "execution_count": 10,
   "metadata": {},
   "outputs": [
    {
     "name": "stdout",
     "output_type": "stream",
     "text": [
      "197\n"
     ]
    }
   ],
   "source": [
    "print(len(masks))"
   ]
  },
  {
   "cell_type": "code",
   "execution_count": null,
   "metadata": {},
   "outputs": [],
   "source": []
  },
  {
   "cell_type": "markdown",
   "metadata": {},
   "source": [
    "## 3. PASARLO A DATAFRAME"
   ]
  },
  {
   "cell_type": "code",
   "execution_count": 11,
   "metadata": {},
   "outputs": [
    {
     "data": {
      "text/html": [
       "<div>\n",
       "<style scoped>\n",
       "    .dataframe tbody tr th:only-of-type {\n",
       "        vertical-align: middle;\n",
       "    }\n",
       "\n",
       "    .dataframe tbody tr th {\n",
       "        vertical-align: top;\n",
       "    }\n",
       "\n",
       "    .dataframe thead th {\n",
       "        text-align: right;\n",
       "    }\n",
       "</style>\n",
       "<table border=\"1\" class=\"dataframe\">\n",
       "  <thead>\n",
       "    <tr style=\"text-align: right;\">\n",
       "      <th></th>\n",
       "      <th>name</th>\n",
       "      <th>details</th>\n",
       "      <th>ingredients</th>\n",
       "      <th>price</th>\n",
       "      <th>best-seller</th>\n",
       "    </tr>\n",
       "  </thead>\n",
       "  <tbody>\n",
       "    <tr>\n",
       "      <th>0</th>\n",
       "      <td>Isntree - Real Mugwort Clay Mask - 100ml</td>\n",
       "      <td>Cruelty Free: Yes\\n\\n\\nProduct Type: Wash-off ...</td>\n",
       "      <td>[]</td>\n",
       "      <td>10.09€</td>\n",
       "      <td>Best Sellers</td>\n",
       "    </tr>\n",
       "    <tr>\n",
       "      <th>1</th>\n",
       "      <td>innisfree - Super Volcanic Pore Clay Mask 2X</td>\n",
       "      <td>no info</td>\n",
       "      <td>no info</td>\n",
       "      <td>no info</td>\n",
       "      <td>no</td>\n",
       "    </tr>\n",
       "    <tr>\n",
       "      <th>2</th>\n",
       "      <td>SOME BY MI - Super Matcha Pore Clean Clay Mask...</td>\n",
       "      <td>no info</td>\n",
       "      <td>no info</td>\n",
       "      <td>no info</td>\n",
       "      <td>no</td>\n",
       "    </tr>\n",
       "    <tr>\n",
       "      <th>3</th>\n",
       "      <td>Isntree - Real Rose Calming Mask - 100ml</td>\n",
       "      <td>Cruelty Free: Yes\\n\\n\\nProduct Type: Gel Mask\\...</td>\n",
       "      <td>Rosa Damascena Flower Water, Glycerin, Water, ...</td>\n",
       "      <td>8.99€</td>\n",
       "      <td>Cruelty Free</td>\n",
       "    </tr>\n",
       "    <tr>\n",
       "      <th>4</th>\n",
       "      <td>BONAJOUR - Mugwort Cream Calming Mask - 55ml</td>\n",
       "      <td>no info</td>\n",
       "      <td>no info</td>\n",
       "      <td>no info</td>\n",
       "      <td>no</td>\n",
       "    </tr>\n",
       "    <tr>\n",
       "      <th>...</th>\n",
       "      <td>...</td>\n",
       "      <td>...</td>\n",
       "      <td>...</td>\n",
       "      <td>...</td>\n",
       "      <td>...</td>\n",
       "    </tr>\n",
       "    <tr>\n",
       "      <th>192</th>\n",
       "      <td>BY ECOM - Heartleaf Purifying Mask - 120ml</td>\n",
       "      <td>no info</td>\n",
       "      <td>no info</td>\n",
       "      <td>no info</td>\n",
       "      <td>no</td>\n",
       "    </tr>\n",
       "    <tr>\n",
       "      <th>193</th>\n",
       "      <td>Bonanza - Zyom-excitative Jel Mask KFM - 550g</td>\n",
       "      <td>no info</td>\n",
       "      <td>no info</td>\n",
       "      <td>no info</td>\n",
       "      <td>no</td>\n",
       "    </tr>\n",
       "    <tr>\n",
       "      <th>194</th>\n",
       "      <td>Kimjeongmoon-Aloe - Cure Aloe Slice Jelly Mask...</td>\n",
       "      <td>no info</td>\n",
       "      <td>no info</td>\n",
       "      <td>no info</td>\n",
       "      <td>no</td>\n",
       "    </tr>\n",
       "    <tr>\n",
       "      <th>195</th>\n",
       "      <td>Shangpree - Gold Premium Modeling Mask - 72.5g</td>\n",
       "      <td>Cruelty Free: Yes\\n\\n\\nSkin Concern: Dryness/ ...</td>\n",
       "      <td>[]</td>\n",
       "      <td>16.39€</td>\n",
       "      <td>Clearance</td>\n",
       "    </tr>\n",
       "    <tr>\n",
       "      <th>196</th>\n",
       "      <td>Shiseido - IPSA - Luminizing Clay - 100g</td>\n",
       "      <td>no info</td>\n",
       "      <td>no info</td>\n",
       "      <td>no info</td>\n",
       "      <td>no</td>\n",
       "    </tr>\n",
       "  </tbody>\n",
       "</table>\n",
       "<p>197 rows × 5 columns</p>\n",
       "</div>"
      ],
      "text/plain": [
       "                                                  name  \\\n",
       "0             Isntree - Real Mugwort Clay Mask - 100ml   \n",
       "1         innisfree - Super Volcanic Pore Clay Mask 2X   \n",
       "2    SOME BY MI - Super Matcha Pore Clean Clay Mask...   \n",
       "3             Isntree - Real Rose Calming Mask - 100ml   \n",
       "4         BONAJOUR - Mugwort Cream Calming Mask - 55ml   \n",
       "..                                                 ...   \n",
       "192         BY ECOM - Heartleaf Purifying Mask - 120ml   \n",
       "193      Bonanza - Zyom-excitative Jel Mask KFM - 550g   \n",
       "194  Kimjeongmoon-Aloe - Cure Aloe Slice Jelly Mask...   \n",
       "195     Shangpree - Gold Premium Modeling Mask - 72.5g   \n",
       "196           Shiseido - IPSA - Luminizing Clay - 100g   \n",
       "\n",
       "                                               details  \\\n",
       "0    Cruelty Free: Yes\\n\\n\\nProduct Type: Wash-off ...   \n",
       "1                                              no info   \n",
       "2                                              no info   \n",
       "3    Cruelty Free: Yes\\n\\n\\nProduct Type: Gel Mask\\...   \n",
       "4                                              no info   \n",
       "..                                                 ...   \n",
       "192                                            no info   \n",
       "193                                            no info   \n",
       "194                                            no info   \n",
       "195  Cruelty Free: Yes\\n\\n\\nSkin Concern: Dryness/ ...   \n",
       "196                                            no info   \n",
       "\n",
       "                                           ingredients    price   best-seller  \n",
       "0                                                   []   10.09€  Best Sellers  \n",
       "1                                              no info  no info            no  \n",
       "2                                              no info  no info            no  \n",
       "3    Rosa Damascena Flower Water, Glycerin, Water, ...    8.99€  Cruelty Free  \n",
       "4                                              no info  no info            no  \n",
       "..                                                 ...      ...           ...  \n",
       "192                                            no info  no info            no  \n",
       "193                                            no info  no info            no  \n",
       "194                                            no info  no info            no  \n",
       "195                                                 []   16.39€     Clearance  \n",
       "196                                            no info  no info            no  \n",
       "\n",
       "[197 rows x 5 columns]"
      ]
     },
     "execution_count": 11,
     "metadata": {},
     "output_type": "execute_result"
    }
   ],
   "source": [
    "masks_df = pd.DataFrame(masks)\n",
    "masks_df"
   ]
  },
  {
   "cell_type": "code",
   "execution_count": 12,
   "metadata": {},
   "outputs": [],
   "source": [
    "masks = masks_df.to_csv('../data_/masks.csv')"
   ]
  },
  {
   "cell_type": "code",
   "execution_count": null,
   "metadata": {},
   "outputs": [],
   "source": []
  },
  {
   "cell_type": "code",
   "execution_count": null,
   "metadata": {},
   "outputs": [],
   "source": []
  }
 ],
 "metadata": {
  "kernelspec": {
   "display_name": "Python [conda env:ironhack_env]",
   "language": "python",
   "name": "conda-env-ironhack_env-py"
  },
  "language_info": {
   "codemirror_mode": {
    "name": "ipython",
    "version": 3
   },
   "file_extension": ".py",
   "mimetype": "text/x-python",
   "name": "python",
   "nbconvert_exporter": "python",
   "pygments_lexer": "ipython3",
   "version": "3.8.5"
  }
 },
 "nbformat": 4,
 "nbformat_minor": 4
}
