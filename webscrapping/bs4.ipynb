{
 "cells": [
  {
   "cell_type": "code",
   "execution_count": null,
   "metadata": {},
   "outputs": [],
   "source": []
  },
  {
   "cell_type": "code",
   "execution_count": 2,
   "metadata": {},
   "outputs": [],
   "source": [
    "import requests\n",
    "from bs4 import BeautifulSoup\n",
    "import pandas as pd"
   ]
  },
  {
   "cell_type": "code",
   "execution_count": null,
   "metadata": {},
   "outputs": [],
   "source": [
    "#como el navegador a usar es chrome, hemos descargado ya el driver de la página, guardamos la ruta en una variable\n",
    "#chrome_path = 'chromedriver_linux64/chromedriver'\n",
    "#driver = webdriver.Chrome(executable_path = chrome_path)"
   ]
  },
  {
   "cell_type": "code",
   "execution_count": 2,
   "metadata": {},
   "outputs": [],
   "source": [
    "headers = {'User-Agent': 'Mozilla/5.0 (Windows NT 10.0; Win64; x64) AppleWebKit/537.36 (KHTML, like Gecko) Chrome/78.0.3904.108 Safari/537.36'}"
   ]
  },
  {
   "cell_type": "markdown",
   "metadata": {},
   "source": [
    "r = requests.get(url)\n",
    "soup = BeautifulSoup(r.content, 'lxml') #usamos lxml como parser"
   ]
  },
  {
   "cell_type": "markdown",
   "metadata": {},
   "source": [
    "¿Qué queremos obtener de la página?\n",
    "1. Nombre del producto\n",
    "2. Precio (?)\n",
    "3. Detalles\n",
    "4. Ingredientes"
   ]
  },
  {
   "cell_type": "markdown",
   "metadata": {},
   "source": [
    "## 1 OBTENER TODAS LAS URLS DE LOS PRODUCTOS"
   ]
  },
  {
   "cell_type": "markdown",
   "metadata": {},
   "source": [
    "Para ello, utilizaremos bucles que iteren sobre los elementos de la página.\n",
    "* Variable global cleansers_url, es el contenedor de todas las urls.\n",
    "* Los links están dentro de un tag 'a', como sólo nos interesan aquellas que tengan href, pues href=True. \n",
    "* Se ha agregado class='product-image\" porque si no, el bucle cogía todas las urls (wishlist, url de la imagen etc), y solo nos interesan los productos.\n",
    "* Append cada uno de los links al contenedor."
   ]
  },
  {
   "cell_type": "code",
   "execution_count": 4,
   "metadata": {},
   "outputs": [
    {
     "name": "stdout",
     "output_type": "stream",
     "text": [
      "1087\n"
     ]
    }
   ],
   "source": [
    "cleansers_url = []\n",
    "for i in range (1, 92):\n",
    "    url = f'https://www.stylevana.com/en_EU/skincare/facial-cleanser/face-wash-cleansers.html?p={i}' \n",
    "    r = requests.get(url)\n",
    "    soup = BeautifulSoup(r.content, 'lxml')\n",
    "    cleansers_list = soup.find_all('div', class_='product-item-info')\n",
    "    for item in cleansers_list:\n",
    "        for link in item.find_all('a', class_='product-image', href=True): \n",
    "            cleansers_url.append(link['href'])\n",
    "print(len(cleansers_url))"
   ]
  },
  {
   "cell_type": "code",
   "execution_count": null,
   "metadata": {},
   "outputs": [],
   "source": []
  },
  {
   "cell_type": "markdown",
   "metadata": {},
   "source": [
    "with open(\"cleansers_url.txt\", \"w\") as output:\n",
    "    output.write(str(cleansers_url))"
   ]
  },
  {
   "cell_type": "code",
   "execution_count": 14,
   "metadata": {},
   "outputs": [
    {
     "data": {
      "text/plain": [
       "'https://www.stylevana.com/en_EU/farm-stay-76-green-tea-seed-premium-moisture-foam-cleansing.html'"
      ]
     },
     "execution_count": 14,
     "metadata": {},
     "output_type": "execute_result"
    }
   ],
   "source": [
    "cleansers_url[12]"
   ]
  },
  {
   "cell_type": "code",
   "execution_count": null,
   "metadata": {},
   "outputs": [],
   "source": []
  },
  {
   "cell_type": "markdown",
   "metadata": {},
   "source": [
    "## 2 OBTENER LA INFO DE LA PÁGINA PROPIA DEL PRODUCTO\n",
    "Info que necesitamos:\n",
    "* Nombre del producto\n",
    "* Details\n",
    "* Ingredients"
   ]
  },
  {
   "cell_type": "markdown",
   "metadata": {},
   "source": [
    "* Details e Ingredients se encuentran dentro de un grupo <div class='panel-group'"
   ]
  },
  {
   "cell_type": "code",
   "execution_count": 11,
   "metadata": {},
   "outputs": [],
   "source": [
    "test_url = 'https://www.stylevana.com/en_EU/iunik-calendula-complete-cleansing-oil-1.html'\n",
    "r = requests.get(test_url, headers=headers) #para cada link en el listado, hacemos una requests\n",
    "soup = BeautifulSoup(r.content, 'lxml')\n",
    "price = (soup.find('span', class_='price').text.strip())\n",
    "best_seller = soup.find(class_=\"product-badge-icon\").get('title')"
   ]
  },
  {
   "cell_type": "code",
   "execution_count": 12,
   "metadata": {},
   "outputs": [
    {
     "name": "stdout",
     "output_type": "stream",
     "text": [
      "15.19€\n",
      "Best Sellers\n"
     ]
    }
   ],
   "source": [
    "print(price)\n",
    "print(best_seller)"
   ]
  },
  {
   "cell_type": "code",
   "execution_count": 17,
   "metadata": {},
   "outputs": [],
   "source": [
    "cleansers = []"
   ]
  },
  {
   "cell_type": "code",
   "execution_count": 20,
   "metadata": {},
   "outputs": [],
   "source": [
    "for link in cleansers_url[243:1087]:\n",
    "    r = requests.get(link, headers=headers) #para cada link en el listado, hacemos una requests\n",
    "    soup = BeautifulSoup(r.content, 'lxml')\n",
    "    name = soup.find('h1', class_='product-name-h1').text\n",
    "    #usamos try, except porque hay ocasiones en las que no hay info sobre los ingredientes\n",
    "    try:\n",
    "        details = (soup.find('div', id='product-view-details').text.strip()) # details\n",
    "        price = (soup.find('span', class_='price').text.strip())\n",
    "        best_seller = soup.find(class_=\"product-badge-icon\").get('title')\n",
    "        ingredients = soup.find_all('div', id=\"product-view-ingredients\") #ingredients\n",
    "        for item in ingredients:\n",
    "            ingredients = item.find('div', class_='panel-body').text.strip()\n",
    "    except:\n",
    "        details = 'no info'\n",
    "        ingredients = 'no info'\n",
    "        price = 'no info'\n",
    "        best_seller = 'no'\n",
    "        \n",
    "    cleansers_info = {\n",
    "    'name': name,\n",
    "    'details': details,\n",
    "    'ingredients': ingredients,\n",
    "    'price': price,\n",
    "    'best-seller': best_seller}\n",
    "    \n",
    "    cleansers.append(cleansers_info)"
   ]
  },
  {
   "cell_type": "code",
   "execution_count": 21,
   "metadata": {},
   "outputs": [
    {
     "name": "stdout",
     "output_type": "stream",
     "text": [
      "1087\n"
     ]
    }
   ],
   "source": [
    "print(len(cleansers))"
   ]
  },
  {
   "cell_type": "code",
   "execution_count": null,
   "metadata": {},
   "outputs": [],
   "source": []
  },
  {
   "cell_type": "markdown",
   "metadata": {},
   "source": [
    "## 3. PASARLO A DATAFRAME"
   ]
  },
  {
   "cell_type": "code",
   "execution_count": 26,
   "metadata": {},
   "outputs": [
    {
     "data": {
      "text/html": [
       "<div>\n",
       "<style scoped>\n",
       "    .dataframe tbody tr th:only-of-type {\n",
       "        vertical-align: middle;\n",
       "    }\n",
       "\n",
       "    .dataframe tbody tr th {\n",
       "        vertical-align: top;\n",
       "    }\n",
       "\n",
       "    .dataframe thead th {\n",
       "        text-align: right;\n",
       "    }\n",
       "</style>\n",
       "<table border=\"1\" class=\"dataframe\">\n",
       "  <thead>\n",
       "    <tr style=\"text-align: right;\">\n",
       "      <th></th>\n",
       "      <th>name</th>\n",
       "      <th>details</th>\n",
       "      <th>ingredients</th>\n",
       "      <th>price</th>\n",
       "      <th>best-seller</th>\n",
       "    </tr>\n",
       "  </thead>\n",
       "  <tbody>\n",
       "    <tr>\n",
       "      <th>0</th>\n",
       "      <td>iUNIK - Calendula Complete Cleansing Oil - 200ml</td>\n",
       "      <td>Product Type: Cleansing Oil\\n\\n\\nSkin Concern:...</td>\n",
       "      <td>[]</td>\n",
       "      <td>15.19€</td>\n",
       "      <td>Best Sellers</td>\n",
       "    </tr>\n",
       "    <tr>\n",
       "      <th>1</th>\n",
       "      <td>Krave - Matcha Hemp Hydrating Cleanser 120ml</td>\n",
       "      <td>Product Type: Cleansing Gel\\n\\n\\nSkin Concern:...</td>\n",
       "      <td>[]</td>\n",
       "      <td>31.29€</td>\n",
       "      <td>Best Sellers</td>\n",
       "    </tr>\n",
       "    <tr>\n",
       "      <th>2</th>\n",
       "      <td>heimish - All Clean Balm</td>\n",
       "      <td>Cruelty Free: Yes\\n\\n\\nProduct Type: Cleansing...</td>\n",
       "      <td>Ethylhexyl Palmitate, Cetyl Ethylhexanoate, PE...</td>\n",
       "      <td>14.89€</td>\n",
       "      <td>Best Sellers</td>\n",
       "    </tr>\n",
       "    <tr>\n",
       "      <th>3</th>\n",
       "      <td>COSRX - Low pH Good Morning Gel Cleanser - 150ml</td>\n",
       "      <td>Cruelty Free: Yes\\n\\n\\nProduct Type: Cleansing...</td>\n",
       "      <td>Water, Cocamidopropyl Betaine, Sodium Lauroyl ...</td>\n",
       "      <td>9.49€</td>\n",
       "      <td>Best Sellers</td>\n",
       "    </tr>\n",
       "    <tr>\n",
       "      <th>4</th>\n",
       "      <td>SOME BY MI - AHA-BHA-PHA 30days Miracle Acne C...</td>\n",
       "      <td>Product Type: Cleansing Water\\n\\n\\nSkin Concer...</td>\n",
       "      <td>[]</td>\n",
       "      <td>15.09€</td>\n",
       "      <td>Best Sellers</td>\n",
       "    </tr>\n",
       "    <tr>\n",
       "      <th>...</th>\n",
       "      <td>...</td>\n",
       "      <td>...</td>\n",
       "      <td>...</td>\n",
       "      <td>...</td>\n",
       "      <td>...</td>\n",
       "    </tr>\n",
       "    <tr>\n",
       "      <th>1082</th>\n",
       "      <td>ON THE BODY - The Natural Olive Cleansing Foam...</td>\n",
       "      <td>no info</td>\n",
       "      <td>no info</td>\n",
       "      <td>no info</td>\n",
       "      <td>no</td>\n",
       "    </tr>\n",
       "    <tr>\n",
       "      <th>1083</th>\n",
       "      <td>COW soap - Skinlife Medicated Acne Care Facial...</td>\n",
       "      <td>no info</td>\n",
       "      <td>no info</td>\n",
       "      <td>no info</td>\n",
       "      <td>no</td>\n",
       "    </tr>\n",
       "    <tr>\n",
       "      <th>1084</th>\n",
       "      <td>ACWELL - No5.5 Bubble-free pH Balancing Cleans...</td>\n",
       "      <td>no info</td>\n",
       "      <td>no info</td>\n",
       "      <td>no info</td>\n",
       "      <td>no</td>\n",
       "    </tr>\n",
       "    <tr>\n",
       "      <th>1085</th>\n",
       "      <td>3W Clinic - Placenta Clear Foam Cleansing -180ml</td>\n",
       "      <td>no info</td>\n",
       "      <td>no info</td>\n",
       "      <td>no info</td>\n",
       "      <td>no</td>\n",
       "    </tr>\n",
       "    <tr>\n",
       "      <th>1086</th>\n",
       "      <td>KUMANO COSME - Pharmaact Washing Foam Sumi &amp; S...</td>\n",
       "      <td>no info</td>\n",
       "      <td>no info</td>\n",
       "      <td>no info</td>\n",
       "      <td>no</td>\n",
       "    </tr>\n",
       "  </tbody>\n",
       "</table>\n",
       "<p>1087 rows × 5 columns</p>\n",
       "</div>"
      ],
      "text/plain": [
       "                                                   name  \\\n",
       "0      iUNIK - Calendula Complete Cleansing Oil - 200ml   \n",
       "1          Krave - Matcha Hemp Hydrating Cleanser 120ml   \n",
       "2                              heimish - All Clean Balm   \n",
       "3      COSRX - Low pH Good Morning Gel Cleanser - 150ml   \n",
       "4     SOME BY MI - AHA-BHA-PHA 30days Miracle Acne C...   \n",
       "...                                                 ...   \n",
       "1082  ON THE BODY - The Natural Olive Cleansing Foam...   \n",
       "1083  COW soap - Skinlife Medicated Acne Care Facial...   \n",
       "1084  ACWELL - No5.5 Bubble-free pH Balancing Cleans...   \n",
       "1085   3W Clinic - Placenta Clear Foam Cleansing -180ml   \n",
       "1086  KUMANO COSME - Pharmaact Washing Foam Sumi & S...   \n",
       "\n",
       "                                                details  \\\n",
       "0     Product Type: Cleansing Oil\\n\\n\\nSkin Concern:...   \n",
       "1     Product Type: Cleansing Gel\\n\\n\\nSkin Concern:...   \n",
       "2     Cruelty Free: Yes\\n\\n\\nProduct Type: Cleansing...   \n",
       "3     Cruelty Free: Yes\\n\\n\\nProduct Type: Cleansing...   \n",
       "4     Product Type: Cleansing Water\\n\\n\\nSkin Concer...   \n",
       "...                                                 ...   \n",
       "1082                                            no info   \n",
       "1083                                            no info   \n",
       "1084                                            no info   \n",
       "1085                                            no info   \n",
       "1086                                            no info   \n",
       "\n",
       "                                            ingredients    price   best-seller  \n",
       "0                                                    []   15.19€  Best Sellers  \n",
       "1                                                    []   31.29€  Best Sellers  \n",
       "2     Ethylhexyl Palmitate, Cetyl Ethylhexanoate, PE...   14.89€  Best Sellers  \n",
       "3     Water, Cocamidopropyl Betaine, Sodium Lauroyl ...    9.49€  Best Sellers  \n",
       "4                                                    []   15.09€  Best Sellers  \n",
       "...                                                 ...      ...           ...  \n",
       "1082                                            no info  no info            no  \n",
       "1083                                            no info  no info            no  \n",
       "1084                                            no info  no info            no  \n",
       "1085                                            no info  no info            no  \n",
       "1086                                            no info  no info            no  \n",
       "\n",
       "[1087 rows x 5 columns]"
      ]
     },
     "execution_count": 26,
     "metadata": {},
     "output_type": "execute_result"
    }
   ],
   "source": [
    "cleansers_df = pd.DataFrame(cleansers)\n",
    "cleansers_df"
   ]
  },
  {
   "cell_type": "code",
   "execution_count": 29,
   "metadata": {},
   "outputs": [],
   "source": [
    "cleansers = cleansers_df.to_csv('../data_/cleansers.csv')"
   ]
  },
  {
   "cell_type": "code",
   "execution_count": 31,
   "metadata": {},
   "outputs": [
    {
     "data": {
      "text/html": [
       "<div>\n",
       "<style scoped>\n",
       "    .dataframe tbody tr th:only-of-type {\n",
       "        vertical-align: middle;\n",
       "    }\n",
       "\n",
       "    .dataframe tbody tr th {\n",
       "        vertical-align: top;\n",
       "    }\n",
       "\n",
       "    .dataframe thead th {\n",
       "        text-align: right;\n",
       "    }\n",
       "</style>\n",
       "<table border=\"1\" class=\"dataframe\">\n",
       "  <thead>\n",
       "    <tr style=\"text-align: right;\">\n",
       "      <th></th>\n",
       "      <th>name</th>\n",
       "      <th>details</th>\n",
       "      <th>ingredients</th>\n",
       "      <th>price</th>\n",
       "      <th>best-seller</th>\n",
       "    </tr>\n",
       "  </thead>\n",
       "  <tbody>\n",
       "    <tr>\n",
       "      <th>5</th>\n",
       "      <td>Haruharu WONDER - Black Rice Moisture Deep Cle...</td>\n",
       "      <td>no info</td>\n",
       "      <td>no info</td>\n",
       "      <td>no info</td>\n",
       "      <td>no</td>\n",
       "    </tr>\n",
       "    <tr>\n",
       "      <th>8</th>\n",
       "      <td>BE PLAIN - Greenful Ph-Balanced Cleansing Foam...</td>\n",
       "      <td>no info</td>\n",
       "      <td>no info</td>\n",
       "      <td>no info</td>\n",
       "      <td>no</td>\n",
       "    </tr>\n",
       "    <tr>\n",
       "      <th>10</th>\n",
       "      <td>SOME BY MI - AHA-BHA-PHA 30 Days Miracle Clean...</td>\n",
       "      <td>no info</td>\n",
       "      <td>no info</td>\n",
       "      <td>no info</td>\n",
       "      <td>no</td>\n",
       "    </tr>\n",
       "    <tr>\n",
       "      <th>11</th>\n",
       "      <td>iUNIK - Centella Bubble Cleansing Foam - 150ml</td>\n",
       "      <td>no info</td>\n",
       "      <td>no info</td>\n",
       "      <td>no info</td>\n",
       "      <td>no</td>\n",
       "    </tr>\n",
       "    <tr>\n",
       "      <th>12</th>\n",
       "      <td>Farm Stay - 76 Green Tea Seed Premium Moisture...</td>\n",
       "      <td>no info</td>\n",
       "      <td>no info</td>\n",
       "      <td>no info</td>\n",
       "      <td>no</td>\n",
       "    </tr>\n",
       "    <tr>\n",
       "      <th>...</th>\n",
       "      <td>...</td>\n",
       "      <td>...</td>\n",
       "      <td>...</td>\n",
       "      <td>...</td>\n",
       "      <td>...</td>\n",
       "    </tr>\n",
       "    <tr>\n",
       "      <th>1082</th>\n",
       "      <td>ON THE BODY - The Natural Olive Cleansing Foam...</td>\n",
       "      <td>no info</td>\n",
       "      <td>no info</td>\n",
       "      <td>no info</td>\n",
       "      <td>no</td>\n",
       "    </tr>\n",
       "    <tr>\n",
       "      <th>1083</th>\n",
       "      <td>COW soap - Skinlife Medicated Acne Care Facial...</td>\n",
       "      <td>no info</td>\n",
       "      <td>no info</td>\n",
       "      <td>no info</td>\n",
       "      <td>no</td>\n",
       "    </tr>\n",
       "    <tr>\n",
       "      <th>1084</th>\n",
       "      <td>ACWELL - No5.5 Bubble-free pH Balancing Cleans...</td>\n",
       "      <td>no info</td>\n",
       "      <td>no info</td>\n",
       "      <td>no info</td>\n",
       "      <td>no</td>\n",
       "    </tr>\n",
       "    <tr>\n",
       "      <th>1085</th>\n",
       "      <td>3W Clinic - Placenta Clear Foam Cleansing -180ml</td>\n",
       "      <td>no info</td>\n",
       "      <td>no info</td>\n",
       "      <td>no info</td>\n",
       "      <td>no</td>\n",
       "    </tr>\n",
       "    <tr>\n",
       "      <th>1086</th>\n",
       "      <td>KUMANO COSME - Pharmaact Washing Foam Sumi &amp; S...</td>\n",
       "      <td>no info</td>\n",
       "      <td>no info</td>\n",
       "      <td>no info</td>\n",
       "      <td>no</td>\n",
       "    </tr>\n",
       "  </tbody>\n",
       "</table>\n",
       "<p>878 rows × 5 columns</p>\n",
       "</div>"
      ],
      "text/plain": [
       "                                                   name  details ingredients  \\\n",
       "5     Haruharu WONDER - Black Rice Moisture Deep Cle...  no info     no info   \n",
       "8     BE PLAIN - Greenful Ph-Balanced Cleansing Foam...  no info     no info   \n",
       "10    SOME BY MI - AHA-BHA-PHA 30 Days Miracle Clean...  no info     no info   \n",
       "11       iUNIK - Centella Bubble Cleansing Foam - 150ml  no info     no info   \n",
       "12    Farm Stay - 76 Green Tea Seed Premium Moisture...  no info     no info   \n",
       "...                                                 ...      ...         ...   \n",
       "1082  ON THE BODY - The Natural Olive Cleansing Foam...  no info     no info   \n",
       "1083  COW soap - Skinlife Medicated Acne Care Facial...  no info     no info   \n",
       "1084  ACWELL - No5.5 Bubble-free pH Balancing Cleans...  no info     no info   \n",
       "1085   3W Clinic - Placenta Clear Foam Cleansing -180ml  no info     no info   \n",
       "1086  KUMANO COSME - Pharmaact Washing Foam Sumi & S...  no info     no info   \n",
       "\n",
       "        price best-seller  \n",
       "5     no info          no  \n",
       "8     no info          no  \n",
       "10    no info          no  \n",
       "11    no info          no  \n",
       "12    no info          no  \n",
       "...       ...         ...  \n",
       "1082  no info          no  \n",
       "1083  no info          no  \n",
       "1084  no info          no  \n",
       "1085  no info          no  \n",
       "1086  no info          no  \n",
       "\n",
       "[878 rows x 5 columns]"
      ]
     },
     "execution_count": 31,
     "metadata": {},
     "output_type": "execute_result"
    }
   ],
   "source": [
    "cleansers_df[cleansers_df['ingredients'] == 'no info']"
   ]
  },
  {
   "cell_type": "code",
   "execution_count": null,
   "metadata": {},
   "outputs": [],
   "source": []
  },
  {
   "cell_type": "code",
   "execution_count": null,
   "metadata": {},
   "outputs": [],
   "source": []
  },
  {
   "cell_type": "code",
   "execution_count": 3,
   "metadata": {},
   "outputs": [],
   "source": [
    "df1 = pd.read_csv('../stylevana_data/cleansers.csv')\n",
    "df2 = pd.read_csv('../data_/cleansers.csv')"
   ]
  },
  {
   "cell_type": "code",
   "execution_count": null,
   "metadata": {},
   "outputs": [],
   "source": []
  },
  {
   "cell_type": "code",
   "execution_count": null,
   "metadata": {},
   "outputs": [],
   "source": []
  },
  {
   "cell_type": "code",
   "execution_count": null,
   "metadata": {},
   "outputs": [],
   "source": []
  },
  {
   "cell_type": "code",
   "execution_count": null,
   "metadata": {},
   "outputs": [],
   "source": []
  },
  {
   "cell_type": "code",
   "execution_count": null,
   "metadata": {},
   "outputs": [],
   "source": []
  },
  {
   "cell_type": "code",
   "execution_count": null,
   "metadata": {},
   "outputs": [],
   "source": []
  },
  {
   "cell_type": "code",
   "execution_count": null,
   "metadata": {},
   "outputs": [],
   "source": []
  },
  {
   "cell_type": "code",
   "execution_count": null,
   "metadata": {},
   "outputs": [],
   "source": []
  },
  {
   "cell_type": "code",
   "execution_count": null,
   "metadata": {},
   "outputs": [],
   "source": []
  },
  {
   "cell_type": "code",
   "execution_count": null,
   "metadata": {},
   "outputs": [],
   "source": []
  },
  {
   "cell_type": "code",
   "execution_count": null,
   "metadata": {},
   "outputs": [],
   "source": []
  },
  {
   "cell_type": "code",
   "execution_count": null,
   "metadata": {},
   "outputs": [],
   "source": []
  },
  {
   "cell_type": "code",
   "execution_count": null,
   "metadata": {},
   "outputs": [],
   "source": []
  },
  {
   "cell_type": "code",
   "execution_count": null,
   "metadata": {},
   "outputs": [],
   "source": []
  }
 ],
 "metadata": {
  "kernelspec": {
   "display_name": "Python [conda env:ironhack_env]",
   "language": "python",
   "name": "conda-env-ironhack_env-py"
  },
  "language_info": {
   "codemirror_mode": {
    "name": "ipython",
    "version": 3
   },
   "file_extension": ".py",
   "mimetype": "text/x-python",
   "name": "python",
   "nbconvert_exporter": "python",
   "pygments_lexer": "ipython3",
   "version": "3.8.5"
  }
 },
 "nbformat": 4,
 "nbformat_minor": 4
}
