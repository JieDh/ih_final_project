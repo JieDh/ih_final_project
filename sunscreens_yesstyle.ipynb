{
 "cells": [
  {
   "cell_type": "code",
   "execution_count": null,
   "metadata": {},
   "outputs": [],
   "source": []
  },
  {
   "cell_type": "code",
   "execution_count": 1,
   "metadata": {},
   "outputs": [],
   "source": [
    "import requests\n",
    "from bs4 import BeautifulSoup\n",
    "import pandas as pd\n",
    "import re"
   ]
  },
  {
   "cell_type": "code",
   "execution_count": 2,
   "metadata": {},
   "outputs": [],
   "source": [
    "headers = {'User-Agent': 'Mozilla/5.0 (Windows NT 10.0; Win64; x64) AppleWebKit/537.36 (KHTML, like Gecko) Chrome/78.0.3904.108 Safari/537.36'}"
   ]
  },
  {
   "cell_type": "code",
   "execution_count": 3,
   "metadata": {},
   "outputs": [],
   "source": [
    "# soup = BeautifulSoup(r.content, 'lxml') #usamos lxml como parser"
   ]
  },
  {
   "cell_type": "markdown",
   "metadata": {},
   "source": [
    "¿Qué queremos obtener de la página?\n",
    "1. Nombre del producto\n",
    "2. Precio (?)\n",
    "3. Detalles\n",
    "4. Ingredientes"
   ]
  },
  {
   "cell_type": "markdown",
   "metadata": {},
   "source": [
    "## 1 OBTENER TODAS LAS URLS DE LOS PRODUCTOS"
   ]
  },
  {
   "cell_type": "markdown",
   "metadata": {},
   "source": [
    "Para ello, utilizaremos bucles que iteren sobre los elementos de la página.\n",
    "* Variable global cleansers_url, es el contenedor de todas las urls.\n",
    "* Los links están dentro de un tag 'a', como sólo nos interesan aquellas que tengan href, pues href=True. \n",
    "* Se ha agregado class='product-image\" porque si no, el bucle cogía todas las urls (wishlist, url de la imagen etc), y solo nos interesan los productos.\n",
    "* Append cada uno de los links al contenedor."
   ]
  },
  {
   "cell_type": "markdown",
   "metadata": {},
   "source": [
    "cream_list = soup.find_all('div', class_='itemContainer')"
   ]
  },
  {
   "cell_type": "markdown",
   "metadata": {},
   "source": [
    "url = []\n",
    "for item in cream_list:\n",
    "        for link in item.find_all('a', href=True): \n",
    "            url.append(link['href'])"
   ]
  },
  {
   "cell_type": "code",
   "execution_count": 5,
   "metadata": {},
   "outputs": [],
   "source": [
    "sunscreens_url = []\n",
    "for i in range (1, 17):\n",
    "    url = f'https://www.yesstyle.com/en/women-sun-care/list.html/bcc.15396_bpt.46#/bpt=46&sb=136&bt=37&bcc=15396&s=10&pn={i}&l=1' \n",
    "    r = requests.get(url)\n",
    "    soup = BeautifulSoup(r.content, 'lxml')\n",
    "    sunscreens_list = soup.find_all('div', class_='itemContainer')\n",
    "    for item in sunscreens_list:\n",
    "        for link in item.find_all('a', href=True): \n",
    "            sunscreens_url.append(link['href'])\n"
   ]
  },
  {
   "cell_type": "code",
   "execution_count": 6,
   "metadata": {},
   "outputs": [
    {
     "name": "stdout",
     "output_type": "stream",
     "text": [
      "576\n"
     ]
    }
   ],
   "source": [
    "print(len(sunscreens_url))"
   ]
  },
  {
   "cell_type": "markdown",
   "metadata": {},
   "source": [
    "with open(\"cleansers_url.txt\", \"w\") as output:\n",
    "    output.write(str(cleansers_url))"
   ]
  },
  {
   "cell_type": "markdown",
   "metadata": {},
   "source": [
    "## 2 OBTENER LA INFO DE LA PÁGINA PROPIA DEL PRODUCTO\n",
    "Info que necesitamos:\n",
    "* Nombre del producto\n",
    "* Details\n",
    "* Ingredients"
   ]
  },
  {
   "cell_type": "markdown",
   "metadata": {},
   "source": [
    "* Details e Ingredients se encuentran dentro de un grupo <div class='panel-group'"
   ]
  },
  {
   "cell_type": "code",
   "execution_count": 51,
   "metadata": {},
   "outputs": [],
   "source": [
    "\"\"\"\n",
    "test_url = 'https://www.yesstyle.com/es/cosrx-gel-limpiador-con-ph-bajo-good-morning-150ml/info.html/pid.1052684732'\n",
    "r = requests.get(test_url) #para cada link en el listado, hacemos una requests\n",
    "soup = BeautifulSoup(r.content, 'lxml')\n",
    "name = soup.find_all('div', class_='headingContent flex-gt-sm-66 flex-100')\n",
    "for x in name:\n",
    "    title = soup.find('h1').text\n",
    "ingred = soup.find('div', class_=\"cropWrapper\").text #ingredients\n",
    "rating = soup.find('div', class_='satisfied').text\n",
    "\"\"\""
   ]
  },
  {
   "cell_type": "code",
   "execution_count": null,
   "metadata": {},
   "outputs": [],
   "source": []
  },
  {
   "cell_type": "code",
   "execution_count": null,
   "metadata": {},
   "outputs": [],
   "source": []
  },
  {
   "cell_type": "code",
   "execution_count": 6,
   "metadata": {},
   "outputs": [
    {
     "data": {
      "text/plain": [
       "'https://www.yesstyle.com/en/pyunkang-yul-eye-cream-50ml-1ml-x-50pcs/info.html/pid.1067160762'"
      ]
     },
     "execution_count": 6,
     "metadata": {},
     "output_type": "execute_result"
    }
   ],
   "source": [
    "sunscreens_url[467]"
   ]
  },
  {
   "cell_type": "code",
   "execution_count": 10,
   "metadata": {},
   "outputs": [],
   "source": [
    "sunscreens = []"
   ]
  },
  {
   "cell_type": "code",
   "execution_count": 15,
   "metadata": {},
   "outputs": [],
   "source": [
    "for link in sunscreens_url[303:576]:\n",
    "    r = requests.get(link, headers=headers) #para cada link en el listado, hacemos una requests\n",
    "    soup = BeautifulSoup(r.content, 'lxml')\n",
    "    #usamos try, except porque hay ocasiones en las que no hay info sobre los ingredientes\n",
    "    try:\n",
    "        name_box = soup.find_all('div', class_='headingContent flex-gt-sm-66 flex-100')\n",
    "        for x in name_box:\n",
    "            name = soup.find('h1').text\n",
    "        ingredients = soup.find('div', class_=\"cropWrapper\").text.strip() #ingredients\n",
    "        rating = soup.find('div', class_='satisfied').text.strip()\n",
    "    except:\n",
    "        name= 'no info'\n",
    "        ingredients = 'no info'\n",
    "        rating = 'no info'\n",
    "        \n",
    "    sunscreens_info = {\n",
    "    'name': name,\n",
    "    'rating': rating,\n",
    "    'ingredients': ingredients}\n",
    "    \n",
    "    sunscreens.append(sunscreens_info)"
   ]
  },
  {
   "cell_type": "code",
   "execution_count": 16,
   "metadata": {},
   "outputs": [
    {
     "name": "stdout",
     "output_type": "stream",
     "text": [
      "576\n"
     ]
    }
   ],
   "source": [
    "print(len(sunscreens))"
   ]
  },
  {
   "cell_type": "code",
   "execution_count": 81,
   "metadata": {},
   "outputs": [
    {
     "data": {
      "text/plain": [
       "{'name': '\\nKUMANO COSME - Pharmaact Deep Cleansing Oil\\n',\n",
       " 'rating': '97.3% Clientes satisfechos|317 reseñas',\n",
       " 'ingredients': '\\nMineral oil, PEG-8 glyceryl isostearate, water, glycerin, dimethicone, citric acid, jojoba oil, squalane, ethyl paraben, perfume\\n\\nMás\\n\\n'}"
      ]
     },
     "execution_count": 81,
     "metadata": {},
     "output_type": "execute_result"
    }
   ],
   "source": [
    "sunscreens[100]"
   ]
  },
  {
   "cell_type": "markdown",
   "metadata": {},
   "source": [
    "## 3. PASARLO A DATAFRAME"
   ]
  },
  {
   "cell_type": "code",
   "execution_count": 17,
   "metadata": {},
   "outputs": [
    {
     "data": {
      "text/html": [
       "<div>\n",
       "<style scoped>\n",
       "    .dataframe tbody tr th:only-of-type {\n",
       "        vertical-align: middle;\n",
       "    }\n",
       "\n",
       "    .dataframe tbody tr th {\n",
       "        vertical-align: top;\n",
       "    }\n",
       "\n",
       "    .dataframe thead th {\n",
       "        text-align: right;\n",
       "    }\n",
       "</style>\n",
       "<table border=\"1\" class=\"dataframe\">\n",
       "  <thead>\n",
       "    <tr style=\"text-align: right;\">\n",
       "      <th></th>\n",
       "      <th>name</th>\n",
       "      <th>rating</th>\n",
       "      <th>ingredients</th>\n",
       "    </tr>\n",
       "  </thead>\n",
       "  <tbody>\n",
       "    <tr>\n",
       "      <th>0</th>\n",
       "      <td>\\nMISSHA - All-Around Safe Block Essence Sun S...</td>\n",
       "      <td>97.8% customers satisfied|1,243 reviews</td>\n",
       "      <td>Water, Ethylhexyl Methoxycinnamate, Ethylhexyl...</td>\n",
       "    </tr>\n",
       "    <tr>\n",
       "      <th>1</th>\n",
       "      <td>\\nCOSRX - Aloe Soothing Sun Cream\\n</td>\n",
       "      <td>97.1% customers satisfied|3,975 reviews</td>\n",
       "      <td>Water, Ethylhexyl Methoxycinnamate, Glycerin, ...</td>\n",
       "    </tr>\n",
       "    <tr>\n",
       "      <th>2</th>\n",
       "      <td>\\nCanmake - Mermaid Skin Gel UV SPF 50+ PA++++...</td>\n",
       "      <td>98.3% customers satisfied|382 reviews</td>\n",
       "      <td>Water, Ethylhexyl Methoxycinnamate, BG, Diethy...</td>\n",
       "    </tr>\n",
       "    <tr>\n",
       "      <th>3</th>\n",
       "      <td>\\nJigott - UV Sun Block SPF 50+ PA+++ 70ml - 2...</td>\n",
       "      <td>95.4% customers satisfied|1,308 reviews</td>\n",
       "      <td>Water, Ethylhexyl Methoxycinnamate, Glyceryl S...</td>\n",
       "    </tr>\n",
       "    <tr>\n",
       "      <th>4</th>\n",
       "      <td>\\nMISSHA - All-Around Safe Block Essence Sun M...</td>\n",
       "      <td>97.4% customers satisfied|613 reviews</td>\n",
       "      <td>Helichrysum Italicum Extract, Ethylhexyl Metho...</td>\n",
       "    </tr>\n",
       "    <tr>\n",
       "      <th>...</th>\n",
       "      <td>...</td>\n",
       "      <td>...</td>\n",
       "      <td>...</td>\n",
       "    </tr>\n",
       "    <tr>\n",
       "      <th>571</th>\n",
       "      <td>\\nShiseido - Anessa Perfect UV Sunscreen Skinc...</td>\n",
       "      <td>95.9% customers satisfied|49 reviews</td>\n",
       "      <td>Dimethicone, water, zinc oxide, ethanol, ethyl...</td>\n",
       "    </tr>\n",
       "    <tr>\n",
       "      <th>572</th>\n",
       "      <td>\\nLABIOTTE - UV Veil Moisture Sun Essence Spec...</td>\n",
       "      <td>100% customers satisfied|124 reviews</td>\n",
       "      <td>Water, Homosalate, Butylene Glycol, Octocrylen...</td>\n",
       "    </tr>\n",
       "    <tr>\n",
       "      <th>573</th>\n",
       "      <td>\\ncoxir - Ceramide Daily UV Sun Block\\n</td>\n",
       "      <td>88.8% customers satisfied|12 reviews</td>\n",
       "      <td>Water, Micro Particle Titanium Dioxide, Alumin...</td>\n",
       "    </tr>\n",
       "    <tr>\n",
       "      <th>574</th>\n",
       "      <td>\\nShiseido - Anessa Perfect UV Sunscreen Skinc...</td>\n",
       "      <td>83.3% customers satisfied|7 reviews</td>\n",
       "      <td>Water, dimethicone, zinc oxide, ethylhexyl met...</td>\n",
       "    </tr>\n",
       "    <tr>\n",
       "      <th>575</th>\n",
       "      <td>\\nMISSHA - All-around Safe Block Waterproof Su...</td>\n",
       "      <td>96.4% customers satisfied|33 reviews</td>\n",
       "      <td>Water, Dimethicone/Vinyl Dimethicone Crosspoly...</td>\n",
       "    </tr>\n",
       "  </tbody>\n",
       "</table>\n",
       "<p>576 rows × 3 columns</p>\n",
       "</div>"
      ],
      "text/plain": [
       "                                                  name  \\\n",
       "0    \\nMISSHA - All-Around Safe Block Essence Sun S...   \n",
       "1                  \\nCOSRX - Aloe Soothing Sun Cream\\n   \n",
       "2    \\nCanmake - Mermaid Skin Gel UV SPF 50+ PA++++...   \n",
       "3    \\nJigott - UV Sun Block SPF 50+ PA+++ 70ml - 2...   \n",
       "4    \\nMISSHA - All-Around Safe Block Essence Sun M...   \n",
       "..                                                 ...   \n",
       "571  \\nShiseido - Anessa Perfect UV Sunscreen Skinc...   \n",
       "572  \\nLABIOTTE - UV Veil Moisture Sun Essence Spec...   \n",
       "573            \\ncoxir - Ceramide Daily UV Sun Block\\n   \n",
       "574  \\nShiseido - Anessa Perfect UV Sunscreen Skinc...   \n",
       "575  \\nMISSHA - All-around Safe Block Waterproof Su...   \n",
       "\n",
       "                                      rating  \\\n",
       "0    97.8% customers satisfied|1,243 reviews   \n",
       "1    97.1% customers satisfied|3,975 reviews   \n",
       "2      98.3% customers satisfied|382 reviews   \n",
       "3    95.4% customers satisfied|1,308 reviews   \n",
       "4      97.4% customers satisfied|613 reviews   \n",
       "..                                       ...   \n",
       "571     95.9% customers satisfied|49 reviews   \n",
       "572     100% customers satisfied|124 reviews   \n",
       "573     88.8% customers satisfied|12 reviews   \n",
       "574      83.3% customers satisfied|7 reviews   \n",
       "575     96.4% customers satisfied|33 reviews   \n",
       "\n",
       "                                           ingredients  \n",
       "0    Water, Ethylhexyl Methoxycinnamate, Ethylhexyl...  \n",
       "1    Water, Ethylhexyl Methoxycinnamate, Glycerin, ...  \n",
       "2    Water, Ethylhexyl Methoxycinnamate, BG, Diethy...  \n",
       "3    Water, Ethylhexyl Methoxycinnamate, Glyceryl S...  \n",
       "4    Helichrysum Italicum Extract, Ethylhexyl Metho...  \n",
       "..                                                 ...  \n",
       "571  Dimethicone, water, zinc oxide, ethanol, ethyl...  \n",
       "572  Water, Homosalate, Butylene Glycol, Octocrylen...  \n",
       "573  Water, Micro Particle Titanium Dioxide, Alumin...  \n",
       "574  Water, dimethicone, zinc oxide, ethylhexyl met...  \n",
       "575  Water, Dimethicone/Vinyl Dimethicone Crosspoly...  \n",
       "\n",
       "[576 rows x 3 columns]"
      ]
     },
     "execution_count": 17,
     "metadata": {},
     "output_type": "execute_result"
    }
   ],
   "source": [
    "sunscreens_df = pd.DataFrame(sunscreens)\n",
    "sunscreens_df"
   ]
  },
  {
   "cell_type": "code",
   "execution_count": 19,
   "metadata": {},
   "outputs": [],
   "source": [
    "sunscreens = sunscreens_df.to_csv('yesstyle_data/sunscreens.csv')"
   ]
  },
  {
   "cell_type": "code",
   "execution_count": null,
   "metadata": {},
   "outputs": [],
   "source": []
  }
 ],
 "metadata": {
  "kernelspec": {
   "display_name": "Python [conda env:ironhack_env]",
   "language": "python",
   "name": "conda-env-ironhack_env-py"
  },
  "language_info": {
   "codemirror_mode": {
    "name": "ipython",
    "version": 3
   },
   "file_extension": ".py",
   "mimetype": "text/x-python",
   "name": "python",
   "nbconvert_exporter": "python",
   "pygments_lexer": "ipython3",
   "version": "3.8.5"
  }
 },
 "nbformat": 4,
 "nbformat_minor": 4
}
